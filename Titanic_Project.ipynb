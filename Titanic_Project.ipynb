{
 "cells": [
  {
   "cell_type": "markdown",
   "id": "a4aa122f",
   "metadata": {},
   "source": [
    "\n",
    "\n",
    "\n",
    "\n",
    "\n",
    "# Titanic Project"
   ]
  },
  {
   "cell_type": "markdown",
   "id": "63b9c91c",
   "metadata": {},
   "source": [
    "### Importing dataset"
   ]
  },
  {
   "cell_type": "code",
   "execution_count": 1,
   "id": "5cd12b3d",
   "metadata": {},
   "outputs": [],
   "source": [
    "import pandas as pd \n",
    "import numpy as np"
   ]
  },
  {
   "cell_type": "code",
   "execution_count": 2,
   "id": "d81f283f",
   "metadata": {},
   "outputs": [],
   "source": [
    "df=pd.read_csv('titanic_train.csv')"
   ]
  },
  {
   "cell_type": "code",
   "execution_count": 3,
   "id": "4fa058cd",
   "metadata": {},
   "outputs": [
    {
     "data": {
      "text/html": [
       "<div>\n",
       "<style scoped>\n",
       "    .dataframe tbody tr th:only-of-type {\n",
       "        vertical-align: middle;\n",
       "    }\n",
       "\n",
       "    .dataframe tbody tr th {\n",
       "        vertical-align: top;\n",
       "    }\n",
       "\n",
       "    .dataframe thead th {\n",
       "        text-align: right;\n",
       "    }\n",
       "</style>\n",
       "<table border=\"1\" class=\"dataframe\">\n",
       "  <thead>\n",
       "    <tr style=\"text-align: right;\">\n",
       "      <th></th>\n",
       "      <th>PassengerId</th>\n",
       "      <th>Survived</th>\n",
       "      <th>Pclass</th>\n",
       "      <th>Name</th>\n",
       "      <th>Sex</th>\n",
       "      <th>Age</th>\n",
       "      <th>SibSp</th>\n",
       "      <th>Parch</th>\n",
       "      <th>Ticket</th>\n",
       "      <th>Fare</th>\n",
       "      <th>Cabin</th>\n",
       "      <th>Embarked</th>\n",
       "    </tr>\n",
       "  </thead>\n",
       "  <tbody>\n",
       "    <tr>\n",
       "      <th>0</th>\n",
       "      <td>1</td>\n",
       "      <td>0</td>\n",
       "      <td>3</td>\n",
       "      <td>Braund, Mr. Owen Harris</td>\n",
       "      <td>male</td>\n",
       "      <td>22.0</td>\n",
       "      <td>1</td>\n",
       "      <td>0</td>\n",
       "      <td>A/5 21171</td>\n",
       "      <td>7.2500</td>\n",
       "      <td>NaN</td>\n",
       "      <td>S</td>\n",
       "    </tr>\n",
       "    <tr>\n",
       "      <th>1</th>\n",
       "      <td>2</td>\n",
       "      <td>1</td>\n",
       "      <td>1</td>\n",
       "      <td>Cumings, Mrs. John Bradley (Florence Briggs Th...</td>\n",
       "      <td>female</td>\n",
       "      <td>38.0</td>\n",
       "      <td>1</td>\n",
       "      <td>0</td>\n",
       "      <td>PC 17599</td>\n",
       "      <td>71.2833</td>\n",
       "      <td>C85</td>\n",
       "      <td>C</td>\n",
       "    </tr>\n",
       "    <tr>\n",
       "      <th>2</th>\n",
       "      <td>3</td>\n",
       "      <td>1</td>\n",
       "      <td>3</td>\n",
       "      <td>Heikkinen, Miss. Laina</td>\n",
       "      <td>female</td>\n",
       "      <td>26.0</td>\n",
       "      <td>0</td>\n",
       "      <td>0</td>\n",
       "      <td>STON/O2. 3101282</td>\n",
       "      <td>7.9250</td>\n",
       "      <td>NaN</td>\n",
       "      <td>S</td>\n",
       "    </tr>\n",
       "    <tr>\n",
       "      <th>3</th>\n",
       "      <td>4</td>\n",
       "      <td>1</td>\n",
       "      <td>1</td>\n",
       "      <td>Futrelle, Mrs. Jacques Heath (Lily May Peel)</td>\n",
       "      <td>female</td>\n",
       "      <td>35.0</td>\n",
       "      <td>1</td>\n",
       "      <td>0</td>\n",
       "      <td>113803</td>\n",
       "      <td>53.1000</td>\n",
       "      <td>C123</td>\n",
       "      <td>S</td>\n",
       "    </tr>\n",
       "    <tr>\n",
       "      <th>4</th>\n",
       "      <td>5</td>\n",
       "      <td>0</td>\n",
       "      <td>3</td>\n",
       "      <td>Allen, Mr. William Henry</td>\n",
       "      <td>male</td>\n",
       "      <td>35.0</td>\n",
       "      <td>0</td>\n",
       "      <td>0</td>\n",
       "      <td>373450</td>\n",
       "      <td>8.0500</td>\n",
       "      <td>NaN</td>\n",
       "      <td>S</td>\n",
       "    </tr>\n",
       "    <tr>\n",
       "      <th>...</th>\n",
       "      <td>...</td>\n",
       "      <td>...</td>\n",
       "      <td>...</td>\n",
       "      <td>...</td>\n",
       "      <td>...</td>\n",
       "      <td>...</td>\n",
       "      <td>...</td>\n",
       "      <td>...</td>\n",
       "      <td>...</td>\n",
       "      <td>...</td>\n",
       "      <td>...</td>\n",
       "      <td>...</td>\n",
       "    </tr>\n",
       "    <tr>\n",
       "      <th>886</th>\n",
       "      <td>887</td>\n",
       "      <td>0</td>\n",
       "      <td>2</td>\n",
       "      <td>Montvila, Rev. Juozas</td>\n",
       "      <td>male</td>\n",
       "      <td>27.0</td>\n",
       "      <td>0</td>\n",
       "      <td>0</td>\n",
       "      <td>211536</td>\n",
       "      <td>13.0000</td>\n",
       "      <td>NaN</td>\n",
       "      <td>S</td>\n",
       "    </tr>\n",
       "    <tr>\n",
       "      <th>887</th>\n",
       "      <td>888</td>\n",
       "      <td>1</td>\n",
       "      <td>1</td>\n",
       "      <td>Graham, Miss. Margaret Edith</td>\n",
       "      <td>female</td>\n",
       "      <td>19.0</td>\n",
       "      <td>0</td>\n",
       "      <td>0</td>\n",
       "      <td>112053</td>\n",
       "      <td>30.0000</td>\n",
       "      <td>B42</td>\n",
       "      <td>S</td>\n",
       "    </tr>\n",
       "    <tr>\n",
       "      <th>888</th>\n",
       "      <td>889</td>\n",
       "      <td>0</td>\n",
       "      <td>3</td>\n",
       "      <td>Johnston, Miss. Catherine Helen \"Carrie\"</td>\n",
       "      <td>female</td>\n",
       "      <td>NaN</td>\n",
       "      <td>1</td>\n",
       "      <td>2</td>\n",
       "      <td>W./C. 6607</td>\n",
       "      <td>23.4500</td>\n",
       "      <td>NaN</td>\n",
       "      <td>S</td>\n",
       "    </tr>\n",
       "    <tr>\n",
       "      <th>889</th>\n",
       "      <td>890</td>\n",
       "      <td>1</td>\n",
       "      <td>1</td>\n",
       "      <td>Behr, Mr. Karl Howell</td>\n",
       "      <td>male</td>\n",
       "      <td>26.0</td>\n",
       "      <td>0</td>\n",
       "      <td>0</td>\n",
       "      <td>111369</td>\n",
       "      <td>30.0000</td>\n",
       "      <td>C148</td>\n",
       "      <td>C</td>\n",
       "    </tr>\n",
       "    <tr>\n",
       "      <th>890</th>\n",
       "      <td>891</td>\n",
       "      <td>0</td>\n",
       "      <td>3</td>\n",
       "      <td>Dooley, Mr. Patrick</td>\n",
       "      <td>male</td>\n",
       "      <td>32.0</td>\n",
       "      <td>0</td>\n",
       "      <td>0</td>\n",
       "      <td>370376</td>\n",
       "      <td>7.7500</td>\n",
       "      <td>NaN</td>\n",
       "      <td>Q</td>\n",
       "    </tr>\n",
       "  </tbody>\n",
       "</table>\n",
       "<p>891 rows × 12 columns</p>\n",
       "</div>"
      ],
      "text/plain": [
       "     PassengerId  Survived  Pclass  \\\n",
       "0              1         0       3   \n",
       "1              2         1       1   \n",
       "2              3         1       3   \n",
       "3              4         1       1   \n",
       "4              5         0       3   \n",
       "..           ...       ...     ...   \n",
       "886          887         0       2   \n",
       "887          888         1       1   \n",
       "888          889         0       3   \n",
       "889          890         1       1   \n",
       "890          891         0       3   \n",
       "\n",
       "                                                  Name     Sex   Age  SibSp  \\\n",
       "0                              Braund, Mr. Owen Harris    male  22.0      1   \n",
       "1    Cumings, Mrs. John Bradley (Florence Briggs Th...  female  38.0      1   \n",
       "2                               Heikkinen, Miss. Laina  female  26.0      0   \n",
       "3         Futrelle, Mrs. Jacques Heath (Lily May Peel)  female  35.0      1   \n",
       "4                             Allen, Mr. William Henry    male  35.0      0   \n",
       "..                                                 ...     ...   ...    ...   \n",
       "886                              Montvila, Rev. Juozas    male  27.0      0   \n",
       "887                       Graham, Miss. Margaret Edith  female  19.0      0   \n",
       "888           Johnston, Miss. Catherine Helen \"Carrie\"  female   NaN      1   \n",
       "889                              Behr, Mr. Karl Howell    male  26.0      0   \n",
       "890                                Dooley, Mr. Patrick    male  32.0      0   \n",
       "\n",
       "     Parch            Ticket     Fare Cabin Embarked  \n",
       "0        0         A/5 21171   7.2500   NaN        S  \n",
       "1        0          PC 17599  71.2833   C85        C  \n",
       "2        0  STON/O2. 3101282   7.9250   NaN        S  \n",
       "3        0            113803  53.1000  C123        S  \n",
       "4        0            373450   8.0500   NaN        S  \n",
       "..     ...               ...      ...   ...      ...  \n",
       "886      0            211536  13.0000   NaN        S  \n",
       "887      0            112053  30.0000   B42        S  \n",
       "888      2        W./C. 6607  23.4500   NaN        S  \n",
       "889      0            111369  30.0000  C148        C  \n",
       "890      0            370376   7.7500   NaN        Q  \n",
       "\n",
       "[891 rows x 12 columns]"
      ]
     },
     "execution_count": 3,
     "metadata": {},
     "output_type": "execute_result"
    }
   ],
   "source": [
    "df"
   ]
  },
  {
   "cell_type": "code",
   "execution_count": 4,
   "id": "a863f7ca",
   "metadata": {},
   "outputs": [
    {
     "data": {
      "text/plain": [
       "Index(['PassengerId', 'Survived', 'Pclass', 'Name', 'Sex', 'Age', 'SibSp',\n",
       "       'Parch', 'Ticket', 'Fare', 'Cabin', 'Embarked'],\n",
       "      dtype='object')"
      ]
     },
     "execution_count": 4,
     "metadata": {},
     "output_type": "execute_result"
    }
   ],
   "source": [
    "df.columns"
   ]
  },
  {
   "cell_type": "markdown",
   "id": "3dbd0582",
   "metadata": {},
   "source": [
    "about columns:\n",
    "\n",
    "1.Passenger Id: and id given to each traveler on the boat\n",
    "\n",
    "2.Pclass: the passenger class. It has three possible values: 1,2,3 (first, second and third class)\n",
    "\n",
    "3.The Name of the passenger\n",
    "\n",
    "4.Sex\n",
    "\n",
    "5.Age\n",
    "\n",
    "6.SibSp: number of siblings and spouses traveling with the passenger\n",
    "\n",
    "7.Parch: number of parents and children traveling with the passenger\n",
    "\n",
    "8.The ticket number\n",
    "\n",
    "9.The ticket Fare\n",
    "\n",
    "10.The cabin number\n",
    "\n",
    "11.The embarkation. This describe three possible areas of the Titanic from which the people embark. Three possible values S,C,Q"
   ]
  },
  {
   "cell_type": "code",
   "execution_count": 5,
   "id": "ddbbb887",
   "metadata": {},
   "outputs": [
    {
     "name": "stdout",
     "output_type": "stream",
     "text": [
      "<class 'pandas.core.frame.DataFrame'>\n",
      "RangeIndex: 891 entries, 0 to 890\n",
      "Data columns (total 12 columns):\n",
      " #   Column       Non-Null Count  Dtype  \n",
      "---  ------       --------------  -----  \n",
      " 0   PassengerId  891 non-null    int64  \n",
      " 1   Survived     891 non-null    int64  \n",
      " 2   Pclass       891 non-null    int64  \n",
      " 3   Name         891 non-null    object \n",
      " 4   Sex          891 non-null    object \n",
      " 5   Age          714 non-null    float64\n",
      " 6   SibSp        891 non-null    int64  \n",
      " 7   Parch        891 non-null    int64  \n",
      " 8   Ticket       891 non-null    object \n",
      " 9   Fare         891 non-null    float64\n",
      " 10  Cabin        204 non-null    object \n",
      " 11  Embarked     889 non-null    object \n",
      "dtypes: float64(2), int64(5), object(5)\n",
      "memory usage: 83.7+ KB\n"
     ]
    }
   ],
   "source": [
    "#the complete information about the dataset\n",
    "df.info()"
   ]
  },
  {
   "cell_type": "code",
   "execution_count": 6,
   "id": "13b5e720",
   "metadata": {},
   "outputs": [
    {
     "data": {
      "text/html": [
       "<div>\n",
       "<style scoped>\n",
       "    .dataframe tbody tr th:only-of-type {\n",
       "        vertical-align: middle;\n",
       "    }\n",
       "\n",
       "    .dataframe tbody tr th {\n",
       "        vertical-align: top;\n",
       "    }\n",
       "\n",
       "    .dataframe thead th {\n",
       "        text-align: right;\n",
       "    }\n",
       "</style>\n",
       "<table border=\"1\" class=\"dataframe\">\n",
       "  <thead>\n",
       "    <tr style=\"text-align: right;\">\n",
       "      <th></th>\n",
       "      <th>PassengerId</th>\n",
       "      <th>Survived</th>\n",
       "      <th>Pclass</th>\n",
       "      <th>Age</th>\n",
       "      <th>SibSp</th>\n",
       "      <th>Parch</th>\n",
       "      <th>Fare</th>\n",
       "    </tr>\n",
       "  </thead>\n",
       "  <tbody>\n",
       "    <tr>\n",
       "      <th>count</th>\n",
       "      <td>891.000000</td>\n",
       "      <td>891.000000</td>\n",
       "      <td>891.000000</td>\n",
       "      <td>714.000000</td>\n",
       "      <td>891.000000</td>\n",
       "      <td>891.000000</td>\n",
       "      <td>891.000000</td>\n",
       "    </tr>\n",
       "    <tr>\n",
       "      <th>mean</th>\n",
       "      <td>446.000000</td>\n",
       "      <td>0.383838</td>\n",
       "      <td>2.308642</td>\n",
       "      <td>29.699118</td>\n",
       "      <td>0.523008</td>\n",
       "      <td>0.381594</td>\n",
       "      <td>32.204208</td>\n",
       "    </tr>\n",
       "    <tr>\n",
       "      <th>std</th>\n",
       "      <td>257.353842</td>\n",
       "      <td>0.486592</td>\n",
       "      <td>0.836071</td>\n",
       "      <td>14.526497</td>\n",
       "      <td>1.102743</td>\n",
       "      <td>0.806057</td>\n",
       "      <td>49.693429</td>\n",
       "    </tr>\n",
       "    <tr>\n",
       "      <th>min</th>\n",
       "      <td>1.000000</td>\n",
       "      <td>0.000000</td>\n",
       "      <td>1.000000</td>\n",
       "      <td>0.420000</td>\n",
       "      <td>0.000000</td>\n",
       "      <td>0.000000</td>\n",
       "      <td>0.000000</td>\n",
       "    </tr>\n",
       "    <tr>\n",
       "      <th>25%</th>\n",
       "      <td>223.500000</td>\n",
       "      <td>0.000000</td>\n",
       "      <td>2.000000</td>\n",
       "      <td>20.125000</td>\n",
       "      <td>0.000000</td>\n",
       "      <td>0.000000</td>\n",
       "      <td>7.910400</td>\n",
       "    </tr>\n",
       "    <tr>\n",
       "      <th>50%</th>\n",
       "      <td>446.000000</td>\n",
       "      <td>0.000000</td>\n",
       "      <td>3.000000</td>\n",
       "      <td>28.000000</td>\n",
       "      <td>0.000000</td>\n",
       "      <td>0.000000</td>\n",
       "      <td>14.454200</td>\n",
       "    </tr>\n",
       "    <tr>\n",
       "      <th>75%</th>\n",
       "      <td>668.500000</td>\n",
       "      <td>1.000000</td>\n",
       "      <td>3.000000</td>\n",
       "      <td>38.000000</td>\n",
       "      <td>1.000000</td>\n",
       "      <td>0.000000</td>\n",
       "      <td>31.000000</td>\n",
       "    </tr>\n",
       "    <tr>\n",
       "      <th>max</th>\n",
       "      <td>891.000000</td>\n",
       "      <td>1.000000</td>\n",
       "      <td>3.000000</td>\n",
       "      <td>80.000000</td>\n",
       "      <td>8.000000</td>\n",
       "      <td>6.000000</td>\n",
       "      <td>512.329200</td>\n",
       "    </tr>\n",
       "  </tbody>\n",
       "</table>\n",
       "</div>"
      ],
      "text/plain": [
       "       PassengerId    Survived      Pclass         Age       SibSp  \\\n",
       "count   891.000000  891.000000  891.000000  714.000000  891.000000   \n",
       "mean    446.000000    0.383838    2.308642   29.699118    0.523008   \n",
       "std     257.353842    0.486592    0.836071   14.526497    1.102743   \n",
       "min       1.000000    0.000000    1.000000    0.420000    0.000000   \n",
       "25%     223.500000    0.000000    2.000000   20.125000    0.000000   \n",
       "50%     446.000000    0.000000    3.000000   28.000000    0.000000   \n",
       "75%     668.500000    1.000000    3.000000   38.000000    1.000000   \n",
       "max     891.000000    1.000000    3.000000   80.000000    8.000000   \n",
       "\n",
       "            Parch        Fare  \n",
       "count  891.000000  891.000000  \n",
       "mean     0.381594   32.204208  \n",
       "std      0.806057   49.693429  \n",
       "min      0.000000    0.000000  \n",
       "25%      0.000000    7.910400  \n",
       "50%      0.000000   14.454200  \n",
       "75%      0.000000   31.000000  \n",
       "max      6.000000  512.329200  "
      ]
     },
     "execution_count": 6,
     "metadata": {},
     "output_type": "execute_result"
    }
   ],
   "source": [
    "df.describe()"
   ]
  },
  {
   "cell_type": "code",
   "execution_count": 7,
   "id": "49e43cf4",
   "metadata": {},
   "outputs": [
    {
     "name": "stdout",
     "output_type": "stream",
     "text": [
      "1      1\n",
      "599    1\n",
      "588    1\n",
      "589    1\n",
      "590    1\n",
      "      ..\n",
      "301    1\n",
      "302    1\n",
      "303    1\n",
      "304    1\n",
      "891    1\n",
      "Name: PassengerId, Length: 891, dtype: int64\n",
      "0    549\n",
      "1    342\n",
      "Name: Survived, dtype: int64\n",
      "3    491\n",
      "1    216\n",
      "2    184\n",
      "Name: Pclass, dtype: int64\n",
      "Minahan, Miss. Daisy E             1\n",
      "Nilsson, Miss. Helmina Josefina    1\n",
      "Collyer, Mr. Harvey                1\n",
      "Richards, Master. William Rowe     1\n",
      "Canavan, Miss. Mary                1\n",
      "                                  ..\n",
      "Newell, Miss. Madeleine            1\n",
      "Razi, Mr. Raihed                   1\n",
      "Clifford, Mr. George Quincy        1\n",
      "Masselmani, Mrs. Fatima            1\n",
      "Carrau, Mr. Francisco M            1\n",
      "Name: Name, Length: 891, dtype: int64\n",
      "male      577\n",
      "female    314\n",
      "Name: Sex, dtype: int64\n",
      "24.00    30\n",
      "22.00    27\n",
      "18.00    26\n",
      "28.00    25\n",
      "19.00    25\n",
      "         ..\n",
      "55.50     1\n",
      "74.00     1\n",
      "0.92      1\n",
      "70.50     1\n",
      "12.00     1\n",
      "Name: Age, Length: 88, dtype: int64\n",
      "0    608\n",
      "1    209\n",
      "2     28\n",
      "4     18\n",
      "3     16\n",
      "8      7\n",
      "5      5\n",
      "Name: SibSp, dtype: int64\n",
      "0    678\n",
      "1    118\n",
      "2     80\n",
      "3      5\n",
      "5      5\n",
      "4      4\n",
      "6      1\n",
      "Name: Parch, dtype: int64\n",
      "1601                7\n",
      "CA. 2343            7\n",
      "347082              7\n",
      "3101295             6\n",
      "347088              6\n",
      "                   ..\n",
      "349243              1\n",
      "17464               1\n",
      "226875              1\n",
      "111426              1\n",
      "STON/O2. 3101271    1\n",
      "Name: Ticket, Length: 681, dtype: int64\n",
      "8.0500     43\n",
      "13.0000    42\n",
      "7.8958     38\n",
      "7.7500     34\n",
      "26.0000    31\n",
      "           ..\n",
      "50.4958     1\n",
      "13.8583     1\n",
      "8.4583      1\n",
      "7.7250      1\n",
      "7.5208      1\n",
      "Name: Fare, Length: 248, dtype: int64\n",
      "B96 B98        4\n",
      "G6             4\n",
      "C23 C25 C27    4\n",
      "F2             3\n",
      "E101           3\n",
      "              ..\n",
      "C47            1\n",
      "E40            1\n",
      "F E69          1\n",
      "C148           1\n",
      "D10 D12        1\n",
      "Name: Cabin, Length: 147, dtype: int64\n",
      "S    644\n",
      "C    168\n",
      "Q     77\n",
      "Name: Embarked, dtype: int64\n"
     ]
    }
   ],
   "source": [
    "for i in df.columns:\n",
    "    print(df[i].value_counts())\n"
   ]
  },
  {
   "cell_type": "markdown",
   "id": "5a91ccf3",
   "metadata": {},
   "source": [
    "# Checking null values in dataframe"
   ]
  },
  {
   "cell_type": "code",
   "execution_count": 8,
   "id": "182df8ef",
   "metadata": {},
   "outputs": [
    {
     "data": {
      "text/plain": [
       "PassengerId      0\n",
       "Survived         0\n",
       "Pclass           0\n",
       "Name             0\n",
       "Sex              0\n",
       "Age            177\n",
       "SibSp            0\n",
       "Parch            0\n",
       "Ticket           0\n",
       "Fare             0\n",
       "Cabin          687\n",
       "Embarked         2\n",
       "dtype: int64"
      ]
     },
     "execution_count": 8,
     "metadata": {},
     "output_type": "execute_result"
    }
   ],
   "source": [
    "## find the null values\n",
    "df.isnull().sum()"
   ]
  },
  {
   "cell_type": "code",
   "execution_count": 9,
   "id": "2711f259",
   "metadata": {},
   "outputs": [],
   "source": [
    "# drop or delete the column\n",
    "df = df.drop(columns=['Cabin'], axis=1)"
   ]
  },
  {
   "cell_type": "code",
   "execution_count": 10,
   "id": "2564e17d",
   "metadata": {},
   "outputs": [
    {
     "data": {
      "text/plain": [
       "29.69911764705882"
      ]
     },
     "execution_count": 10,
     "metadata": {},
     "output_type": "execute_result"
    }
   ],
   "source": [
    "df['Age'].mean()\n",
    "\n"
   ]
  },
  {
   "cell_type": "code",
   "execution_count": 11,
   "id": "92feb316",
   "metadata": {},
   "outputs": [],
   "source": [
    "# fill missing values using mean of the numerical column\n",
    "df['Age'] = df['Age'].fillna(df['Age'].mean())"
   ]
  },
  {
   "cell_type": "code",
   "execution_count": 12,
   "id": "811248c0",
   "metadata": {},
   "outputs": [],
   "source": [
    "# fill missing values using mode of the categorical column\n",
    "df['Embarked'] = df['Embarked'].fillna(df['Embarked'].mode()[0])"
   ]
  },
  {
   "cell_type": "code",
   "execution_count": 13,
   "id": "3295a110",
   "metadata": {},
   "outputs": [
    {
     "name": "stdout",
     "output_type": "stream",
     "text": [
      "PassengerId    0\n",
      "Survived       0\n",
      "Pclass         0\n",
      "Name           0\n",
      "Sex            0\n",
      "Age            0\n",
      "SibSp          0\n",
      "Parch          0\n",
      "Ticket         0\n",
      "Fare           0\n",
      "Embarked       0\n",
      "dtype: int64\n"
     ]
    }
   ],
   "source": [
    "print(df.isnull().sum())"
   ]
  },
  {
   "cell_type": "code",
   "execution_count": null,
   "id": "92784d09",
   "metadata": {},
   "outputs": [],
   "source": []
  },
  {
   "cell_type": "markdown",
   "id": "a6228524",
   "metadata": {},
   "source": [
    "# Exploratory Data Analysis"
   ]
  },
  {
   "cell_type": "code",
   "execution_count": 14,
   "id": "822d1c87",
   "metadata": {},
   "outputs": [],
   "source": [
    "#import libraries required\n",
    "import numpy as np\n",
    "import pandas as pd\n",
    "import seaborn as sns\n",
    "import matplotlib.pyplot as plt\n",
    "import warnings\n",
    "warnings.filterwarnings('ignore')"
   ]
  },
  {
   "cell_type": "code",
   "execution_count": 15,
   "id": "ca9935d9",
   "metadata": {},
   "outputs": [
    {
     "data": {
      "text/plain": [
       "Text(0.5, 1.0, 'Survived')"
      ]
     },
     "execution_count": 15,
     "metadata": {},
     "output_type": "execute_result"
    },
    {
     "data": {
      "image/png": "[encoded data removed]",
      "text/plain": [
       "<Figure size 432x288 with 1 Axes>"
      ]
     },
     "metadata": {
      "needs_background": "light"
     },
     "output_type": "display_data"
    }
   ],
   "source": [
    "sns.countplot(df['Survived'])\n",
    "plt.title('Survived')"
   ]
  },
  {
   "cell_type": "code",
   "execution_count": 16,
   "id": "a8df8128",
   "metadata": {},
   "outputs": [
    {
     "data": {
      "text/plain": [
       "Text(0.5, 1.0, 'Sex')"
      ]
     },
     "execution_count": 16,
     "metadata": {},
     "output_type": "execute_result"
    },
    {
     "data": {
      "image/png": "[encoded data removed]",
      "text/plain": [
       "<Figure size 432x288 with 1 Axes>"
      ]
     },
     "metadata": {
      "needs_background": "light"
     },
     "output_type": "display_data"
    }
   ],
   "source": [
    "sns.countplot(df['Sex'])\n",
    "plt.title('Sex')"
   ]
  },
  {
   "cell_type": "code",
   "execution_count": 17,
   "id": "714d4dfe",
   "metadata": {},
   "outputs": [
    {
     "data": {
      "text/plain": [
       "Text(0.5, 1.0, 'Pclass')"
      ]
     },
     "execution_count": 17,
     "metadata": {},
     "output_type": "execute_result"
    },
    {
     "data": {
      "image/png": "[encoded data removed]",
      "text/plain": [
       "<Figure size 432x288 with 1 Axes>"
      ]
     },
     "metadata": {
      "needs_background": "light"
     },
     "output_type": "display_data"
    }
   ],
   "source": [
    "sns.countplot(df['Pclass'])\n",
    "plt.title('Pclass')"
   ]
  },
  {
   "cell_type": "code",
   "execution_count": 18,
   "id": "bf7f51cb",
   "metadata": {},
   "outputs": [
    {
     "data": {
      "text/plain": [
       "<AxesSubplot:xlabel='Pclass', ylabel='Fare'>"
      ]
     },
     "execution_count": 18,
     "metadata": {},
     "output_type": "execute_result"
    },
    {
     "data": {
      "image/png": "[encoded data removed]",
      "text/plain": [
       "<Figure size 432x288 with 1 Axes>"
      ]
     },
     "metadata": {
      "needs_background": "light"
     },
     "output_type": "display_data"
    }
   ],
   "source": [
    "sns.barplot(data=df, x='Pclass', y='Fare', hue='Survived')"
   ]
  },
  {
   "cell_type": "code",
   "execution_count": 19,
   "id": "29451b4d",
   "metadata": {},
   "outputs": [
    {
     "data": {
      "text/plain": [
       "Text(0.5, 1.0, 'Pclass')"
      ]
     },
     "execution_count": 19,
     "metadata": {},
     "output_type": "execute_result"
    },
    {
     "data": {
      "image/png": "[encoded data removed]",
      "text/plain": [
       "<Figure size 432x288 with 1 Axes>"
      ]
     },
     "metadata": {
      "needs_background": "light"
     },
     "output_type": "display_data"
    }
   ],
   "source": [
    "sns.countplot(x=df['Pclass'],hue=df['Survived'],data=df)\n",
    "plt.title('Pclass')"
   ]
  },
  {
   "cell_type": "code",
   "execution_count": 20,
   "id": "5ef3bf36",
   "metadata": {},
   "outputs": [
    {
     "data": {
      "text/plain": [
       "<AxesSubplot:xlabel='Age', ylabel='Density'>"
      ]
     },
     "execution_count": 20,
     "metadata": {},
     "output_type": "execute_result"
    },
    {
     "data": {
      "image/png": "[encoded data removed]",
      "text/plain": [
       "<Figure size 432x288 with 1 Axes>"
      ]
     },
     "metadata": {
      "needs_background": "light"
     },
     "output_type": "display_data"
    }
   ],
   "source": [
    "## numerical attributes\n",
    "sns.distplot(df['Age'])"
   ]
  },
  {
   "cell_type": "code",
   "execution_count": 21,
   "id": "57dfa370",
   "metadata": {},
   "outputs": [
    {
     "data": {
      "text/plain": [
       "<AxesSubplot:xlabel='Survived', ylabel='Density'>"
      ]
     },
     "execution_count": 21,
     "metadata": {},
     "output_type": "execute_result"
    },
    {
     "data": {
      "image/png": "[encoded data removed]",
      "text/plain": [
       "<Figure size 432x288 with 1 Axes>"
      ]
     },
     "metadata": {
      "needs_background": "light"
     },
     "output_type": "display_data"
    }
   ],
   "source": [
    "sns.distplot(df['Survived'])"
   ]
  },
  {
   "cell_type": "code",
   "execution_count": 22,
   "id": "e287940d",
   "metadata": {},
   "outputs": [
    {
     "data": {
      "text/plain": [
       "<seaborn.axisgrid.PairGrid at 0x257260766a0>"
      ]
     },
     "execution_count": 22,
     "metadata": {},
     "output_type": "execute_result"
    },
    {
     "data": {
      "image/png": "[encoded data removed]",
      "text/plain": [
       "<Figure size 1260x1260 with 56 Axes>"
      ]
     },
     "metadata": {
      "needs_background": "light"
     },
     "output_type": "display_data"
    }
   ],
   "source": [
    "sns.pairplot(df)"
   ]
  },
  {
   "cell_type": "code",
   "execution_count": 23,
   "id": "a818dc51",
   "metadata": {},
   "outputs": [
    {
     "data": {
      "text/plain": [
       "<AxesSubplot:xlabel='Pclass', ylabel='Age'>"
      ]
     },
     "execution_count": 23,
     "metadata": {},
     "output_type": "execute_result"
    },
    {
     "data": {
      "image/png": "[encoded data removed]",
      "text/plain": [
       "<Figure size 432x288 with 1 Axes>"
      ]
     },
     "metadata": {
      "needs_background": "light"
     },
     "output_type": "display_data"
    }
   ],
   "source": [
    "sns.boxplot(df['Pclass'], df['Age'])"
   ]
  },
  {
   "cell_type": "markdown",
   "id": "c71fc3d6",
   "metadata": {},
   "source": [
    "Inference:The data of first class pasengers are equally distributed\n",
    "\n",
    "There are some outliers present in 2 and 3 class pasenger data"
   ]
  },
  {
   "cell_type": "markdown",
   "id": "e3a2f7ed",
   "metadata": {},
   "source": [
    "# correlation"
   ]
  },
  {
   "cell_type": "code",
   "execution_count": 24,
   "id": "225cdea5",
   "metadata": {},
   "outputs": [
    {
     "data": {
      "text/html": [
       "<div>\n",
       "<style scoped>\n",
       "    .dataframe tbody tr th:only-of-type {\n",
       "        vertical-align: middle;\n",
       "    }\n",
       "\n",
       "    .dataframe tbody tr th {\n",
       "        vertical-align: top;\n",
       "    }\n",
       "\n",
       "    .dataframe thead th {\n",
       "        text-align: right;\n",
       "    }\n",
       "</style>\n",
       "<table border=\"1\" class=\"dataframe\">\n",
       "  <thead>\n",
       "    <tr style=\"text-align: right;\">\n",
       "      <th></th>\n",
       "      <th>PassengerId</th>\n",
       "      <th>Survived</th>\n",
       "      <th>Pclass</th>\n",
       "      <th>Age</th>\n",
       "      <th>SibSp</th>\n",
       "      <th>Parch</th>\n",
       "      <th>Fare</th>\n",
       "    </tr>\n",
       "  </thead>\n",
       "  <tbody>\n",
       "    <tr>\n",
       "      <th>PassengerId</th>\n",
       "      <td>1.000000</td>\n",
       "      <td>-0.005007</td>\n",
       "      <td>-0.035144</td>\n",
       "      <td>0.033207</td>\n",
       "      <td>-0.057527</td>\n",
       "      <td>-0.001652</td>\n",
       "      <td>0.012658</td>\n",
       "    </tr>\n",
       "    <tr>\n",
       "      <th>Survived</th>\n",
       "      <td>-0.005007</td>\n",
       "      <td>1.000000</td>\n",
       "      <td>-0.338481</td>\n",
       "      <td>-0.069809</td>\n",
       "      <td>-0.035322</td>\n",
       "      <td>0.081629</td>\n",
       "      <td>0.257307</td>\n",
       "    </tr>\n",
       "    <tr>\n",
       "      <th>Pclass</th>\n",
       "      <td>-0.035144</td>\n",
       "      <td>-0.338481</td>\n",
       "      <td>1.000000</td>\n",
       "      <td>-0.331339</td>\n",
       "      <td>0.083081</td>\n",
       "      <td>0.018443</td>\n",
       "      <td>-0.549500</td>\n",
       "    </tr>\n",
       "    <tr>\n",
       "      <th>Age</th>\n",
       "      <td>0.033207</td>\n",
       "      <td>-0.069809</td>\n",
       "      <td>-0.331339</td>\n",
       "      <td>1.000000</td>\n",
       "      <td>-0.232625</td>\n",
       "      <td>-0.179191</td>\n",
       "      <td>0.091566</td>\n",
       "    </tr>\n",
       "    <tr>\n",
       "      <th>SibSp</th>\n",
       "      <td>-0.057527</td>\n",
       "      <td>-0.035322</td>\n",
       "      <td>0.083081</td>\n",
       "      <td>-0.232625</td>\n",
       "      <td>1.000000</td>\n",
       "      <td>0.414838</td>\n",
       "      <td>0.159651</td>\n",
       "    </tr>\n",
       "    <tr>\n",
       "      <th>Parch</th>\n",
       "      <td>-0.001652</td>\n",
       "      <td>0.081629</td>\n",
       "      <td>0.018443</td>\n",
       "      <td>-0.179191</td>\n",
       "      <td>0.414838</td>\n",
       "      <td>1.000000</td>\n",
       "      <td>0.216225</td>\n",
       "    </tr>\n",
       "    <tr>\n",
       "      <th>Fare</th>\n",
       "      <td>0.012658</td>\n",
       "      <td>0.257307</td>\n",
       "      <td>-0.549500</td>\n",
       "      <td>0.091566</td>\n",
       "      <td>0.159651</td>\n",
       "      <td>0.216225</td>\n",
       "      <td>1.000000</td>\n",
       "    </tr>\n",
       "  </tbody>\n",
       "</table>\n",
       "</div>"
      ],
      "text/plain": [
       "             PassengerId  Survived    Pclass       Age     SibSp     Parch  \\\n",
       "PassengerId     1.000000 -0.005007 -0.035144  0.033207 -0.057527 -0.001652   \n",
       "Survived       -0.005007  1.000000 -0.338481 -0.069809 -0.035322  0.081629   \n",
       "Pclass         -0.035144 -0.338481  1.000000 -0.331339  0.083081  0.018443   \n",
       "Age             0.033207 -0.069809 -0.331339  1.000000 -0.232625 -0.179191   \n",
       "SibSp          -0.057527 -0.035322  0.083081 -0.232625  1.000000  0.414838   \n",
       "Parch          -0.001652  0.081629  0.018443 -0.179191  0.414838  1.000000   \n",
       "Fare            0.012658  0.257307 -0.549500  0.091566  0.159651  0.216225   \n",
       "\n",
       "                 Fare  \n",
       "PassengerId  0.012658  \n",
       "Survived     0.257307  \n",
       "Pclass      -0.549500  \n",
       "Age          0.091566  \n",
       "SibSp        0.159651  \n",
       "Parch        0.216225  \n",
       "Fare         1.000000  "
      ]
     },
     "execution_count": 24,
     "metadata": {},
     "output_type": "execute_result"
    }
   ],
   "source": [
    "df.corr()"
   ]
  },
  {
   "cell_type": "code",
   "execution_count": 25,
   "id": "2550ce19",
   "metadata": {},
   "outputs": [
    {
     "data": {
      "text/plain": [
       "<AxesSubplot:>"
      ]
     },
     "execution_count": 25,
     "metadata": {},
     "output_type": "execute_result"
    },
    {
     "data": {
      "image/png": "[encoded data removed]",
      "text/plain": [
       "<Figure size 1080x504 with 2 Axes>"
      ]
     },
     "metadata": {
      "needs_background": "light"
     },
     "output_type": "display_data"
    }
   ],
   "source": [
    "plt.figure(figsize=(15,7))\n",
    "sns.heatmap(df.corr(),annot=True)"
   ]
  },
  {
   "cell_type": "markdown",
   "id": "2750590a",
   "metadata": {},
   "source": [
    "Inference: Pclass is highly correlated with the Survived data.\n",
    "\n",
    "Where SibSp is least correlated with Survived data."
   ]
  },
  {
   "cell_type": "markdown",
   "id": "5492e483",
   "metadata": {},
   "source": [
    "# Data Preprocessing"
   ]
  },
  {
   "cell_type": "markdown",
   "id": "d8b6becf",
   "metadata": {},
   "source": [
    "Encoding the Sex column"
   ]
  },
  {
   "cell_type": "code",
   "execution_count": 26,
   "id": "3f5b3b33",
   "metadata": {},
   "outputs": [
    {
     "data": {
      "text/html": [
       "<div>\n",
       "<style scoped>\n",
       "    .dataframe tbody tr th:only-of-type {\n",
       "        vertical-align: middle;\n",
       "    }\n",
       "\n",
       "    .dataframe tbody tr th {\n",
       "        vertical-align: top;\n",
       "    }\n",
       "\n",
       "    .dataframe thead th {\n",
       "        text-align: right;\n",
       "    }\n",
       "</style>\n",
       "<table border=\"1\" class=\"dataframe\">\n",
       "  <thead>\n",
       "    <tr style=\"text-align: right;\">\n",
       "      <th></th>\n",
       "      <th>PassengerId</th>\n",
       "      <th>Survived</th>\n",
       "      <th>Pclass</th>\n",
       "      <th>Name</th>\n",
       "      <th>Sex</th>\n",
       "      <th>Age</th>\n",
       "      <th>SibSp</th>\n",
       "      <th>Parch</th>\n",
       "      <th>Ticket</th>\n",
       "      <th>Fare</th>\n",
       "      <th>Embarked</th>\n",
       "    </tr>\n",
       "  </thead>\n",
       "  <tbody>\n",
       "    <tr>\n",
       "      <th>0</th>\n",
       "      <td>1</td>\n",
       "      <td>0</td>\n",
       "      <td>3</td>\n",
       "      <td>Braund, Mr. Owen Harris</td>\n",
       "      <td>1</td>\n",
       "      <td>22.0</td>\n",
       "      <td>1</td>\n",
       "      <td>0</td>\n",
       "      <td>A/5 21171</td>\n",
       "      <td>7.2500</td>\n",
       "      <td>2</td>\n",
       "    </tr>\n",
       "    <tr>\n",
       "      <th>1</th>\n",
       "      <td>2</td>\n",
       "      <td>1</td>\n",
       "      <td>1</td>\n",
       "      <td>Cumings, Mrs. John Bradley (Florence Briggs Th...</td>\n",
       "      <td>0</td>\n",
       "      <td>38.0</td>\n",
       "      <td>1</td>\n",
       "      <td>0</td>\n",
       "      <td>PC 17599</td>\n",
       "      <td>71.2833</td>\n",
       "      <td>0</td>\n",
       "    </tr>\n",
       "    <tr>\n",
       "      <th>2</th>\n",
       "      <td>3</td>\n",
       "      <td>1</td>\n",
       "      <td>3</td>\n",
       "      <td>Heikkinen, Miss. Laina</td>\n",
       "      <td>0</td>\n",
       "      <td>26.0</td>\n",
       "      <td>0</td>\n",
       "      <td>0</td>\n",
       "      <td>STON/O2. 3101282</td>\n",
       "      <td>7.9250</td>\n",
       "      <td>2</td>\n",
       "    </tr>\n",
       "    <tr>\n",
       "      <th>3</th>\n",
       "      <td>4</td>\n",
       "      <td>1</td>\n",
       "      <td>1</td>\n",
       "      <td>Futrelle, Mrs. Jacques Heath (Lily May Peel)</td>\n",
       "      <td>0</td>\n",
       "      <td>35.0</td>\n",
       "      <td>1</td>\n",
       "      <td>0</td>\n",
       "      <td>113803</td>\n",
       "      <td>53.1000</td>\n",
       "      <td>2</td>\n",
       "    </tr>\n",
       "    <tr>\n",
       "      <th>4</th>\n",
       "      <td>5</td>\n",
       "      <td>0</td>\n",
       "      <td>3</td>\n",
       "      <td>Allen, Mr. William Henry</td>\n",
       "      <td>1</td>\n",
       "      <td>35.0</td>\n",
       "      <td>0</td>\n",
       "      <td>0</td>\n",
       "      <td>373450</td>\n",
       "      <td>8.0500</td>\n",
       "      <td>2</td>\n",
       "    </tr>\n",
       "  </tbody>\n",
       "</table>\n",
       "</div>"
      ],
      "text/plain": [
       "   PassengerId  Survived  Pclass  \\\n",
       "0            1         0       3   \n",
       "1            2         1       1   \n",
       "2            3         1       3   \n",
       "3            4         1       1   \n",
       "4            5         0       3   \n",
       "\n",
       "                                                Name  Sex   Age  SibSp  Parch  \\\n",
       "0                            Braund, Mr. Owen Harris    1  22.0      1      0   \n",
       "1  Cumings, Mrs. John Bradley (Florence Briggs Th...    0  38.0      1      0   \n",
       "2                             Heikkinen, Miss. Laina    0  26.0      0      0   \n",
       "3       Futrelle, Mrs. Jacques Heath (Lily May Peel)    0  35.0      1      0   \n",
       "4                           Allen, Mr. William Henry    1  35.0      0      0   \n",
       "\n",
       "             Ticket     Fare  Embarked  \n",
       "0         A/5 21171   7.2500         2  \n",
       "1          PC 17599  71.2833         0  \n",
       "2  STON/O2. 3101282   7.9250         2  \n",
       "3            113803  53.1000         2  \n",
       "4            373450   8.0500         2  "
      ]
     },
     "execution_count": 26,
     "metadata": {},
     "output_type": "execute_result"
    }
   ],
   "source": [
    "from sklearn.preprocessing import LabelEncoder\n",
    "cols = ['Sex', 'Embarked']\n",
    "le = LabelEncoder()\n",
    "\n",
    "for col in cols:\n",
    "    df[col] = le.fit_transform(df[col])\n",
    "df.head()"
   ]
  },
  {
   "cell_type": "markdown",
   "id": "6e587440",
   "metadata": {},
   "source": [
    "# Outliers checking"
   ]
  },
  {
   "cell_type": "code",
   "execution_count": 27,
   "id": "ccb817d2",
   "metadata": {},
   "outputs": [],
   "source": [
    "num=['Survived','Pclass','Sex','Age','Fare','Embarked']"
   ]
  },
  {
   "cell_type": "code",
   "execution_count": 28,
   "id": "dec13c38",
   "metadata": {},
   "outputs": [
    {
     "data": {
      "image/png": "[encoded data removed]",
      "text/plain": [
       "<Figure size 432x288 with 1 Axes>"
      ]
     },
     "metadata": {
      "needs_background": "light"
     },
     "output_type": "display_data"
    },
    {
     "data": {
      "image/png": "[encoded data removed]",
      "text/plain": [
       "<Figure size 432x288 with 1 Axes>"
      ]
     },
     "metadata": {
      "needs_background": "light"
     },
     "output_type": "display_data"
    },
    {
     "data": {
      "image/png": "[encoded data removed]",
      "text/plain": [
       "<Figure size 432x288 with 1 Axes>"
      ]
     },
     "metadata": {
      "needs_background": "light"
     },
     "output_type": "display_data"
    },
    {
     "data": {
      "image/png": "[encoded data removed]",
      "text/plain": [
       "<Figure size 432x288 with 1 Axes>"
      ]
     },
     "metadata": {
      "needs_background": "light"
     },
     "output_type": "display_data"
    },
    {
     "data": {
      "image/png": "[encoded data removed]",
      "text/plain": [
       "<Figure size 432x288 with 1 Axes>"
      ]
     },
     "metadata": {
      "needs_background": "light"
     },
     "output_type": "display_data"
    },
    {
     "data": {
      "image/png": "[encoded data removed]",
      "text/plain": [
       "<Figure size 432x288 with 1 Axes>"
      ]
     },
     "metadata": {
      "needs_background": "light"
     },
     "output_type": "display_data"
    }
   ],
   "source": [
    "for i, col in enumerate(df[(num)]):\n",
    "    plt.figure(i)\n",
    "    sns.boxplot(df[col])"
   ]
  },
  {
   "cell_type": "code",
   "execution_count": 29,
   "id": "e03e8fe4",
   "metadata": {},
   "outputs": [
    {
     "data": {
      "text/plain": [
       "<AxesSubplot:xlabel='Pclass', ylabel='Age'>"
      ]
     },
     "execution_count": 29,
     "metadata": {},
     "output_type": "execute_result"
    },
    {
     "data": {
      "image/png": "[encoded data removed]",
      "text/plain": [
       "<Figure size 432x288 with 1 Axes>"
      ]
     },
     "metadata": {
      "needs_background": "light"
     },
     "output_type": "display_data"
    }
   ],
   "source": [
    "sns.boxplot(df['Pclass'], df['Age'])"
   ]
  },
  {
   "cell_type": "markdown",
   "id": "1e301ad5",
   "metadata": {},
   "source": [
    "# Removing outliers\n",
    "Z Score_Technique"
   ]
  },
  {
   "cell_type": "code",
   "execution_count": 30,
   "id": "0b8b41ad",
   "metadata": {},
   "outputs": [
    {
     "data": {
      "text/plain": [
       "Index(['PassengerId', 'Survived', 'Pclass', 'Name', 'Sex', 'Age', 'SibSp',\n",
       "       'Parch', 'Ticket', 'Fare', 'Embarked'],\n",
       "      dtype='object')"
      ]
     },
     "execution_count": 30,
     "metadata": {},
     "output_type": "execute_result"
    }
   ],
   "source": [
    "df.columns\n"
   ]
  },
  {
   "cell_type": "code",
   "execution_count": 31,
   "id": "b2055a75",
   "metadata": {},
   "outputs": [],
   "source": [
    "df.drop(['PassengerId','Ticket','Name','Embarked'],axis=1,inplace=True)"
   ]
  },
  {
   "cell_type": "code",
   "execution_count": 32,
   "id": "1c65c260",
   "metadata": {},
   "outputs": [
    {
     "data": {
      "text/plain": [
       "(891, 7)"
      ]
     },
     "execution_count": 32,
     "metadata": {},
     "output_type": "execute_result"
    }
   ],
   "source": [
    "#import libray\n",
    "from scipy.stats import zscore\n",
    "import numpy as np\n",
    "\n",
    "z=np.abs(zscore(df))\n",
    "z.shape"
   ]
  },
  {
   "cell_type": "code",
   "execution_count": 33,
   "id": "c076c1ca",
   "metadata": {},
   "outputs": [
    {
     "name": "stdout",
     "output_type": "stream",
     "text": [
      "(array([ 13,  16,  25,  27,  50,  59,  68,  71,  86,  88,  96, 116, 118,\n",
      "       119, 159, 164, 167, 171, 180, 182, 201, 233, 258, 261, 266, 278,\n",
      "       299, 311, 324, 341, 360, 377, 380, 386, 437, 438, 438, 480, 493,\n",
      "       527, 541, 542, 557, 567, 610, 630, 638, 672, 678, 679, 683, 686,\n",
      "       689, 700, 716, 730, 736, 737, 742, 745, 774, 779, 787, 792, 813,\n",
      "       824, 846, 850, 851, 858, 863, 885], dtype=int64), array([5, 4, 5, 6, 4, 4, 4, 4, 5, 6, 3, 3, 6, 4, 4, 4, 5, 4, 4, 4, 4, 4,\n",
      "       6, 4, 4, 4, 6, 6, 4, 6, 5, 6, 6, 4, 5, 5, 6, 4, 3, 6, 4, 4, 6, 5,\n",
      "       5, 3, 5, 3, 5, 6, 4, 4, 6, 6, 6, 6, 5, 6, 6, 3, 5, 6, 4, 4, 4, 4,\n",
      "       4, 4, 3, 5, 4, 5], dtype=int64))\n"
     ]
    }
   ],
   "source": [
    "threshold=3\n",
    "print(np.where(z>3))\n"
   ]
  },
  {
   "cell_type": "code",
   "execution_count": 34,
   "id": "61e94fcb",
   "metadata": {},
   "outputs": [
    {
     "name": "stdout",
     "output_type": "stream",
     "text": [
      "(891, 7)\n",
      "(820, 7)\n"
     ]
    }
   ],
   "source": [
    "df_new=df[(z<3).all(axis=1)]\n",
    "print(df.shape)\n",
    "print(df_new.shape)"
   ]
  },
  {
   "cell_type": "markdown",
   "id": "e24462bb",
   "metadata": {},
   "source": [
    "### percentage data loss"
   ]
  },
  {
   "cell_type": "code",
   "execution_count": 35,
   "id": "174ea182",
   "metadata": {},
   "outputs": [
    {
     "name": "stdout",
     "output_type": "stream",
     "text": [
      "7.968574635241302\n"
     ]
    }
   ],
   "source": [
    "loss_percent=(891-820)/891*100\n",
    "print(loss_percent)"
   ]
  },
  {
   "cell_type": "markdown",
   "id": "281dc078",
   "metadata": {},
   "source": [
    "7.96% data is loss by removing outliers"
   ]
  },
  {
   "cell_type": "code",
   "execution_count": 36,
   "id": "8340e311",
   "metadata": {},
   "outputs": [
    {
     "data": {
      "text/plain": [
       "Index(['Survived', 'Pclass', 'Sex', 'Age', 'SibSp', 'Parch', 'Fare'], dtype='object')"
      ]
     },
     "execution_count": 36,
     "metadata": {},
     "output_type": "execute_result"
    }
   ],
   "source": [
    "df.columns"
   ]
  },
  {
   "cell_type": "markdown",
   "id": "cb56e0b8",
   "metadata": {},
   "source": [
    "### Transforming data to remove skewness:"
   ]
  },
  {
   "cell_type": "code",
   "execution_count": 37,
   "id": "1dc8555b",
   "metadata": {},
   "outputs": [],
   "source": [
    "#dividing data in feauture and vector\n",
    "x=df.drop(['Survived'],axis=1)\n",
    "y=df['Survived']"
   ]
  },
  {
   "cell_type": "code",
   "execution_count": 38,
   "id": "c9554a4b",
   "metadata": {},
   "outputs": [
    {
     "data": {
      "text/plain": [
       "Survived    0.478523\n",
       "Pclass     -0.630548\n",
       "Sex        -0.618921\n",
       "Age         0.434488\n",
       "SibSp       3.695352\n",
       "Parch       2.749117\n",
       "Fare        4.787317\n",
       "dtype: float64"
      ]
     },
     "execution_count": 38,
     "metadata": {},
     "output_type": "execute_result"
    }
   ],
   "source": [
    "df.skew()"
   ]
  },
  {
   "cell_type": "code",
   "execution_count": 39,
   "id": "ec6cdcda",
   "metadata": {},
   "outputs": [
    {
     "data": {
      "text/html": [
       "<div>\n",
       "<style scoped>\n",
       "    .dataframe tbody tr th:only-of-type {\n",
       "        vertical-align: middle;\n",
       "    }\n",
       "\n",
       "    .dataframe tbody tr th {\n",
       "        vertical-align: top;\n",
       "    }\n",
       "\n",
       "    .dataframe thead th {\n",
       "        text-align: right;\n",
       "    }\n",
       "</style>\n",
       "<table border=\"1\" class=\"dataframe\">\n",
       "  <thead>\n",
       "    <tr style=\"text-align: right;\">\n",
       "      <th></th>\n",
       "      <th>Survived</th>\n",
       "      <th>Pclass</th>\n",
       "      <th>Sex</th>\n",
       "      <th>Age</th>\n",
       "      <th>SibSp</th>\n",
       "      <th>Parch</th>\n",
       "      <th>Fare</th>\n",
       "    </tr>\n",
       "  </thead>\n",
       "  <tbody>\n",
       "    <tr>\n",
       "      <th>0</th>\n",
       "      <td>0.0</td>\n",
       "      <td>1.732051</td>\n",
       "      <td>1.0</td>\n",
       "      <td>4.690416</td>\n",
       "      <td>1.000000</td>\n",
       "      <td>0.000000</td>\n",
       "      <td>2.692582</td>\n",
       "    </tr>\n",
       "    <tr>\n",
       "      <th>1</th>\n",
       "      <td>1.0</td>\n",
       "      <td>1.000000</td>\n",
       "      <td>0.0</td>\n",
       "      <td>6.164414</td>\n",
       "      <td>1.000000</td>\n",
       "      <td>0.000000</td>\n",
       "      <td>8.442944</td>\n",
       "    </tr>\n",
       "    <tr>\n",
       "      <th>2</th>\n",
       "      <td>1.0</td>\n",
       "      <td>1.732051</td>\n",
       "      <td>0.0</td>\n",
       "      <td>5.099020</td>\n",
       "      <td>0.000000</td>\n",
       "      <td>0.000000</td>\n",
       "      <td>2.815138</td>\n",
       "    </tr>\n",
       "    <tr>\n",
       "      <th>3</th>\n",
       "      <td>1.0</td>\n",
       "      <td>1.000000</td>\n",
       "      <td>0.0</td>\n",
       "      <td>5.916080</td>\n",
       "      <td>1.000000</td>\n",
       "      <td>0.000000</td>\n",
       "      <td>7.286975</td>\n",
       "    </tr>\n",
       "    <tr>\n",
       "      <th>4</th>\n",
       "      <td>0.0</td>\n",
       "      <td>1.732051</td>\n",
       "      <td>1.0</td>\n",
       "      <td>5.916080</td>\n",
       "      <td>0.000000</td>\n",
       "      <td>0.000000</td>\n",
       "      <td>2.837252</td>\n",
       "    </tr>\n",
       "    <tr>\n",
       "      <th>5</th>\n",
       "      <td>0.0</td>\n",
       "      <td>1.732051</td>\n",
       "      <td>1.0</td>\n",
       "      <td>5.449690</td>\n",
       "      <td>0.000000</td>\n",
       "      <td>0.000000</td>\n",
       "      <td>2.908316</td>\n",
       "    </tr>\n",
       "    <tr>\n",
       "      <th>6</th>\n",
       "      <td>0.0</td>\n",
       "      <td>1.000000</td>\n",
       "      <td>1.0</td>\n",
       "      <td>7.348469</td>\n",
       "      <td>0.000000</td>\n",
       "      <td>0.000000</td>\n",
       "      <td>7.201562</td>\n",
       "    </tr>\n",
       "    <tr>\n",
       "      <th>7</th>\n",
       "      <td>0.0</td>\n",
       "      <td>1.732051</td>\n",
       "      <td>1.0</td>\n",
       "      <td>1.414214</td>\n",
       "      <td>1.732051</td>\n",
       "      <td>1.000000</td>\n",
       "      <td>4.590752</td>\n",
       "    </tr>\n",
       "    <tr>\n",
       "      <th>8</th>\n",
       "      <td>1.0</td>\n",
       "      <td>1.732051</td>\n",
       "      <td>0.0</td>\n",
       "      <td>5.196152</td>\n",
       "      <td>0.000000</td>\n",
       "      <td>1.414214</td>\n",
       "      <td>3.336660</td>\n",
       "    </tr>\n",
       "    <tr>\n",
       "      <th>9</th>\n",
       "      <td>1.0</td>\n",
       "      <td>1.414214</td>\n",
       "      <td>0.0</td>\n",
       "      <td>3.741657</td>\n",
       "      <td>1.000000</td>\n",
       "      <td>0.000000</td>\n",
       "      <td>5.483685</td>\n",
       "    </tr>\n",
       "    <tr>\n",
       "      <th>10</th>\n",
       "      <td>1.0</td>\n",
       "      <td>1.732051</td>\n",
       "      <td>0.0</td>\n",
       "      <td>2.000000</td>\n",
       "      <td>1.000000</td>\n",
       "      <td>1.000000</td>\n",
       "      <td>4.086563</td>\n",
       "    </tr>\n",
       "    <tr>\n",
       "      <th>11</th>\n",
       "      <td>1.0</td>\n",
       "      <td>1.000000</td>\n",
       "      <td>0.0</td>\n",
       "      <td>7.615773</td>\n",
       "      <td>0.000000</td>\n",
       "      <td>0.000000</td>\n",
       "      <td>5.152669</td>\n",
       "    </tr>\n",
       "    <tr>\n",
       "      <th>12</th>\n",
       "      <td>0.0</td>\n",
       "      <td>1.732051</td>\n",
       "      <td>1.0</td>\n",
       "      <td>4.472136</td>\n",
       "      <td>0.000000</td>\n",
       "      <td>0.000000</td>\n",
       "      <td>2.837252</td>\n",
       "    </tr>\n",
       "    <tr>\n",
       "      <th>13</th>\n",
       "      <td>0.0</td>\n",
       "      <td>1.732051</td>\n",
       "      <td>1.0</td>\n",
       "      <td>6.244998</td>\n",
       "      <td>1.000000</td>\n",
       "      <td>2.236068</td>\n",
       "      <td>5.592406</td>\n",
       "    </tr>\n",
       "    <tr>\n",
       "      <th>14</th>\n",
       "      <td>0.0</td>\n",
       "      <td>1.732051</td>\n",
       "      <td>0.0</td>\n",
       "      <td>3.741657</td>\n",
       "      <td>0.000000</td>\n",
       "      <td>0.000000</td>\n",
       "      <td>2.802535</td>\n",
       "    </tr>\n",
       "  </tbody>\n",
       "</table>\n",
       "</div>"
      ],
      "text/plain": [
       "    Survived    Pclass  Sex       Age     SibSp     Parch      Fare\n",
       "0        0.0  1.732051  1.0  4.690416  1.000000  0.000000  2.692582\n",
       "1        1.0  1.000000  0.0  6.164414  1.000000  0.000000  8.442944\n",
       "2        1.0  1.732051  0.0  5.099020  0.000000  0.000000  2.815138\n",
       "3        1.0  1.000000  0.0  5.916080  1.000000  0.000000  7.286975\n",
       "4        0.0  1.732051  1.0  5.916080  0.000000  0.000000  2.837252\n",
       "5        0.0  1.732051  1.0  5.449690  0.000000  0.000000  2.908316\n",
       "6        0.0  1.000000  1.0  7.348469  0.000000  0.000000  7.201562\n",
       "7        0.0  1.732051  1.0  1.414214  1.732051  1.000000  4.590752\n",
       "8        1.0  1.732051  0.0  5.196152  0.000000  1.414214  3.336660\n",
       "9        1.0  1.414214  0.0  3.741657  1.000000  0.000000  5.483685\n",
       "10       1.0  1.732051  0.0  2.000000  1.000000  1.000000  4.086563\n",
       "11       1.0  1.000000  0.0  7.615773  0.000000  0.000000  5.152669\n",
       "12       0.0  1.732051  1.0  4.472136  0.000000  0.000000  2.837252\n",
       "13       0.0  1.732051  1.0  6.244998  1.000000  2.236068  5.592406\n",
       "14       0.0  1.732051  0.0  3.741657  0.000000  0.000000  2.802535"
      ]
     },
     "execution_count": 39,
     "metadata": {},
     "output_type": "execute_result"
    }
   ],
   "source": [
    "#calculating the square root for data\n",
    "\n",
    "df1 = np.sqrt(df)\n",
    "\n",
    "df1.head(15)"
   ]
  },
  {
   "cell_type": "code",
   "execution_count": 40,
   "id": "2cb2c214",
   "metadata": {},
   "outputs": [
    {
     "data": {
      "text/plain": [
       "Survived    0.478523\n",
       "Pclass     -0.739999\n",
       "Sex        -0.618921\n",
       "Age        -0.825444\n",
       "SibSp       1.436526\n",
       "Parch       1.529799\n",
       "Fare        2.085004\n",
       "dtype: float64"
      ]
     },
     "execution_count": 40,
     "metadata": {},
     "output_type": "execute_result"
    }
   ],
   "source": [
    "df1.skew()"
   ]
  },
  {
   "cell_type": "markdown",
   "id": "a92de7a2",
   "metadata": {},
   "source": [
    "# splitting dataframe"
   ]
  },
  {
   "cell_type": "code",
   "execution_count": 41,
   "id": "24d99f95",
   "metadata": {},
   "outputs": [],
   "source": [
    "from sklearn.model_selection import train_test_split\n",
    "x_train,x_test,y_train,y_test=train_test_split(x,y,test_size=.3,random_state=101)"
   ]
  },
  {
   "cell_type": "code",
   "execution_count": 42,
   "id": "96915664",
   "metadata": {},
   "outputs": [
    {
     "name": "stdout",
     "output_type": "stream",
     "text": [
      "(623, 6)\n",
      "(623,)\n",
      "(268, 6)\n",
      "(268,)\n"
     ]
    }
   ],
   "source": [
    "print(x_train.shape)\n",
    "print(y_train.shape)\n",
    "print(x_test.shape)\n",
    "print(y_test.shape)"
   ]
  },
  {
   "cell_type": "markdown",
   "id": "e52e0238",
   "metadata": {},
   "source": [
    "## Scalling the data using min-max scaler:\n",
    "    "
   ]
  },
  {
   "cell_type": "code",
   "execution_count": 43,
   "id": "f9da85c8",
   "metadata": {},
   "outputs": [],
   "source": [
    "from sklearn.preprocessing import MinMaxScaler\n",
    "# fit scaler on training data\n",
    "norm = MinMaxScaler()\n",
    "\n",
    "# transform training data\n",
    "x_train_norm =norm.fit_transform(x_train)\n",
    "\n",
    "# transform testing dataabs\n",
    "\n",
    "x_test_norm =norm.fit_transform(x_test)\n"
   ]
  },
  {
   "cell_type": "code",
   "execution_count": 44,
   "id": "750e991c",
   "metadata": {},
   "outputs": [],
   "source": [
    "x_test=pd.DataFrame(x_test_norm)\n",
    "x_train=pd.DataFrame(x_train_norm)"
   ]
  },
  {
   "cell_type": "markdown",
   "id": "00f3c18c",
   "metadata": {},
   "source": [
    "# Model Construction"
   ]
  },
  {
   "cell_type": "code",
   "execution_count": 45,
   "id": "e46b01c0",
   "metadata": {},
   "outputs": [],
   "source": [
    "from sklearn.linear_model import LogisticRegression\n",
    "from sklearn.model_selection import cross_val_score\n",
    "from sklearn.tree import DecisionTreeClassifier\n",
    "from sklearn.neighbors import KNeighborsClassifier\n",
    "from sklearn.metrics  import mean_squared_error\n",
    "from sklearn.metrics  import accuracy_score\n",
    "from sklearn.metrics  import confusion_matrix,classification_report\n",
    "import warnings\n",
    "warnings.filterwarnings('ignore')\n"
   ]
  },
  {
   "cell_type": "markdown",
   "id": "83b3303c",
   "metadata": {},
   "source": [
    "# LogisticRegression"
   ]
  },
  {
   "cell_type": "code",
   "execution_count": 46,
   "id": "5b032811",
   "metadata": {},
   "outputs": [
    {
     "name": "stdout",
     "output_type": "stream",
     "text": [
      "Training accuracy : 0.812199036918138\n",
      "testing accuracy : 0.7798507462686567\n",
      "              precision    recall  f1-score   support\n",
      "\n",
      "           0       0.77      0.88      0.82       154\n",
      "           1       0.80      0.65      0.71       114\n",
      "\n",
      "    accuracy                           0.78       268\n",
      "   macro avg       0.78      0.76      0.77       268\n",
      "weighted avg       0.78      0.78      0.78       268\n",
      "\n",
      "[[135  19]\n",
      " [ 40  74]]\n",
      "accuracy_score : 0.7798507462686567\n"
     ]
    }
   ],
   "source": [
    "# creating the model\n",
    "model_lg=LogisticRegression()\n",
    "# feeding the training set into the model\n",
    "model_lg.fit(x_train,y_train)\n",
    "# predicting the results for the test set\n",
    "y_pred=model_lg.predict(x_test)\n",
    "# calculating the training and testing accuracies\n",
    "print('Training accuracy :',model_lg.score(x_train,y_train))\n",
    "print('testing accuracy :',model_lg.score(x_test,y_test))\n",
    "# classification report\n",
    "print(classification_report(y_test,y_pred))\n",
    "#confusion matrix\n",
    "print(confusion_matrix(y_test,y_pred))\n",
    "print('accuracy_score :' ,accuracy_score(y_test,y_pred))"
   ]
  },
  {
   "cell_type": "markdown",
   "id": "174aa0c9",
   "metadata": {},
   "source": [
    "### cross validation score"
   ]
  },
  {
   "cell_type": "code",
   "execution_count": 47,
   "id": "cfba7a80",
   "metadata": {},
   "outputs": [
    {
     "name": "stdout",
     "output_type": "stream",
     "text": [
      "cv score : 0.7901234567901234\n"
     ]
    }
   ],
   "source": [
    "from sklearn.model_selection import GridSearchCV, cross_val_score\n",
    "lg_cv=cross_val_score(model_lg,x,y,scoring='accuracy', cv = 3).mean()\n",
    "print('cv score :',lg_cv)\n"
   ]
  },
  {
   "cell_type": "markdown",
   "id": "0415eed7",
   "metadata": {},
   "source": [
    "# RandomForestClassifier"
   ]
  },
  {
   "cell_type": "code",
   "execution_count": 48,
   "id": "f05023a3",
   "metadata": {},
   "outputs": [
    {
     "name": "stdout",
     "output_type": "stream",
     "text": [
      "Training accuracy : 0.9839486356340289\n",
      "testing accuracy : 0.7910447761194029\n",
      "              precision    recall  f1-score   support\n",
      "\n",
      "           0       0.83      0.81      0.82       154\n",
      "           1       0.75      0.77      0.76       114\n",
      "\n",
      "    accuracy                           0.79       268\n",
      "   macro avg       0.79      0.79      0.79       268\n",
      "weighted avg       0.79      0.79      0.79       268\n",
      "\n",
      "[[124  30]\n",
      " [ 26  88]]\n",
      "accuracy_score : 0.7910447761194029\n"
     ]
    }
   ],
   "source": [
    "from sklearn.ensemble import RandomForestClassifier\n",
    "# creating the model\n",
    "model_rfc=RandomForestClassifier(n_estimators=400)\n",
    "# feeding the training set into the model\n",
    "model_rfc.fit(x_train,y_train)\n",
    "# predicting the results for the test set\n",
    "y_pred=model_rfc.predict(x_test)\n",
    "# calculating the training and testing accuracies\n",
    "print('Training accuracy :',model_rfc.score(x_train,y_train))\n",
    "print('testing accuracy :',model_rfc.score(x_test,y_test))\n",
    "# classification report\n",
    "print(classification_report(y_test,y_pred))\n",
    "#confusion matrix\n",
    "print(confusion_matrix(y_test,y_pred))\n",
    "print('accuracy_score :' ,accuracy_score(y_test,y_pred))\n"
   ]
  },
  {
   "cell_type": "markdown",
   "id": "a715ba9c",
   "metadata": {},
   "source": [
    "### cross validation score"
   ]
  },
  {
   "cell_type": "code",
   "execution_count": 49,
   "id": "e866124d",
   "metadata": {},
   "outputs": [
    {
     "name": "stdout",
     "output_type": "stream",
     "text": [
      "cv score : 0.8149063670411986\n"
     ]
    }
   ],
   "source": [
    "from sklearn.model_selection import GridSearchCV, cross_val_score\n",
    "rfc_cv=cross_val_score(model_rfc,x,y,scoring='accuracy', cv = 10).mean()\n",
    "print('cv score :',rfc_cv)\n"
   ]
  },
  {
   "cell_type": "markdown",
   "id": "91505d84",
   "metadata": {},
   "source": [
    "# SVC"
   ]
  },
  {
   "cell_type": "code",
   "execution_count": 50,
   "id": "c7067272",
   "metadata": {},
   "outputs": [
    {
     "name": "stdout",
     "output_type": "stream",
     "text": [
      "Training accuracy : 0.8186195826645265\n",
      "Testing accuracy : 0.7873134328358209\n",
      "              precision    recall  f1-score   support\n",
      "\n",
      "           0       0.77      0.91      0.83       154\n",
      "           1       0.84      0.62      0.71       114\n",
      "\n",
      "    accuracy                           0.79       268\n",
      "   macro avg       0.80      0.77      0.77       268\n",
      "weighted avg       0.79      0.79      0.78       268\n",
      "\n",
      "[[140  14]\n",
      " [ 43  71]]\n",
      "accuracy_score : 0.7873134328358209\n"
     ]
    }
   ],
   "source": [
    "from sklearn.svm import SVC\n",
    "# creating the model\n",
    "model_svc = SVC()\n",
    "# feeding the training set into the model\n",
    "model_svc.fit(x_train, y_train)\n",
    "\n",
    "# predicting the results for the test set\n",
    "y_pred = model_svc.predict(x_test)\n",
    "\n",
    "# calculating the training and testing accuracies\n",
    "print(\"Training accuracy :\", model_svc.score(x_train, y_train))\n",
    "print(\"Testing accuracy :\", model_svc.score(x_test, y_test))\n",
    "# classification report\n",
    "print(classification_report(y_test, y_pred))\n",
    "\n",
    "# confusion matrix\n",
    "print(confusion_matrix(y_test, y_pred))\n",
    "print('accuracy_score :' ,accuracy_score(y_test,y_pred))"
   ]
  },
  {
   "cell_type": "markdown",
   "id": "f4d6017a",
   "metadata": {},
   "source": [
    "#### cross validation score"
   ]
  },
  {
   "cell_type": "code",
   "execution_count": 51,
   "id": "257a0fc8",
   "metadata": {},
   "outputs": [
    {
     "name": "stdout",
     "output_type": "stream",
     "text": [
      "cv score : 0.6801997503121099\n"
     ]
    }
   ],
   "source": [
    "from sklearn.model_selection import GridSearchCV, cross_val_score\n",
    "svc_cv=cross_val_score(model_svc,x,y,scoring='accuracy', cv = 10).mean()\n",
    "print('cv score :',svc_cv)\n"
   ]
  },
  {
   "cell_type": "markdown",
   "id": "782276d4",
   "metadata": {},
   "source": [
    "# DecisionTreeClassifier"
   ]
  },
  {
   "cell_type": "code",
   "execution_count": 52,
   "id": "e6ce8060",
   "metadata": {},
   "outputs": [
    {
     "name": "stdout",
     "output_type": "stream",
     "text": [
      "Training accuracy : 0.9839486356340289\n",
      "Testing accuracy : 0.7649253731343284\n",
      "              precision    recall  f1-score   support\n",
      "\n",
      "           0       0.79      0.80      0.80       154\n",
      "           1       0.73      0.72      0.72       114\n",
      "\n",
      "    accuracy                           0.76       268\n",
      "   macro avg       0.76      0.76      0.76       268\n",
      "weighted avg       0.76      0.76      0.76       268\n",
      "\n",
      "[[123  31]\n",
      " [ 32  82]]\n",
      "accuracy_score : 0.7649253731343284\n"
     ]
    }
   ],
   "source": [
    "from sklearn.tree import DecisionTreeClassifier\n",
    "\n",
    "# creating model\n",
    "model_dt = DecisionTreeClassifier()\n",
    "\n",
    "# feeding the training set into the model\n",
    "model_dt.fit(x_train, y_train)\n",
    "\n",
    "# predicting the results for the test set\n",
    "y_pred = model_dt.predict(x_test)\n",
    "\n",
    "# calculating the training and testing accuracies\n",
    "print(\"Training accuracy :\", model_dt.score(x_train, y_train))\n",
    "print(\"Testing accuracy :\", model_dt.score(x_test, y_test))\n",
    "# classification report\n",
    "print(classification_report(y_test, y_pred))\n",
    "\n",
    "# confusion matrix\n",
    "print(confusion_matrix(y_test, y_pred))\n",
    "print('accuracy_score :' ,accuracy_score(y_test,y_pred))"
   ]
  },
  {
   "cell_type": "markdown",
   "id": "d19bb658",
   "metadata": {},
   "source": [
    "#### cross validation score"
   ]
  },
  {
   "cell_type": "code",
   "execution_count": 53,
   "id": "6631e76d",
   "metadata": {},
   "outputs": [
    {
     "data": {
      "text/plain": [
       "0.7624935995903738"
      ]
     },
     "execution_count": 53,
     "metadata": {},
     "output_type": "execute_result"
    }
   ],
   "source": [
    "#Now lets try to do some evaluation for decision tree model using cross validation.\n",
    "\n",
    "dt_cv = cross_val_score(estimator = model_dt, X = x_train, y = y_train, cv = 10)\n",
    "dt_cv.mean()"
   ]
  },
  {
   "cell_type": "markdown",
   "id": "34b7d25e",
   "metadata": {},
   "source": [
    "# GaussianNB"
   ]
  },
  {
   "cell_type": "code",
   "execution_count": 54,
   "id": "02617a25",
   "metadata": {},
   "outputs": [
    {
     "name": "stdout",
     "output_type": "stream",
     "text": [
      "Training accuracy : 0.8025682182985554\n",
      "Testing accuracy : 0.753731343283582\n",
      "              precision    recall  f1-score   support\n",
      "\n",
      "           0       0.77      0.82      0.79       154\n",
      "           1       0.74      0.66      0.69       114\n",
      "\n",
      "    accuracy                           0.75       268\n",
      "   macro avg       0.75      0.74      0.74       268\n",
      "weighted avg       0.75      0.75      0.75       268\n",
      "\n",
      "[[127  27]\n",
      " [ 39  75]]\n",
      "accuracy_score : 0.753731343283582\n"
     ]
    }
   ],
   "source": [
    "from sklearn.naive_bayes import GaussianNB\n",
    "# creating model\n",
    "model_gnb = GaussianNB()\n",
    "\n",
    "# feeding the training set into the model\n",
    "model_gnb.fit(x_train, y_train)\n",
    "\n",
    "# predicting the results for the test set\n",
    "y_pred = model_gnb.predict(x_test)\n",
    "\n",
    "# calculating the training and testing accuracies\n",
    "print(\"Training accuracy :\", model_gnb.score(x_train, y_train))\n",
    "print(\"Testing accuracy :\", model_gnb.score(x_test, y_test))\n",
    "# classification report\n",
    "print(classification_report(y_test, y_pred))\n",
    "\n",
    "# confusion matrix\n",
    "print(confusion_matrix(y_test, y_pred))\n",
    "print('accuracy_score :' ,accuracy_score(y_test,y_pred))"
   ]
  },
  {
   "cell_type": "markdown",
   "id": "bd57d22a",
   "metadata": {},
   "source": [
    "#### cross validation score"
   ]
  },
  {
   "cell_type": "code",
   "execution_count": 55,
   "id": "f2e6e52a",
   "metadata": {},
   "outputs": [
    {
     "data": {
      "text/plain": [
       "0.7945980542754737"
      ]
     },
     "execution_count": 55,
     "metadata": {},
     "output_type": "execute_result"
    }
   ],
   "source": [
    "#Now lets try to do some evaluation for GaussianNB model using cross validation.\n",
    "gnb_cv = cross_val_score(estimator = model_gnb, X = x_train, y = y_train, cv = 10)\n",
    "gnb_cv.mean()"
   ]
  },
  {
   "cell_type": "markdown",
   "id": "bb2244b9",
   "metadata": {},
   "source": [
    "# KNeighborsClassifier"
   ]
  },
  {
   "cell_type": "code",
   "execution_count": 56,
   "id": "27aa5920",
   "metadata": {},
   "outputs": [
    {
     "name": "stdout",
     "output_type": "stream",
     "text": [
      "Training accuracy : 0.8362760834670947\n",
      "Testing accuracy : 0.7798507462686567\n",
      "              precision    recall  f1-score   support\n",
      "\n",
      "           0       0.77      0.88      0.82       154\n",
      "           1       0.80      0.64      0.71       114\n",
      "\n",
      "    accuracy                           0.78       268\n",
      "   macro avg       0.79      0.76      0.77       268\n",
      "weighted avg       0.78      0.78      0.78       268\n",
      "\n",
      "[[136  18]\n",
      " [ 41  73]]\n",
      "accuracy_score : 0.7798507462686567\n"
     ]
    }
   ],
   "source": [
    "\n",
    "# creating model\n",
    "model_KNc = KNeighborsClassifier(n_neighbors=7)\n",
    "\n",
    "# feeding the training set into the model\n",
    "model_KNc.fit(x_train, y_train)\n",
    "\n",
    "# predicting the results for the test set\n",
    "y_pred = model_KNc.predict(x_test)\n",
    "\n",
    "# calculating the training and testing accuracies\n",
    "print(\"Training accuracy :\", model_KNc.score(x_train, y_train))\n",
    "print(\"Testing accuracy :\", model_KNc.score(x_test, y_test))\n",
    "# classification report\n",
    "print(classification_report(y_test, y_pred))\n",
    "\n",
    "# confusion matrix\n",
    "print(confusion_matrix(y_test, y_pred))\n",
    "print('accuracy_score :' ,accuracy_score(y_test,y_pred))"
   ]
  },
  {
   "cell_type": "markdown",
   "id": "fac701b8",
   "metadata": {},
   "source": [
    "#### cross validation score"
   ]
  },
  {
   "cell_type": "code",
   "execution_count": 57,
   "id": "b57ed91b",
   "metadata": {},
   "outputs": [
    {
     "data": {
      "text/plain": [
       "0.7104993757802747"
      ]
     },
     "execution_count": 57,
     "metadata": {},
     "output_type": "execute_result"
    }
   ],
   "source": [
    "knn_cv=cross_val_score(model_KNc,x,y,scoring='accuracy', cv = 10)\n",
    "knn_cv.mean()"
   ]
  },
  {
   "cell_type": "code",
   "execution_count": 58,
   "id": "6b2ead28",
   "metadata": {},
   "outputs": [
    {
     "name": "stdout",
     "output_type": "stream",
     "text": [
      "LOGISTIC REGG     0.7798507462686567        0.79        -0.01\n",
      "RANDOM FOREST     0.7910447761194029        0.81       -0.024\n",
      "SVC               0.7873134328358209        0.68        0.107\n",
      "DTREE             0.7910447761194029        0.76       0.002\n",
      "KNeighborsclass   0.7798507462686567        0.71        0.069\n",
      "GaussianNB        0.753731343283582         0.79       -0.041\n"
     ]
    }
   ],
   "source": [
    "print(\"LOGISTIC REGG    \",model_lg.score(x_test, y_test),\"      \",round(lg_cv.mean(),2),\"      \", round(model_lg.score(x_test, y_test)-lg_cv.mean(),3))\n",
    "print(\"RANDOM FOREST    \",model_rfc.score(x_test, y_test),\"      \",round(rfc_cv.mean(),2),\"     \", round(model_rfc.score(x_test, y_test)-rfc_cv.mean(),3))\n",
    "print(\"SVC              \",model_svc.score(x_test, y_test),\"      \",round(svc_cv.mean(),2),\"      \", round(model_svc.score(x_test, y_test)-svc_cv.mean(),3))\n",
    "print(\"DTREE            \",model_rfc.score(x_test, y_test),\"      \",round(dt_cv.mean(),2),\"     \", round(model_dt.score(x_test, y_test)-dt_cv.mean(),3))\n",
    "print('KNeighborsclass  ',model_KNc.score(x_test, y_test),\"      \",round(knn_cv.mean(),2),\"      \",round(model_KNc.score(x_test, y_test)-knn_cv.mean(),3)) \n",
    "print('GaussianNB',\"      \",model_gnb.score(x_test, y_test),\"       \",round(gnb_cv.mean(),2),\"     \",round(model_gnb.score(x_test, y_test)-gnb_cv.mean(),3))   "
   ]
  },
  {
   "cell_type": "markdown",
   "id": "fbe82705",
   "metadata": {},
   "source": [
    "The best model accoding to accuracy score- cross validation score is LOGISTIC REGRESSION,RandomForestClassifier,\n",
    "DecisionTreeClassifier since it is having least difference"
   ]
  },
  {
   "cell_type": "markdown",
   "id": "e5197731",
   "metadata": {},
   "source": [
    "# Hyper parameter tuning"
   ]
  },
  {
   "cell_type": "markdown",
   "id": "05976a73",
   "metadata": {},
   "source": [
    "# LogisticRegression"
   ]
  },
  {
   "cell_type": "code",
   "execution_count": 59,
   "id": "941319b3",
   "metadata": {},
   "outputs": [
    {
     "name": "stdout",
     "output_type": "stream",
     "text": [
      "Tuned Logistic Regression Parameters: {'C': 1389495.494373136}\n",
      "Best score is 0.7867491055175445\n"
     ]
    }
   ],
   "source": [
    "# Necessary imports\n",
    "from sklearn.linear_model import LogisticRegression\n",
    "from sklearn.model_selection import GridSearchCV\n",
    "  \n",
    "# Creating the hyperparameter grid\n",
    "c_space = np.logspace(-5, 8, 15)\n",
    "param_grid = {'C': c_space}\n",
    "  \n",
    "# Instantiating logistic regression classifier\n",
    "logreg = LogisticRegression()\n",
    "  \n",
    "# Instantiating the GridSearchCV object\n",
    "logreg_cv = GridSearchCV(logreg, param_grid, cv = 5)\n",
    "  \n",
    "logreg_cv.fit(x, y)\n",
    "  \n",
    "# Print the tuned parameters and score\n",
    "print(\"Tuned Logistic Regression Parameters: {}\".format(logreg_cv.best_params_)) \n",
    "print(\"Best score is {}\".format(logreg_cv.best_score_))"
   ]
  },
  {
   "cell_type": "code",
   "execution_count": 60,
   "id": "6ed00472",
   "metadata": {},
   "outputs": [
    {
     "name": "stdout",
     "output_type": "stream",
     "text": [
      "Training accuracy : 0.7993579454253612\n",
      "Testing accuracy : 0.7649253731343284\n",
      "              precision    recall  f1-score   support\n",
      "\n",
      "           0       0.77      0.88      0.82       154\n",
      "           1       0.80      0.65      0.71       114\n",
      "\n",
      "    accuracy                           0.78       268\n",
      "   macro avg       0.78      0.76      0.77       268\n",
      "weighted avg       0.78      0.78      0.78       268\n",
      "\n",
      "[[135  19]\n",
      " [ 40  74]]\n"
     ]
    }
   ],
   "source": [
    "# creating the model\n",
    "model = LogisticRegression(C= 0.05179474679231213)\n",
    "\n",
    "# feeding the training set into the model\n",
    "model.fit(x_train, y_train)\n",
    "\n",
    "# predicting the results for the test set\n",
    "y_pred = model_lg.predict(x_test)\n",
    "\n",
    "# calculating the training and testing accuracies\n",
    "print(\"Training accuracy :\", model.score(x_train, y_train))\n",
    "print(\"Testing accuracy :\", model.score(x_test, y_test))\n",
    "\n",
    "# classification report\n",
    "print(classification_report(y_test, y_pred))\n",
    "\n",
    "# confusion matrix\n",
    "print(confusion_matrix(y_test, y_pred))"
   ]
  },
  {
   "cell_type": "markdown",
   "id": "e9aab7cb",
   "metadata": {},
   "source": [
    "#### cross validation score"
   ]
  },
  {
   "cell_type": "code",
   "execution_count": 68,
   "id": "cf937536",
   "metadata": {},
   "outputs": [
    {
     "data": {
      "text/plain": [
       "0.8114478114478114"
      ]
     },
     "execution_count": 68,
     "metadata": {},
     "output_type": "execute_result"
    }
   ],
   "source": [
    "lg_cv=cross_val_score(model,x,y,scoring='accuracy', cv = 3).mean()\n",
    "lg_cv"
   ]
  },
  {
   "cell_type": "markdown",
   "id": "b6d570bb",
   "metadata": {},
   "source": [
    "### RandomForestClassifier"
   ]
  },
  {
   "cell_type": "code",
   "execution_count": 62,
   "id": "ae97136d",
   "metadata": {},
   "outputs": [
    {
     "name": "stdout",
     "output_type": "stream",
     "text": [
      "Best Hyper Parameters:\n",
      " {'criterion': 'entropy', 'min_samples_leaf': 2, 'min_samples_split': 7, 'n_estimators': 10, 'n_jobs': -1, 'random_state': 123}\n",
      "Accuracy: 0.8208955223880597\n",
      "Confusion Metrix:\n",
      " [[137  31]\n",
      " [ 17  83]]\n"
     ]
    }
   ],
   "source": [
    "from sklearn.model_selection import GridSearchCV\n",
    "from sklearn.ensemble import RandomForestClassifier\n",
    "#making the instance\n",
    "model=RandomForestClassifier()\n",
    "#hyper parameters set\n",
    "params = {'criterion':['gini','entropy'],\n",
    "          'n_estimators':[10,15,20,25,30],\n",
    "          'min_samples_leaf':[1,2,3],\n",
    "          'min_samples_split':[3,4,5,6,7], \n",
    "          'random_state':[123],\n",
    "          'n_jobs':[-1]}\n",
    "model1 = GridSearchCV(model, param_grid=params, n_jobs=-1)\n",
    "#learning\n",
    "model1.fit(x_train,y_train)\n",
    "#The best hyper parameters set\n",
    "print(\"Best Hyper Parameters:\\n\",model1.best_params_)\n",
    "#Prediction\n",
    "prediction=model1.predict(x_test)\n",
    "#importing the metrics module\n",
    "from sklearn import metrics\n",
    "#evaluation(Accuracy)\n",
    "print(\"Accuracy:\",metrics.accuracy_score(prediction,y_test))\n",
    "#evaluation(Confusion Metrix)\n",
    "print(\"Confusion Metrix:\\n\",metrics.confusion_matrix(prediction,y_test))\n",
    "rf_final=prediction\n",
    "rf_finalmod=model1"
   ]
  },
  {
   "cell_type": "markdown",
   "id": "498f44a1",
   "metadata": {},
   "source": [
    "### cross validation score"
   ]
  },
  {
   "cell_type": "code",
   "execution_count": 63,
   "id": "1948ae09",
   "metadata": {},
   "outputs": [
    {
     "data": {
      "text/plain": [
       "0.8181818181818182"
      ]
     },
     "execution_count": 63,
     "metadata": {},
     "output_type": "execute_result"
    }
   ],
   "source": [
    "rf_cv=cross_val_score(model1,x,y,scoring='accuracy', cv = 3).mean()\n",
    "rf_cv"
   ]
  },
  {
   "cell_type": "markdown",
   "id": "66b57203",
   "metadata": {},
   "source": [
    "# DecisionTreeClassifier"
   ]
  },
  {
   "cell_type": "code",
   "execution_count": 64,
   "id": "2ff1a04c",
   "metadata": {},
   "outputs": [],
   "source": [
    "from sklearn.model_selection import GridSearchCV\n",
    "parameter ={ 'max_depth': np.arange(2,10),'criterion':['gini','entropy'],\n",
    "            'splitter':['best', 'random'],\n",
    "            'max_depth': [6,7,8,9,10],\n",
    "            'min_samples_leaf': [2,3,4,5,6,7],\n",
    "             'min_samples_split': [2,3,4,5,6,7]\n",
    "           }\n",
    "GCV=GridSearchCV(DecisionTreeClassifier(),parameter,cv=5)\n",
    "model1=GCV.fit(x_train,y_train)"
   ]
  },
  {
   "cell_type": "code",
   "execution_count": 65,
   "id": "6d5711cb",
   "metadata": {},
   "outputs": [
    {
     "name": "stdout",
     "output_type": "stream",
     "text": [
      "Best Hyper Parameters:\n",
      " {'criterion': 'entropy', 'max_depth': 8, 'min_samples_leaf': 3, 'min_samples_split': 2, 'splitter': 'random'}\n",
      "Accuracy: 0.8171641791044776\n",
      "Confusion Metrix:\n",
      " [[135  30]\n",
      " [ 19  84]]\n"
     ]
    }
   ],
   "source": [
    "#The best hyper parameters set\n",
    "print(\"Best Hyper Parameters:\\n\",model1.best_params_)\n",
    "#Prediction\n",
    "prediction=model1.predict(x_test)\n",
    "#importing the metrics module\n",
    "from sklearn import metrics\n",
    "#evaluation(Accuracy)\n",
    "print(\"Accuracy:\",metrics.accuracy_score(prediction,y_test))\n",
    "#evaluation(Confusion Metrix)\n",
    "print(\"Confusion Metrix:\\n\",metrics.confusion_matrix(prediction,y_test))\n"
   ]
  },
  {
   "cell_type": "markdown",
   "id": "5b5c7b09",
   "metadata": {},
   "source": [
    "### cross validation score"
   ]
  },
  {
   "cell_type": "code",
   "execution_count": 66,
   "id": "3767c5c9",
   "metadata": {},
   "outputs": [
    {
     "data": {
      "text/plain": [
       "0.7946127946127947"
      ]
     },
     "execution_count": 66,
     "metadata": {},
     "output_type": "execute_result"
    }
   ],
   "source": [
    "dtc_cv=cross_val_score(model1,x,y,scoring='accuracy', cv = 3).mean()\n",
    "dtc_cv"
   ]
  },
  {
   "cell_type": "markdown",
   "id": "8eddf7b7",
   "metadata": {},
   "source": [
    "### When comparing accuracy and cross validation the best model is  RandomForestClassifier"
   ]
  },
  {
   "cell_type": "markdown",
   "id": "1117ec5a",
   "metadata": {},
   "source": [
    "# SAVING THE MODEL"
   ]
  },
  {
   "cell_type": "code",
   "execution_count": 67,
   "id": "df6b28b3",
   "metadata": {},
   "outputs": [
    {
     "data": {
      "text/plain": [
       "['final model.pkl']"
      ]
     },
     "execution_count": 67,
     "metadata": {},
     "output_type": "execute_result"
    }
   ],
   "source": [
    "import joblib\n",
    "joblib.dump(rf_finalmod,\"final model.pkl\")"
   ]
  }
 ],
 "metadata": {
  "kernelspec": {
   "display_name": "Python 3",
   "language": "python",
   "name": "python3"
  },
  "language_info": {
   "codemirror_mode": {
    "name": "ipython",
    "version": 3
   },
   "file_extension": ".py",
   "mimetype": "text/x-python",
   "name": "python",
   "nbconvert_exporter": "python",
   "pygments_lexer": "ipython3",
   "version": "3.8.8"
  }
 },
 "nbformat": 4,
 "nbformat_minor": 5
}
