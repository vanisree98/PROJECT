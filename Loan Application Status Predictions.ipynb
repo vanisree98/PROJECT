{
 "cells": [
  {
   "cell_type": "markdown",
   "id": "2427d358",
   "metadata": {},
   "source": [
    "# Loan Application Status Prediction"
   ]
  },
  {
   "cell_type": "markdown",
   "id": "774c6582",
   "metadata": {},
   "source": [
    "# 1. Dataset loading"
   ]
  },
  {
   "cell_type": "code",
   "execution_count": 1,
   "id": "669a8950",
   "metadata": {},
   "outputs": [],
   "source": [
    "import pandas as pd\n",
    "import numpy as np\n",
    "import matplotlib.pyplot as plt\n",
    "import seaborn as sns\n",
    "import warnings\n",
    "warnings.filterwarnings('ignore')"
   ]
  },
  {
   "cell_type": "code",
   "execution_count": 2,
   "id": "a9767a2c",
   "metadata": {},
   "outputs": [],
   "source": [
    "df=pd.read_csv('https://raw.githubusercontent.com/dsrscientist/DSData/master/loan_prediction.csv')"
   ]
  },
  {
   "cell_type": "code",
   "execution_count": 3,
   "id": "ce4d3c7a",
   "metadata": {},
   "outputs": [
    {
     "data": {
      "text/html": [
       "<div>\n",
       "<style scoped>\n",
       "    .dataframe tbody tr th:only-of-type {\n",
       "        vertical-align: middle;\n",
       "    }\n",
       "\n",
       "    .dataframe tbody tr th {\n",
       "        vertical-align: top;\n",
       "    }\n",
       "\n",
       "    .dataframe thead th {\n",
       "        text-align: right;\n",
       "    }\n",
       "</style>\n",
       "<table border=\"1\" class=\"dataframe\">\n",
       "  <thead>\n",
       "    <tr style=\"text-align: right;\">\n",
       "      <th></th>\n",
       "      <th>Loan_ID</th>\n",
       "      <th>Gender</th>\n",
       "      <th>Married</th>\n",
       "      <th>Dependents</th>\n",
       "      <th>Education</th>\n",
       "      <th>Self_Employed</th>\n",
       "      <th>ApplicantIncome</th>\n",
       "      <th>CoapplicantIncome</th>\n",
       "      <th>LoanAmount</th>\n",
       "      <th>Loan_Amount_Term</th>\n",
       "      <th>Credit_History</th>\n",
       "      <th>Property_Area</th>\n",
       "      <th>Loan_Status</th>\n",
       "    </tr>\n",
       "  </thead>\n",
       "  <tbody>\n",
       "    <tr>\n",
       "      <th>0</th>\n",
       "      <td>LP001002</td>\n",
       "      <td>Male</td>\n",
       "      <td>No</td>\n",
       "      <td>0</td>\n",
       "      <td>Graduate</td>\n",
       "      <td>No</td>\n",
       "      <td>5849</td>\n",
       "      <td>0.0</td>\n",
       "      <td>NaN</td>\n",
       "      <td>360.0</td>\n",
       "      <td>1.0</td>\n",
       "      <td>Urban</td>\n",
       "      <td>Y</td>\n",
       "    </tr>\n",
       "    <tr>\n",
       "      <th>1</th>\n",
       "      <td>LP001003</td>\n",
       "      <td>Male</td>\n",
       "      <td>Yes</td>\n",
       "      <td>1</td>\n",
       "      <td>Graduate</td>\n",
       "      <td>No</td>\n",
       "      <td>4583</td>\n",
       "      <td>1508.0</td>\n",
       "      <td>128.0</td>\n",
       "      <td>360.0</td>\n",
       "      <td>1.0</td>\n",
       "      <td>Rural</td>\n",
       "      <td>N</td>\n",
       "    </tr>\n",
       "    <tr>\n",
       "      <th>2</th>\n",
       "      <td>LP001005</td>\n",
       "      <td>Male</td>\n",
       "      <td>Yes</td>\n",
       "      <td>0</td>\n",
       "      <td>Graduate</td>\n",
       "      <td>Yes</td>\n",
       "      <td>3000</td>\n",
       "      <td>0.0</td>\n",
       "      <td>66.0</td>\n",
       "      <td>360.0</td>\n",
       "      <td>1.0</td>\n",
       "      <td>Urban</td>\n",
       "      <td>Y</td>\n",
       "    </tr>\n",
       "    <tr>\n",
       "      <th>3</th>\n",
       "      <td>LP001006</td>\n",
       "      <td>Male</td>\n",
       "      <td>Yes</td>\n",
       "      <td>0</td>\n",
       "      <td>Not Graduate</td>\n",
       "      <td>No</td>\n",
       "      <td>2583</td>\n",
       "      <td>2358.0</td>\n",
       "      <td>120.0</td>\n",
       "      <td>360.0</td>\n",
       "      <td>1.0</td>\n",
       "      <td>Urban</td>\n",
       "      <td>Y</td>\n",
       "    </tr>\n",
       "    <tr>\n",
       "      <th>4</th>\n",
       "      <td>LP001008</td>\n",
       "      <td>Male</td>\n",
       "      <td>No</td>\n",
       "      <td>0</td>\n",
       "      <td>Graduate</td>\n",
       "      <td>No</td>\n",
       "      <td>6000</td>\n",
       "      <td>0.0</td>\n",
       "      <td>141.0</td>\n",
       "      <td>360.0</td>\n",
       "      <td>1.0</td>\n",
       "      <td>Urban</td>\n",
       "      <td>Y</td>\n",
       "    </tr>\n",
       "  </tbody>\n",
       "</table>\n",
       "</div>"
      ],
      "text/plain": [
       "    Loan_ID Gender Married Dependents     Education Self_Employed  \\\n",
       "0  LP001002   Male      No          0      Graduate            No   \n",
       "1  LP001003   Male     Yes          1      Graduate            No   \n",
       "2  LP001005   Male     Yes          0      Graduate           Yes   \n",
       "3  LP001006   Male     Yes          0  Not Graduate            No   \n",
       "4  LP001008   Male      No          0      Graduate            No   \n",
       "\n",
       "   ApplicantIncome  CoapplicantIncome  LoanAmount  Loan_Amount_Term  \\\n",
       "0             5849                0.0         NaN             360.0   \n",
       "1             4583             1508.0       128.0             360.0   \n",
       "2             3000                0.0        66.0             360.0   \n",
       "3             2583             2358.0       120.0             360.0   \n",
       "4             6000                0.0       141.0             360.0   \n",
       "\n",
       "   Credit_History Property_Area Loan_Status  \n",
       "0             1.0         Urban           Y  \n",
       "1             1.0         Rural           N  \n",
       "2             1.0         Urban           Y  \n",
       "3             1.0         Urban           Y  \n",
       "4             1.0         Urban           Y  "
      ]
     },
     "execution_count": 3,
     "metadata": {},
     "output_type": "execute_result"
    }
   ],
   "source": [
    "df.head()"
   ]
  },
  {
   "cell_type": "code",
   "execution_count": 4,
   "id": "cba47391",
   "metadata": {},
   "outputs": [
    {
     "data": {
      "text/plain": [
       "Index(['Loan_ID', 'Gender', 'Married', 'Dependents', 'Education',\n",
       "       'Self_Employed', 'ApplicantIncome', 'CoapplicantIncome', 'LoanAmount',\n",
       "       'Loan_Amount_Term', 'Credit_History', 'Property_Area', 'Loan_Status'],\n",
       "      dtype='object')"
      ]
     },
     "execution_count": 4,
     "metadata": {},
     "output_type": "execute_result"
    }
   ],
   "source": [
    "df.columns"
   ]
  },
  {
   "cell_type": "markdown",
   "id": "eee67cc4",
   "metadata": {},
   "source": [
    "Independent Variables:\n",
    "\n",
    "- Loan_ID\n",
    "\n",
    "- Gender\n",
    "\n",
    "- Married\n",
    "\n",
    "- Dependents\n",
    "\n",
    "- Education\n",
    "\n",
    "- Self_Employed\n",
    "\n",
    "- ApplicantIncome\n",
    "\n",
    "- CoapplicantIncome\n",
    "\n",
    "- Loan_Amount\n",
    "\n",
    "- Loan_Amount_Term\n",
    "\n",
    "- Credit History\n",
    "\n",
    "- Property_Area\n",
    "\n",
    "Dependent Variable (Target Variable):\n",
    "\n",
    "- Loan_Status\n",
    "\n",
    "You have to build a model that can predict whether the loan of the applicant will be approved or not on the basis of the details provided in the dataset. "
   ]
  },
  {
   "cell_type": "markdown",
   "id": "8eae4da6",
   "metadata": {},
   "source": [
    "# 2.Checking basic details"
   ]
  },
  {
   "cell_type": "code",
   "execution_count": 5,
   "id": "12f55aa6",
   "metadata": {},
   "outputs": [],
   "source": [
    "df.drop(['Loan_ID'],axis=1,inplace=True)"
   ]
  },
  {
   "cell_type": "code",
   "execution_count": 6,
   "id": "d08eda55",
   "metadata": {},
   "outputs": [
    {
     "name": "stdout",
     "output_type": "stream",
     "text": [
      "<class 'pandas.core.frame.DataFrame'>\n",
      "RangeIndex: 614 entries, 0 to 613\n",
      "Data columns (total 12 columns):\n",
      " #   Column             Non-Null Count  Dtype  \n",
      "---  ------             --------------  -----  \n",
      " 0   Gender             601 non-null    object \n",
      " 1   Married            611 non-null    object \n",
      " 2   Dependents         599 non-null    object \n",
      " 3   Education          614 non-null    object \n",
      " 4   Self_Employed      582 non-null    object \n",
      " 5   ApplicantIncome    614 non-null    int64  \n",
      " 6   CoapplicantIncome  614 non-null    float64\n",
      " 7   LoanAmount         592 non-null    float64\n",
      " 8   Loan_Amount_Term   600 non-null    float64\n",
      " 9   Credit_History     564 non-null    float64\n",
      " 10  Property_Area      614 non-null    object \n",
      " 11  Loan_Status        614 non-null    object \n",
      "dtypes: float64(4), int64(1), object(7)\n",
      "memory usage: 57.7+ KB\n"
     ]
    }
   ],
   "source": [
    "df.info()"
   ]
  },
  {
   "cell_type": "code",
   "execution_count": 7,
   "id": "6302d6dd",
   "metadata": {},
   "outputs": [
    {
     "data": {
      "text/html": [
       "<div>\n",
       "<style scoped>\n",
       "    .dataframe tbody tr th:only-of-type {\n",
       "        vertical-align: middle;\n",
       "    }\n",
       "\n",
       "    .dataframe tbody tr th {\n",
       "        vertical-align: top;\n",
       "    }\n",
       "\n",
       "    .dataframe thead th {\n",
       "        text-align: right;\n",
       "    }\n",
       "</style>\n",
       "<table border=\"1\" class=\"dataframe\">\n",
       "  <thead>\n",
       "    <tr style=\"text-align: right;\">\n",
       "      <th></th>\n",
       "      <th>ApplicantIncome</th>\n",
       "      <th>CoapplicantIncome</th>\n",
       "      <th>LoanAmount</th>\n",
       "      <th>Loan_Amount_Term</th>\n",
       "      <th>Credit_History</th>\n",
       "    </tr>\n",
       "  </thead>\n",
       "  <tbody>\n",
       "    <tr>\n",
       "      <th>count</th>\n",
       "      <td>614.000000</td>\n",
       "      <td>614.000000</td>\n",
       "      <td>592.000000</td>\n",
       "      <td>600.00000</td>\n",
       "      <td>564.000000</td>\n",
       "    </tr>\n",
       "    <tr>\n",
       "      <th>mean</th>\n",
       "      <td>5403.459283</td>\n",
       "      <td>1621.245798</td>\n",
       "      <td>146.412162</td>\n",
       "      <td>342.00000</td>\n",
       "      <td>0.842199</td>\n",
       "    </tr>\n",
       "    <tr>\n",
       "      <th>std</th>\n",
       "      <td>6109.041673</td>\n",
       "      <td>2926.248369</td>\n",
       "      <td>85.587325</td>\n",
       "      <td>65.12041</td>\n",
       "      <td>0.364878</td>\n",
       "    </tr>\n",
       "    <tr>\n",
       "      <th>min</th>\n",
       "      <td>150.000000</td>\n",
       "      <td>0.000000</td>\n",
       "      <td>9.000000</td>\n",
       "      <td>12.00000</td>\n",
       "      <td>0.000000</td>\n",
       "    </tr>\n",
       "    <tr>\n",
       "      <th>25%</th>\n",
       "      <td>2877.500000</td>\n",
       "      <td>0.000000</td>\n",
       "      <td>100.000000</td>\n",
       "      <td>360.00000</td>\n",
       "      <td>1.000000</td>\n",
       "    </tr>\n",
       "    <tr>\n",
       "      <th>50%</th>\n",
       "      <td>3812.500000</td>\n",
       "      <td>1188.500000</td>\n",
       "      <td>128.000000</td>\n",
       "      <td>360.00000</td>\n",
       "      <td>1.000000</td>\n",
       "    </tr>\n",
       "    <tr>\n",
       "      <th>75%</th>\n",
       "      <td>5795.000000</td>\n",
       "      <td>2297.250000</td>\n",
       "      <td>168.000000</td>\n",
       "      <td>360.00000</td>\n",
       "      <td>1.000000</td>\n",
       "    </tr>\n",
       "    <tr>\n",
       "      <th>max</th>\n",
       "      <td>81000.000000</td>\n",
       "      <td>41667.000000</td>\n",
       "      <td>700.000000</td>\n",
       "      <td>480.00000</td>\n",
       "      <td>1.000000</td>\n",
       "    </tr>\n",
       "  </tbody>\n",
       "</table>\n",
       "</div>"
      ],
      "text/plain": [
       "       ApplicantIncome  CoapplicantIncome  LoanAmount  Loan_Amount_Term  \\\n",
       "count       614.000000         614.000000  592.000000         600.00000   \n",
       "mean       5403.459283        1621.245798  146.412162         342.00000   \n",
       "std        6109.041673        2926.248369   85.587325          65.12041   \n",
       "min         150.000000           0.000000    9.000000          12.00000   \n",
       "25%        2877.500000           0.000000  100.000000         360.00000   \n",
       "50%        3812.500000        1188.500000  128.000000         360.00000   \n",
       "75%        5795.000000        2297.250000  168.000000         360.00000   \n",
       "max       81000.000000       41667.000000  700.000000         480.00000   \n",
       "\n",
       "       Credit_History  \n",
       "count      564.000000  \n",
       "mean         0.842199  \n",
       "std          0.364878  \n",
       "min          0.000000  \n",
       "25%          1.000000  \n",
       "50%          1.000000  \n",
       "75%          1.000000  \n",
       "max          1.000000  "
      ]
     },
     "execution_count": 7,
     "metadata": {},
     "output_type": "execute_result"
    }
   ],
   "source": [
    "df.describe()"
   ]
  },
  {
   "cell_type": "code",
   "execution_count": 8,
   "id": "8a2f33b6",
   "metadata": {},
   "outputs": [
    {
     "data": {
      "text/plain": [
       "(614, 12)"
      ]
     },
     "execution_count": 8,
     "metadata": {},
     "output_type": "execute_result"
    }
   ],
   "source": [
    "df.shape"
   ]
  },
  {
   "cell_type": "code",
   "execution_count": 9,
   "id": "243fcb6b",
   "metadata": {},
   "outputs": [
    {
     "name": "stdout",
     "output_type": "stream",
     "text": [
      "Gender               13\n",
      "Married               3\n",
      "Dependents           15\n",
      "Education             0\n",
      "Self_Employed        32\n",
      "ApplicantIncome       0\n",
      "CoapplicantIncome     0\n",
      "LoanAmount           22\n",
      "Loan_Amount_Term     14\n",
      "Credit_History       50\n",
      "Property_Area         0\n",
      "Loan_Status           0\n",
      "dtype: int64\n"
     ]
    }
   ],
   "source": [
    "print(df.isnull().sum())"
   ]
  },
  {
   "cell_type": "markdown",
   "id": "12d04d62",
   "metadata": {},
   "source": [
    "Replacing null values with mean and mode values"
   ]
  },
  {
   "cell_type": "code",
   "execution_count": 10,
   "id": "01c57cf9",
   "metadata": {},
   "outputs": [],
   "source": [
    "df['LoanAmount']=df['LoanAmount'].fillna(df['LoanAmount'].mean())\n",
    "df['Loan_Amount_Term']=df['Loan_Amount_Term'].fillna(df['Loan_Amount_Term'].mean())\n",
    "df['Credit_History']=df['Credit_History'].fillna(df['Credit_History'].mean())\n",
    "#Filling Null Values\n",
    "df['Dependents'].fillna(value=df['Dependents'].mode()[0],inplace=True)\n",
    "df['Gender'].fillna(value=df['Gender'].mode()[0],inplace=True)\n",
    "df['Married'].fillna(value=df['Married'].mode()[0],inplace=True)\n",
    "df['Self_Employed'].fillna(value=df['Self_Employed'].mode()[0],inplace=True)"
   ]
  },
  {
   "cell_type": "code",
   "execution_count": 11,
   "id": "a22abed6",
   "metadata": {},
   "outputs": [
    {
     "name": "stdout",
     "output_type": "stream",
     "text": [
      "Gender               0\n",
      "Married              0\n",
      "Dependents           0\n",
      "Education            0\n",
      "Self_Employed        0\n",
      "ApplicantIncome      0\n",
      "CoapplicantIncome    0\n",
      "LoanAmount           0\n",
      "Loan_Amount_Term     0\n",
      "Credit_History       0\n",
      "Property_Area        0\n",
      "Loan_Status          0\n",
      "dtype: int64\n"
     ]
    }
   ],
   "source": [
    "print(df.isnull().sum())"
   ]
  },
  {
   "cell_type": "markdown",
   "id": "7527184f",
   "metadata": {},
   "source": [
    "# 3.EDA"
   ]
  },
  {
   "cell_type": "code",
   "execution_count": 12,
   "id": "4e91d5fb",
   "metadata": {},
   "outputs": [
    {
     "data": {
      "text/plain": [
       "<AxesSubplot:xlabel='Self_Employed', ylabel='count'>"
      ]
     },
     "execution_count": 12,
     "metadata": {},
     "output_type": "execute_result"
    },
    {
     "data": {
      "image/png": "[encoded data removed]",
      "text/plain": [
       "<Figure size 432x288 with 1 Axes>"
      ]
     },
     "metadata": {
      "needs_background": "light"
     },
     "output_type": "display_data"
    }
   ],
   "source": [
    "sns.countplot(x='Self_Employed',hue='Loan_Status',data=df)"
   ]
  },
  {
   "cell_type": "markdown",
   "id": "06cf2f89",
   "metadata": {},
   "source": [
    "most of the data we have from not employed person Here we see if the person is not self employed there is high chances of approval"
   ]
  },
  {
   "cell_type": "code",
   "execution_count": 13,
   "id": "7177a2a9",
   "metadata": {},
   "outputs": [
    {
     "data": {
      "text/plain": [
       "<AxesSubplot:xlabel='Loan_Amount_Term', ylabel='count'>"
      ]
     },
     "execution_count": 13,
     "metadata": {},
     "output_type": "execute_result"
    },
    {
     "data": {
      "image/png": "[encoded data removed]",
      "text/plain": [
       "<Figure size 432x288 with 1 Axes>"
      ]
     },
     "metadata": {
      "needs_background": "light"
     },
     "output_type": "display_data"
    }
   ],
   "source": [
    "sns.countplot(x='Loan_Amount_Term',hue='Loan_Status',data=df)"
   ]
  },
  {
   "cell_type": "markdown",
   "id": "288d1baf",
   "metadata": {},
   "source": [
    "Most of the people who applied for loan asked for 360 months of term more half are getting approved People those are taking loan for 480 months, most of them are getting approval"
   ]
  },
  {
   "cell_type": "code",
   "execution_count": 14,
   "id": "eb61319a",
   "metadata": {},
   "outputs": [
    {
     "data": {
      "text/plain": [
       "<AxesSubplot:xlabel='Credit_History', ylabel='count'>"
      ]
     },
     "execution_count": 14,
     "metadata": {},
     "output_type": "execute_result"
    },
    {
     "data": {
      "image/png": "[encoded data removed]",
      "text/plain": [
       "<Figure size 432x288 with 1 Axes>"
      ]
     },
     "metadata": {
      "needs_background": "light"
     },
     "output_type": "display_data"
    }
   ],
   "source": [
    "sns.countplot(x='Credit_History',hue='Loan_Status',data=df)"
   ]
  },
  {
   "cell_type": "code",
   "execution_count": 15,
   "id": "65f09036",
   "metadata": {},
   "outputs": [
    {
     "data": {
      "text/plain": [
       "<AxesSubplot:xlabel='Dependents', ylabel='count'>"
      ]
     },
     "execution_count": 15,
     "metadata": {},
     "output_type": "execute_result"
    },
    {
     "data": {
      "image/png": "[encoded data removed]",
      "text/plain": [
       "<Figure size 432x288 with 1 Axes>"
      ]
     },
     "metadata": {
      "needs_background": "light"
     },
     "output_type": "display_data"
    }
   ],
   "source": [
    "sns.countplot(x='Dependents',hue='Loan_Status',data=df)"
   ]
  },
  {
   "cell_type": "markdown",
   "id": "db49dbd7",
   "metadata": {},
   "source": [
    "We can notice people those are not having dependents are getting chances of Loan approval"
   ]
  },
  {
   "cell_type": "code",
   "execution_count": 16,
   "id": "a65ba88b",
   "metadata": {},
   "outputs": [
    {
     "data": {
      "text/plain": [
       "<AxesSubplot:xlabel='Property_Area', ylabel='count'>"
      ]
     },
     "execution_count": 16,
     "metadata": {},
     "output_type": "execute_result"
    },
    {
     "data": {
      "image/png": "[encoded data removed]",
      "text/plain": [
       "<Figure size 432x288 with 1 Axes>"
      ]
     },
     "metadata": {
      "needs_background": "light"
     },
     "output_type": "display_data"
    }
   ],
   "source": [
    "sns.countplot(x='Property_Area',hue='Loan_Status',data=df)"
   ]
  },
  {
   "cell_type": "markdown",
   "id": "c8af5d3c",
   "metadata": {},
   "source": [
    "Those people are in semiurban area high chance of getting loan"
   ]
  },
  {
   "cell_type": "code",
   "execution_count": 17,
   "id": "0909235e",
   "metadata": {},
   "outputs": [
    {
     "data": {
      "text/plain": [
       "<AxesSubplot:xlabel='Loan_Status', ylabel='ApplicantIncome'>"
      ]
     },
     "execution_count": 17,
     "metadata": {},
     "output_type": "execute_result"
    },
    {
     "data": {
      "image/png": "[encoded data removed]",
      "text/plain": [
       "<Figure size 432x288 with 1 Axes>"
      ]
     },
     "metadata": {
      "needs_background": "light"
     },
     "output_type": "display_data"
    }
   ],
   "source": [
    "sns.barplot(y='ApplicantIncome',x='Loan_Status',data=df)"
   ]
  },
  {
   "cell_type": "code",
   "execution_count": 18,
   "id": "8d31d3fd",
   "metadata": {},
   "outputs": [
    {
     "data": {
      "text/plain": [
       "<AxesSubplot:xlabel='Loan_Status', ylabel='CoapplicantIncome'>"
      ]
     },
     "execution_count": 18,
     "metadata": {},
     "output_type": "execute_result"
    },
    {
     "data": {
      "image/png": "[encoded data removed]",
      "text/plain": [
       "<Figure size 432x288 with 1 Axes>"
      ]
     },
     "metadata": {
      "needs_background": "light"
     },
     "output_type": "display_data"
    }
   ],
   "source": [
    "sns.barplot(y='CoapplicantIncome',x='Loan_Status',data=df)"
   ]
  },
  {
   "cell_type": "code",
   "execution_count": 19,
   "id": "dbc8cde6",
   "metadata": {},
   "outputs": [
    {
     "data": {
      "text/plain": [
       "<AxesSubplot:>"
      ]
     },
     "execution_count": 19,
     "metadata": {},
     "output_type": "execute_result"
    },
    {
     "data": {
      "image/png": "[encoded data removed]",
      "text/plain": [
       "<Figure size 432x288 with 1 Axes>"
      ]
     },
     "metadata": {
      "needs_background": "light"
     },
     "output_type": "display_data"
    }
   ],
   "source": [
    "df['LoanAmount'].hist(bins=50)"
   ]
  },
  {
   "cell_type": "markdown",
   "id": "0e12c5b1",
   "metadata": {},
   "source": [
    "### correlation"
   ]
  },
  {
   "cell_type": "code",
   "execution_count": 20,
   "id": "40a506db",
   "metadata": {},
   "outputs": [
    {
     "data": {
      "text/html": [
       "<div>\n",
       "<style scoped>\n",
       "    .dataframe tbody tr th:only-of-type {\n",
       "        vertical-align: middle;\n",
       "    }\n",
       "\n",
       "    .dataframe tbody tr th {\n",
       "        vertical-align: top;\n",
       "    }\n",
       "\n",
       "    .dataframe thead th {\n",
       "        text-align: right;\n",
       "    }\n",
       "</style>\n",
       "<table border=\"1\" class=\"dataframe\">\n",
       "  <thead>\n",
       "    <tr style=\"text-align: right;\">\n",
       "      <th></th>\n",
       "      <th>Gender</th>\n",
       "      <th>Married</th>\n",
       "      <th>Dependents</th>\n",
       "      <th>Education</th>\n",
       "      <th>Self_Employed</th>\n",
       "      <th>ApplicantIncome</th>\n",
       "      <th>CoapplicantIncome</th>\n",
       "      <th>LoanAmount</th>\n",
       "      <th>Loan_Amount_Term</th>\n",
       "      <th>Credit_History</th>\n",
       "      <th>Property_Area</th>\n",
       "      <th>Loan_Status</th>\n",
       "    </tr>\n",
       "  </thead>\n",
       "  <tbody>\n",
       "    <tr>\n",
       "      <th>Gender</th>\n",
       "      <td>1.000000</td>\n",
       "      <td>-0.364569</td>\n",
       "      <td>-0.172914</td>\n",
       "      <td>-0.045364</td>\n",
       "      <td>0.000525</td>\n",
       "      <td>0.005853</td>\n",
       "      <td>-0.172693</td>\n",
       "      <td>0.030239</td>\n",
       "      <td>-0.031319</td>\n",
       "      <td>0.031121</td>\n",
       "      <td>0.082045</td>\n",
       "      <td>0.017987</td>\n",
       "    </tr>\n",
       "    <tr>\n",
       "      <th>Married</th>\n",
       "      <td>-0.364569</td>\n",
       "      <td>1.000000</td>\n",
       "      <td>0.334216</td>\n",
       "      <td>0.012304</td>\n",
       "      <td>0.004489</td>\n",
       "      <td>-0.003163</td>\n",
       "      <td>0.233224</td>\n",
       "      <td>0.003281</td>\n",
       "      <td>0.028283</td>\n",
       "      <td>0.031057</td>\n",
       "      <td>0.003071</td>\n",
       "      <td>-0.091478</td>\n",
       "    </tr>\n",
       "    <tr>\n",
       "      <th>Dependents</th>\n",
       "      <td>-0.172914</td>\n",
       "      <td>0.334216</td>\n",
       "      <td>1.000000</td>\n",
       "      <td>0.055752</td>\n",
       "      <td>0.056798</td>\n",
       "      <td>0.079403</td>\n",
       "      <td>-0.007295</td>\n",
       "      <td>0.053924</td>\n",
       "      <td>0.056024</td>\n",
       "      <td>0.000862</td>\n",
       "      <td>0.001781</td>\n",
       "      <td>-0.010118</td>\n",
       "    </tr>\n",
       "    <tr>\n",
       "      <th>Education</th>\n",
       "      <td>-0.045364</td>\n",
       "      <td>0.012304</td>\n",
       "      <td>0.055752</td>\n",
       "      <td>1.000000</td>\n",
       "      <td>-0.010383</td>\n",
       "      <td>0.073543</td>\n",
       "      <td>0.084689</td>\n",
       "      <td>-0.072995</td>\n",
       "      <td>0.078645</td>\n",
       "      <td>0.069148</td>\n",
       "      <td>-0.003592</td>\n",
       "      <td>0.085884</td>\n",
       "    </tr>\n",
       "    <tr>\n",
       "      <th>Self_Employed</th>\n",
       "      <td>0.000525</td>\n",
       "      <td>0.004489</td>\n",
       "      <td>0.056798</td>\n",
       "      <td>-0.010383</td>\n",
       "      <td>1.000000</td>\n",
       "      <td>0.005906</td>\n",
       "      <td>-0.080509</td>\n",
       "      <td>-0.008925</td>\n",
       "      <td>0.008366</td>\n",
       "      <td>0.005927</td>\n",
       "      <td>0.021996</td>\n",
       "      <td>0.003700</td>\n",
       "    </tr>\n",
       "    <tr>\n",
       "      <th>ApplicantIncome</th>\n",
       "      <td>0.005853</td>\n",
       "      <td>-0.003163</td>\n",
       "      <td>0.079403</td>\n",
       "      <td>0.073543</td>\n",
       "      <td>0.005906</td>\n",
       "      <td>1.000000</td>\n",
       "      <td>0.378095</td>\n",
       "      <td>0.365594</td>\n",
       "      <td>-0.013189</td>\n",
       "      <td>0.036718</td>\n",
       "      <td>0.078590</td>\n",
       "      <td>-0.018675</td>\n",
       "    </tr>\n",
       "    <tr>\n",
       "      <th>CoapplicantIncome</th>\n",
       "      <td>-0.172693</td>\n",
       "      <td>0.233224</td>\n",
       "      <td>-0.007295</td>\n",
       "      <td>0.084689</td>\n",
       "      <td>-0.080509</td>\n",
       "      <td>0.378095</td>\n",
       "      <td>1.000000</td>\n",
       "      <td>0.203701</td>\n",
       "      <td>0.060137</td>\n",
       "      <td>0.051218</td>\n",
       "      <td>0.018346</td>\n",
       "      <td>-0.084419</td>\n",
       "    </tr>\n",
       "    <tr>\n",
       "      <th>LoanAmount</th>\n",
       "      <td>0.030239</td>\n",
       "      <td>0.003281</td>\n",
       "      <td>0.053924</td>\n",
       "      <td>-0.072995</td>\n",
       "      <td>-0.008925</td>\n",
       "      <td>0.365594</td>\n",
       "      <td>0.203701</td>\n",
       "      <td>1.000000</td>\n",
       "      <td>0.020456</td>\n",
       "      <td>0.045040</td>\n",
       "      <td>0.114591</td>\n",
       "      <td>0.040160</td>\n",
       "    </tr>\n",
       "    <tr>\n",
       "      <th>Loan_Amount_Term</th>\n",
       "      <td>-0.031319</td>\n",
       "      <td>0.028283</td>\n",
       "      <td>0.056024</td>\n",
       "      <td>0.078645</td>\n",
       "      <td>0.008366</td>\n",
       "      <td>-0.013189</td>\n",
       "      <td>0.060137</td>\n",
       "      <td>0.020456</td>\n",
       "      <td>1.000000</td>\n",
       "      <td>0.075963</td>\n",
       "      <td>-0.066941</td>\n",
       "      <td>0.085191</td>\n",
       "    </tr>\n",
       "    <tr>\n",
       "      <th>Credit_History</th>\n",
       "      <td>0.031121</td>\n",
       "      <td>0.031057</td>\n",
       "      <td>0.000862</td>\n",
       "      <td>0.069148</td>\n",
       "      <td>0.005927</td>\n",
       "      <td>0.036718</td>\n",
       "      <td>0.051218</td>\n",
       "      <td>0.045040</td>\n",
       "      <td>0.075963</td>\n",
       "      <td>1.000000</td>\n",
       "      <td>-0.058622</td>\n",
       "      <td>0.280181</td>\n",
       "    </tr>\n",
       "    <tr>\n",
       "      <th>Property_Area</th>\n",
       "      <td>0.082045</td>\n",
       "      <td>0.003071</td>\n",
       "      <td>0.001781</td>\n",
       "      <td>-0.003592</td>\n",
       "      <td>0.021996</td>\n",
       "      <td>0.078590</td>\n",
       "      <td>0.018346</td>\n",
       "      <td>0.114591</td>\n",
       "      <td>-0.066941</td>\n",
       "      <td>-0.058622</td>\n",
       "      <td>1.000000</td>\n",
       "      <td>-0.103253</td>\n",
       "    </tr>\n",
       "    <tr>\n",
       "      <th>Loan_Status</th>\n",
       "      <td>0.017987</td>\n",
       "      <td>-0.091478</td>\n",
       "      <td>-0.010118</td>\n",
       "      <td>0.085884</td>\n",
       "      <td>0.003700</td>\n",
       "      <td>-0.018675</td>\n",
       "      <td>-0.084419</td>\n",
       "      <td>0.040160</td>\n",
       "      <td>0.085191</td>\n",
       "      <td>0.280181</td>\n",
       "      <td>-0.103253</td>\n",
       "      <td>1.000000</td>\n",
       "    </tr>\n",
       "  </tbody>\n",
       "</table>\n",
       "</div>"
      ],
      "text/plain": [
       "                     Gender   Married  Dependents  Education  Self_Employed  \\\n",
       "Gender             1.000000 -0.364569   -0.172914  -0.045364       0.000525   \n",
       "Married           -0.364569  1.000000    0.334216   0.012304       0.004489   \n",
       "Dependents        -0.172914  0.334216    1.000000   0.055752       0.056798   \n",
       "Education         -0.045364  0.012304    0.055752   1.000000      -0.010383   \n",
       "Self_Employed      0.000525  0.004489    0.056798  -0.010383       1.000000   \n",
       "ApplicantIncome    0.005853 -0.003163    0.079403   0.073543       0.005906   \n",
       "CoapplicantIncome -0.172693  0.233224   -0.007295   0.084689      -0.080509   \n",
       "LoanAmount         0.030239  0.003281    0.053924  -0.072995      -0.008925   \n",
       "Loan_Amount_Term  -0.031319  0.028283    0.056024   0.078645       0.008366   \n",
       "Credit_History     0.031121  0.031057    0.000862   0.069148       0.005927   \n",
       "Property_Area      0.082045  0.003071    0.001781  -0.003592       0.021996   \n",
       "Loan_Status        0.017987 -0.091478   -0.010118   0.085884       0.003700   \n",
       "\n",
       "                   ApplicantIncome  CoapplicantIncome  LoanAmount  \\\n",
       "Gender                    0.005853          -0.172693    0.030239   \n",
       "Married                  -0.003163           0.233224    0.003281   \n",
       "Dependents                0.079403          -0.007295    0.053924   \n",
       "Education                 0.073543           0.084689   -0.072995   \n",
       "Self_Employed             0.005906          -0.080509   -0.008925   \n",
       "ApplicantIncome           1.000000           0.378095    0.365594   \n",
       "CoapplicantIncome         0.378095           1.000000    0.203701   \n",
       "LoanAmount                0.365594           0.203701    1.000000   \n",
       "Loan_Amount_Term         -0.013189           0.060137    0.020456   \n",
       "Credit_History            0.036718           0.051218    0.045040   \n",
       "Property_Area             0.078590           0.018346    0.114591   \n",
       "Loan_Status              -0.018675          -0.084419    0.040160   \n",
       "\n",
       "                   Loan_Amount_Term  Credit_History  Property_Area  \\\n",
       "Gender                    -0.031319        0.031121       0.082045   \n",
       "Married                    0.028283        0.031057       0.003071   \n",
       "Dependents                 0.056024        0.000862       0.001781   \n",
       "Education                  0.078645        0.069148      -0.003592   \n",
       "Self_Employed              0.008366        0.005927       0.021996   \n",
       "ApplicantIncome           -0.013189        0.036718       0.078590   \n",
       "CoapplicantIncome          0.060137        0.051218       0.018346   \n",
       "LoanAmount                 0.020456        0.045040       0.114591   \n",
       "Loan_Amount_Term           1.000000        0.075963      -0.066941   \n",
       "Credit_History             0.075963        1.000000      -0.058622   \n",
       "Property_Area             -0.066941       -0.058622       1.000000   \n",
       "Loan_Status                0.085191        0.280181      -0.103253   \n",
       "\n",
       "                   Loan_Status  \n",
       "Gender                0.017987  \n",
       "Married              -0.091478  \n",
       "Dependents           -0.010118  \n",
       "Education             0.085884  \n",
       "Self_Employed         0.003700  \n",
       "ApplicantIncome      -0.018675  \n",
       "CoapplicantIncome    -0.084419  \n",
       "LoanAmount            0.040160  \n",
       "Loan_Amount_Term      0.085191  \n",
       "Credit_History        0.280181  \n",
       "Property_Area        -0.103253  \n",
       "Loan_Status           1.000000  "
      ]
     },
     "execution_count": 20,
     "metadata": {},
     "output_type": "execute_result"
    }
   ],
   "source": [
    "df_corr=df.apply(lambda x : pd.factorize(x)[0]).corr(method='pearson', min_periods=1)\n",
    "df_corr"
   ]
  },
  {
   "cell_type": "code",
   "execution_count": 21,
   "id": "55912b1f",
   "metadata": {},
   "outputs": [
    {
     "data": {
      "text/plain": [
       "<AxesSubplot:>"
      ]
     },
     "execution_count": 21,
     "metadata": {},
     "output_type": "execute_result"
    },
    {
     "data": {
      "image/png": "[encoded data removed]",
      "text/plain": [
       "<Figure size 1728x720 with 2 Axes>"
      ]
     },
     "metadata": {
      "needs_background": "light"
     },
     "output_type": "display_data"
    }
   ],
   "source": [
    "plt.figure(figsize=[24,10])\n",
    "sns.heatmap(df_corr,annot=True)"
   ]
  },
  {
   "cell_type": "code",
   "execution_count": 22,
   "id": "882b9692",
   "metadata": {},
   "outputs": [
    {
     "data": {
      "text/plain": [
       "array([[<AxesSubplot:title={'center':'ApplicantIncome'}>,\n",
       "        <AxesSubplot:title={'center':'CoapplicantIncome'}>,\n",
       "        <AxesSubplot:title={'center':'LoanAmount'}>,\n",
       "        <AxesSubplot:title={'center':'Loan_Amount_Term'}>],\n",
       "       [<AxesSubplot:title={'center':'Credit_History'}>, <AxesSubplot:>,\n",
       "        <AxesSubplot:>, <AxesSubplot:>],\n",
       "       [<AxesSubplot:>, <AxesSubplot:>, <AxesSubplot:>, <AxesSubplot:>]],\n",
       "      dtype=object)"
      ]
     },
     "execution_count": 22,
     "metadata": {},
     "output_type": "execute_result"
    },
    {
     "data": {
      "image/png": "[encoded data removed]",
      "text/plain": [
       "<Figure size 1440x720 with 12 Axes>"
      ]
     },
     "metadata": {
      "needs_background": "light"
     },
     "output_type": "display_data"
    }
   ],
   "source": [
    "df.hist(figsize=(20,10), grid=False, layout=(3, 4), bins = 30)"
   ]
  },
  {
   "cell_type": "markdown",
   "id": "797778a0",
   "metadata": {},
   "source": [
    "# 4. Data pre-processing"
   ]
  },
  {
   "cell_type": "markdown",
   "id": "66eadf28",
   "metadata": {},
   "source": [
    "### Encoding"
   ]
  },
  {
   "cell_type": "code",
   "execution_count": 23,
   "id": "62088c33",
   "metadata": {},
   "outputs": [],
   "source": [
    "from sklearn.preprocessing import LabelEncoder\n",
    "LE=LabelEncoder()\n",
    "df['Education']=LE.fit_transform(df['Education'])\n",
    "df['Gender']=LE.fit_transform(df['Gender'])\n",
    "df['Married']=LE.fit_transform(df['Married'])\n",
    "df['Dependents']=LE.fit_transform(df['Dependents'])\n",
    "df['Self_Employed']=LE.fit_transform(df['Self_Employed'])\n",
    "df['Property_Area']=LE.fit_transform(df['Property_Area'])\n",
    "df['Loan_Status']=LE.fit_transform(df['Loan_Status'])"
   ]
  },
  {
   "cell_type": "code",
   "execution_count": 24,
   "id": "4292e3e0",
   "metadata": {},
   "outputs": [
    {
     "data": {
      "image/png": "[encoded data removed]",
      "text/plain": [
       "<Figure size 720x432 with 1 Axes>"
      ]
     },
     "metadata": {
      "needs_background": "light"
     },
     "output_type": "display_data"
    },
    {
     "data": {
      "image/png": "[encoded data removed]",
      "text/plain": [
       "<Figure size 720x432 with 1 Axes>"
      ]
     },
     "metadata": {
      "needs_background": "light"
     },
     "output_type": "display_data"
    },
    {
     "data": {
      "image/png": "[encoded data removed]",
      "text/plain": [
       "<Figure size 720x432 with 1 Axes>"
      ]
     },
     "metadata": {
      "needs_background": "light"
     },
     "output_type": "display_data"
    },
    {
     "data": {
      "image/png": "[encoded data removed]",
      "text/plain": [
       "<Figure size 720x432 with 1 Axes>"
      ]
     },
     "metadata": {
      "needs_background": "light"
     },
     "output_type": "display_data"
    },
    {
     "data": {
      "image/png": "[encoded data removed]",
      "text/plain": [
       "<Figure size 720x432 with 1 Axes>"
      ]
     },
     "metadata": {
      "needs_background": "light"
     },
     "output_type": "display_data"
    },
    {
     "data": {
      "image/png": "[encoded data removed]",
      "text/plain": [
       "<Figure size 720x432 with 1 Axes>"
      ]
     },
     "metadata": {
      "needs_background": "light"
     },
     "output_type": "display_data"
    },
    {
     "data": {
      "image/png": "[encoded data removed]",
      "text/plain": [
       "<Figure size 720x432 with 1 Axes>"
      ]
     },
     "metadata": {
      "needs_background": "light"
     },
     "output_type": "display_data"
    },
    {
     "data": {
      "image/png": "[encoded data removed]",
      "text/plain": [
       "<Figure size 720x432 with 1 Axes>"
      ]
     },
     "metadata": {
      "needs_background": "light"
     },
     "output_type": "display_data"
    },
    {
     "data": {
      "image/png": "[encoded data removed]",
      "text/plain": [
       "<Figure size 720x432 with 1 Axes>"
      ]
     },
     "metadata": {
      "needs_background": "light"
     },
     "output_type": "display_data"
    },
    {
     "data": {
      "image/png": "[encoded data removed]",
      "text/plain": [
       "<Figure size 720x432 with 1 Axes>"
      ]
     },
     "metadata": {
      "needs_background": "light"
     },
     "output_type": "display_data"
    },
    {
     "data": {
      "image/png": "[encoded data removed]",
      "text/plain": [
       "<Figure size 720x432 with 1 Axes>"
      ]
     },
     "metadata": {
      "needs_background": "light"
     },
     "output_type": "display_data"
    },
    {
     "data": {
      "image/png": "[encoded data removed]",
      "text/plain": [
       "<Figure size 720x432 with 1 Axes>"
      ]
     },
     "metadata": {
      "needs_background": "light"
     },
     "output_type": "display_data"
    }
   ],
   "source": [
    "#kde plot to check distribution of data\n",
    "for i in df.columns:\n",
    "    plt.figure(figsize=[10,6])\n",
    "    sns.kdeplot(df[i])"
   ]
  },
  {
   "cell_type": "markdown",
   "id": "1e45a4a4",
   "metadata": {},
   "source": [
    "#### skewness and outlier removal"
   ]
  },
  {
   "cell_type": "code",
   "execution_count": 25,
   "id": "154c82d3",
   "metadata": {},
   "outputs": [
    {
     "data": {
      "text/plain": [
       "Gender              -1.648795\n",
       "Married             -0.644850\n",
       "Dependents           1.015551\n",
       "Education            1.367622\n",
       "Self_Employed        2.159796\n",
       "ApplicantIncome      6.539513\n",
       "CoapplicantIncome    7.491531\n",
       "LoanAmount           2.726601\n",
       "Loan_Amount_Term    -2.389680\n",
       "Credit_History      -1.963600\n",
       "Property_Area       -0.066196\n",
       "Loan_Status         -0.809998\n",
       "dtype: float64"
      ]
     },
     "execution_count": 25,
     "metadata": {},
     "output_type": "execute_result"
    }
   ],
   "source": [
    "df.skew()"
   ]
  },
  {
   "cell_type": "code",
   "execution_count": 26,
   "id": "e9ee76a0",
   "metadata": {},
   "outputs": [
    {
     "data": {
      "image/png": "[encoded data removed]",
      "text/plain": [
       "<Figure size 432x576 with 1 Axes>"
      ]
     },
     "metadata": {
      "needs_background": "light"
     },
     "output_type": "display_data"
    },
    {
     "data": {
      "image/png": "[encoded data removed]",
      "text/plain": [
       "<Figure size 432x576 with 1 Axes>"
      ]
     },
     "metadata": {
      "needs_background": "light"
     },
     "output_type": "display_data"
    },
    {
     "data": {
      "image/png": "[encoded data removed]",
      "text/plain": [
       "<Figure size 432x576 with 1 Axes>"
      ]
     },
     "metadata": {
      "needs_background": "light"
     },
     "output_type": "display_data"
    },
    {
     "data": {
      "image/png": "[encoded data removed]",
      "text/plain": [
       "<Figure size 432x576 with 1 Axes>"
      ]
     },
     "metadata": {
      "needs_background": "light"
     },
     "output_type": "display_data"
    },
    {
     "data": {
      "image/png": "[encoded data removed]",
      "text/plain": [
       "<Figure size 432x576 with 1 Axes>"
      ]
     },
     "metadata": {
      "needs_background": "light"
     },
     "output_type": "display_data"
    },
    {
     "data": {
      "image/png": "[encoded data removed]",
      "text/plain": [
       "<Figure size 432x576 with 1 Axes>"
      ]
     },
     "metadata": {
      "needs_background": "light"
     },
     "output_type": "display_data"
    },
    {
     "data": {
      "image/png": "[encoded data removed]",
      "text/plain": [
       "<Figure size 432x576 with 1 Axes>"
      ]
     },
     "metadata": {
      "needs_background": "light"
     },
     "output_type": "display_data"
    },
    {
     "data": {
      "image/png": "[encoded data removed]",
      "text/plain": [
       "<Figure size 432x576 with 1 Axes>"
      ]
     },
     "metadata": {
      "needs_background": "light"
     },
     "output_type": "display_data"
    },
    {
     "data": {
      "image/png": "[encoded data removed]",
      "text/plain": [
       "<Figure size 432x576 with 1 Axes>"
      ]
     },
     "metadata": {
      "needs_background": "light"
     },
     "output_type": "display_data"
    },
    {
     "data": {
      "image/png": "[encoded data removed]",
      "text/plain": [
       "<Figure size 432x576 with 1 Axes>"
      ]
     },
     "metadata": {
      "needs_background": "light"
     },
     "output_type": "display_data"
    },
    {
     "data": {
      "image/png": "[encoded data removed]",
      "text/plain": [
       "<Figure size 432x576 with 1 Axes>"
      ]
     },
     "metadata": {
      "needs_background": "light"
     },
     "output_type": "display_data"
    },
    {
     "data": {
      "image/png": "[encoded data removed]",
      "text/plain": [
       "<Figure size 432x576 with 1 Axes>"
      ]
     },
     "metadata": {
      "needs_background": "light"
     },
     "output_type": "display_data"
    }
   ],
   "source": [
    "#checking the outliers\n",
    "for column in df.columns:\n",
    "    plt.figure(figsize=(6,8))\n",
    "    sns.boxplot(x=df[column])\n",
    "    plt.xticks(rotation=45)\n",
    "    plt.show()"
   ]
  },
  {
   "cell_type": "markdown",
   "id": "8f55c3b9",
   "metadata": {},
   "source": [
    "#### Removing outliers\n",
    "Z Score_Technique"
   ]
  },
  {
   "cell_type": "code",
   "execution_count": 27,
   "id": "9bf18086",
   "metadata": {},
   "outputs": [
    {
     "data": {
      "text/plain": [
       "(614, 12)"
      ]
     },
     "execution_count": 27,
     "metadata": {},
     "output_type": "execute_result"
    }
   ],
   "source": [
    "#import libray\n",
    "from scipy.stats import zscore\n",
    "import numpy as np\n",
    "\n",
    "z=np.abs(zscore(df))\n",
    "z.shape"
   ]
  },
  {
   "cell_type": "code",
   "execution_count": 28,
   "id": "9a37cd09",
   "metadata": {},
   "outputs": [
    {
     "name": "stdout",
     "output_type": "stream",
     "text": [
      "(array([  9,  14,  68,  94, 126, 130, 133, 155, 155, 171, 171, 177, 177,\n",
      "       183, 185, 242, 262, 278, 308, 313, 333, 333, 369, 402, 409, 417,\n",
      "       432, 443, 487, 495, 497, 506, 523, 525, 546, 561, 575, 581, 585,\n",
      "       600, 604], dtype=int64), array([6, 8, 8, 8, 5, 7, 8, 5, 7, 5, 7, 6, 7, 5, 5, 8, 8, 7, 7, 8, 5, 7,\n",
      "       7, 6, 5, 6, 7, 5, 7, 8, 8, 7, 7, 7, 8, 7, 8, 6, 8, 6, 7],\n",
      "      dtype=int64))\n"
     ]
    }
   ],
   "source": [
    "threshold=3\n",
    "print(np.where(z>3))"
   ]
  },
  {
   "cell_type": "code",
   "execution_count": 29,
   "id": "bc803a7c",
   "metadata": {},
   "outputs": [
    {
     "name": "stdout",
     "output_type": "stream",
     "text": [
      "(614, 12)\n",
      "(577, 12)\n"
     ]
    }
   ],
   "source": [
    "df_new=df[(z<3).all(axis=1)]\n",
    "print(df.shape)\n",
    "print(df_new.shape)"
   ]
  },
  {
   "cell_type": "markdown",
   "id": "5df5fb0f",
   "metadata": {},
   "source": [
    "### percentage data loss"
   ]
  },
  {
   "cell_type": "code",
   "execution_count": 30,
   "id": "0ba7f850",
   "metadata": {},
   "outputs": [
    {
     "name": "stdout",
     "output_type": "stream",
     "text": [
      "6.026058631921824\n"
     ]
    }
   ],
   "source": [
    "loss_percent=(614-577)/614*100\n",
    "print(loss_percent)"
   ]
  },
  {
   "cell_type": "markdown",
   "id": "b19f64da",
   "metadata": {},
   "source": [
    "Removing outlier using z score is  14% data loss occurs"
   ]
  },
  {
   "cell_type": "markdown",
   "id": "f6da4372",
   "metadata": {},
   "source": [
    "#### removing skewness"
   ]
  },
  {
   "cell_type": "code",
   "execution_count": 31,
   "id": "ff7d7fa4",
   "metadata": {},
   "outputs": [
    {
     "data": {
      "text/html": [
       "<div>\n",
       "<style scoped>\n",
       "    .dataframe tbody tr th:only-of-type {\n",
       "        vertical-align: middle;\n",
       "    }\n",
       "\n",
       "    .dataframe tbody tr th {\n",
       "        vertical-align: top;\n",
       "    }\n",
       "\n",
       "    .dataframe thead th {\n",
       "        text-align: right;\n",
       "    }\n",
       "</style>\n",
       "<table border=\"1\" class=\"dataframe\">\n",
       "  <thead>\n",
       "    <tr style=\"text-align: right;\">\n",
       "      <th></th>\n",
       "      <th>Gender</th>\n",
       "      <th>Married</th>\n",
       "      <th>Dependents</th>\n",
       "      <th>Education</th>\n",
       "      <th>Self_Employed</th>\n",
       "      <th>ApplicantIncome</th>\n",
       "      <th>CoapplicantIncome</th>\n",
       "      <th>LoanAmount</th>\n",
       "      <th>Loan_Amount_Term</th>\n",
       "      <th>Credit_History</th>\n",
       "      <th>Property_Area</th>\n",
       "      <th>Loan_Status</th>\n",
       "    </tr>\n",
       "  </thead>\n",
       "  <tbody>\n",
       "    <tr>\n",
       "      <th>0</th>\n",
       "      <td>1.0</td>\n",
       "      <td>0.0</td>\n",
       "      <td>0.000000</td>\n",
       "      <td>0.0</td>\n",
       "      <td>0.0</td>\n",
       "      <td>76.478755</td>\n",
       "      <td>0.000000</td>\n",
       "      <td>12.100089</td>\n",
       "      <td>18.973666</td>\n",
       "      <td>1.0</td>\n",
       "      <td>1.414214</td>\n",
       "      <td>1.0</td>\n",
       "    </tr>\n",
       "    <tr>\n",
       "      <th>1</th>\n",
       "      <td>1.0</td>\n",
       "      <td>1.0</td>\n",
       "      <td>1.000000</td>\n",
       "      <td>0.0</td>\n",
       "      <td>0.0</td>\n",
       "      <td>67.697858</td>\n",
       "      <td>38.832976</td>\n",
       "      <td>11.313708</td>\n",
       "      <td>18.973666</td>\n",
       "      <td>1.0</td>\n",
       "      <td>0.000000</td>\n",
       "      <td>0.0</td>\n",
       "    </tr>\n",
       "    <tr>\n",
       "      <th>2</th>\n",
       "      <td>1.0</td>\n",
       "      <td>1.0</td>\n",
       "      <td>0.000000</td>\n",
       "      <td>0.0</td>\n",
       "      <td>1.0</td>\n",
       "      <td>54.772256</td>\n",
       "      <td>0.000000</td>\n",
       "      <td>8.124038</td>\n",
       "      <td>18.973666</td>\n",
       "      <td>1.0</td>\n",
       "      <td>1.414214</td>\n",
       "      <td>1.0</td>\n",
       "    </tr>\n",
       "    <tr>\n",
       "      <th>3</th>\n",
       "      <td>1.0</td>\n",
       "      <td>1.0</td>\n",
       "      <td>0.000000</td>\n",
       "      <td>1.0</td>\n",
       "      <td>0.0</td>\n",
       "      <td>50.823223</td>\n",
       "      <td>48.559242</td>\n",
       "      <td>10.954451</td>\n",
       "      <td>18.973666</td>\n",
       "      <td>1.0</td>\n",
       "      <td>1.414214</td>\n",
       "      <td>1.0</td>\n",
       "    </tr>\n",
       "    <tr>\n",
       "      <th>4</th>\n",
       "      <td>1.0</td>\n",
       "      <td>0.0</td>\n",
       "      <td>0.000000</td>\n",
       "      <td>0.0</td>\n",
       "      <td>0.0</td>\n",
       "      <td>77.459667</td>\n",
       "      <td>0.000000</td>\n",
       "      <td>11.874342</td>\n",
       "      <td>18.973666</td>\n",
       "      <td>1.0</td>\n",
       "      <td>1.414214</td>\n",
       "      <td>1.0</td>\n",
       "    </tr>\n",
       "    <tr>\n",
       "      <th>5</th>\n",
       "      <td>1.0</td>\n",
       "      <td>1.0</td>\n",
       "      <td>1.414214</td>\n",
       "      <td>0.0</td>\n",
       "      <td>1.0</td>\n",
       "      <td>73.600272</td>\n",
       "      <td>64.776539</td>\n",
       "      <td>16.340135</td>\n",
       "      <td>18.973666</td>\n",
       "      <td>1.0</td>\n",
       "      <td>1.414214</td>\n",
       "      <td>1.0</td>\n",
       "    </tr>\n",
       "    <tr>\n",
       "      <th>6</th>\n",
       "      <td>1.0</td>\n",
       "      <td>1.0</td>\n",
       "      <td>0.000000</td>\n",
       "      <td>1.0</td>\n",
       "      <td>0.0</td>\n",
       "      <td>48.301139</td>\n",
       "      <td>38.935845</td>\n",
       "      <td>9.746794</td>\n",
       "      <td>18.973666</td>\n",
       "      <td>1.0</td>\n",
       "      <td>1.414214</td>\n",
       "      <td>1.0</td>\n",
       "    </tr>\n",
       "    <tr>\n",
       "      <th>7</th>\n",
       "      <td>1.0</td>\n",
       "      <td>1.0</td>\n",
       "      <td>1.732051</td>\n",
       "      <td>0.0</td>\n",
       "      <td>0.0</td>\n",
       "      <td>55.099909</td>\n",
       "      <td>50.039984</td>\n",
       "      <td>12.569805</td>\n",
       "      <td>18.973666</td>\n",
       "      <td>0.0</td>\n",
       "      <td>1.000000</td>\n",
       "      <td>0.0</td>\n",
       "    </tr>\n",
       "    <tr>\n",
       "      <th>8</th>\n",
       "      <td>1.0</td>\n",
       "      <td>1.0</td>\n",
       "      <td>1.414214</td>\n",
       "      <td>0.0</td>\n",
       "      <td>0.0</td>\n",
       "      <td>63.292970</td>\n",
       "      <td>39.064050</td>\n",
       "      <td>12.961481</td>\n",
       "      <td>18.973666</td>\n",
       "      <td>1.0</td>\n",
       "      <td>1.414214</td>\n",
       "      <td>1.0</td>\n",
       "    </tr>\n",
       "    <tr>\n",
       "      <th>9</th>\n",
       "      <td>1.0</td>\n",
       "      <td>1.0</td>\n",
       "      <td>1.000000</td>\n",
       "      <td>0.0</td>\n",
       "      <td>0.0</td>\n",
       "      <td>113.318136</td>\n",
       "      <td>104.728220</td>\n",
       "      <td>18.681542</td>\n",
       "      <td>18.973666</td>\n",
       "      <td>1.0</td>\n",
       "      <td>1.000000</td>\n",
       "      <td>0.0</td>\n",
       "    </tr>\n",
       "    <tr>\n",
       "      <th>10</th>\n",
       "      <td>1.0</td>\n",
       "      <td>1.0</td>\n",
       "      <td>1.414214</td>\n",
       "      <td>0.0</td>\n",
       "      <td>0.0</td>\n",
       "      <td>56.568542</td>\n",
       "      <td>26.457513</td>\n",
       "      <td>8.366600</td>\n",
       "      <td>18.973666</td>\n",
       "      <td>1.0</td>\n",
       "      <td>1.414214</td>\n",
       "      <td>1.0</td>\n",
       "    </tr>\n",
       "    <tr>\n",
       "      <th>11</th>\n",
       "      <td>1.0</td>\n",
       "      <td>1.0</td>\n",
       "      <td>1.414214</td>\n",
       "      <td>0.0</td>\n",
       "      <td>0.0</td>\n",
       "      <td>50.000000</td>\n",
       "      <td>42.895221</td>\n",
       "      <td>10.440307</td>\n",
       "      <td>18.973666</td>\n",
       "      <td>1.0</td>\n",
       "      <td>1.414214</td>\n",
       "      <td>1.0</td>\n",
       "    </tr>\n",
       "    <tr>\n",
       "      <th>12</th>\n",
       "      <td>1.0</td>\n",
       "      <td>1.0</td>\n",
       "      <td>1.414214</td>\n",
       "      <td>0.0</td>\n",
       "      <td>0.0</td>\n",
       "      <td>55.434646</td>\n",
       "      <td>90.033327</td>\n",
       "      <td>14.142136</td>\n",
       "      <td>18.973666</td>\n",
       "      <td>1.0</td>\n",
       "      <td>1.414214</td>\n",
       "      <td>1.0</td>\n",
       "    </tr>\n",
       "    <tr>\n",
       "      <th>13</th>\n",
       "      <td>1.0</td>\n",
       "      <td>0.0</td>\n",
       "      <td>0.000000</td>\n",
       "      <td>0.0</td>\n",
       "      <td>0.0</td>\n",
       "      <td>43.046487</td>\n",
       "      <td>53.291650</td>\n",
       "      <td>10.677078</td>\n",
       "      <td>18.973666</td>\n",
       "      <td>1.0</td>\n",
       "      <td>0.000000</td>\n",
       "      <td>0.0</td>\n",
       "    </tr>\n",
       "    <tr>\n",
       "      <th>14</th>\n",
       "      <td>1.0</td>\n",
       "      <td>1.0</td>\n",
       "      <td>1.414214</td>\n",
       "      <td>0.0</td>\n",
       "      <td>0.0</td>\n",
       "      <td>36.041643</td>\n",
       "      <td>32.954514</td>\n",
       "      <td>4.123106</td>\n",
       "      <td>10.954451</td>\n",
       "      <td>1.0</td>\n",
       "      <td>1.414214</td>\n",
       "      <td>1.0</td>\n",
       "    </tr>\n",
       "  </tbody>\n",
       "</table>\n",
       "</div>"
      ],
      "text/plain": [
       "    Gender  Married  Dependents  Education  Self_Employed  ApplicantIncome  \\\n",
       "0      1.0      0.0    0.000000        0.0            0.0        76.478755   \n",
       "1      1.0      1.0    1.000000        0.0            0.0        67.697858   \n",
       "2      1.0      1.0    0.000000        0.0            1.0        54.772256   \n",
       "3      1.0      1.0    0.000000        1.0            0.0        50.823223   \n",
       "4      1.0      0.0    0.000000        0.0            0.0        77.459667   \n",
       "5      1.0      1.0    1.414214        0.0            1.0        73.600272   \n",
       "6      1.0      1.0    0.000000        1.0            0.0        48.301139   \n",
       "7      1.0      1.0    1.732051        0.0            0.0        55.099909   \n",
       "8      1.0      1.0    1.414214        0.0            0.0        63.292970   \n",
       "9      1.0      1.0    1.000000        0.0            0.0       113.318136   \n",
       "10     1.0      1.0    1.414214        0.0            0.0        56.568542   \n",
       "11     1.0      1.0    1.414214        0.0            0.0        50.000000   \n",
       "12     1.0      1.0    1.414214        0.0            0.0        55.434646   \n",
       "13     1.0      0.0    0.000000        0.0            0.0        43.046487   \n",
       "14     1.0      1.0    1.414214        0.0            0.0        36.041643   \n",
       "\n",
       "    CoapplicantIncome  LoanAmount  Loan_Amount_Term  Credit_History  \\\n",
       "0            0.000000   12.100089         18.973666             1.0   \n",
       "1           38.832976   11.313708         18.973666             1.0   \n",
       "2            0.000000    8.124038         18.973666             1.0   \n",
       "3           48.559242   10.954451         18.973666             1.0   \n",
       "4            0.000000   11.874342         18.973666             1.0   \n",
       "5           64.776539   16.340135         18.973666             1.0   \n",
       "6           38.935845    9.746794         18.973666             1.0   \n",
       "7           50.039984   12.569805         18.973666             0.0   \n",
       "8           39.064050   12.961481         18.973666             1.0   \n",
       "9          104.728220   18.681542         18.973666             1.0   \n",
       "10          26.457513    8.366600         18.973666             1.0   \n",
       "11          42.895221   10.440307         18.973666             1.0   \n",
       "12          90.033327   14.142136         18.973666             1.0   \n",
       "13          53.291650   10.677078         18.973666             1.0   \n",
       "14          32.954514    4.123106         10.954451             1.0   \n",
       "\n",
       "    Property_Area  Loan_Status  \n",
       "0        1.414214          1.0  \n",
       "1        0.000000          0.0  \n",
       "2        1.414214          1.0  \n",
       "3        1.414214          1.0  \n",
       "4        1.414214          1.0  \n",
       "5        1.414214          1.0  \n",
       "6        1.414214          1.0  \n",
       "7        1.000000          0.0  \n",
       "8        1.414214          1.0  \n",
       "9        1.000000          0.0  \n",
       "10       1.414214          1.0  \n",
       "11       1.414214          1.0  \n",
       "12       1.414214          1.0  \n",
       "13       0.000000          0.0  \n",
       "14       1.414214          1.0  "
      ]
     },
     "execution_count": 31,
     "metadata": {},
     "output_type": "execute_result"
    }
   ],
   "source": [
    "df1 = np.sqrt(df)\n",
    "\n",
    "df1.head(15)"
   ]
  },
  {
   "cell_type": "code",
   "execution_count": 32,
   "id": "b628dd3b",
   "metadata": {},
   "outputs": [
    {
     "data": {
      "text/plain": [
       "Gender              -1.648795\n",
       "Married             -0.644850\n",
       "Dependents           0.567810\n",
       "Education            1.367622\n",
       "Self_Employed        2.159796\n",
       "ApplicantIncome      2.967286\n",
       "CoapplicantIncome    0.979561\n",
       "LoanAmount           1.314162\n",
       "Loan_Amount_Term    -3.175195\n",
       "Credit_History      -2.005377\n",
       "Property_Area       -0.617610\n",
       "Loan_Status         -0.809998\n",
       "dtype: float64"
      ]
     },
     "execution_count": 32,
     "metadata": {},
     "output_type": "execute_result"
    }
   ],
   "source": [
    "df1.skew()\n"
   ]
  },
  {
   "cell_type": "code",
   "execution_count": 33,
   "id": "c5578644",
   "metadata": {},
   "outputs": [],
   "source": [
    "df=df1"
   ]
  },
  {
   "cell_type": "markdown",
   "id": "165b112c",
   "metadata": {},
   "source": [
    "# 5.Feature Engineering"
   ]
  },
  {
   "cell_type": "code",
   "execution_count": 34,
   "id": "5175adcd",
   "metadata": {},
   "outputs": [],
   "source": [
    "y = df['Loan_Status']\n",
    "x = df.drop('Loan_Status', axis = 1)"
   ]
  },
  {
   "cell_type": "code",
   "execution_count": 35,
   "id": "b736595f",
   "metadata": {},
   "outputs": [],
   "source": [
    "from sklearn.model_selection import train_test_split\n",
    "from sklearn.linear_model import LogisticRegression\n",
    "from sklearn.metrics import classification_report\n",
    "x_train, x_test, y_train, y_test = train_test_split(x,y,test_size=0.2,random_state=47)"
   ]
  },
  {
   "cell_type": "markdown",
   "id": "c107e972",
   "metadata": {},
   "source": [
    "#### data imbalence"
   ]
  },
  {
   "cell_type": "code",
   "execution_count": 36,
   "id": "1bc46e30",
   "metadata": {},
   "outputs": [
    {
     "name": "stdout",
     "output_type": "stream",
     "text": [
      "1.0    422\n",
      "0.0    192\n",
      "Name: Loan_Status, dtype: int64\n"
     ]
    }
   ],
   "source": [
    "print(df['Loan_Status'].value_counts())"
   ]
  },
  {
   "cell_type": "code",
   "execution_count": 37,
   "id": "bbe816dd",
   "metadata": {},
   "outputs": [
    {
     "data": {
      "text/plain": [
       "0.0    336\n",
       "1.0    336\n",
       "Name: Loan_Status, dtype: int64"
      ]
     },
     "execution_count": 37,
     "metadata": {},
     "output_type": "execute_result"
    }
   ],
   "source": [
    "from sklearn.utils import resample\n",
    "X=pd.concat([x_train,y_train],axis=1)\n",
    "label0=X[X.Loan_Status==0]\n",
    "label1=X[X.Loan_Status==1]\n",
    "label_unsampled=resample(label0,replace=True,n_samples=len(label1),random_state=27)\n",
    "unsampled=pd.concat([label1,label_unsampled])\n",
    "unsampled.Loan_Status.value_counts()"
   ]
  },
  {
   "cell_type": "code",
   "execution_count": 38,
   "id": "1e78d2fa",
   "metadata": {},
   "outputs": [],
   "source": [
    "x_train= unsampled.drop(columns='Loan_Status')\n",
    "y_train= unsampled['Loan_Status']"
   ]
  },
  {
   "cell_type": "markdown",
   "id": "8e6ca718",
   "metadata": {},
   "source": [
    "### scaling"
   ]
  },
  {
   "cell_type": "code",
   "execution_count": 39,
   "id": "a2e69dc4",
   "metadata": {},
   "outputs": [],
   "source": [
    "# data normalization with sklearn\n",
    "from sklearn.preprocessing import MinMaxScaler\n",
    "\n",
    "# fit scaler on training data\n",
    "norm = MinMaxScaler().fit(x_train)\n",
    "\n",
    "# transform training data\n",
    "x_train_norm = norm.transform(x_train)\n",
    "\n",
    "# transform testing dataabs\n",
    "x_test_norm = norm.transform(x_test)"
   ]
  },
  {
   "cell_type": "code",
   "execution_count": 40,
   "id": "3c3b75b8",
   "metadata": {},
   "outputs": [],
   "source": [
    "x_test=pd.DataFrame(x_test_norm)\n",
    "x_train=pd.DataFrame(x_train_norm)"
   ]
  },
  {
   "cell_type": "markdown",
   "id": "84c0882e",
   "metadata": {},
   "source": [
    "# 6.Model construction"
   ]
  },
  {
   "cell_type": "code",
   "execution_count": 41,
   "id": "d38d024b",
   "metadata": {},
   "outputs": [],
   "source": [
    "from sklearn.linear_model import LogisticRegression\n",
    "from sklearn.model_selection import cross_val_score\n",
    "from sklearn.tree import DecisionTreeClassifier\n",
    "from sklearn.neighbors import KNeighborsClassifier\n",
    "from sklearn.metrics  import mean_squared_error\n",
    "from sklearn.metrics  import accuracy_score\n",
    "from sklearn.metrics  import confusion_matrix,classification_report\n",
    "import warnings\n",
    "warnings.filterwarnings('ignore')\n"
   ]
  },
  {
   "cell_type": "markdown",
   "id": "c6865d71",
   "metadata": {},
   "source": [
    "## RandomForestClassifier"
   ]
  },
  {
   "cell_type": "code",
   "execution_count": 42,
   "id": "99f2ab42",
   "metadata": {},
   "outputs": [
    {
     "name": "stdout",
     "output_type": "stream",
     "text": [
      "Training accuracy : 1.0\n",
      "testing accuracy : 0.7804878048780488\n",
      "              precision    recall  f1-score   support\n",
      "\n",
      "         0.0       0.71      0.46      0.56        37\n",
      "         1.0       0.80      0.92      0.85        86\n",
      "\n",
      "    accuracy                           0.78       123\n",
      "   macro avg       0.75      0.69      0.71       123\n",
      "weighted avg       0.77      0.78      0.76       123\n",
      "\n",
      "[[17 20]\n",
      " [ 7 79]]\n",
      "accuracy_score : 0.7804878048780488\n"
     ]
    }
   ],
   "source": [
    "from sklearn.ensemble import RandomForestClassifier\n",
    "# creating the model\n",
    "model_rfc=RandomForestClassifier(n_estimators=400)\n",
    "# feeding the training set into the model\n",
    "model_rfc.fit(x_train,y_train)\n",
    "# predicting the results for the test set\n",
    "y_pred=model_rfc.predict(x_test)\n",
    "# calculating the training and testing accuracies\n",
    "print('Training accuracy :',model_rfc.score(x_train,y_train))\n",
    "print('testing accuracy :',model_rfc.score(x_test,y_test))\n",
    "# classification report\n",
    "print(classification_report(y_test,y_pred))\n",
    "#confusion matrix\n",
    "print(confusion_matrix(y_test,y_pred))\n",
    "print('accuracy_score :' ,accuracy_score(y_test,y_pred))\n"
   ]
  },
  {
   "cell_type": "markdown",
   "id": "17361623",
   "metadata": {},
   "source": [
    "#### cross validation score"
   ]
  },
  {
   "cell_type": "code",
   "execution_count": 43,
   "id": "c598ed86",
   "metadata": {},
   "outputs": [
    {
     "name": "stdout",
     "output_type": "stream",
     "text": [
      "cv score : 0.785193019566367\n"
     ]
    }
   ],
   "source": [
    "from sklearn.model_selection import GridSearchCV, cross_val_score\n",
    "rfc_cv=cross_val_score(model_rfc,x,y,scoring='accuracy', cv = 10).mean()\n",
    "print('cv score :',rfc_cv)\n"
   ]
  },
  {
   "cell_type": "markdown",
   "id": "135d5fba",
   "metadata": {},
   "source": [
    "## SVC"
   ]
  },
  {
   "cell_type": "code",
   "execution_count": 44,
   "id": "0f5facef",
   "metadata": {},
   "outputs": [
    {
     "name": "stdout",
     "output_type": "stream",
     "text": [
      "Training accuracy : 0.7693452380952381\n",
      "Testing accuracy : 0.7723577235772358\n",
      "              precision    recall  f1-score   support\n",
      "\n",
      "         0.0       0.67      0.49      0.56        37\n",
      "         1.0       0.80      0.90      0.85        86\n",
      "\n",
      "    accuracy                           0.77       123\n",
      "   macro avg       0.73      0.69      0.70       123\n",
      "weighted avg       0.76      0.77      0.76       123\n",
      "\n",
      "[[18 19]\n",
      " [ 9 77]]\n",
      "accuracy_score : 0.7723577235772358\n"
     ]
    }
   ],
   "source": [
    "from sklearn.svm import SVC\n",
    "# creating the model\n",
    "model_svc = SVC()\n",
    "# feeding the training set into the model\n",
    "model_svc.fit(x_train, y_train)\n",
    "\n",
    "# predicting the results for the test set\n",
    "y_pred = model_svc.predict(x_test)\n",
    "\n",
    "# calculating the training and testing accuracies\n",
    "print(\"Training accuracy :\", model_svc.score(x_train, y_train))\n",
    "print(\"Testing accuracy :\", model_svc.score(x_test, y_test))\n",
    "# classification report\n",
    "print(classification_report(y_test, y_pred))\n",
    "\n",
    "# confusion matrix\n",
    "print(confusion_matrix(y_test, y_pred))\n",
    "print('accuracy_score :' ,accuracy_score(y_test,y_pred))"
   ]
  },
  {
   "cell_type": "markdown",
   "id": "6ade1fa8",
   "metadata": {},
   "source": [
    "#### cross validation score"
   ]
  },
  {
   "cell_type": "code",
   "execution_count": 45,
   "id": "7665efca",
   "metadata": {},
   "outputs": [
    {
     "name": "stdout",
     "output_type": "stream",
     "text": [
      "cv score : 0.6873083024854575\n"
     ]
    }
   ],
   "source": [
    "from sklearn.model_selection import GridSearchCV, cross_val_score\n",
    "svc_cv=cross_val_score(model_svc,x,y,scoring='accuracy', cv = 10).mean()\n",
    "print('cv score :',svc_cv)\n"
   ]
  },
  {
   "cell_type": "markdown",
   "id": "1b39c08e",
   "metadata": {},
   "source": [
    "## DecisionTreeClassifier"
   ]
  },
  {
   "cell_type": "code",
   "execution_count": 46,
   "id": "4eca9059",
   "metadata": {},
   "outputs": [
    {
     "name": "stdout",
     "output_type": "stream",
     "text": [
      "Training accuracy : 1.0\n",
      "Testing accuracy : 0.7642276422764228\n",
      "              precision    recall  f1-score   support\n",
      "\n",
      "         0.0       0.63      0.51      0.57        37\n",
      "         1.0       0.81      0.87      0.84        86\n",
      "\n",
      "    accuracy                           0.76       123\n",
      "   macro avg       0.72      0.69      0.70       123\n",
      "weighted avg       0.75      0.76      0.76       123\n",
      "\n",
      "[[19 18]\n",
      " [11 75]]\n",
      "accuracy_score : 0.7642276422764228\n"
     ]
    }
   ],
   "source": [
    "from sklearn.tree import DecisionTreeClassifier\n",
    "\n",
    "# creating model\n",
    "model_dt = DecisionTreeClassifier()\n",
    "\n",
    "# feeding the training set into the model\n",
    "model_dt.fit(x_train, y_train)\n",
    "\n",
    "# predicting the results for the test set\n",
    "y_pred = model_dt.predict(x_test)\n",
    "\n",
    "# calculating the training and testing accuracies\n",
    "print(\"Training accuracy :\", model_dt.score(x_train, y_train))\n",
    "print(\"Testing accuracy :\", model_dt.score(x_test, y_test))\n",
    "# classification report\n",
    "print(classification_report(y_test, y_pred))\n",
    "\n",
    "# confusion matrix\n",
    "print(confusion_matrix(y_test, y_pred))\n",
    "print('accuracy_score :' ,accuracy_score(y_test,y_pred))"
   ]
  },
  {
   "cell_type": "markdown",
   "id": "30dd2f33",
   "metadata": {},
   "source": [
    "#### cross validation score"
   ]
  },
  {
   "cell_type": "code",
   "execution_count": 47,
   "id": "4b77ab38",
   "metadata": {},
   "outputs": [
    {
     "data": {
      "text/plain": [
       "0.8601624231782266"
      ]
     },
     "execution_count": 47,
     "metadata": {},
     "output_type": "execute_result"
    }
   ],
   "source": [
    "#Now lets try to do some evaluation for decision tree model using cross validation.\n",
    "\n",
    "dt_cv = cross_val_score(estimator = model_dt, X = x_train, y = y_train, cv = 10)\n",
    "dt_cv.mean()"
   ]
  },
  {
   "cell_type": "markdown",
   "id": "64ca88e2",
   "metadata": {},
   "source": [
    "## GaussianNB"
   ]
  },
  {
   "cell_type": "code",
   "execution_count": 48,
   "id": "ba436660",
   "metadata": {},
   "outputs": [
    {
     "name": "stdout",
     "output_type": "stream",
     "text": [
      "Training accuracy : 0.7202380952380952\n",
      "Testing accuracy : 0.8130081300813008\n",
      "              precision    recall  f1-score   support\n",
      "\n",
      "         0.0       0.94      0.41      0.57        37\n",
      "         1.0       0.79      0.99      0.88        86\n",
      "\n",
      "    accuracy                           0.81       123\n",
      "   macro avg       0.87      0.70      0.72       123\n",
      "weighted avg       0.84      0.81      0.79       123\n",
      "\n",
      "[[15 22]\n",
      " [ 1 85]]\n",
      "accuracy_score : 0.8130081300813008\n"
     ]
    }
   ],
   "source": [
    "from sklearn.naive_bayes import GaussianNB\n",
    "# creating model\n",
    "model_gnb = GaussianNB()\n",
    "\n",
    "# feeding the training set into the model\n",
    "model_gnb.fit(x_train, y_train)\n",
    "\n",
    "# predicting the results for the test set\n",
    "y_pred = model_gnb.predict(x_test)\n",
    "\n",
    "# calculating the training and testing accuracies\n",
    "print(\"Training accuracy :\", model_gnb.score(x_train, y_train))\n",
    "print(\"Testing accuracy :\", model_gnb.score(x_test, y_test))\n",
    "# classification report\n",
    "print(classification_report(y_test, y_pred))\n",
    "\n",
    "# confusion matrix\n",
    "print(confusion_matrix(y_test, y_pred))\n",
    "print('accuracy_score :' ,accuracy_score(y_test,y_pred))"
   ]
  },
  {
   "cell_type": "markdown",
   "id": "51a74e26",
   "metadata": {},
   "source": [
    "#### cross validation score"
   ]
  },
  {
   "cell_type": "code",
   "execution_count": 49,
   "id": "c73f189e",
   "metadata": {},
   "outputs": [
    {
     "data": {
      "text/plain": [
       "0.7173617208077261"
      ]
     },
     "execution_count": 49,
     "metadata": {},
     "output_type": "execute_result"
    }
   ],
   "source": [
    "#Now lets try to do some evaluation for GaussianNB model using cross validation.\n",
    "gnb_cv = cross_val_score(estimator = model_gnb, X = x_train, y = y_train, cv = 10)\n",
    "gnb_cv.mean()"
   ]
  },
  {
   "cell_type": "markdown",
   "id": "ba53e922",
   "metadata": {},
   "source": [
    "## KNeighborsClassifier"
   ]
  },
  {
   "cell_type": "code",
   "execution_count": 50,
   "id": "ad71fafe",
   "metadata": {},
   "outputs": [
    {
     "name": "stdout",
     "output_type": "stream",
     "text": [
      "Training accuracy : 0.8169642857142857\n",
      "Testing accuracy : 0.7154471544715447\n",
      "              precision    recall  f1-score   support\n",
      "\n",
      "         0.0       0.53      0.54      0.53        37\n",
      "         1.0       0.80      0.79      0.80        86\n",
      "\n",
      "    accuracy                           0.72       123\n",
      "   macro avg       0.66      0.67      0.66       123\n",
      "weighted avg       0.72      0.72      0.72       123\n",
      "\n",
      "[[20 17]\n",
      " [18 68]]\n",
      "accuracy_score : 0.7154471544715447\n"
     ]
    }
   ],
   "source": [
    "from sklearn.neighbors import KNeighborsClassifier\n",
    "# creating model\n",
    "model_KNc = KNeighborsClassifier(n_neighbors=7)\n",
    "\n",
    "# feeding the training set into the model\n",
    "model_KNc.fit(x_train, y_train)\n",
    "\n",
    "# predicting the results for the test set\n",
    "y_pred = model_KNc.predict(x_test)\n",
    "\n",
    "# calculating the training and testing accuracies\n",
    "print(\"Training accuracy :\", model_KNc.score(x_train, y_train))\n",
    "print(\"Testing accuracy :\", model_KNc.score(x_test, y_test))\n",
    "# classification report\n",
    "print(classification_report(y_test, y_pred))\n",
    "\n",
    "# confusion matrix\n",
    "print(confusion_matrix(y_test, y_pred))\n",
    "print('accuracy_score :' ,accuracy_score(y_test,y_pred))"
   ]
  },
  {
   "cell_type": "markdown",
   "id": "4dc1ab60",
   "metadata": {},
   "source": [
    "#### cross validation score"
   ]
  },
  {
   "cell_type": "code",
   "execution_count": 51,
   "id": "971f79b1",
   "metadata": {},
   "outputs": [
    {
     "data": {
      "text/plain": [
       "0.6530936012691697"
      ]
     },
     "execution_count": 51,
     "metadata": {},
     "output_type": "execute_result"
    }
   ],
   "source": [
    "knn_cv=cross_val_score(model_KNc,x,y,scoring='accuracy', cv = 10)\n",
    "knn_cv.mean()"
   ]
  },
  {
   "cell_type": "markdown",
   "id": "5ecb0c34",
   "metadata": {},
   "source": [
    "## LogisticRegression"
   ]
  },
  {
   "cell_type": "code",
   "execution_count": 52,
   "id": "95909ec9",
   "metadata": {},
   "outputs": [
    {
     "name": "stdout",
     "output_type": "stream",
     "text": [
      "Training accuracy : 0.7366071428571429\n",
      "testing accuracy : 0.7642276422764228\n",
      "              precision    recall  f1-score   support\n",
      "\n",
      "         0.0       0.65      0.46      0.54        37\n",
      "         1.0       0.79      0.90      0.84        86\n",
      "\n",
      "    accuracy                           0.76       123\n",
      "   macro avg       0.72      0.68      0.69       123\n",
      "weighted avg       0.75      0.76      0.75       123\n",
      "\n",
      "[[17 20]\n",
      " [ 9 77]]\n",
      "accuracy_score : 0.7642276422764228\n"
     ]
    }
   ],
   "source": [
    "# creating the model\n",
    "model_lg=LogisticRegression()\n",
    "# feeding the training set into the model\n",
    "model_lg.fit(x_train,y_train)\n",
    "# predicting the results for the test set\n",
    "y_pred=model_lg.predict(x_test)\n",
    "# calculating the training and testing accuracies\n",
    "print('Training accuracy :',model_lg.score(x_train,y_train))\n",
    "print('testing accuracy :',model_lg.score(x_test,y_test))\n",
    "# classification report\n",
    "print(classification_report(y_test,y_pred))\n",
    "#confusion matrix\n",
    "print(confusion_matrix(y_test,y_pred))\n",
    "print('accuracy_score :' ,accuracy_score(y_test,y_pred))"
   ]
  },
  {
   "cell_type": "markdown",
   "id": "c8cad5f7",
   "metadata": {},
   "source": [
    "#### cross validation score"
   ]
  },
  {
   "cell_type": "code",
   "execution_count": 53,
   "id": "b2d2cda6",
   "metadata": {},
   "outputs": [
    {
     "name": "stdout",
     "output_type": "stream",
     "text": [
      "cv score : 0.8062250916626814\n"
     ]
    }
   ],
   "source": [
    "from sklearn.model_selection import GridSearchCV, cross_val_score\n",
    "lg_cv=cross_val_score(model_lg,x,y,scoring='accuracy', cv = 3).mean()\n",
    "print('cv score :',lg_cv)"
   ]
  },
  {
   "cell_type": "code",
   "execution_count": 54,
   "id": "669bb229",
   "metadata": {},
   "outputs": [
    {
     "name": "stdout",
     "output_type": "stream",
     "text": [
      "MODEL               Accurancy score        C_V Score       Difference\n",
      "LOGISTIC REGG     0.7642276422764228        0.81        -0.042\n",
      "RANDOM FOREST     0.7804878048780488        0.79       -0.005\n",
      "SVC               0.7723577235772358        0.69        0.085\n",
      "DTREE             0.7804878048780488        0.86       -0.096\n",
      "KNeighborsclass   0.7154471544715447        0.65        0.062\n",
      "GaussianNB        0.8130081300813008        0.72       0.096\n"
     ]
    }
   ],
   "source": [
    "print('MODEL',\"             \",'Accurancy score','      ','C_V Score','     ','Difference')\n",
    "print(\"LOGISTIC REGG    \",model_lg.score(x_test, y_test),\"      \",round(lg_cv.mean(),2),\"      \", round(model_lg.score(x_test, y_test)-lg_cv.mean(),3))\n",
    "print(\"RANDOM FOREST    \",model_rfc.score(x_test, y_test),\"      \",round(rfc_cv.mean(),2),\"     \", round(model_rfc.score(x_test, y_test)-rfc_cv.mean(),3))\n",
    "print(\"SVC              \",model_svc.score(x_test, y_test),\"      \",round(svc_cv.mean(),2),\"      \", round(model_svc.score(x_test, y_test)-svc_cv.mean(),3))\n",
    "print(\"DTREE            \",model_rfc.score(x_test, y_test),\"      \",round(dt_cv.mean(),2),\"     \", round(model_dt.score(x_test, y_test)-dt_cv.mean(),3))\n",
    "print('KNeighborsclass  ',model_KNc.score(x_test, y_test),\"      \",round(knn_cv.mean(),2),\"      \",round(model_KNc.score(x_test, y_test)-knn_cv.mean(),3)) \n",
    "print('GaussianNB',\"      \",model_gnb.score(x_test, y_test),\"      \",round(gnb_cv.mean(),2),\"     \",round(model_gnb.score(x_test, y_test)-gnb_cv.mean(),3)) "
   ]
  },
  {
   "cell_type": "markdown",
   "id": "a2fb0dde",
   "metadata": {},
   "source": [
    "The best model accoding to accuracy score- cross validation score is LOGISTIC REGRESSION,RandomForestClassifier,GaussianNB since it is having least difference"
   ]
  },
  {
   "cell_type": "markdown",
   "id": "2e7cba84",
   "metadata": {},
   "source": [
    "# 7.Hyper parameter tuning"
   ]
  },
  {
   "cell_type": "markdown",
   "id": "331a1927",
   "metadata": {},
   "source": [
    "### FINDING BEST random_state"
   ]
  },
  {
   "cell_type": "code",
   "execution_count": 55,
   "id": "3035498e",
   "metadata": {},
   "outputs": [
    {
     "name": "stdout",
     "output_type": "stream",
     "text": [
      "accurancy 0.1611146029750682 random_state 0\n",
      "accurancy 0.1611146029750682 random_state 0\n",
      "accurancy 0.042176870748299455 random_state 1\n",
      "accurancy 0.1611146029750682 random_state 1\n",
      "accurancy -0.05539691604797259 random_state 2\n",
      "accurancy 0.1611146029750682 random_state 2\n",
      "accurancy 0.11294765840220389 random_state 3\n",
      "accurancy 0.1611146029750682 random_state 3\n",
      "accurancy 0.050625817298711295 random_state 4\n",
      "accurancy 0.1611146029750682 random_state 4\n",
      "accurancy 0.10104669887278572 random_state 5\n",
      "accurancy 0.1611146029750682 random_state 5\n",
      "accurancy 0.13204508856682762 random_state 6\n",
      "accurancy 0.1611146029750682 random_state 6\n",
      "accurancy 0.18278301886792458 random_state 7\n",
      "accurancy 0.18278301886792458 random_state 7\n",
      "accurancy 0.30000000000000004 random_state 8\n",
      "accurancy 0.30000000000000004 random_state 8\n",
      "accurancy 0.09118598895869023 random_state 9\n",
      "accurancy 0.30000000000000004 random_state 9\n",
      "accurancy 0.036045758687675344 random_state 10\n",
      "accurancy 0.30000000000000004 random_state 10\n",
      "accurancy 0.2142857142857142 random_state 11\n",
      "accurancy 0.30000000000000004 random_state 11\n",
      "accurancy 0.2130503144654089 random_state 12\n",
      "accurancy 0.30000000000000004 random_state 12\n",
      "accurancy 0.10252536153680114 random_state 13\n",
      "accurancy 0.30000000000000004 random_state 13\n",
      "accurancy 0.16570147580795824 random_state 14\n",
      "accurancy 0.30000000000000004 random_state 14\n",
      "accurancy 0.12323232323232336 random_state 15\n",
      "accurancy 0.30000000000000004 random_state 15\n",
      "accurancy 0.07939473192602309 random_state 16\n",
      "accurancy 0.30000000000000004 random_state 16\n",
      "accurancy 0.15229357798165155 random_state 17\n",
      "accurancy 0.30000000000000004 random_state 17\n",
      "accurancy 0.06171383647798745 random_state 18\n",
      "accurancy 0.30000000000000004 random_state 18\n",
      "accurancy 0.2735849056603775 random_state 19\n",
      "accurancy 0.30000000000000004 random_state 19\n",
      "accurancy -0.010283687943262398 random_state 20\n",
      "accurancy 0.30000000000000004 random_state 20\n",
      "accurancy 0.1630434782608694 random_state 21\n",
      "accurancy 0.30000000000000004 random_state 21\n",
      "accurancy 0.21508664627930685 random_state 22\n",
      "accurancy 0.30000000000000004 random_state 22\n",
      "accurancy 0.038358608385370196 random_state 23\n",
      "accurancy 0.30000000000000004 random_state 23\n",
      "accurancy 0.20224476581049 random_state 24\n",
      "accurancy 0.30000000000000004 random_state 24\n",
      "accurancy 0.10204081632653073 random_state 25\n",
      "accurancy 0.30000000000000004 random_state 25\n",
      "accurancy 0.17591973244147152 random_state 26\n",
      "accurancy 0.30000000000000004 random_state 26\n",
      "accurancy -0.016214177978883804 random_state 27\n",
      "accurancy 0.30000000000000004 random_state 27\n",
      "accurancy 0.3406727828746178 random_state 28\n",
      "accurancy 0.3406727828746178 random_state 28\n",
      "accurancy 0.19337942593756552 random_state 29\n",
      "accurancy 0.3406727828746178 random_state 29\n",
      "accurancy -0.03608562691131478 random_state 30\n",
      "accurancy 0.3406727828746178 random_state 30\n",
      "accurancy 0.24702380952380942 random_state 31\n",
      "accurancy 0.3406727828746178 random_state 31\n",
      "accurancy 0.11195068602107783 random_state 32\n",
      "accurancy 0.3406727828746178 random_state 32\n",
      "accurancy 0.09198113207547176 random_state 33\n",
      "accurancy 0.3406727828746178 random_state 33\n",
      "accurancy 0.08950050968399581 random_state 34\n",
      "accurancy 0.3406727828746178 random_state 34\n",
      "accurancy 0.026707441386340403 random_state 35\n",
      "accurancy 0.3406727828746178 random_state 35\n",
      "accurancy 0.09992458521870284 random_state 36\n",
      "accurancy 0.3406727828746178 random_state 36\n",
      "accurancy -0.0943877551020409 random_state 37\n",
      "accurancy 0.3406727828746178 random_state 37\n",
      "accurancy -0.11594202898550732 random_state 38\n",
      "accurancy 0.3406727828746178 random_state 38\n",
      "accurancy 0.19183673469387763 random_state 39\n",
      "accurancy 0.3406727828746178 random_state 39\n",
      "accurancy 0.06432013408757598 random_state 40\n",
      "accurancy 0.3406727828746178 random_state 40\n",
      "accurancy 0.050625817298711295 random_state 41\n",
      "accurancy 0.3406727828746178 random_state 41\n",
      "accurancy 0.0018518518518517713 random_state 42\n",
      "accurancy 0.3406727828746178 random_state 42\n",
      "accurancy 0.10104669887278594 random_state 43\n",
      "accurancy 0.3406727828746178 random_state 43\n",
      "accurancy 0.2313974591651542 random_state 44\n",
      "accurancy 0.3406727828746178 random_state 44\n",
      "accurancy 0.03037037037037038 random_state 45\n",
      "accurancy 0.3406727828746178 random_state 45\n",
      "accurancy 0.061869407957357736 random_state 46\n",
      "accurancy 0.3406727828746178 random_state 46\n",
      "accurancy 0.0018518518518519933 random_state 47\n",
      "accurancy 0.3406727828746178 random_state 47\n",
      "accurancy -0.1726632400533028 random_state 48\n",
      "accurancy 0.3406727828746178 random_state 48\n",
      "accurancy 0.026707441386340403 random_state 49\n",
      "accurancy 0.3406727828746178 random_state 49\n",
      "accurancy 0.05062581729871107 random_state 50\n",
      "accurancy 0.3406727828746178 random_state 50\n",
      "accurancy 0.19337942593756552 random_state 51\n",
      "accurancy 0.3406727828746178 random_state 51\n",
      "accurancy 0.2579090718625602 random_state 52\n",
      "accurancy 0.3406727828746178 random_state 52\n",
      "accurancy 0.12050256996002284 random_state 53\n",
      "accurancy 0.3406727828746178 random_state 53\n",
      "accurancy 0.1731954662954862 random_state 54\n",
      "accurancy 0.3406727828746178 random_state 54\n",
      "accurancy -0.07755102040816286 random_state 55\n",
      "accurancy 0.3406727828746178 random_state 55\n",
      "accurancy 0.16900496438592694 random_state 56\n",
      "accurancy 0.3406727828746178 random_state 56\n",
      "accurancy 0.14257307615828185 random_state 57\n",
      "accurancy 0.3406727828746178 random_state 57\n",
      "accurancy 0.22176870748299327 random_state 58\n",
      "accurancy 0.3406727828746178 random_state 58\n",
      "accurancy 0.039049919484701934 random_state 59\n",
      "accurancy 0.3406727828746178 random_state 59\n",
      "accurancy 0.012820512820512886 random_state 60\n",
      "accurancy 0.3406727828746178 random_state 60\n",
      "accurancy 0.026707441386340403 random_state 61\n",
      "accurancy 0.3406727828746178 random_state 61\n",
      "accurancy 0.20845231296402056 random_state 62\n",
      "accurancy 0.3406727828746178 random_state 62\n",
      "accurancy 0.38003220611916255 random_state 63\n",
      "accurancy 0.38003220611916255 random_state 63\n",
      "accurancy 0.14257307615828196 random_state 64\n",
      "accurancy 0.38003220611916255 random_state 64\n",
      "accurancy -0.06632653061224492 random_state 65\n",
      "accurancy 0.38003220611916255 random_state 65\n",
      "accurancy 0.15570175438596479 random_state 66\n",
      "accurancy 0.38003220611916255 random_state 66\n",
      "accurancy 0.16900496438592694 random_state 67\n",
      "accurancy 0.38003220611916255 random_state 67\n",
      "accurancy 0.039049919484701934 random_state 68\n",
      "accurancy 0.38003220611916255 random_state 68\n",
      "accurancy 0.25961538461538447 random_state 69\n",
      "accurancy 0.38003220611916255 random_state 69\n",
      "accurancy 0.07939473192602309 random_state 70\n",
      "accurancy 0.38003220611916255 random_state 70\n",
      "accurancy -0.09887869520897019 random_state 71\n",
      "accurancy 0.38003220611916255 random_state 71\n",
      "accurancy 0.2022447658104899 random_state 72\n",
      "accurancy 0.38003220611916255 random_state 72\n",
      "accurancy 0.19337942593756552 random_state 73\n",
      "accurancy 0.38003220611916255 random_state 73\n",
      "accurancy 0.08084644601193702 random_state 74\n",
      "accurancy 0.38003220611916255 random_state 74\n",
      "accurancy -0.0069120119559122895 random_state 75\n",
      "accurancy 0.38003220611916255 random_state 75\n",
      "accurancy 0.061869407957357514 random_state 76\n",
      "accurancy 0.38003220611916255 random_state 76\n",
      "accurancy 0.18278301886792436 random_state 77\n",
      "accurancy 0.38003220611916255 random_state 77\n",
      "accurancy 0.05438596491228076 random_state 78\n",
      "accurancy 0.38003220611916255 random_state 78\n",
      "accurancy 0.021856902671399503 random_state 79\n",
      "accurancy 0.38003220611916255 random_state 79\n",
      "accurancy 0.052993308012298734 random_state 80\n",
      "accurancy 0.38003220611916255 random_state 80\n",
      "accurancy 0.09658495705007342 random_state 81\n",
      "accurancy 0.38003220611916255 random_state 81\n",
      "accurancy 0.24702380952380942 random_state 82\n",
      "accurancy 0.38003220611916255 random_state 82\n",
      "accurancy 0.05671506352087108 random_state 83\n",
      "accurancy 0.38003220611916255 random_state 83\n",
      "accurancy 0.13693256118064656 random_state 84\n",
      "accurancy 0.38003220611916255 random_state 84\n",
      "accurancy 0.06666666666666654 random_state 85\n",
      "accurancy 0.38003220611916255 random_state 85\n",
      "accurancy 0.010101010101010055 random_state 86\n",
      "accurancy 0.38003220611916255 random_state 86\n",
      "accurancy 0.10816364655333466 random_state 87\n",
      "accurancy 0.38003220611916255 random_state 87\n",
      "accurancy 0.03255282695602513 random_state 88\n",
      "accurancy 0.38003220611916255 random_state 88\n",
      "accurancy 0.24331761006289299 random_state 89\n",
      "accurancy 0.38003220611916255 random_state 89\n",
      "accurancy 0.022692307692307567 random_state 90\n",
      "accurancy 0.38003220611916255 random_state 90\n",
      "accurancy -0.059355345911949575 random_state 91\n",
      "accurancy 0.38003220611916255 random_state 91\n",
      "accurancy 0.03037037037037038 random_state 92\n",
      "accurancy 0.38003220611916255 random_state 92\n",
      "accurancy 0.0018518518518519933 random_state 93\n",
      "accurancy 0.38003220611916255 random_state 93\n",
      "accurancy 0.20454545454545459 random_state 94\n",
      "accurancy 0.38003220611916255 random_state 94\n",
      "accurancy 0.0933095450490633 random_state 95\n",
      "accurancy 0.38003220611916255 random_state 95\n",
      "accurancy -0.0027129679869779544 random_state 96\n",
      "accurancy 0.38003220611916255 random_state 96\n",
      "accurancy 0.12884978001257086 random_state 97\n",
      "accurancy 0.38003220611916255 random_state 97\n",
      "accurancy 0.20038461538461538 random_state 98\n",
      "accurancy 0.38003220611916255 random_state 98\n",
      "accurancy 0.01224489795918382 random_state 99\n",
      "accurancy 0.38003220611916255 random_state 99\n",
      "Best accurancy is  0.38003220611916255  on random_state 63\n"
     ]
    }
   ],
   "source": [
    "from sklearn.metrics import r2_score\n",
    "maxAcc=0\n",
    "maxRS=0\n",
    "for i in range(0,100):\n",
    "    x_train,x_test,y_train,y_test=train_test_split(x,y,test_size=.25,random_state=i)\n",
    "    lg=LogisticRegression(fit_intercept=True)\n",
    "    lg.fit(x_train,y_train)\n",
    "    pred=lg.predict(x_test)\n",
    "    acc=r2_score(y_test,pred)\n",
    "    print('accurancy',acc, 'random_state',i)\n",
    "    if acc>maxAcc:\n",
    "        maxAcc=acc\n",
    "        maxRs=i\n",
    "    print('accurancy',maxAcc, 'random_state',i)\n",
    "\n",
    "print('Best accurancy is ',maxAcc, ' on random_state',maxRs)   "
   ]
  },
  {
   "cell_type": "code",
   "execution_count": 56,
   "id": "2c3a1ffb",
   "metadata": {},
   "outputs": [],
   "source": [
    "x_train, x_test, y_train, y_test = train_test_split(x,y,test_size=0.2,random_state=63)"
   ]
  },
  {
   "cell_type": "markdown",
   "id": "23072e5c",
   "metadata": {},
   "source": [
    "### 1. LogisticRegression"
   ]
  },
  {
   "cell_type": "code",
   "execution_count": 57,
   "id": "caa8b9d7",
   "metadata": {},
   "outputs": [
    {
     "name": "stdout",
     "output_type": "stream",
     "text": [
      "Tuned Logistic Regression Parameters: {'C': 0.4393970560760795}\n",
      "Best score is 0.8078368652538984\n"
     ]
    }
   ],
   "source": [
    "# Necessary imports\n",
    "from sklearn.linear_model import LogisticRegression\n",
    "from sklearn.model_selection import GridSearchCV\n",
    "  \n",
    "# Creating the hyperparameter grid\n",
    "c_space = np.logspace(-5, 8, 15)\n",
    "param_grid = {'C': c_space}\n",
    "  \n",
    "# Instantiating logistic regression classifier\n",
    "logreg = LogisticRegression()\n",
    "  \n",
    "# Instantiating the GridSearchCV object\n",
    "logreg_cv = GridSearchCV(logreg, param_grid, cv = 5)\n",
    "  \n",
    "logreg_cv.fit(x, y)\n",
    "  \n",
    "# Print the tuned parameters and score\n",
    "print(\"Tuned Logistic Regression Parameters: {}\".format(logreg_cv.best_params_)) \n",
    "print(\"Best score is {}\".format(logreg_cv.best_score_))"
   ]
  },
  {
   "cell_type": "code",
   "execution_count": 58,
   "id": "8b2de750",
   "metadata": {},
   "outputs": [
    {
     "name": "stdout",
     "output_type": "stream",
     "text": [
      "Training accuracy : 0.790224032586558\n",
      "Testing accuracy : 0.8780487804878049\n",
      "              precision    recall  f1-score   support\n",
      "\n",
      "         0.0       0.33      0.46      0.38        35\n",
      "         1.0       0.74      0.62      0.68        88\n",
      "\n",
      "    accuracy                           0.58       123\n",
      "   macro avg       0.53      0.54      0.53       123\n",
      "weighted avg       0.62      0.58      0.59       123\n",
      "\n",
      "[[16 19]\n",
      " [33 55]]\n"
     ]
    }
   ],
   "source": [
    "# creating the model\n",
    "model = LogisticRegression(C= 0.4393970560760795)\n",
    "\n",
    "# feeding the training set into the model\n",
    "model.fit(x_train, y_train)\n",
    "\n",
    "# predicting the results for the test set\n",
    "y_pred = model_lg.predict(x_test)\n",
    "\n",
    "# calculating the training and testing accuracies\n",
    "print(\"Training accuracy :\", model.score(x_train, y_train))\n",
    "print(\"Testing accuracy :\", model.score(x_test, y_test))\n",
    "\n",
    "# classification report\n",
    "print(classification_report(y_test, y_pred))\n",
    "\n",
    "# confusion matrix\n",
    "print(confusion_matrix(y_test, y_pred))"
   ]
  },
  {
   "cell_type": "markdown",
   "id": "c930c31d",
   "metadata": {},
   "source": [
    "#### cross validation score"
   ]
  },
  {
   "cell_type": "code",
   "execution_count": 59,
   "id": "f722739a",
   "metadata": {},
   "outputs": [
    {
     "data": {
      "text/plain": [
       "0.807851107922844"
      ]
     },
     "execution_count": 59,
     "metadata": {},
     "output_type": "execute_result"
    }
   ],
   "source": [
    "lg_cv=cross_val_score(model,x,y,scoring='accuracy', cv = 3).mean()\n",
    "lg_cv"
   ]
  },
  {
   "cell_type": "markdown",
   "id": "bcc16839",
   "metadata": {},
   "source": [
    "### 2.RandomForestClassifier"
   ]
  },
  {
   "cell_type": "code",
   "execution_count": 60,
   "id": "b97b23a3",
   "metadata": {},
   "outputs": [],
   "source": [
    "rfc=RandomForestClassifier()\n",
    "param_grid={\n",
    "    'criterion' : [\"gini\", \"entropy\"],\n",
    "    'n_estimators':[200,1000,50],\n",
    "    'min_samples_split':[2,3,4],\n",
    "     'random_state':[10]              \n",
    "}"
   ]
  },
  {
   "cell_type": "code",
   "execution_count": 61,
   "id": "1e859c26",
   "metadata": {},
   "outputs": [
    {
     "name": "stdout",
     "output_type": "stream",
     "text": [
      "Fitting 4 folds for each of 18 candidates, totalling 72 fits\n"
     ]
    },
    {
     "data": {
      "text/plain": [
       "GridSearchCV(cv=4, estimator=RandomForestClassifier(), n_jobs=-1,\n",
       "             param_grid={'criterion': ['gini', 'entropy'],\n",
       "                         'min_samples_split': [2, 3, 4],\n",
       "                         'n_estimators': [200, 1000, 50],\n",
       "                         'random_state': [10]},\n",
       "             scoring='accuracy', verbose=2)"
      ]
     },
     "execution_count": 61,
     "metadata": {},
     "output_type": "execute_result"
    }
   ],
   "source": [
    "rf=GridSearchCV(RandomForestClassifier(),param_grid,cv=4,scoring='accuracy',n_jobs=-1,verbose=2)\n",
    "rf.fit(x_train,y_train)"
   ]
  },
  {
   "cell_type": "code",
   "execution_count": 62,
   "id": "d0606774",
   "metadata": {},
   "outputs": [
    {
     "data": {
      "text/plain": [
       "{'criterion': 'entropy',\n",
       " 'min_samples_split': 4,\n",
       " 'n_estimators': 200,\n",
       " 'random_state': 10}"
      ]
     },
     "execution_count": 62,
     "metadata": {},
     "output_type": "execute_result"
    }
   ],
   "source": [
    "rf.best_params_"
   ]
  },
  {
   "cell_type": "code",
   "execution_count": 63,
   "id": "b554d19c",
   "metadata": {},
   "outputs": [
    {
     "name": "stdout",
     "output_type": "stream",
     "text": [
      "              precision    recall  f1-score   support\n",
      "\n",
      "         0.0       0.91      0.57      0.70        35\n",
      "         1.0       0.85      0.98      0.91        88\n",
      "\n",
      "    accuracy                           0.86       123\n",
      "   macro avg       0.88      0.77      0.81       123\n",
      "weighted avg       0.87      0.86      0.85       123\n",
      "\n",
      "0.8617886178861789\n"
     ]
    }
   ],
   "source": [
    "clf= RandomForestClassifier(criterion='entropy',min_samples_split=2,n_estimators=200,random_state=10).fit(x_train, y_train)\n",
    "fianlRFC= clf.predict(x_test)\n",
    "randomforest_accu=accuracy_score(y_test,fianlRFC)\n",
    "randomforest_accu\n",
    "#print(confusion_matrix(y_test, predRFC))\n",
    "print(classification_report(y_test, fianlRFC))\n",
    "print(randomforest_accu)"
   ]
  },
  {
   "cell_type": "code",
   "execution_count": 64,
   "id": "dffa47ee",
   "metadata": {},
   "outputs": [
    {
     "data": {
      "text/plain": [
       "0.7866411605292524"
      ]
     },
     "execution_count": 64,
     "metadata": {},
     "output_type": "execute_result"
    }
   ],
   "source": [
    "randomforest_cv= cross_val_score(clf,x,y,scoring='accuracy', cv = 3).mean()\n",
    "randomforest_cv"
   ]
  },
  {
   "cell_type": "markdown",
   "id": "83bc7e31",
   "metadata": {},
   "source": [
    "# 3.GaussianNB"
   ]
  },
  {
   "cell_type": "code",
   "execution_count": 65,
   "id": "f421529e",
   "metadata": {},
   "outputs": [
    {
     "name": "stdout",
     "output_type": "stream",
     "text": [
      "Fitting 5 folds for each of 100 candidates, totalling 500 fits\n"
     ]
    },
    {
     "data": {
      "text/plain": [
       "GridSearchCV(cv=5, estimator=GaussianNB(),\n",
       "             param_grid={'var_smoothing': array([1.00000000e+00, 8.11130831e-01, 6.57933225e-01, 5.33669923e-01,\n",
       "       4.32876128e-01, 3.51119173e-01, 2.84803587e-01, 2.31012970e-01,\n",
       "       1.87381742e-01, 1.51991108e-01, 1.23284674e-01, 1.00000000e-01,\n",
       "       8.11130831e-02, 6.57933225e-02, 5.33669923e-02, 4.32876128e-02,\n",
       "       3.51119173e-02, 2.84803587e-02, 2.31...\n",
       "       1.23284674e-07, 1.00000000e-07, 8.11130831e-08, 6.57933225e-08,\n",
       "       5.33669923e-08, 4.32876128e-08, 3.51119173e-08, 2.84803587e-08,\n",
       "       2.31012970e-08, 1.87381742e-08, 1.51991108e-08, 1.23284674e-08,\n",
       "       1.00000000e-08, 8.11130831e-09, 6.57933225e-09, 5.33669923e-09,\n",
       "       4.32876128e-09, 3.51119173e-09, 2.84803587e-09, 2.31012970e-09,\n",
       "       1.87381742e-09, 1.51991108e-09, 1.23284674e-09, 1.00000000e-09])},\n",
       "             scoring='accuracy', verbose=1)"
      ]
     },
     "execution_count": 65,
     "metadata": {},
     "output_type": "execute_result"
    }
   ],
   "source": [
    "from sklearn.model_selection import GridSearchCV\n",
    "nb_classifier = GaussianNB()\n",
    "\n",
    "params_NB = {'var_smoothing': np.logspace(0,-9, num=100)}\n",
    "gs_NB = GridSearchCV(estimator=nb_classifier, \n",
    "                 param_grid=params_NB, \n",
    "                 cv=5,   # use any cross validation technique \n",
    "                 verbose=1, \n",
    "                 scoring='accuracy') \n",
    "gs_NB.fit(x_train, y_train)"
   ]
  },
  {
   "cell_type": "code",
   "execution_count": 66,
   "id": "8145ea64",
   "metadata": {},
   "outputs": [
    {
     "data": {
      "text/plain": [
       "{'var_smoothing': 3.511191734215127e-05}"
      ]
     },
     "execution_count": 66,
     "metadata": {},
     "output_type": "execute_result"
    }
   ],
   "source": [
    "gs_NB.best_params_"
   ]
  },
  {
   "cell_type": "code",
   "execution_count": 67,
   "id": "3bf836bf",
   "metadata": {},
   "outputs": [
    {
     "name": "stdout",
     "output_type": "stream",
     "text": [
      "0.8617886178861789\n"
     ]
    },
    {
     "data": {
      "text/html": [
       "<div>\n",
       "<style scoped>\n",
       "    .dataframe tbody tr th:only-of-type {\n",
       "        vertical-align: middle;\n",
       "    }\n",
       "\n",
       "    .dataframe tbody tr th {\n",
       "        vertical-align: top;\n",
       "    }\n",
       "\n",
       "    .dataframe thead th {\n",
       "        text-align: right;\n",
       "    }\n",
       "</style>\n",
       "<table border=\"1\" class=\"dataframe\">\n",
       "  <thead>\n",
       "    <tr style=\"text-align: right;\">\n",
       "      <th></th>\n",
       "      <th>precision</th>\n",
       "      <th>recall</th>\n",
       "      <th>f1-score</th>\n",
       "      <th>support</th>\n",
       "    </tr>\n",
       "  </thead>\n",
       "  <tbody>\n",
       "    <tr>\n",
       "      <th>0.0</th>\n",
       "      <td>0.909091</td>\n",
       "      <td>0.571429</td>\n",
       "      <td>0.701754</td>\n",
       "      <td>35.000000</td>\n",
       "    </tr>\n",
       "    <tr>\n",
       "      <th>1.0</th>\n",
       "      <td>0.851485</td>\n",
       "      <td>0.977273</td>\n",
       "      <td>0.910053</td>\n",
       "      <td>88.000000</td>\n",
       "    </tr>\n",
       "    <tr>\n",
       "      <th>accuracy</th>\n",
       "      <td>0.861789</td>\n",
       "      <td>0.861789</td>\n",
       "      <td>0.861789</td>\n",
       "      <td>0.861789</td>\n",
       "    </tr>\n",
       "    <tr>\n",
       "      <th>macro avg</th>\n",
       "      <td>0.880288</td>\n",
       "      <td>0.774351</td>\n",
       "      <td>0.805904</td>\n",
       "      <td>123.000000</td>\n",
       "    </tr>\n",
       "    <tr>\n",
       "      <th>weighted avg</th>\n",
       "      <td>0.867877</td>\n",
       "      <td>0.861789</td>\n",
       "      <td>0.850781</td>\n",
       "      <td>123.000000</td>\n",
       "    </tr>\n",
       "  </tbody>\n",
       "</table>\n",
       "</div>"
      ],
      "text/plain": [
       "              precision    recall  f1-score     support\n",
       "0.0            0.909091  0.571429  0.701754   35.000000\n",
       "1.0            0.851485  0.977273  0.910053   88.000000\n",
       "accuracy       0.861789  0.861789  0.861789    0.861789\n",
       "macro avg      0.880288  0.774351  0.805904  123.000000\n",
       "weighted avg   0.867877  0.861789  0.850781  123.000000"
      ]
     },
     "execution_count": 67,
     "metadata": {},
     "output_type": "execute_result"
    }
   ],
   "source": [
    "from sklearn.naive_bayes import GaussianNB\n",
    "final_mod = GaussianNB(var_smoothing =3.511191734215127e-05 )\n",
    "\n",
    "final_mod.fit(x_train,y_train)\n",
    "\n",
    "predGNB = final_mod.predict(x_test)\n",
    "\n",
    "reportGNB = classification_report(y_test, predGNB, output_dict = True)\n",
    "  \n",
    "crGNB = pd.DataFrame(reportGNB).transpose()\n",
    "gnb_acu=accuracy_score(y_test,predGNB)\n",
    "print(gnb_acu)\n",
    "crGNB"
   ]
  },
  {
   "cell_type": "code",
   "execution_count": 68,
   "id": "85a0f83a",
   "metadata": {},
   "outputs": [
    {
     "name": "stdout",
     "output_type": "stream",
     "text": [
      "86.1788617886179\n"
     ]
    }
   ],
   "source": [
    "print(gnb_acu*100)"
   ]
  },
  {
   "cell_type": "code",
   "execution_count": 69,
   "id": "634225a8",
   "metadata": {},
   "outputs": [
    {
     "data": {
      "text/plain": [
       "0.7821632653061225"
      ]
     },
     "execution_count": 69,
     "metadata": {},
     "output_type": "execute_result"
    }
   ],
   "source": [
    "#Now lets try to do some evaluation for GaussianNB model using cross validation.\n",
    "gnb_cv = cross_val_score(estimator = final_mod, X = x_train, y = y_train, cv = 10)\n",
    "gnb_cv.mean()"
   ]
  },
  {
   "cell_type": "markdown",
   "id": "cc80c220",
   "metadata": {},
   "source": [
    "### The best model is RandomForestClassifier() with 86% accuracy"
   ]
  },
  {
   "cell_type": "markdown",
   "id": "ad3cc97b",
   "metadata": {},
   "source": [
    "# 8. Evaluation"
   ]
  },
  {
   "cell_type": "markdown",
   "id": "75428fc0",
   "metadata": {},
   "source": [
    "### AUC ROC CURVE"
   ]
  },
  {
   "cell_type": "code",
   "execution_count": 70,
   "id": "139d6bb9",
   "metadata": {},
   "outputs": [],
   "source": [
    "# train models\n",
    "from sklearn.linear_model import LogisticRegression\n",
    "from sklearn.ensemble import RandomForestClassifier\n",
    "\n",
    "\n",
    "model1 = RandomForestClassifier()\n",
    "\n",
    "\n",
    "# fit model\n",
    "model1.fit(x_train, y_train)\n",
    "\n",
    "\n",
    "# predict probabilities\n",
    "pred_prob1 = model1.predict_proba(x_test)"
   ]
  },
  {
   "cell_type": "code",
   "execution_count": 71,
   "id": "a9f9bf6b",
   "metadata": {},
   "outputs": [],
   "source": [
    "from sklearn.metrics import roc_curve\n",
    "\n",
    "# roc curve for models\n",
    "fpr1, tpr1, thresh1 = roc_curve(y_test, pred_prob1[:,1], pos_label=1)\n",
    "\n",
    "\n",
    "# roc curve for tpr = fpr \n",
    "random_probs = [0 for i in range(len(y_test))]\n",
    "p_fpr, p_tpr, _ = roc_curve(y_test, random_probs, pos_label=1)"
   ]
  },
  {
   "cell_type": "code",
   "execution_count": 72,
   "id": "8f6f2669",
   "metadata": {},
   "outputs": [
    {
     "name": "stdout",
     "output_type": "stream",
     "text": [
      "0.8712662337662338\n"
     ]
    }
   ],
   "source": [
    "from sklearn.metrics import roc_auc_score\n",
    "\n",
    "# auc scores\n",
    "auc_score1 = roc_auc_score(y_test, pred_prob1[:,1])\n",
    "\n",
    "\n",
    "print(auc_score1)"
   ]
  },
  {
   "cell_type": "code",
   "execution_count": 73,
   "id": "3efd7455",
   "metadata": {},
   "outputs": [
    {
     "data": {
      "image/png": "[encoded data removed]",
      "text/plain": [
       "<Figure size 576x396 with 1 Axes>"
      ]
     },
     "metadata": {},
     "output_type": "display_data"
    }
   ],
   "source": [
    "import matplotlib.pyplot as plt\n",
    "plt.style.use('seaborn')\n",
    "\n",
    "# plot roc curves\n",
    "plt.plot(fpr1, tpr1, linestyle='--',color='orange', label='RandomForestClassifier')\n",
    "plt.plot(p_fpr, p_tpr, linestyle='--', color='blue')\n",
    "# title\n",
    "plt.title('ROC curve')\n",
    "# x label\n",
    "plt.xlabel('False Positive Rate')\n",
    "# y label\n",
    "plt.ylabel('True Positive rate')\n",
    "\n",
    "plt.legend(loc='best')\n",
    "plt.savefig('ROC',dpi=300)\n",
    "plt.show();"
   ]
  },
  {
   "cell_type": "markdown",
   "id": "def63dfb",
   "metadata": {},
   "source": [
    "# 9.Saving the model"
   ]
  },
  {
   "cell_type": "code",
   "execution_count": 74,
   "id": "1447c194",
   "metadata": {},
   "outputs": [
    {
     "data": {
      "text/plain": [
       "['final model.pkl']"
      ]
     },
     "execution_count": 74,
     "metadata": {},
     "output_type": "execute_result"
    }
   ],
   "source": [
    "import joblib\n",
    "joblib.dump(model,\"final model.pkl\")"
   ]
  },
  {
   "cell_type": "code",
   "execution_count": null,
   "id": "b932e166",
   "metadata": {},
   "outputs": [],
   "source": []
  }
 ],
 "metadata": {
  "kernelspec": {
   "display_name": "Python 3",
   "language": "python",
   "name": "python3"
  },
  "language_info": {
   "codemirror_mode": {
    "name": "ipython",
    "version": 3
   },
   "file_extension": ".py",
   "mimetype": "text/x-python",
   "name": "python",
   "nbconvert_exporter": "python",
   "pygments_lexer": "ipython3",
   "version": "3.8.8"
  }
 },
 "nbformat": 4,
 "nbformat_minor": 5
}
