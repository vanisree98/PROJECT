{
 "cells": [
  {
   "cell_type": "markdown",
   "id": "f4910d3c",
   "metadata": {},
   "source": [
    "# Flight Price Prediction"
   ]
  },
  {
   "cell_type": "markdown",
   "id": "6a602f04",
   "metadata": {},
   "source": [
    "## 1..Data analysis"
   ]
  },
  {
   "cell_type": "code",
   "execution_count": 63,
   "id": "748af179",
   "metadata": {},
   "outputs": [],
   "source": [
    "import pandas as pd\n",
    "import numpy as np\n",
    "import matplotlib as mlp\n",
    "import seaborn as sns\n",
    "import matplotlib.pyplot as plt\n",
    "import warnings\n",
    "warnings.filterwarnings('ignore')"
   ]
  },
  {
   "cell_type": "code",
   "execution_count": 64,
   "id": "69ffc08f",
   "metadata": {},
   "outputs": [],
   "source": [
    "df=pd.read_excel(r'C:\\Users\\Hi\\Downloads\\Data_Train.xlsx')"
   ]
  },
  {
   "cell_type": "code",
   "execution_count": 65,
   "id": "9eb3b3f9",
   "metadata": {},
   "outputs": [
    {
     "data": {
      "text/html": [
       "<div>\n",
       "<style scoped>\n",
       "    .dataframe tbody tr th:only-of-type {\n",
       "        vertical-align: middle;\n",
       "    }\n",
       "\n",
       "    .dataframe tbody tr th {\n",
       "        vertical-align: top;\n",
       "    }\n",
       "\n",
       "    .dataframe thead th {\n",
       "        text-align: right;\n",
       "    }\n",
       "</style>\n",
       "<table border=\"1\" class=\"dataframe\">\n",
       "  <thead>\n",
       "    <tr style=\"text-align: right;\">\n",
       "      <th></th>\n",
       "      <th>Airline</th>\n",
       "      <th>Date_of_Journey</th>\n",
       "      <th>Source</th>\n",
       "      <th>Destination</th>\n",
       "      <th>Route</th>\n",
       "      <th>Dep_Time</th>\n",
       "      <th>Arrival_Time</th>\n",
       "      <th>Duration</th>\n",
       "      <th>Total_Stops</th>\n",
       "      <th>Additional_Info</th>\n",
       "      <th>Price</th>\n",
       "    </tr>\n",
       "  </thead>\n",
       "  <tbody>\n",
       "    <tr>\n",
       "      <th>0</th>\n",
       "      <td>IndiGo</td>\n",
       "      <td>24/03/2019</td>\n",
       "      <td>Banglore</td>\n",
       "      <td>New Delhi</td>\n",
       "      <td>BLR → DEL</td>\n",
       "      <td>22:20</td>\n",
       "      <td>01:10 22 Mar</td>\n",
       "      <td>2h 50m</td>\n",
       "      <td>non-stop</td>\n",
       "      <td>No info</td>\n",
       "      <td>3897</td>\n",
       "    </tr>\n",
       "    <tr>\n",
       "      <th>1</th>\n",
       "      <td>Air India</td>\n",
       "      <td>1/05/2019</td>\n",
       "      <td>Kolkata</td>\n",
       "      <td>Banglore</td>\n",
       "      <td>CCU → IXR → BBI → BLR</td>\n",
       "      <td>05:50</td>\n",
       "      <td>13:15</td>\n",
       "      <td>7h 25m</td>\n",
       "      <td>2 stops</td>\n",
       "      <td>No info</td>\n",
       "      <td>7662</td>\n",
       "    </tr>\n",
       "    <tr>\n",
       "      <th>2</th>\n",
       "      <td>Jet Airways</td>\n",
       "      <td>9/06/2019</td>\n",
       "      <td>Delhi</td>\n",
       "      <td>Cochin</td>\n",
       "      <td>DEL → LKO → BOM → COK</td>\n",
       "      <td>09:25</td>\n",
       "      <td>04:25 10 Jun</td>\n",
       "      <td>19h</td>\n",
       "      <td>2 stops</td>\n",
       "      <td>No info</td>\n",
       "      <td>13882</td>\n",
       "    </tr>\n",
       "    <tr>\n",
       "      <th>3</th>\n",
       "      <td>IndiGo</td>\n",
       "      <td>12/05/2019</td>\n",
       "      <td>Kolkata</td>\n",
       "      <td>Banglore</td>\n",
       "      <td>CCU → NAG → BLR</td>\n",
       "      <td>18:05</td>\n",
       "      <td>23:30</td>\n",
       "      <td>5h 25m</td>\n",
       "      <td>1 stop</td>\n",
       "      <td>No info</td>\n",
       "      <td>6218</td>\n",
       "    </tr>\n",
       "    <tr>\n",
       "      <th>4</th>\n",
       "      <td>IndiGo</td>\n",
       "      <td>01/03/2019</td>\n",
       "      <td>Banglore</td>\n",
       "      <td>New Delhi</td>\n",
       "      <td>BLR → NAG → DEL</td>\n",
       "      <td>16:50</td>\n",
       "      <td>21:35</td>\n",
       "      <td>4h 45m</td>\n",
       "      <td>1 stop</td>\n",
       "      <td>No info</td>\n",
       "      <td>13302</td>\n",
       "    </tr>\n",
       "  </tbody>\n",
       "</table>\n",
       "</div>"
      ],
      "text/plain": [
       "       Airline Date_of_Journey    Source Destination                  Route  \\\n",
       "0       IndiGo      24/03/2019  Banglore   New Delhi              BLR → DEL   \n",
       "1    Air India       1/05/2019   Kolkata    Banglore  CCU → IXR → BBI → BLR   \n",
       "2  Jet Airways       9/06/2019     Delhi      Cochin  DEL → LKO → BOM → COK   \n",
       "3       IndiGo      12/05/2019   Kolkata    Banglore        CCU → NAG → BLR   \n",
       "4       IndiGo      01/03/2019  Banglore   New Delhi        BLR → NAG → DEL   \n",
       "\n",
       "  Dep_Time  Arrival_Time Duration Total_Stops Additional_Info  Price  \n",
       "0    22:20  01:10 22 Mar   2h 50m    non-stop         No info   3897  \n",
       "1    05:50         13:15   7h 25m     2 stops         No info   7662  \n",
       "2    09:25  04:25 10 Jun      19h     2 stops         No info  13882  \n",
       "3    18:05         23:30   5h 25m      1 stop         No info   6218  \n",
       "4    16:50         21:35   4h 45m      1 stop         No info  13302  "
      ]
     },
     "execution_count": 65,
     "metadata": {},
     "output_type": "execute_result"
    }
   ],
   "source": [
    "df.head()"
   ]
  },
  {
   "cell_type": "markdown",
   "id": "92d85e22",
   "metadata": {},
   "source": [
    "### About columns"
   ]
  },
  {
   "cell_type": "markdown",
   "id": "b1ad8ec1",
   "metadata": {},
   "source": [
    "Airline: Name of the airline used for traveling\n",
    "\n",
    "Date_of_Journey: Date at which a person traveled\n",
    "\n",
    "Source: Starting location of flight\n",
    "\n",
    "Destination: Ending location of flight\n",
    "\n",
    "Route: This contains information on starting and ending location of the journey in the standard format used by airlines.\n",
    "\n",
    "Dep_Time: Departure time of flight from starting location\n",
    "\n",
    "Arrival_Time: Arrival time of flight at destination\n",
    "\n",
    "Duration: Duration of flight in hours/minutes\n",
    "\n",
    "Total_Stops: Number of total stops flight took before landing at the destination.\n",
    "\n",
    "Additional_Info: Shown any additional information about a flight\n",
    "\n",
    "Price: Price of the flight"
   ]
  },
  {
   "cell_type": "code",
   "execution_count": 66,
   "id": "6dc4387e",
   "metadata": {},
   "outputs": [],
   "source": [
    "df = df.drop(['Additional_Info'],axis=1)"
   ]
  },
  {
   "cell_type": "code",
   "execution_count": 67,
   "id": "8f76b1bc",
   "metadata": {},
   "outputs": [
    {
     "name": "stdout",
     "output_type": "stream",
     "text": [
      "<class 'pandas.core.frame.DataFrame'>\n",
      "RangeIndex: 10683 entries, 0 to 10682\n",
      "Data columns (total 10 columns):\n",
      " #   Column           Non-Null Count  Dtype \n",
      "---  ------           --------------  ----- \n",
      " 0   Airline          10683 non-null  object\n",
      " 1   Date_of_Journey  10683 non-null  object\n",
      " 2   Source           10683 non-null  object\n",
      " 3   Destination      10683 non-null  object\n",
      " 4   Route            10682 non-null  object\n",
      " 5   Dep_Time         10683 non-null  object\n",
      " 6   Arrival_Time     10683 non-null  object\n",
      " 7   Duration         10683 non-null  object\n",
      " 8   Total_Stops      10682 non-null  object\n",
      " 9   Price            10683 non-null  int64 \n",
      "dtypes: int64(1), object(9)\n",
      "memory usage: 834.7+ KB\n"
     ]
    }
   ],
   "source": [
    "df.info()"
   ]
  },
  {
   "cell_type": "code",
   "execution_count": 68,
   "id": "aa3a8bb5",
   "metadata": {},
   "outputs": [
    {
     "data": {
      "text/plain": [
       "(10683, 10)"
      ]
     },
     "execution_count": 68,
     "metadata": {},
     "output_type": "execute_result"
    }
   ],
   "source": [
    "df.shape"
   ]
  },
  {
   "cell_type": "code",
   "execution_count": 69,
   "id": "ef03df13",
   "metadata": {},
   "outputs": [
    {
     "data": {
      "text/plain": [
       "Airline            0\n",
       "Date_of_Journey    0\n",
       "Source             0\n",
       "Destination        0\n",
       "Route              1\n",
       "Dep_Time           0\n",
       "Arrival_Time       0\n",
       "Duration           0\n",
       "Total_Stops        1\n",
       "Price              0\n",
       "dtype: int64"
      ]
     },
     "execution_count": 69,
     "metadata": {},
     "output_type": "execute_result"
    }
   ],
   "source": [
    "df.isnull().sum()"
   ]
  },
  {
   "cell_type": "code",
   "execution_count": 70,
   "id": "651eae8a",
   "metadata": {},
   "outputs": [
    {
     "data": {
      "text/plain": [
       "<AxesSubplot:>"
      ]
     },
     "execution_count": 70,
     "metadata": {},
     "output_type": "execute_result"
    },
    {
     "data": {
      "image/png": "[encoded data removed]",
      "text/plain": [
       "<Figure size 432x288 with 2 Axes>"
      ]
     },
     "metadata": {
      "needs_background": "light"
     },
     "output_type": "display_data"
    }
   ],
   "source": [
    "import seaborn as sns\n",
    "sns.heatmap(df.isnull())"
   ]
  },
  {
   "cell_type": "code",
   "execution_count": 71,
   "id": "6ab82c3a",
   "metadata": {},
   "outputs": [
    {
     "data": {
      "text/html": [
       "<div>\n",
       "<style scoped>\n",
       "    .dataframe tbody tr th:only-of-type {\n",
       "        vertical-align: middle;\n",
       "    }\n",
       "\n",
       "    .dataframe tbody tr th {\n",
       "        vertical-align: top;\n",
       "    }\n",
       "\n",
       "    .dataframe thead th {\n",
       "        text-align: right;\n",
       "    }\n",
       "</style>\n",
       "<table border=\"1\" class=\"dataframe\">\n",
       "  <thead>\n",
       "    <tr style=\"text-align: right;\">\n",
       "      <th></th>\n",
       "      <th>Price</th>\n",
       "    </tr>\n",
       "  </thead>\n",
       "  <tbody>\n",
       "    <tr>\n",
       "      <th>count</th>\n",
       "      <td>10683.000000</td>\n",
       "    </tr>\n",
       "    <tr>\n",
       "      <th>mean</th>\n",
       "      <td>9087.064121</td>\n",
       "    </tr>\n",
       "    <tr>\n",
       "      <th>std</th>\n",
       "      <td>4611.359167</td>\n",
       "    </tr>\n",
       "    <tr>\n",
       "      <th>min</th>\n",
       "      <td>1759.000000</td>\n",
       "    </tr>\n",
       "    <tr>\n",
       "      <th>25%</th>\n",
       "      <td>5277.000000</td>\n",
       "    </tr>\n",
       "    <tr>\n",
       "      <th>50%</th>\n",
       "      <td>8372.000000</td>\n",
       "    </tr>\n",
       "    <tr>\n",
       "      <th>75%</th>\n",
       "      <td>12373.000000</td>\n",
       "    </tr>\n",
       "    <tr>\n",
       "      <th>max</th>\n",
       "      <td>79512.000000</td>\n",
       "    </tr>\n",
       "  </tbody>\n",
       "</table>\n",
       "</div>"
      ],
      "text/plain": [
       "              Price\n",
       "count  10683.000000\n",
       "mean    9087.064121\n",
       "std     4611.359167\n",
       "min     1759.000000\n",
       "25%     5277.000000\n",
       "50%     8372.000000\n",
       "75%    12373.000000\n",
       "max    79512.000000"
      ]
     },
     "execution_count": 71,
     "metadata": {},
     "output_type": "execute_result"
    }
   ],
   "source": [
    "df.describe()"
   ]
  },
  {
   "cell_type": "markdown",
   "id": "1a1c3a2a",
   "metadata": {},
   "source": [
    "## 2.EDA"
   ]
  },
  {
   "cell_type": "code",
   "execution_count": 72,
   "id": "40ccd5d0",
   "metadata": {},
   "outputs": [
    {
     "name": "stdout",
     "output_type": "stream",
     "text": [
      "Jet Airways                          3849\n",
      "IndiGo                               2053\n",
      "Air India                            1752\n",
      "Multiple carriers                    1196\n",
      "SpiceJet                              818\n",
      "Vistara                               479\n",
      "Air Asia                              319\n",
      "GoAir                                 194\n",
      "Multiple carriers Premium economy      13\n",
      "Jet Airways Business                    6\n",
      "Vistara Premium economy                 3\n",
      "Trujet                                  1\n",
      "Name: Airline, dtype: int64\n",
      "________________________________________\n",
      "18/05/2019    504\n",
      "6/06/2019     503\n",
      "21/05/2019    497\n",
      "9/06/2019     495\n",
      "12/06/2019    493\n",
      "9/05/2019     484\n",
      "21/03/2019    423\n",
      "15/05/2019    405\n",
      "27/05/2019    382\n",
      "27/06/2019    355\n",
      "24/06/2019    351\n",
      "1/06/2019     342\n",
      "3/06/2019     333\n",
      "15/06/2019    328\n",
      "24/03/2019    323\n",
      "6/03/2019     308\n",
      "27/03/2019    299\n",
      "24/05/2019    286\n",
      "6/05/2019     282\n",
      "1/05/2019     277\n",
      "12/05/2019    259\n",
      "1/04/2019     257\n",
      "3/03/2019     218\n",
      "9/03/2019     200\n",
      "15/03/2019    162\n",
      "18/03/2019    156\n",
      "01/03/2019    152\n",
      "12/03/2019    142\n",
      "9/04/2019     125\n",
      "3/04/2019     110\n",
      "21/06/2019    109\n",
      "18/06/2019    105\n",
      "09/03/2019    102\n",
      "6/04/2019     100\n",
      "03/03/2019     97\n",
      "06/03/2019     95\n",
      "27/04/2019     94\n",
      "24/04/2019     92\n",
      "3/05/2019      90\n",
      "15/04/2019     89\n",
      "21/04/2019     82\n",
      "18/04/2019     67\n",
      "12/04/2019     63\n",
      "1/03/2019      47\n",
      "Name: Date_of_Journey, dtype: int64\n",
      "________________________________________\n",
      "Delhi       4537\n",
      "Kolkata     2871\n",
      "Banglore    2197\n",
      "Mumbai       697\n",
      "Chennai      381\n",
      "Name: Source, dtype: int64\n",
      "________________________________________\n",
      "Cochin       4537\n",
      "Banglore     2871\n",
      "Delhi        1265\n",
      "New Delhi     932\n",
      "Hyderabad     697\n",
      "Kolkata       381\n",
      "Name: Destination, dtype: int64\n",
      "________________________________________\n",
      "DEL → BOM → COK                2376\n",
      "BLR → DEL                      1552\n",
      "CCU → BOM → BLR                 979\n",
      "CCU → BLR                       724\n",
      "BOM → HYD                       621\n",
      "                               ... \n",
      "BOM → VNS → DEL → HYD             1\n",
      "BOM → BBI → HYD                   1\n",
      "BLR → HBX → BOM → NAG → DEL       1\n",
      "BOM → JLR → HYD                   1\n",
      "BOM → NDC → HYD                   1\n",
      "Name: Route, Length: 128, dtype: int64\n",
      "________________________________________\n",
      "18:55    233\n",
      "17:00    227\n",
      "07:05    205\n",
      "10:00    203\n",
      "07:10    202\n",
      "        ... \n",
      "22:25      1\n",
      "01:35      1\n",
      "03:00      1\n",
      "04:15      1\n",
      "12:45      1\n",
      "Name: Dep_Time, Length: 222, dtype: int64\n",
      "________________________________________\n",
      "19:00           423\n",
      "21:00           360\n",
      "19:15           333\n",
      "16:10           154\n",
      "12:35           122\n",
      "               ... \n",
      "18:50 13 May      1\n",
      "06:50 22 May      1\n",
      "00:20 13 Jun      1\n",
      "13:15 19 May      1\n",
      "23:00 04 Apr      1\n",
      "Name: Arrival_Time, Length: 1343, dtype: int64\n",
      "________________________________________\n",
      "2h 50m     550\n",
      "1h 30m     386\n",
      "2h 45m     337\n",
      "2h 55m     337\n",
      "2h 35m     329\n",
      "          ... \n",
      "42h 5m       1\n",
      "33h 45m      1\n",
      "29h 40m      1\n",
      "30h 25m      1\n",
      "42h 45m      1\n",
      "Name: Duration, Length: 368, dtype: int64\n",
      "________________________________________\n",
      "1 stop      5625\n",
      "non-stop    3491\n",
      "2 stops     1520\n",
      "3 stops       45\n",
      "4 stops        1\n",
      "Name: Total_Stops, dtype: int64\n",
      "________________________________________\n",
      "10262    258\n",
      "10844    212\n",
      "7229     162\n",
      "4804     160\n",
      "4823     131\n",
      "        ... \n",
      "16946      1\n",
      "10783      1\n",
      "14861      1\n",
      "10759      1\n",
      "4098       1\n",
      "Name: Price, Length: 1870, dtype: int64\n",
      "________________________________________\n"
     ]
    }
   ],
   "source": [
    "for i in df.columns:\n",
    "  print(df[i].value_counts())\n",
    "  print(\"________________________________________\")"
   ]
  },
  {
   "cell_type": "code",
   "execution_count": 73,
   "id": "191e3b80",
   "metadata": {},
   "outputs": [
    {
     "data": {
      "text/plain": [
       "10262    258\n",
       "10844    212\n",
       "7229     162\n",
       "4804     160\n",
       "4823     131\n",
       "        ... \n",
       "16946      1\n",
       "10783      1\n",
       "14861      1\n",
       "10759      1\n",
       "4098       1\n",
       "Name: Price, Length: 1870, dtype: int64"
      ]
     },
     "execution_count": 73,
     "metadata": {},
     "output_type": "execute_result"
    }
   ],
   "source": [
    "df['Price'].value_counts()"
   ]
  },
  {
   "cell_type": "code",
   "execution_count": 74,
   "id": "599e68d9",
   "metadata": {},
   "outputs": [
    {
     "data": {
      "text/plain": [
       "<AxesSubplot:xlabel='Price'>"
      ]
     },
     "execution_count": 74,
     "metadata": {},
     "output_type": "execute_result"
    },
    {
     "data": {
      "image/png": "[encoded data removed]",
      "text/plain": [
       "<Figure size 576x360 with 1 Axes>"
      ]
     },
     "metadata": {
      "needs_background": "light"
     },
     "output_type": "display_data"
    }
   ],
   "source": [
    "plt.figure(figsize=(8,5))\n",
    "sns.stripplot(df['Price'])"
   ]
  },
  {
   "cell_type": "code",
   "execution_count": 75,
   "id": "f1ea951a",
   "metadata": {},
   "outputs": [],
   "source": [
    "df=df.dropna()"
   ]
  },
  {
   "cell_type": "code",
   "execution_count": 76,
   "id": "45394746",
   "metadata": {},
   "outputs": [
    {
     "data": {
      "text/plain": [
       "(10682, 10)"
      ]
     },
     "execution_count": 76,
     "metadata": {},
     "output_type": "execute_result"
    }
   ],
   "source": [
    "df.shape"
   ]
  },
  {
   "cell_type": "code",
   "execution_count": 77,
   "id": "68474af8",
   "metadata": {},
   "outputs": [
    {
     "data": {
      "text/plain": [
       "Text(0.5, 1.0, 'Source')"
      ]
     },
     "execution_count": 77,
     "metadata": {},
     "output_type": "execute_result"
    },
    {
     "data": {
      "image/png": "[encoded data removed]",
      "text/plain": [
       "<Figure size 432x288 with 1 Axes>"
      ]
     },
     "metadata": {
      "needs_background": "light"
     },
     "output_type": "display_data"
    }
   ],
   "source": [
    "sns.countplot(df['Source'])\n",
    "plt.title('Source')"
   ]
  },
  {
   "cell_type": "code",
   "execution_count": 78,
   "id": "667cac3c",
   "metadata": {},
   "outputs": [
    {
     "data": {
      "text/plain": [
       "Text(0.5, 1.0, 'Total_Stops')"
      ]
     },
     "execution_count": 78,
     "metadata": {},
     "output_type": "execute_result"
    },
    {
     "data": {
      "image/png": "[encoded data removed]",
      "text/plain": [
       "<Figure size 432x288 with 1 Axes>"
      ]
     },
     "metadata": {
      "needs_background": "light"
     },
     "output_type": "display_data"
    }
   ],
   "source": [
    "sns.countplot(df['Total_Stops'])\n",
    "plt.title('Total_Stops')"
   ]
  },
  {
   "cell_type": "code",
   "execution_count": 79,
   "id": "79277bd1",
   "metadata": {},
   "outputs": [
    {
     "data": {
      "text/plain": [
       "(array([ 0,  1,  2,  3,  4,  5,  6,  7,  8,  9, 10, 11]),\n",
       " [Text(0, 0, 'IndiGo'),\n",
       "  Text(1, 0, 'Air India'),\n",
       "  Text(2, 0, 'Jet Airways'),\n",
       "  Text(3, 0, 'SpiceJet'),\n",
       "  Text(4, 0, 'Multiple carriers'),\n",
       "  Text(5, 0, 'GoAir'),\n",
       "  Text(6, 0, 'Vistara'),\n",
       "  Text(7, 0, 'Air Asia'),\n",
       "  Text(8, 0, 'Vistara Premium economy'),\n",
       "  Text(9, 0, 'Jet Airways Business'),\n",
       "  Text(10, 0, 'Multiple carriers Premium economy'),\n",
       "  Text(11, 0, 'Trujet')])"
      ]
     },
     "execution_count": 79,
     "metadata": {},
     "output_type": "execute_result"
    },
    {
     "data": {
      "image/png": "[encoded data removed]",
      "text/plain": [
       "<Figure size 720x360 with 1 Axes>"
      ]
     },
     "metadata": {
      "needs_background": "light"
     },
     "output_type": "display_data"
    }
   ],
   "source": [
    "plt.figure(figsize=(10,5))\n",
    "sns.countplot(df['Airline'])\n",
    "plt.xticks(rotation = 90)"
   ]
  },
  {
   "cell_type": "code",
   "execution_count": 80,
   "id": "4ba8cc62",
   "metadata": {},
   "outputs": [
    {
     "data": {
      "text/plain": [
       "<Figure size 720x360 with 0 Axes>"
      ]
     },
     "execution_count": 80,
     "metadata": {},
     "output_type": "execute_result"
    },
    {
     "data": {
      "image/png": "[encoded data removed]",
      "text/plain": [
       "<Figure size 720x360 with 1 Axes>"
      ]
     },
     "metadata": {
      "needs_background": "light"
     },
     "output_type": "display_data"
    },
    {
     "data": {
      "text/plain": [
       "<Figure size 720x360 with 0 Axes>"
      ]
     },
     "metadata": {},
     "output_type": "display_data"
    }
   ],
   "source": [
    "plt.figure(figsize=(10,5))\n",
    "\n",
    "sns.pointplot(df['Airline'],df['Price'])\n",
    "plt.xticks(rotation=90)\n",
    "plt.figure(figsize=(10,5))"
   ]
  },
  {
   "cell_type": "code",
   "execution_count": 81,
   "id": "ff0c4c7d",
   "metadata": {},
   "outputs": [
    {
     "data": {
      "text/plain": [
       "(array([ 0,  1,  2,  3,  4,  5,  6,  7,  8,  9, 10, 11]),\n",
       " [Text(0, 0, 'IndiGo'),\n",
       "  Text(1, 0, 'Air India'),\n",
       "  Text(2, 0, 'Jet Airways'),\n",
       "  Text(3, 0, 'SpiceJet'),\n",
       "  Text(4, 0, 'Multiple carriers'),\n",
       "  Text(5, 0, 'GoAir'),\n",
       "  Text(6, 0, 'Vistara'),\n",
       "  Text(7, 0, 'Air Asia'),\n",
       "  Text(8, 0, 'Vistara Premium economy'),\n",
       "  Text(9, 0, 'Jet Airways Business'),\n",
       "  Text(10, 0, 'Multiple carriers Premium economy'),\n",
       "  Text(11, 0, 'Trujet')])"
      ]
     },
     "execution_count": 81,
     "metadata": {},
     "output_type": "execute_result"
    },
    {
     "data": {
      "image/png": "[encoded data removed]",
      "text/plain": [
       "<Figure size 432x288 with 1 Axes>"
      ]
     },
     "metadata": {
      "needs_background": "light"
     },
     "output_type": "display_data"
    }
   ],
   "source": [
    "sns.barplot(df['Airline'],df['Price'])\n",
    "plt.xticks(rotation=90)\n"
   ]
  },
  {
   "cell_type": "code",
   "execution_count": 82,
   "id": "8ee09506",
   "metadata": {},
   "outputs": [
    {
     "data": {
      "text/plain": [
       "(array([ 0,  1,  2,  3,  4,  5,  6,  7,  8,  9, 10, 11]),\n",
       " [Text(0, 0, 'IndiGo'),\n",
       "  Text(1, 0, 'Air India'),\n",
       "  Text(2, 0, 'Jet Airways'),\n",
       "  Text(3, 0, 'SpiceJet'),\n",
       "  Text(4, 0, 'Multiple carriers'),\n",
       "  Text(5, 0, 'GoAir'),\n",
       "  Text(6, 0, 'Vistara'),\n",
       "  Text(7, 0, 'Air Asia'),\n",
       "  Text(8, 0, 'Vistara Premium economy'),\n",
       "  Text(9, 0, 'Jet Airways Business'),\n",
       "  Text(10, 0, 'Multiple carriers Premium economy'),\n",
       "  Text(11, 0, 'Trujet')])"
      ]
     },
     "execution_count": 82,
     "metadata": {},
     "output_type": "execute_result"
    },
    {
     "data": {
      "image/png": "[encoded data removed]",
      "text/plain": [
       "<Figure size 720x360 with 1 Axes>"
      ]
     },
     "metadata": {
      "needs_background": "light"
     },
     "output_type": "display_data"
    },
    {
     "data": {
      "image/png": "[encoded data removed]",
      "text/plain": [
       "<Figure size 1080x360 with 1 Axes>"
      ]
     },
     "metadata": {
      "needs_background": "light"
     },
     "output_type": "display_data"
    }
   ],
   "source": [
    "plt.figure(figsize=(10,5))\n",
    "sns.scatterplot(df['Airline'],df['Price'])\n",
    "plt.xticks(rotation=90)\n",
    "\n",
    "plt.figure(figsize=(15,5))\n",
    "sns.boxplot(df['Airline'],df['Price'])\n",
    "plt.xticks(rotation=90)"
   ]
  },
  {
   "cell_type": "markdown",
   "id": "2c60e940",
   "metadata": {},
   "source": [
    "### correlation"
   ]
  },
  {
   "cell_type": "code",
   "execution_count": 152,
   "id": "aa50120d",
   "metadata": {},
   "outputs": [
    {
     "data": {
      "text/html": [
       "<div>\n",
       "<style scoped>\n",
       "    .dataframe tbody tr th:only-of-type {\n",
       "        vertical-align: middle;\n",
       "    }\n",
       "\n",
       "    .dataframe tbody tr th {\n",
       "        vertical-align: top;\n",
       "    }\n",
       "\n",
       "    .dataframe thead th {\n",
       "        text-align: right;\n",
       "    }\n",
       "</style>\n",
       "<table border=\"1\" class=\"dataframe\">\n",
       "  <thead>\n",
       "    <tr style=\"text-align: right;\">\n",
       "      <th></th>\n",
       "      <th>Airline</th>\n",
       "      <th>Source</th>\n",
       "      <th>Destination</th>\n",
       "      <th>Route</th>\n",
       "      <th>Duration</th>\n",
       "      <th>Total_Stops</th>\n",
       "      <th>Price</th>\n",
       "    </tr>\n",
       "  </thead>\n",
       "  <tbody>\n",
       "    <tr>\n",
       "      <th>Airline</th>\n",
       "      <td>1.000000</td>\n",
       "      <td>-0.013397</td>\n",
       "      <td>0.018446</td>\n",
       "      <td>0.025214</td>\n",
       "      <td>0.027886</td>\n",
       "      <td>0.035973</td>\n",
       "      <td>-0.039565</td>\n",
       "    </tr>\n",
       "    <tr>\n",
       "      <th>Source</th>\n",
       "      <td>-0.013397</td>\n",
       "      <td>1.000000</td>\n",
       "      <td>-0.592576</td>\n",
       "      <td>0.403412</td>\n",
       "      <td>-0.192009</td>\n",
       "      <td>-0.225605</td>\n",
       "      <td>0.015999</td>\n",
       "    </tr>\n",
       "    <tr>\n",
       "      <th>Destination</th>\n",
       "      <td>0.018446</td>\n",
       "      <td>-0.592576</td>\n",
       "      <td>1.000000</td>\n",
       "      <td>-0.461176</td>\n",
       "      <td>0.022029</td>\n",
       "      <td>0.337872</td>\n",
       "      <td>-0.071122</td>\n",
       "    </tr>\n",
       "    <tr>\n",
       "      <th>Route</th>\n",
       "      <td>0.025214</td>\n",
       "      <td>0.403412</td>\n",
       "      <td>-0.461176</td>\n",
       "      <td>1.000000</td>\n",
       "      <td>-0.062078</td>\n",
       "      <td>-0.437749</td>\n",
       "      <td>0.164149</td>\n",
       "    </tr>\n",
       "    <tr>\n",
       "      <th>Duration</th>\n",
       "      <td>0.027886</td>\n",
       "      <td>-0.192009</td>\n",
       "      <td>0.022029</td>\n",
       "      <td>-0.062078</td>\n",
       "      <td>1.000000</td>\n",
       "      <td>0.175191</td>\n",
       "      <td>-0.144280</td>\n",
       "    </tr>\n",
       "    <tr>\n",
       "      <th>Total_Stops</th>\n",
       "      <td>0.035973</td>\n",
       "      <td>-0.225605</td>\n",
       "      <td>0.337872</td>\n",
       "      <td>-0.437749</td>\n",
       "      <td>0.175191</td>\n",
       "      <td>1.000000</td>\n",
       "      <td>-0.571221</td>\n",
       "    </tr>\n",
       "    <tr>\n",
       "      <th>Price</th>\n",
       "      <td>-0.039565</td>\n",
       "      <td>0.015999</td>\n",
       "      <td>-0.071122</td>\n",
       "      <td>0.164149</td>\n",
       "      <td>-0.144280</td>\n",
       "      <td>-0.571221</td>\n",
       "      <td>1.000000</td>\n",
       "    </tr>\n",
       "  </tbody>\n",
       "</table>\n",
       "</div>"
      ],
      "text/plain": [
       "              Airline    Source  Destination     Route  Duration  Total_Stops  \\\n",
       "Airline      1.000000 -0.013397     0.018446  0.025214  0.027886     0.035973   \n",
       "Source      -0.013397  1.000000    -0.592576  0.403412 -0.192009    -0.225605   \n",
       "Destination  0.018446 -0.592576     1.000000 -0.461176  0.022029     0.337872   \n",
       "Route        0.025214  0.403412    -0.461176  1.000000 -0.062078    -0.437749   \n",
       "Duration     0.027886 -0.192009     0.022029 -0.062078  1.000000     0.175191   \n",
       "Total_Stops  0.035973 -0.225605     0.337872 -0.437749  0.175191     1.000000   \n",
       "Price       -0.039565  0.015999    -0.071122  0.164149 -0.144280    -0.571221   \n",
       "\n",
       "                Price  \n",
       "Airline     -0.039565  \n",
       "Source       0.015999  \n",
       "Destination -0.071122  \n",
       "Route        0.164149  \n",
       "Duration    -0.144280  \n",
       "Total_Stops -0.571221  \n",
       "Price        1.000000  "
      ]
     },
     "execution_count": 152,
     "metadata": {},
     "output_type": "execute_result"
    }
   ],
   "source": [
    "df.corr()"
   ]
  },
  {
   "cell_type": "code",
   "execution_count": 153,
   "id": "28d200a8",
   "metadata": {},
   "outputs": [
    {
     "data": {
      "text/plain": [
       "<AxesSubplot:>"
      ]
     },
     "execution_count": 153,
     "metadata": {},
     "output_type": "execute_result"
    },
    {
     "data": {
      "image/png": "[encoded data removed]",
      "text/plain": [
       "<Figure size 1080x504 with 2 Axes>"
      ]
     },
     "metadata": {
      "needs_background": "light"
     },
     "output_type": "display_data"
    }
   ],
   "source": [
    "plt.figure(figsize=(15,7))\n",
    "sns.heatmap(df.corr(),annot=True)"
   ]
  },
  {
   "cell_type": "markdown",
   "id": "1e8b9f87",
   "metadata": {},
   "source": [
    "### Outcome of correlation"
   ]
  },
  {
   "cell_type": "markdown",
   "id": "b6794b04",
   "metadata": {},
   "source": [
    "from heatmap source,Route dataset has positive correlation .\n",
    "\n",
    "route has 16 percent correlation with target column which can be considered as a good bond.\n",
    "\n",
    "source has 0.16 percent correlation with target column which can be considered as a good bond.\n",
    "\n",
    "Total stops has -57% percent correlation with target column which can be considered as a negative bond.\n",
    "\n",
    "max correlation :route \n",
    "    \n",
    "min correlation: Total stops "
   ]
  },
  {
   "cell_type": "markdown",
   "id": "5783ffde",
   "metadata": {},
   "source": [
    "## 3.Data Preprocessing"
   ]
  },
  {
   "cell_type": "code",
   "execution_count": 85,
   "id": "fa00e9c0",
   "metadata": {},
   "outputs": [],
   "source": [
    "feature = ['Arrival_Time','Dep_Time','Date_of_Journey']\n",
    "df.drop(feature,axis=1,inplace=True)"
   ]
  },
  {
   "cell_type": "code",
   "execution_count": 86,
   "id": "7e98e78b",
   "metadata": {},
   "outputs": [
    {
     "data": {
      "text/html": [
       "<div>\n",
       "<style scoped>\n",
       "    .dataframe tbody tr th:only-of-type {\n",
       "        vertical-align: middle;\n",
       "    }\n",
       "\n",
       "    .dataframe tbody tr th {\n",
       "        vertical-align: top;\n",
       "    }\n",
       "\n",
       "    .dataframe thead th {\n",
       "        text-align: right;\n",
       "    }\n",
       "</style>\n",
       "<table border=\"1\" class=\"dataframe\">\n",
       "  <thead>\n",
       "    <tr style=\"text-align: right;\">\n",
       "      <th></th>\n",
       "      <th>Airline</th>\n",
       "      <th>Source</th>\n",
       "      <th>Destination</th>\n",
       "      <th>Route</th>\n",
       "      <th>Duration</th>\n",
       "      <th>Total_Stops</th>\n",
       "      <th>Price</th>\n",
       "    </tr>\n",
       "  </thead>\n",
       "  <tbody>\n",
       "    <tr>\n",
       "      <th>0</th>\n",
       "      <td>IndiGo</td>\n",
       "      <td>Banglore</td>\n",
       "      <td>New Delhi</td>\n",
       "      <td>BLR → DEL</td>\n",
       "      <td>2h 50m</td>\n",
       "      <td>non-stop</td>\n",
       "      <td>3897</td>\n",
       "    </tr>\n",
       "    <tr>\n",
       "      <th>1</th>\n",
       "      <td>Air India</td>\n",
       "      <td>Kolkata</td>\n",
       "      <td>Banglore</td>\n",
       "      <td>CCU → IXR → BBI → BLR</td>\n",
       "      <td>7h 25m</td>\n",
       "      <td>2 stops</td>\n",
       "      <td>7662</td>\n",
       "    </tr>\n",
       "    <tr>\n",
       "      <th>2</th>\n",
       "      <td>Jet Airways</td>\n",
       "      <td>Delhi</td>\n",
       "      <td>Cochin</td>\n",
       "      <td>DEL → LKO → BOM → COK</td>\n",
       "      <td>19h</td>\n",
       "      <td>2 stops</td>\n",
       "      <td>13882</td>\n",
       "    </tr>\n",
       "    <tr>\n",
       "      <th>3</th>\n",
       "      <td>IndiGo</td>\n",
       "      <td>Kolkata</td>\n",
       "      <td>Banglore</td>\n",
       "      <td>CCU → NAG → BLR</td>\n",
       "      <td>5h 25m</td>\n",
       "      <td>1 stop</td>\n",
       "      <td>6218</td>\n",
       "    </tr>\n",
       "    <tr>\n",
       "      <th>4</th>\n",
       "      <td>IndiGo</td>\n",
       "      <td>Banglore</td>\n",
       "      <td>New Delhi</td>\n",
       "      <td>BLR → NAG → DEL</td>\n",
       "      <td>4h 45m</td>\n",
       "      <td>1 stop</td>\n",
       "      <td>13302</td>\n",
       "    </tr>\n",
       "  </tbody>\n",
       "</table>\n",
       "</div>"
      ],
      "text/plain": [
       "       Airline    Source Destination                  Route Duration  \\\n",
       "0       IndiGo  Banglore   New Delhi              BLR → DEL   2h 50m   \n",
       "1    Air India   Kolkata    Banglore  CCU → IXR → BBI → BLR   7h 25m   \n",
       "2  Jet Airways     Delhi      Cochin  DEL → LKO → BOM → COK      19h   \n",
       "3       IndiGo   Kolkata    Banglore        CCU → NAG → BLR   5h 25m   \n",
       "4       IndiGo  Banglore   New Delhi        BLR → NAG → DEL   4h 45m   \n",
       "\n",
       "  Total_Stops  Price  \n",
       "0    non-stop   3897  \n",
       "1     2 stops   7662  \n",
       "2     2 stops  13882  \n",
       "3      1 stop   6218  \n",
       "4      1 stop  13302  "
      ]
     },
     "execution_count": 86,
     "metadata": {},
     "output_type": "execute_result"
    }
   ],
   "source": [
    "df.head()"
   ]
  },
  {
   "cell_type": "markdown",
   "id": "aa3cbed3",
   "metadata": {},
   "source": [
    "### Encoding"
   ]
  },
  {
   "cell_type": "code",
   "execution_count": 87,
   "id": "e5a9ce0c",
   "metadata": {},
   "outputs": [],
   "source": [
    "from sklearn.preprocessing import LabelEncoder\n",
    "LE=LabelEncoder()"
   ]
  },
  {
   "cell_type": "code",
   "execution_count": 88,
   "id": "16a65861",
   "metadata": {},
   "outputs": [],
   "source": [
    "from sklearn.preprocessing import LabelEncoder,MinMaxScaler\n",
    "df[\"Airline\"] = LabelEncoder().fit_transform(df['Airline'])\n",
    "df[\"Source\"] = LabelEncoder().fit_transform(df['Source'])\n",
    "df['Destination'] = LabelEncoder().fit_transform(df['Destination'])\n",
    "df[\"Route\"] = LabelEncoder().fit_transform(df['Route'])\n",
    "df['Total_Stops'] = LabelEncoder().fit_transform(df['Total_Stops'])\n",
    "df['Duration'] = LabelEncoder().fit_transform(df['Duration'])"
   ]
  },
  {
   "cell_type": "code",
   "execution_count": 89,
   "id": "87d6f936",
   "metadata": {},
   "outputs": [
    {
     "data": {
      "text/html": [
       "<div>\n",
       "<style scoped>\n",
       "    .dataframe tbody tr th:only-of-type {\n",
       "        vertical-align: middle;\n",
       "    }\n",
       "\n",
       "    .dataframe tbody tr th {\n",
       "        vertical-align: top;\n",
       "    }\n",
       "\n",
       "    .dataframe thead th {\n",
       "        text-align: right;\n",
       "    }\n",
       "</style>\n",
       "<table border=\"1\" class=\"dataframe\">\n",
       "  <thead>\n",
       "    <tr style=\"text-align: right;\">\n",
       "      <th></th>\n",
       "      <th>Airline</th>\n",
       "      <th>Source</th>\n",
       "      <th>Destination</th>\n",
       "      <th>Route</th>\n",
       "      <th>Duration</th>\n",
       "      <th>Total_Stops</th>\n",
       "      <th>Price</th>\n",
       "    </tr>\n",
       "  </thead>\n",
       "  <tbody>\n",
       "    <tr>\n",
       "      <th>0</th>\n",
       "      <td>3</td>\n",
       "      <td>0</td>\n",
       "      <td>5</td>\n",
       "      <td>18</td>\n",
       "      <td>240</td>\n",
       "      <td>4</td>\n",
       "      <td>3897</td>\n",
       "    </tr>\n",
       "    <tr>\n",
       "      <th>1</th>\n",
       "      <td>1</td>\n",
       "      <td>3</td>\n",
       "      <td>0</td>\n",
       "      <td>84</td>\n",
       "      <td>336</td>\n",
       "      <td>1</td>\n",
       "      <td>7662</td>\n",
       "    </tr>\n",
       "    <tr>\n",
       "      <th>2</th>\n",
       "      <td>4</td>\n",
       "      <td>2</td>\n",
       "      <td>1</td>\n",
       "      <td>118</td>\n",
       "      <td>106</td>\n",
       "      <td>1</td>\n",
       "      <td>13882</td>\n",
       "    </tr>\n",
       "    <tr>\n",
       "      <th>3</th>\n",
       "      <td>3</td>\n",
       "      <td>3</td>\n",
       "      <td>0</td>\n",
       "      <td>91</td>\n",
       "      <td>311</td>\n",
       "      <td>0</td>\n",
       "      <td>6218</td>\n",
       "    </tr>\n",
       "    <tr>\n",
       "      <th>4</th>\n",
       "      <td>3</td>\n",
       "      <td>0</td>\n",
       "      <td>5</td>\n",
       "      <td>29</td>\n",
       "      <td>303</td>\n",
       "      <td>0</td>\n",
       "      <td>13302</td>\n",
       "    </tr>\n",
       "    <tr>\n",
       "      <th>...</th>\n",
       "      <td>...</td>\n",
       "      <td>...</td>\n",
       "      <td>...</td>\n",
       "      <td>...</td>\n",
       "      <td>...</td>\n",
       "      <td>...</td>\n",
       "      <td>...</td>\n",
       "    </tr>\n",
       "    <tr>\n",
       "      <th>10678</th>\n",
       "      <td>0</td>\n",
       "      <td>3</td>\n",
       "      <td>0</td>\n",
       "      <td>64</td>\n",
       "      <td>236</td>\n",
       "      <td>4</td>\n",
       "      <td>4107</td>\n",
       "    </tr>\n",
       "    <tr>\n",
       "      <th>10679</th>\n",
       "      <td>1</td>\n",
       "      <td>3</td>\n",
       "      <td>0</td>\n",
       "      <td>64</td>\n",
       "      <td>237</td>\n",
       "      <td>4</td>\n",
       "      <td>4145</td>\n",
       "    </tr>\n",
       "    <tr>\n",
       "      <th>10680</th>\n",
       "      <td>4</td>\n",
       "      <td>0</td>\n",
       "      <td>2</td>\n",
       "      <td>18</td>\n",
       "      <td>280</td>\n",
       "      <td>4</td>\n",
       "      <td>7229</td>\n",
       "    </tr>\n",
       "    <tr>\n",
       "      <th>10681</th>\n",
       "      <td>10</td>\n",
       "      <td>0</td>\n",
       "      <td>5</td>\n",
       "      <td>18</td>\n",
       "      <td>238</td>\n",
       "      <td>4</td>\n",
       "      <td>12648</td>\n",
       "    </tr>\n",
       "    <tr>\n",
       "      <th>10682</th>\n",
       "      <td>1</td>\n",
       "      <td>2</td>\n",
       "      <td>1</td>\n",
       "      <td>108</td>\n",
       "      <td>347</td>\n",
       "      <td>1</td>\n",
       "      <td>11753</td>\n",
       "    </tr>\n",
       "  </tbody>\n",
       "</table>\n",
       "<p>10682 rows × 7 columns</p>\n",
       "</div>"
      ],
      "text/plain": [
       "       Airline  Source  Destination  Route  Duration  Total_Stops  Price\n",
       "0            3       0            5     18       240            4   3897\n",
       "1            1       3            0     84       336            1   7662\n",
       "2            4       2            1    118       106            1  13882\n",
       "3            3       3            0     91       311            0   6218\n",
       "4            3       0            5     29       303            0  13302\n",
       "...        ...     ...          ...    ...       ...          ...    ...\n",
       "10678        0       3            0     64       236            4   4107\n",
       "10679        1       3            0     64       237            4   4145\n",
       "10680        4       0            2     18       280            4   7229\n",
       "10681       10       0            5     18       238            4  12648\n",
       "10682        1       2            1    108       347            1  11753\n",
       "\n",
       "[10682 rows x 7 columns]"
      ]
     },
     "execution_count": 89,
     "metadata": {},
     "output_type": "execute_result"
    }
   ],
   "source": [
    "df"
   ]
  },
  {
   "cell_type": "markdown",
   "id": "ef642aeb",
   "metadata": {},
   "source": [
    "#### Removing outliers"
   ]
  },
  {
   "cell_type": "code",
   "execution_count": 90,
   "id": "ab4f3e5a",
   "metadata": {},
   "outputs": [
    {
     "data": {
      "image/png": "[encoded data removed]",
      "text/plain": [
       "<Figure size 720x504 with 1 Axes>"
      ]
     },
     "metadata": {
      "needs_background": "light"
     },
     "output_type": "display_data"
    },
    {
     "data": {
      "image/png": "[encoded data removed]",
      "text/plain": [
       "<Figure size 720x504 with 1 Axes>"
      ]
     },
     "metadata": {
      "needs_background": "light"
     },
     "output_type": "display_data"
    },
    {
     "data": {
      "image/png": "[encoded data removed]",
      "text/plain": [
       "<Figure size 720x504 with 1 Axes>"
      ]
     },
     "metadata": {
      "needs_background": "light"
     },
     "output_type": "display_data"
    },
    {
     "data": {
      "image/png": "[encoded data removed]",
      "text/plain": [
       "<Figure size 720x504 with 1 Axes>"
      ]
     },
     "metadata": {
      "needs_background": "light"
     },
     "output_type": "display_data"
    },
    {
     "data": {
      "image/png": "[encoded data removed]",
      "text/plain": [
       "<Figure size 720x504 with 1 Axes>"
      ]
     },
     "metadata": {
      "needs_background": "light"
     },
     "output_type": "display_data"
    },
    {
     "data": {
      "image/png": "[encoded data removed]",
      "text/plain": [
       "<Figure size 720x504 with 1 Axes>"
      ]
     },
     "metadata": {
      "needs_background": "light"
     },
     "output_type": "display_data"
    },
    {
     "data": {
      "image/png": "[encoded data removed]",
      "text/plain": [
       "<Figure size 720x504 with 1 Axes>"
      ]
     },
     "metadata": {
      "needs_background": "light"
     },
     "output_type": "display_data"
    }
   ],
   "source": [
    "for i in df.columns:\n",
    "    plt.figure(figsize = (10, 7))\n",
    "    sns.boxplot(df[i])"
   ]
  },
  {
   "cell_type": "markdown",
   "id": "e1dc0af1",
   "metadata": {},
   "source": [
    "##### Z Score _ Technique"
   ]
  },
  {
   "cell_type": "code",
   "execution_count": 91,
   "id": "6226b300",
   "metadata": {},
   "outputs": [
    {
     "data": {
      "text/plain": [
       "(10682, 7)"
      ]
     },
     "execution_count": 91,
     "metadata": {},
     "output_type": "execute_result"
    }
   ],
   "source": [
    "from scipy.stats import zscore\n",
    "import numpy as np\n",
    "\n",
    "z=np.abs(zscore(df))\n",
    "z.shape"
   ]
  },
  {
   "cell_type": "code",
   "execution_count": 92,
   "id": "d9b0e99c",
   "metadata": {},
   "outputs": [
    {
     "name": "stdout",
     "output_type": "stream",
     "text": [
      "(array([  123,   396,   486,   510,   597,   628,   657,   785,   826,\n",
      "         936,   946,   959,   975,  1196,  1246,  1341,  1424,  1466,\n",
      "        1478,  1629,  1654,  1785,  1918,  2055,  2099,  2108,  2495,\n",
      "        2556,  2618,  2635,  2693,  2924,  3032,  3111,  3257,  3400,\n",
      "        3535,  3700,  4012,  4521,  4676,  4829,  5013,  5136,  5372,\n",
      "        5439,  5662,  5701,  5710,  5719,  5738,  5745,  5856,  5986,\n",
      "        6314,  6407,  6576,  6588,  6605,  6991,  7351,  7356,  7377,\n",
      "        7537,  7554,  7617,  7713,  7724,  7756,  7902,  8020,  8080,\n",
      "        8451,  8470,  8536,  8598,  8856,  8940,  8957,  8990,  9019,\n",
      "        9192,  9238,  9631,  9714,  9973, 10051, 10112, 10159, 10181,\n",
      "       10188, 10352, 10363, 10382, 10438, 10510], dtype=int64), array([6, 6, 6, 6, 6, 6, 6, 6, 6, 6, 6, 6, 6, 6, 6, 6, 6, 6, 6, 6, 6, 6,\n",
      "       6, 6, 6, 6, 6, 6, 6, 6, 6, 6, 6, 6, 6, 6, 6, 6, 6, 6, 6, 6, 6, 6,\n",
      "       6, 6, 6, 6, 6, 6, 6, 6, 6, 6, 6, 6, 6, 6, 6, 6, 6, 6, 6, 6, 6, 6,\n",
      "       6, 6, 6, 6, 6, 6, 6, 6, 6, 6, 6, 6, 6, 6, 6, 6, 6, 6, 6, 6, 6, 6,\n",
      "       6, 6, 6, 6, 6, 6, 6, 6], dtype=int64))\n"
     ]
    }
   ],
   "source": [
    "threshold=3\n",
    "print(np.where(z>3))"
   ]
  },
  {
   "cell_type": "code",
   "execution_count": 93,
   "id": "d2e4999c",
   "metadata": {},
   "outputs": [
    {
     "name": "stdout",
     "output_type": "stream",
     "text": [
      "(10682, 7)\n",
      "(10586, 7)\n"
     ]
    }
   ],
   "source": [
    "df_new=df[(z<3).all(axis=1)]\n",
    "print(df.shape)\n",
    "print(df_new.shape)"
   ]
  },
  {
   "cell_type": "markdown",
   "id": "cb7ef22b",
   "metadata": {},
   "source": [
    "percentage data loss"
   ]
  },
  {
   "cell_type": "code",
   "execution_count": 94,
   "id": "4122370c",
   "metadata": {},
   "outputs": [
    {
     "name": "stdout",
     "output_type": "stream",
     "text": [
      "0.8987081070960493\n"
     ]
    }
   ],
   "source": [
    "loss_percent=(10682-10586)/10682*100\n",
    "print(loss_percent)"
   ]
  },
  {
   "cell_type": "markdown",
   "id": "6a468d3a",
   "metadata": {},
   "source": [
    "percentage of data loss is low"
   ]
  },
  {
   "cell_type": "markdown",
   "id": "9353ecca",
   "metadata": {},
   "source": [
    "#### Removing Skewness"
   ]
  },
  {
   "cell_type": "code",
   "execution_count": 95,
   "id": "3a299edf",
   "metadata": {},
   "outputs": [
    {
     "data": {
      "image/png": "[encoded data removed]",
      "text/plain": [
       "<Figure size 720x432 with 1 Axes>"
      ]
     },
     "metadata": {
      "needs_background": "light"
     },
     "output_type": "display_data"
    },
    {
     "data": {
      "image/png": "[encoded data removed]",
      "text/plain": [
       "<Figure size 720x432 with 1 Axes>"
      ]
     },
     "metadata": {
      "needs_background": "light"
     },
     "output_type": "display_data"
    },
    {
     "data": {
      "image/png": "[encoded data removed]",
      "text/plain": [
       "<Figure size 720x432 with 1 Axes>"
      ]
     },
     "metadata": {
      "needs_background": "light"
     },
     "output_type": "display_data"
    },
    {
     "data": {
      "image/png": "[encoded data removed]",
      "text/plain": [
       "<Figure size 720x432 with 1 Axes>"
      ]
     },
     "metadata": {
      "needs_background": "light"
     },
     "output_type": "display_data"
    },
    {
     "data": {
      "image/png": "[encoded data removed]",
      "text/plain": [
       "<Figure size 720x432 with 1 Axes>"
      ]
     },
     "metadata": {
      "needs_background": "light"
     },
     "output_type": "display_data"
    },
    {
     "data": {
      "image/png": "[encoded data removed]",
      "text/plain": [
       "<Figure size 720x432 with 1 Axes>"
      ]
     },
     "metadata": {
      "needs_background": "light"
     },
     "output_type": "display_data"
    },
    {
     "data": {
      "image/png": "[encoded data removed]",
      "text/plain": [
       "<Figure size 720x432 with 1 Axes>"
      ]
     },
     "metadata": {
      "needs_background": "light"
     },
     "output_type": "display_data"
    }
   ],
   "source": [
    "for i in df.columns:\n",
    "    plt.figure(figsize=[10,6])\n",
    "    sns.kdeplot(df[i])"
   ]
  },
  {
   "cell_type": "code",
   "execution_count": 96,
   "id": "4de432d3",
   "metadata": {},
   "outputs": [
    {
     "data": {
      "text/plain": [
       "Airline        0.731057\n",
       "Source        -0.424023\n",
       "Destination    1.244046\n",
       "Route         -0.501911\n",
       "Duration      -0.213498\n",
       "Total_Stops    0.631532\n",
       "Price          1.812405\n",
       "dtype: float64"
      ]
     },
     "execution_count": 96,
     "metadata": {},
     "output_type": "execute_result"
    }
   ],
   "source": [
    "df.skew()"
   ]
  },
  {
   "cell_type": "markdown",
   "id": "8cf826bb",
   "metadata": {},
   "source": [
    "inference: Destination and Price have high skewness"
   ]
  },
  {
   "cell_type": "code",
   "execution_count": 97,
   "id": "c647f803",
   "metadata": {},
   "outputs": [],
   "source": [
    "x= df.drop(columns='Price')\n",
    "y= df['Price']"
   ]
  },
  {
   "cell_type": "code",
   "execution_count": 98,
   "id": "1a722bce",
   "metadata": {},
   "outputs": [],
   "source": [
    "from sklearn.preprocessing import power_transform\n",
    "x=power_transform(x,method='yeo-johnson')"
   ]
  },
  {
   "cell_type": "markdown",
   "id": "ecef8178",
   "metadata": {},
   "source": [
    "#### Scaling"
   ]
  },
  {
   "cell_type": "code",
   "execution_count": 99,
   "id": "3ff131d5",
   "metadata": {},
   "outputs": [],
   "source": [
    "from sklearn.preprocessing import StandardScaler\n",
    "sc=StandardScaler()\n",
    "x=sc.fit_transform(x)"
   ]
  },
  {
   "cell_type": "markdown",
   "id": "dee3dc6f",
   "metadata": {},
   "source": [
    "### 5.train test split"
   ]
  },
  {
   "cell_type": "code",
   "execution_count": 100,
   "id": "a1a4740a",
   "metadata": {},
   "outputs": [],
   "source": [
    "from sklearn.model_selection import train_test_split\n",
    "x_train, x_test, y_train, y_test = train_test_split(x,y,test_size=0.2,random_state=47)"
   ]
  },
  {
   "cell_type": "code",
   "execution_count": 101,
   "id": "8ddfc564",
   "metadata": {},
   "outputs": [],
   "source": [
    "from sklearn.metrics import mean_squared_error,mean_absolute_error\n",
    "from sklearn.metrics import r2_score\n",
    "from sklearn.model_selection import train_test_split\n",
    "from sklearn.model_selection import cross_val_score\n",
    "from sklearn.linear_model import LinearRegression\n"
   ]
  },
  {
   "cell_type": "markdown",
   "id": "723de1a3",
   "metadata": {},
   "source": [
    "### finding best random_state"
   ]
  },
  {
   "cell_type": "code",
   "execution_count": 102,
   "id": "a71f1a44",
   "metadata": {},
   "outputs": [
    {
     "name": "stdout",
     "output_type": "stream",
     "text": [
      "0 0.014899613597117556\n",
      "least value 0 0.014899613597117556\n",
      "1 -0.00042206167800573624\n",
      "least value 1 -0.00042206167800573624\n",
      "2 0.003203355837161359\n",
      "3 -0.03774325542517731\n",
      "least value 3 -0.03774325542517731\n",
      "4 0.028244718453950157\n",
      "5 0.0017991547880154002\n",
      "6 0.013083312771553612\n",
      "7 -0.010675111123675585\n",
      "8 -0.006153168746544813\n",
      "9 -0.03813181264712584\n",
      "least value 9 -0.03813181264712584\n",
      "10 0.0030574096420226127\n",
      "11 0.006878764280129457\n",
      "12 -0.0031703987505050657\n",
      "13 0.006562896529060391\n",
      "14 0.010144184641070919\n",
      "15 -0.01839938272248076\n",
      "16 -0.0068090773374595015\n",
      "17 0.014116480058054548\n",
      "18 -0.012378707552180068\n",
      "19 -0.013867945283095207\n",
      "20 -0.015331839689584958\n",
      "21 0.017058280108828705\n",
      "22 -0.010318149523762754\n",
      "23 -0.004717700833697269\n",
      "24 0.020374573608823776\n",
      "25 0.018751074990459027\n",
      "26 0.03404051291150456\n",
      "27 0.03660700017509344\n",
      "28 -0.027776788002283337\n",
      "29 -0.01383163836086343\n",
      "30 0.026830048074022894\n",
      "31 -0.04415028120297704\n",
      "least value 31 -0.04415028120297704\n",
      "32 -0.015692742133836313\n",
      "33 0.009824199957895963\n",
      "34 0.008966402411247465\n",
      "35 0.01300689243117914\n",
      "36 0.0496940360197039\n",
      "37 -0.005946535432862277\n",
      "38 -0.025417977141409365\n",
      "39 -0.012944752166107576\n",
      "40 0.02969871879553665\n",
      "41 0.006178236677068516\n",
      "42 -0.0278539126046099\n",
      "43 0.019396910941119172\n",
      "44 0.004060907328224506\n",
      "45 0.012142641013104472\n",
      "46 -0.029528369167412527\n",
      "47 -0.029291023168253716\n",
      "48 0.015554469645565061\n",
      "49 0.010499721832356812\n",
      "50 -0.0032236415442308264\n",
      "51 -0.03255756873750226\n",
      "52 -0.0002902717626166451\n",
      "53 -0.017045743406535196\n",
      "54 -0.0036456949935038674\n",
      "55 0.023156416395461732\n",
      "56 0.0344211792669612\n",
      "57 0.0018783668289167332\n",
      "58 -0.005410646217845594\n",
      "59 -0.0008719124655081067\n",
      "60 0.0035194402919019874\n",
      "61 0.013623400929957064\n",
      "62 0.01789930146831953\n",
      "63 0.024101240902975052\n",
      "64 -0.03291308243394819\n",
      "65 0.002430778970200387\n",
      "66 0.018136614679782448\n",
      "67 0.01667615371330955\n",
      "68 -0.011846136944713148\n",
      "69 -0.01314059583430538\n",
      "70 0.009098499790426762\n",
      "71 -0.005868083333487872\n",
      "72 -0.007115321873999547\n",
      "73 0.007562418075978905\n",
      "74 0.016640805330426778\n",
      "75 -0.016925711044780467\n",
      "76 -0.03756444262868763\n",
      "77 -0.019904671869060087\n",
      "78 0.02807279658001305\n",
      "79 0.028262171183591756\n",
      "80 0.007155408458058399\n",
      "81 -0.008974677162309375\n",
      "82 0.0018376878661141571\n",
      "83 0.012693589764561586\n",
      "84 -0.006937108157593075\n",
      "85 -0.029339721795612395\n",
      "86 0.052729666266775665\n",
      "87 0.009369022940741156\n",
      "88 -0.00898641706854475\n",
      "89 -0.0028917521046186723\n",
      "90 0.01865831695766451\n",
      "91 0.007379328824075548\n",
      "92 -0.02899971124886791\n",
      "93 -0.01218306318197071\n",
      "94 0.03303620932602458\n",
      "95 0.030135329409374245\n",
      "96 0.01619270988726762\n",
      "97 0.006185095269570229\n",
      "98 -0.0345267454424123\n",
      "99 -0.022539125146626482\n"
     ]
    }
   ],
   "source": [
    "from sklearn.metrics import r2_score\n",
    "d=5\n",
    "for i in range(0,100):\n",
    "    x_train, x_test, y_train, y_test = train_test_split(x,y,test_size=0.2,random_state=i)\n",
    "    lm=LinearRegression()\n",
    "    lm.fit(x_train,y_train)\n",
    "    pred_train=lm.predict(x_train)\n",
    "    pred_test = lm.predict(x_test)\n",
    "    a=r2_score(y_train,pred_train)\n",
    "    b=r2_score(y_test,pred_test)\n",
    "    c=a-b\n",
    "    print(i,c)\n",
    "    if d>=c:\n",
    "        d=c\n",
    "        print(\"least value\",i,d)"
   ]
  },
  {
   "cell_type": "code",
   "execution_count": 103,
   "id": "8780b109",
   "metadata": {},
   "outputs": [],
   "source": [
    "x_train, x_test, y_train, y_test = train_test_split(x,y,test_size=0.2,random_state=31)"
   ]
  },
  {
   "cell_type": "markdown",
   "id": "4e94f755",
   "metadata": {},
   "source": [
    "# 6.Model Construction"
   ]
  },
  {
   "cell_type": "markdown",
   "id": "6671a392",
   "metadata": {},
   "source": [
    "### LinearRegression"
   ]
  },
  {
   "cell_type": "code",
   "execution_count": 104,
   "id": "eadd9da0",
   "metadata": {},
   "outputs": [],
   "source": [
    "from sklearn.metrics import mean_squared_error,mean_absolute_error\n",
    "from sklearn.metrics import r2_score\n",
    "from sklearn.model_selection import train_test_split\n",
    "from sklearn.model_selection import cross_val_score"
   ]
  },
  {
   "cell_type": "code",
   "execution_count": 105,
   "id": "28a53ead",
   "metadata": {},
   "outputs": [
    {
     "data": {
      "text/plain": [
       "LinearRegression()"
      ]
     },
     "execution_count": 105,
     "metadata": {},
     "output_type": "execute_result"
    }
   ],
   "source": [
    "from sklearn.linear_model import LinearRegression\n",
    "lm=LinearRegression()\n",
    "lm.fit(x_train,y_train)"
   ]
  },
  {
   "cell_type": "code",
   "execution_count": 106,
   "id": "4ebd3e2f",
   "metadata": {},
   "outputs": [],
   "source": [
    "predictions=lm.predict(x_test)"
   ]
  },
  {
   "cell_type": "code",
   "execution_count": 107,
   "id": "fd91326b",
   "metadata": {},
   "outputs": [
    {
     "name": "stdout",
     "output_type": "stream",
     "text": [
      "Mean Absolute Error:  2835.894120048729\n",
      "Mean Squared Error:  13517670.804993138\n",
      "Root Mean Squared Error:  3676.638519761378\n",
      "Explained Variance Score:  0.288330326920903\n"
     ]
    }
   ],
   "source": [
    "import numpy as np\n",
    "from sklearn import metrics\n",
    "print('Mean Absolute Error: ',metrics.mean_absolute_error(y_test,predictions))\n",
    "print('Mean Squared Error: ',metrics.mean_squared_error(y_test,predictions))\n",
    "print('Root Mean Squared Error: ',np.sqrt(metrics.mean_squared_error(y_test,predictions)))\n",
    "print('Explained Variance Score: ',metrics.explained_variance_score(y_test,predictions))"
   ]
  },
  {
   "cell_type": "markdown",
   "id": "25f45d72",
   "metadata": {},
   "source": [
    "### RandomForestRegressor"
   ]
  },
  {
   "cell_type": "code",
   "execution_count": 108,
   "id": "e02e64ae",
   "metadata": {},
   "outputs": [
    {
     "name": "stdout",
     "output_type": "stream",
     "text": [
      "0.7599789928862117\n"
     ]
    }
   ],
   "source": [
    "from sklearn.ensemble import RandomForestRegressor\n",
    "rf=RandomForestRegressor()\n",
    "rf.fit(x_train,y_train)\n",
    "predictions1=rf.predict(x_test)\n",
    "print(rf.score(x_train,y_train))"
   ]
  },
  {
   "cell_type": "code",
   "execution_count": 109,
   "id": "91476207",
   "metadata": {},
   "outputs": [
    {
     "name": "stdout",
     "output_type": "stream",
     "text": [
      "Mean Absolute Error:  1716.1639662357447\n",
      "Mean Squared Error:  7852983.253275702\n",
      "Root Mean Squared Error:  2802.3174790297585\n",
      "Explained Variance Score:  0.5871347113387093\n",
      "r2_score: 0.5865368284754724\n"
     ]
    }
   ],
   "source": [
    "print('Mean Absolute Error: ',metrics.mean_absolute_error(y_test,predictions1))\n",
    "print('Mean Squared Error: ',metrics.mean_squared_error(y_test,predictions1))\n",
    "print('Root Mean Squared Error: ',np.sqrt(metrics.mean_squared_error(y_test,predictions1)))\n",
    "print('Explained Variance Score: ',metrics.explained_variance_score(y_test,predictions1))\n",
    "print('r2_score:',r2_score(y_test,predictions1))"
   ]
  },
  {
   "cell_type": "markdown",
   "id": "83ffdd9d",
   "metadata": {},
   "source": [
    "### DecisionTreeRegressor"
   ]
  },
  {
   "cell_type": "code",
   "execution_count": 110,
   "id": "290b11c5",
   "metadata": {},
   "outputs": [
    {
     "name": "stdout",
     "output_type": "stream",
     "text": [
      "0.7647270655518289\n"
     ]
    }
   ],
   "source": [
    "from sklearn.tree import DecisionTreeRegressor\n",
    "\n",
    "DTR=DecisionTreeRegressor()\n",
    "DTR.fit(x_train,y_train)\n",
    "print(DTR.score(x_train,y_train))\n",
    "DTR_PRED=DTR.predict(x_test)"
   ]
  },
  {
   "cell_type": "code",
   "execution_count": 111,
   "id": "63a41479",
   "metadata": {},
   "outputs": [
    {
     "name": "stdout",
     "output_type": "stream",
     "text": [
      "Mean Absolute Error:  1764.089178553876\n",
      "Mean Squared Error:  8587109.58955677\n",
      "Root Mean Squared Error:  2930.3770388052067\n",
      "Explained Variance Score:  0.5484589648300169\n",
      "r2_score: 0.5478847400259217\n"
     ]
    }
   ],
   "source": [
    "print('Mean Absolute Error: ',metrics.mean_absolute_error(y_test,DTR_PRED))\n",
    "print('Mean Squared Error: ',metrics.mean_squared_error(y_test,DTR_PRED))\n",
    "print('Root Mean Squared Error: ',np.sqrt(metrics.mean_squared_error(y_test,DTR_PRED)))\n",
    "print('Explained Variance Score: ',metrics.explained_variance_score(y_test,DTR_PRED))\n",
    "print('r2_score:',r2_score(y_test,DTR_PRED))"
   ]
  },
  {
   "cell_type": "markdown",
   "id": "78700120",
   "metadata": {},
   "source": [
    "### SVR"
   ]
  },
  {
   "cell_type": "code",
   "execution_count": 112,
   "id": "4c3e5961",
   "metadata": {},
   "outputs": [
    {
     "name": "stdout",
     "output_type": "stream",
     "text": [
      "0.05340302488080195\n"
     ]
    }
   ],
   "source": [
    "from sklearn.svm import SVR\n",
    "\n",
    "svr=SVR()\n",
    "svr.fit(x_train,y_train)\n",
    "print(svr.score(x_train,y_train))\n",
    "svr_predict=svr.predict(x_test)"
   ]
  },
  {
   "cell_type": "code",
   "execution_count": 113,
   "id": "8d1b21d3",
   "metadata": {},
   "outputs": [
    {
     "name": "stdout",
     "output_type": "stream",
     "text": [
      "Mean Absolute Error:  3288.272715660477\n",
      "Mean Squared Error:  17970356.801277187\n",
      "Root Mean Squared Error:  4239.145763155259\n",
      "Explained Variance Score:  0.09184850071663009\n",
      "r2_score: 0.05385246894750062\n"
     ]
    }
   ],
   "source": [
    "print('Mean Absolute Error: ',metrics.mean_absolute_error(y_test,svr_predict))\n",
    "print('Mean Squared Error: ',metrics.mean_squared_error(y_test,svr_predict))\n",
    "print('Root Mean Squared Error: ',np.sqrt(metrics.mean_squared_error(y_test,svr_predict)))\n",
    "print('Explained Variance Score: ',metrics.explained_variance_score(y_test,svr_predict))\n",
    "print('r2_score:',r2_score(y_test,svr_predict))"
   ]
  },
  {
   "cell_type": "code",
   "execution_count": 114,
   "id": "26517091",
   "metadata": {},
   "outputs": [
    {
     "data": {
      "text/plain": [
       "0.05006848834062311"
      ]
     },
     "execution_count": 114,
     "metadata": {},
     "output_type": "execute_result"
    }
   ],
   "source": [
    "svr_cv=cross_val_score(svr,x,y, cv = 4).mean()\n",
    "svr_cv"
   ]
  },
  {
   "cell_type": "markdown",
   "id": "5519eef9",
   "metadata": {},
   "source": [
    "### GradientBoostingRegressor"
   ]
  },
  {
   "cell_type": "code",
   "execution_count": 115,
   "id": "d43c45e1",
   "metadata": {},
   "outputs": [
    {
     "name": "stdout",
     "output_type": "stream",
     "text": [
      "0.6680948017686696\n"
     ]
    }
   ],
   "source": [
    "from sklearn.ensemble import GradientBoostingRegressor\n",
    "\n",
    "GBR=GradientBoostingRegressor()\n",
    "GBR.fit(x_train,y_train)\n",
    "print(GBR.score(x_train,y_train))\n",
    "GBR_PRED=GBR.predict(x_test)"
   ]
  },
  {
   "cell_type": "code",
   "execution_count": 116,
   "id": "aec82a04",
   "metadata": {},
   "outputs": [
    {
     "name": "stdout",
     "output_type": "stream",
     "text": [
      "Mean Absolute Error:  1819.8235191889125\n",
      "Mean Squared Error:  7243162.956317311\n",
      "Root Mean Squared Error:  2691.3124969645037\n",
      "Explained Variance Score:  0.6187605241834229\n",
      "r2_score: 0.6186441469184694\n"
     ]
    }
   ],
   "source": [
    "print('Mean Absolute Error: ',metrics.mean_absolute_error(y_test,GBR_PRED))\n",
    "print('Mean Squared Error: ',metrics.mean_squared_error(y_test,GBR_PRED))\n",
    "print('Root Mean Squared Error: ',np.sqrt(metrics.mean_squared_error(y_test,GBR_PRED)))\n",
    "print('Explained Variance Score: ',metrics.explained_variance_score(y_test,GBR_PRED))\n",
    "print('r2_score:',r2_score(y_test,GBR_PRED))"
   ]
  },
  {
   "cell_type": "code",
   "execution_count": 117,
   "id": "d4998325",
   "metadata": {},
   "outputs": [
    {
     "data": {
      "text/plain": [
       "0.6402150680054459"
      ]
     },
     "execution_count": 117,
     "metadata": {},
     "output_type": "execute_result"
    }
   ],
   "source": [
    "GBR_cv=cross_val_score(GBR,x,y, cv = 8).mean()\n",
    "GBR_cv"
   ]
  },
  {
   "cell_type": "markdown",
   "id": "829e21f8",
   "metadata": {},
   "source": [
    "## Ridge"
   ]
  },
  {
   "cell_type": "code",
   "execution_count": 118,
   "id": "e5141876",
   "metadata": {},
   "outputs": [
    {
     "name": "stdout",
     "output_type": "stream",
     "text": [
      "0.24413814455715588\n"
     ]
    }
   ],
   "source": [
    "from sklearn.linear_model import Ridge\n",
    "\n",
    "R=Ridge()\n",
    "R.fit(x_train,y_train)\n",
    "print(R.score(x_train,y_train))\n",
    "R_predict=R.predict(x_test)"
   ]
  },
  {
   "cell_type": "code",
   "execution_count": 119,
   "id": "3ad38da1",
   "metadata": {},
   "outputs": [
    {
     "name": "stdout",
     "output_type": "stream",
     "text": [
      "Mean Absolute Error:  2835.9196506861326\n",
      "Mean Squared Error:  13517700.262115652\n",
      "Root Mean Squared Error:  3676.6425257448745\n",
      "Explained Variance Score:  0.2883287525416487\n",
      "r2_score: 0.28828687877808534\n"
     ]
    }
   ],
   "source": [
    "print('Mean Absolute Error: ',metrics.mean_absolute_error(y_test,R_predict))\n",
    "print('Mean Squared Error: ',metrics.mean_squared_error(y_test,R_predict))\n",
    "print('Root Mean Squared Error: ',np.sqrt(metrics.mean_squared_error(y_test,R_predict)))\n",
    "print('Explained Variance Score: ',metrics.explained_variance_score(y_test,R_predict))\n",
    "print('r2_score:',r2_score(y_test,R_predict))"
   ]
  },
  {
   "cell_type": "code",
   "execution_count": 120,
   "id": "eb6df5b4",
   "metadata": {},
   "outputs": [
    {
     "data": {
      "text/plain": [
       "0.2510506537688761"
      ]
     },
     "execution_count": 120,
     "metadata": {},
     "output_type": "execute_result"
    }
   ],
   "source": [
    "R_cv=cross_val_score(R,x,y, cv = 7).mean()\n",
    "R_cv"
   ]
  },
  {
   "cell_type": "markdown",
   "id": "c003d14a",
   "metadata": {},
   "source": [
    "After evaluating the model based on MAE,MSE,RMSE,EVS,R2 SCORE the 3 best models choosen for hyper parameter tuning are\n",
    "1.RandomForestRegressor\n",
    "\n",
    "2.DecisionTreeRegressor\n",
    "\n",
    "3.GradientBoostingRegressor"
   ]
  },
  {
   "cell_type": "markdown",
   "id": "a0fb672a",
   "metadata": {},
   "source": [
    "### 1.RandomForestRegressor"
   ]
  },
  {
   "cell_type": "code",
   "execution_count": 121,
   "id": "ad980859",
   "metadata": {},
   "outputs": [],
   "source": [
    "RF=RandomForestRegressor()\n",
    "param={\n",
    "     'n_estimators':[100,200,],\n",
    "    'criterion':[\"mse\", \"mae\"],\n",
    "    'min_samples_split':[2],\n",
    "   'min_samples_leaf' : [1],\n",
    "}"
   ]
  },
  {
   "cell_type": "code",
   "execution_count": 122,
   "id": "8aa652b2",
   "metadata": {},
   "outputs": [],
   "source": [
    "from sklearn.model_selection import GridSearchCV\n",
    "RF_grid=GridSearchCV(RandomForestRegressor(),param,cv=4)"
   ]
  },
  {
   "cell_type": "code",
   "execution_count": 123,
   "id": "008a81ca",
   "metadata": {},
   "outputs": [],
   "source": [
    "RF_grid.fit(x_train,y_train)\n",
    "RF_grid_PRED=RF_grid.best_estimator_.predict(x_test)"
   ]
  },
  {
   "cell_type": "code",
   "execution_count": 124,
   "id": "9fa0d0a5",
   "metadata": {},
   "outputs": [
    {
     "data": {
      "text/plain": [
       "{'criterion': 'mae',\n",
       " 'min_samples_leaf': 1,\n",
       " 'min_samples_split': 2,\n",
       " 'n_estimators': 200}"
      ]
     },
     "execution_count": 124,
     "metadata": {},
     "output_type": "execute_result"
    }
   ],
   "source": [
    "RF_grid.best_params_"
   ]
  },
  {
   "cell_type": "code",
   "execution_count": 125,
   "id": "daa21929",
   "metadata": {},
   "outputs": [],
   "source": [
    "rf=RandomForestRegressor(criterion='mse',min_samples_leaf=1,min_samples_split=2,n_estimators=200)\n",
    "rf.fit(x_train,y_train)\n",
    "rf_predictions=rf.predict(x_test)"
   ]
  },
  {
   "cell_type": "code",
   "execution_count": 126,
   "id": "b30d8bfb",
   "metadata": {},
   "outputs": [
    {
     "name": "stdout",
     "output_type": "stream",
     "text": [
      "Mean Absolute Error:  1720.381789314089\n",
      "Mean Squared Error:  7859647.327503514\n",
      "Root Mean Squared Error:  2803.506256012908\n",
      "Explained Variance Score:  0.5868069714063519\n",
      "r2_score: 0.5861859619096541\n"
     ]
    }
   ],
   "source": [
    "import numpy as np\n",
    "from sklearn import metrics\n",
    "print('Mean Absolute Error: ',metrics.mean_absolute_error(y_test,rf_predictions))\n",
    "print('Mean Squared Error: ',metrics.mean_squared_error(y_test,rf_predictions))\n",
    "print('Root Mean Squared Error: ',np.sqrt(metrics.mean_squared_error(y_test,rf_predictions)))\n",
    "print('Explained Variance Score: ',metrics.explained_variance_score(y_test,rf_predictions))\n",
    "print('r2_score:',r2_score(y_test,rf_predictions))"
   ]
  },
  {
   "cell_type": "code",
   "execution_count": 127,
   "id": "722a655f",
   "metadata": {},
   "outputs": [
    {
     "data": {
      "text/plain": [
       "0.629885736334068"
      ]
     },
     "execution_count": 127,
     "metadata": {},
     "output_type": "execute_result"
    }
   ],
   "source": [
    "#CV SCORE\n",
    "rfr_cv=cross_val_score(rf,x,y, cv = 5).mean()\n",
    "rfr_cv"
   ]
  },
  {
   "cell_type": "code",
   "execution_count": null,
   "id": "ed2f5d71",
   "metadata": {},
   "outputs": [],
   "source": []
  },
  {
   "cell_type": "markdown",
   "id": "2293f5a6",
   "metadata": {},
   "source": [
    "### 2.DecisionTreeRegressor"
   ]
  },
  {
   "cell_type": "code",
   "execution_count": 128,
   "id": "87b13cb5",
   "metadata": {},
   "outputs": [],
   "source": [
    "from sklearn.model_selection import GridSearchCV\n",
    "parameter = {\"max_depth\":[1,3,5,7,9,11,12],\n",
    "             'criterion':['mse','friedman_mse']}\n",
    "GCV = GridSearchCV(DecisionTreeRegressor(),parameter,cv=5)"
   ]
  },
  {
   "cell_type": "code",
   "execution_count": 129,
   "id": "38d02c40",
   "metadata": {},
   "outputs": [
    {
     "data": {
      "text/plain": [
       "GridSearchCV(cv=5, estimator=DecisionTreeRegressor(),\n",
       "             param_grid={'criterion': ['mse', 'friedman_mse'],\n",
       "                         'max_depth': [1, 3, 5, 7, 9, 11, 12]})"
      ]
     },
     "execution_count": 129,
     "metadata": {},
     "output_type": "execute_result"
    }
   ],
   "source": [
    "GCV.fit(x_train,y_train)"
   ]
  },
  {
   "cell_type": "code",
   "execution_count": 130,
   "id": "76e6c59f",
   "metadata": {},
   "outputs": [
    {
     "data": {
      "text/plain": [
       "{'criterion': 'mse', 'max_depth': 9}"
      ]
     },
     "execution_count": 130,
     "metadata": {},
     "output_type": "execute_result"
    }
   ],
   "source": [
    "GCV.best_params_"
   ]
  },
  {
   "cell_type": "code",
   "execution_count": 131,
   "id": "dd1982a5",
   "metadata": {},
   "outputs": [],
   "source": [
    "from sklearn.tree import DecisionTreeRegressor\n",
    "\n",
    "DTR=DecisionTreeRegressor(criterion='mse',max_depth=9)\n",
    "DTR.fit(x_train,y_train)\n",
    "DTR_final=DTR.predict(x_test)"
   ]
  },
  {
   "cell_type": "code",
   "execution_count": 132,
   "id": "11accac6",
   "metadata": {},
   "outputs": [],
   "source": [
    "from sklearn.model_selection import GridSearchCV\n",
    "parameter = {\"max_depth\":[1,3,5,7,9,11,12],\n",
    "             'criterion':['mse','friedman_mse']}\n",
    "GCV = GridSearchCV(DecisionTreeRegressor(),parameter,cv=5)"
   ]
  },
  {
   "cell_type": "code",
   "execution_count": 133,
   "id": "c4de132e",
   "metadata": {},
   "outputs": [
    {
     "name": "stdout",
     "output_type": "stream",
     "text": [
      "0.6678462084221897\n"
     ]
    }
   ],
   "source": [
    "print(DTR.score(x_train,y_train))"
   ]
  },
  {
   "cell_type": "code",
   "execution_count": 134,
   "id": "eb2ed0b7",
   "metadata": {},
   "outputs": [
    {
     "name": "stdout",
     "output_type": "stream",
     "text": [
      "Mean Absolute Error:  1824.126999727336\n",
      "Mean Squared Error:  7498553.24980266\n",
      "Root Mean Squared Error:  2738.348635547099\n",
      "Explained Variance Score:  0.6053249111392716\n",
      "r2_score: 0.6051977307839405\n"
     ]
    }
   ],
   "source": [
    "print('Mean Absolute Error: ',metrics.mean_absolute_error(y_test,DTR_final))\n",
    "print('Mean Squared Error: ',metrics.mean_squared_error(y_test,DTR_final))\n",
    "print('Root Mean Squared Error: ',np.sqrt(metrics.mean_squared_error(y_test,DTR_final)))\n",
    "print('Explained Variance Score: ',metrics.explained_variance_score(y_test,DTR_final))\n",
    "print('r2_score:',r2_score(y_test,DTR_final))"
   ]
  },
  {
   "cell_type": "markdown",
   "id": "92277fc2",
   "metadata": {},
   "source": [
    "### 3.GradientBoostingRegressor"
   ]
  },
  {
   "cell_type": "code",
   "execution_count": 135,
   "id": "f216b773",
   "metadata": {},
   "outputs": [],
   "source": [
    "parameter = {\"loss\":['ls', 'lad', 'huber', 'quantile'],\n",
    "             \"criterion\":['friedman_mse', 'mse', 'mae']}\n",
    "GBR = GridSearchCV(GradientBoostingRegressor(),parameter,cv=5)"
   ]
  },
  {
   "cell_type": "code",
   "execution_count": 141,
   "id": "9abf4c62",
   "metadata": {},
   "outputs": [
    {
     "data": {
      "text/plain": [
       "GradientBoostingRegressor(criterion='mse', loss='ls')"
      ]
     },
     "execution_count": 141,
     "metadata": {},
     "output_type": "execute_result"
    }
   ],
   "source": [
    "GBR.fit(x_train,y_train)"
   ]
  },
  {
   "cell_type": "code",
   "execution_count": 144,
   "id": "b8e7142a",
   "metadata": {},
   "outputs": [],
   "source": [
    "from sklearn.ensemble import GradientBoostingRegressor\n",
    "\n",
    "GBR=GradientBoostingRegressor(criterion='mse',loss='ls')\n",
    "GBR.fit(x_train,y_train)\n",
    "GBR_final=GBR.predict(x_test)"
   ]
  },
  {
   "cell_type": "code",
   "execution_count": 145,
   "id": "970a5cc2",
   "metadata": {},
   "outputs": [
    {
     "name": "stdout",
     "output_type": "stream",
     "text": [
      "Mean Absolute Error:  1819.823519188913\n",
      "Mean Squared Error:  7243162.956317312\n",
      "Root Mean Squared Error:  2691.3124969645037\n",
      "Explained Variance Score:  0.6187605241834229\n",
      "r2_score: 0.6186441469184694\n"
     ]
    }
   ],
   "source": [
    "print('Mean Absolute Error: ',metrics.mean_absolute_error(y_test,GBR_final))\n",
    "print('Mean Squared Error: ',metrics.mean_squared_error(y_test,GBR_final))\n",
    "print('Root Mean Squared Error: ',np.sqrt(metrics.mean_squared_error(y_test,GBR_final)))\n",
    "print('Explained Variance Score: ',metrics.explained_variance_score(y_test,GBR_final))\n",
    "print('r2_score:',r2_score(y_test,GBR_final))"
   ]
  },
  {
   "cell_type": "code",
   "execution_count": 146,
   "id": "7994f55f",
   "metadata": {},
   "outputs": [
    {
     "data": {
      "text/plain": [
       "0.6380168282752214"
      ]
     },
     "execution_count": 146,
     "metadata": {},
     "output_type": "execute_result"
    }
   ],
   "source": [
    "#CV SCORE\n",
    "GBR_cv=cross_val_score(GBR,x,y, cv = 5).mean()\n",
    "GBR_cv"
   ]
  },
  {
   "cell_type": "markdown",
   "id": "3716cf08",
   "metadata": {},
   "source": [
    "##### THE BEST MODEL AFTER HYPER PARAMETER TUNING IS GradientBoostingRegressor"
   ]
  },
  {
   "cell_type": "code",
   "execution_count": 148,
   "id": "d566d21c",
   "metadata": {},
   "outputs": [
    {
     "name": "stdout",
     "output_type": "stream",
     "text": [
      "FINAL MODEL\n",
      "-----------------------------------------\n",
      "Mean Absolute Error:  1819.823519188913\n",
      "Mean Squared Error:  7243162.956317312\n",
      "Root Mean Squared Error:  2691.3124969645037\n",
      "Explained Variance Score:  0.6187605241834229\n",
      "r2_score: 0.6186441469184694\n"
     ]
    }
   ],
   "source": [
    "print(\"FINAL MODEL\")\n",
    "print(\"-----------------------------------------\")\n",
    "print('Mean Absolute Error: ',metrics.mean_absolute_error(y_test,GBR_final))\n",
    "print('Mean Squared Error: ',metrics.mean_squared_error(y_test,GBR_final))\n",
    "print('Root Mean Squared Error: ',np.sqrt(metrics.mean_squared_error(y_test,GBR_final)))\n",
    "print('Explained Variance Score: ',metrics.explained_variance_score(y_test,GBR_final))\n",
    "print('r2_score:',r2_score(y_test,GBR_final))"
   ]
  },
  {
   "cell_type": "code",
   "execution_count": 149,
   "id": "882c59f5",
   "metadata": {},
   "outputs": [
    {
     "data": {
      "text/plain": [
       "<AxesSubplot:xlabel='Price', ylabel='Density'>"
      ]
     },
     "execution_count": 149,
     "metadata": {},
     "output_type": "execute_result"
    },
    {
     "data": {
      "image/png": "[encoded data removed]",
      "text/plain": [
       "<Figure size 432x288 with 1 Axes>"
      ]
     },
     "metadata": {
      "needs_background": "light"
     },
     "output_type": "display_data"
    }
   ],
   "source": [
    "sns.distplot(y_test-GBR_final)"
   ]
  },
  {
   "cell_type": "code",
   "execution_count": 150,
   "id": "5baba422",
   "metadata": {},
   "outputs": [
    {
     "data": {
      "text/plain": [
       "[<matplotlib.lines.Line2D at 0x2a98de4fa60>]"
      ]
     },
     "execution_count": 150,
     "metadata": {},
     "output_type": "execute_result"
    },
    {
     "data": {
      "image/png": "[encoded data removed]",
      "text/plain": [
       "<Figure size 432x288 with 1 Axes>"
      ]
     },
     "metadata": {
      "needs_background": "light"
     },
     "output_type": "display_data"
    }
   ],
   "source": [
    "plt.scatter(y_test,GBR_final)\n",
    "plt.plot(y_test,y_test,linewidth=4,color='Red')"
   ]
  },
  {
   "cell_type": "markdown",
   "id": "db0b02ff",
   "metadata": {},
   "source": [
    "## 7.SAVING THE MODEL"
   ]
  },
  {
   "cell_type": "code",
   "execution_count": 151,
   "id": "b6aaa58a",
   "metadata": {},
   "outputs": [
    {
     "data": {
      "text/plain": [
       "['final model.pkl']"
      ]
     },
     "execution_count": 151,
     "metadata": {},
     "output_type": "execute_result"
    }
   ],
   "source": [
    "import joblib\n",
    "joblib.dump(GBR,\"final model.pkl\")"
   ]
  },
  {
   "cell_type": "code",
   "execution_count": null,
   "id": "317ecd57",
   "metadata": {},
   "outputs": [],
   "source": []
  }
 ],
 "metadata": {
  "kernelspec": {
   "display_name": "Python 3",
   "language": "python",
   "name": "python3"
  },
  "language_info": {
   "codemirror_mode": {
    "name": "ipython",
    "version": 3
   },
   "file_extension": ".py",
   "mimetype": "text/x-python",
   "name": "python",
   "nbconvert_exporter": "python",
   "pygments_lexer": "ipython3",
   "version": "3.8.8"
  }
 },
 "nbformat": 4,
 "nbformat_minor": 5
}
