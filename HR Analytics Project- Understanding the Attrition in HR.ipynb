{
 "cells": [
  {
   "cell_type": "markdown",
   "id": "2eb221f4",
   "metadata": {},
   "source": [
    "# HR Analytics Project"
   ]
  },
  {
   "cell_type": "markdown",
   "id": "3dbcf7ad",
   "metadata": {},
   "source": [
    "## 1.Loading the Dataset"
   ]
  },
  {
   "cell_type": "markdown",
   "id": "684558ff",
   "metadata": {},
   "source": [
    "### Import Libraries"
   ]
  },
  {
   "cell_type": "code",
   "execution_count": 1,
   "id": "74f371c6",
   "metadata": {},
   "outputs": [],
   "source": [
    "#importing numpy pandas mathplotand other methods\n",
    "import numpy as np\n",
    "import pandas as pd\n",
    "import seaborn as sns\n",
    "import matplotlib.pyplot as plt\n",
    "import warnings\n",
    "warnings.filterwarnings('ignore')"
   ]
  },
  {
   "cell_type": "markdown",
   "id": "22eda140",
   "metadata": {},
   "source": [
    "### Data loading and cleaning"
   ]
  },
  {
   "cell_type": "code",
   "execution_count": 2,
   "id": "e66c66b3",
   "metadata": {},
   "outputs": [],
   "source": [
    "df=pd.read_csv(r\"C:\\Users\\Hi\\Downloads\\ibm-hr-analytics-employee-attrition-performance\\WA_Fn-UseC_-HR-Employee-Attrition.csv\")"
   ]
  },
  {
   "cell_type": "code",
   "execution_count": 3,
   "id": "1363dae6",
   "metadata": {},
   "outputs": [
    {
     "data": {
      "text/html": [
       "<div>\n",
       "<style scoped>\n",
       "    .dataframe tbody tr th:only-of-type {\n",
       "        vertical-align: middle;\n",
       "    }\n",
       "\n",
       "    .dataframe tbody tr th {\n",
       "        vertical-align: top;\n",
       "    }\n",
       "\n",
       "    .dataframe thead th {\n",
       "        text-align: right;\n",
       "    }\n",
       "</style>\n",
       "<table border=\"1\" class=\"dataframe\">\n",
       "  <thead>\n",
       "    <tr style=\"text-align: right;\">\n",
       "      <th></th>\n",
       "      <th>Age</th>\n",
       "      <th>Attrition</th>\n",
       "      <th>BusinessTravel</th>\n",
       "      <th>DailyRate</th>\n",
       "      <th>Department</th>\n",
       "      <th>DistanceFromHome</th>\n",
       "      <th>Education</th>\n",
       "      <th>EducationField</th>\n",
       "      <th>EmployeeCount</th>\n",
       "      <th>EmployeeNumber</th>\n",
       "      <th>...</th>\n",
       "      <th>RelationshipSatisfaction</th>\n",
       "      <th>StandardHours</th>\n",
       "      <th>StockOptionLevel</th>\n",
       "      <th>TotalWorkingYears</th>\n",
       "      <th>TrainingTimesLastYear</th>\n",
       "      <th>WorkLifeBalance</th>\n",
       "      <th>YearsAtCompany</th>\n",
       "      <th>YearsInCurrentRole</th>\n",
       "      <th>YearsSinceLastPromotion</th>\n",
       "      <th>YearsWithCurrManager</th>\n",
       "    </tr>\n",
       "  </thead>\n",
       "  <tbody>\n",
       "    <tr>\n",
       "      <th>0</th>\n",
       "      <td>41</td>\n",
       "      <td>Yes</td>\n",
       "      <td>Travel_Rarely</td>\n",
       "      <td>1102</td>\n",
       "      <td>Sales</td>\n",
       "      <td>1</td>\n",
       "      <td>2</td>\n",
       "      <td>Life Sciences</td>\n",
       "      <td>1</td>\n",
       "      <td>1</td>\n",
       "      <td>...</td>\n",
       "      <td>1</td>\n",
       "      <td>80</td>\n",
       "      <td>0</td>\n",
       "      <td>8</td>\n",
       "      <td>0</td>\n",
       "      <td>1</td>\n",
       "      <td>6</td>\n",
       "      <td>4</td>\n",
       "      <td>0</td>\n",
       "      <td>5</td>\n",
       "    </tr>\n",
       "    <tr>\n",
       "      <th>1</th>\n",
       "      <td>49</td>\n",
       "      <td>No</td>\n",
       "      <td>Travel_Frequently</td>\n",
       "      <td>279</td>\n",
       "      <td>Research &amp; Development</td>\n",
       "      <td>8</td>\n",
       "      <td>1</td>\n",
       "      <td>Life Sciences</td>\n",
       "      <td>1</td>\n",
       "      <td>2</td>\n",
       "      <td>...</td>\n",
       "      <td>4</td>\n",
       "      <td>80</td>\n",
       "      <td>1</td>\n",
       "      <td>10</td>\n",
       "      <td>3</td>\n",
       "      <td>3</td>\n",
       "      <td>10</td>\n",
       "      <td>7</td>\n",
       "      <td>1</td>\n",
       "      <td>7</td>\n",
       "    </tr>\n",
       "    <tr>\n",
       "      <th>2</th>\n",
       "      <td>37</td>\n",
       "      <td>Yes</td>\n",
       "      <td>Travel_Rarely</td>\n",
       "      <td>1373</td>\n",
       "      <td>Research &amp; Development</td>\n",
       "      <td>2</td>\n",
       "      <td>2</td>\n",
       "      <td>Other</td>\n",
       "      <td>1</td>\n",
       "      <td>4</td>\n",
       "      <td>...</td>\n",
       "      <td>2</td>\n",
       "      <td>80</td>\n",
       "      <td>0</td>\n",
       "      <td>7</td>\n",
       "      <td>3</td>\n",
       "      <td>3</td>\n",
       "      <td>0</td>\n",
       "      <td>0</td>\n",
       "      <td>0</td>\n",
       "      <td>0</td>\n",
       "    </tr>\n",
       "    <tr>\n",
       "      <th>3</th>\n",
       "      <td>33</td>\n",
       "      <td>No</td>\n",
       "      <td>Travel_Frequently</td>\n",
       "      <td>1392</td>\n",
       "      <td>Research &amp; Development</td>\n",
       "      <td>3</td>\n",
       "      <td>4</td>\n",
       "      <td>Life Sciences</td>\n",
       "      <td>1</td>\n",
       "      <td>5</td>\n",
       "      <td>...</td>\n",
       "      <td>3</td>\n",
       "      <td>80</td>\n",
       "      <td>0</td>\n",
       "      <td>8</td>\n",
       "      <td>3</td>\n",
       "      <td>3</td>\n",
       "      <td>8</td>\n",
       "      <td>7</td>\n",
       "      <td>3</td>\n",
       "      <td>0</td>\n",
       "    </tr>\n",
       "    <tr>\n",
       "      <th>4</th>\n",
       "      <td>27</td>\n",
       "      <td>No</td>\n",
       "      <td>Travel_Rarely</td>\n",
       "      <td>591</td>\n",
       "      <td>Research &amp; Development</td>\n",
       "      <td>2</td>\n",
       "      <td>1</td>\n",
       "      <td>Medical</td>\n",
       "      <td>1</td>\n",
       "      <td>7</td>\n",
       "      <td>...</td>\n",
       "      <td>4</td>\n",
       "      <td>80</td>\n",
       "      <td>1</td>\n",
       "      <td>6</td>\n",
       "      <td>3</td>\n",
       "      <td>3</td>\n",
       "      <td>2</td>\n",
       "      <td>2</td>\n",
       "      <td>2</td>\n",
       "      <td>2</td>\n",
       "    </tr>\n",
       "    <tr>\n",
       "      <th>...</th>\n",
       "      <td>...</td>\n",
       "      <td>...</td>\n",
       "      <td>...</td>\n",
       "      <td>...</td>\n",
       "      <td>...</td>\n",
       "      <td>...</td>\n",
       "      <td>...</td>\n",
       "      <td>...</td>\n",
       "      <td>...</td>\n",
       "      <td>...</td>\n",
       "      <td>...</td>\n",
       "      <td>...</td>\n",
       "      <td>...</td>\n",
       "      <td>...</td>\n",
       "      <td>...</td>\n",
       "      <td>...</td>\n",
       "      <td>...</td>\n",
       "      <td>...</td>\n",
       "      <td>...</td>\n",
       "      <td>...</td>\n",
       "      <td>...</td>\n",
       "    </tr>\n",
       "    <tr>\n",
       "      <th>1465</th>\n",
       "      <td>36</td>\n",
       "      <td>No</td>\n",
       "      <td>Travel_Frequently</td>\n",
       "      <td>884</td>\n",
       "      <td>Research &amp; Development</td>\n",
       "      <td>23</td>\n",
       "      <td>2</td>\n",
       "      <td>Medical</td>\n",
       "      <td>1</td>\n",
       "      <td>2061</td>\n",
       "      <td>...</td>\n",
       "      <td>3</td>\n",
       "      <td>80</td>\n",
       "      <td>1</td>\n",
       "      <td>17</td>\n",
       "      <td>3</td>\n",
       "      <td>3</td>\n",
       "      <td>5</td>\n",
       "      <td>2</td>\n",
       "      <td>0</td>\n",
       "      <td>3</td>\n",
       "    </tr>\n",
       "    <tr>\n",
       "      <th>1466</th>\n",
       "      <td>39</td>\n",
       "      <td>No</td>\n",
       "      <td>Travel_Rarely</td>\n",
       "      <td>613</td>\n",
       "      <td>Research &amp; Development</td>\n",
       "      <td>6</td>\n",
       "      <td>1</td>\n",
       "      <td>Medical</td>\n",
       "      <td>1</td>\n",
       "      <td>2062</td>\n",
       "      <td>...</td>\n",
       "      <td>1</td>\n",
       "      <td>80</td>\n",
       "      <td>1</td>\n",
       "      <td>9</td>\n",
       "      <td>5</td>\n",
       "      <td>3</td>\n",
       "      <td>7</td>\n",
       "      <td>7</td>\n",
       "      <td>1</td>\n",
       "      <td>7</td>\n",
       "    </tr>\n",
       "    <tr>\n",
       "      <th>1467</th>\n",
       "      <td>27</td>\n",
       "      <td>No</td>\n",
       "      <td>Travel_Rarely</td>\n",
       "      <td>155</td>\n",
       "      <td>Research &amp; Development</td>\n",
       "      <td>4</td>\n",
       "      <td>3</td>\n",
       "      <td>Life Sciences</td>\n",
       "      <td>1</td>\n",
       "      <td>2064</td>\n",
       "      <td>...</td>\n",
       "      <td>2</td>\n",
       "      <td>80</td>\n",
       "      <td>1</td>\n",
       "      <td>6</td>\n",
       "      <td>0</td>\n",
       "      <td>3</td>\n",
       "      <td>6</td>\n",
       "      <td>2</td>\n",
       "      <td>0</td>\n",
       "      <td>3</td>\n",
       "    </tr>\n",
       "    <tr>\n",
       "      <th>1468</th>\n",
       "      <td>49</td>\n",
       "      <td>No</td>\n",
       "      <td>Travel_Frequently</td>\n",
       "      <td>1023</td>\n",
       "      <td>Sales</td>\n",
       "      <td>2</td>\n",
       "      <td>3</td>\n",
       "      <td>Medical</td>\n",
       "      <td>1</td>\n",
       "      <td>2065</td>\n",
       "      <td>...</td>\n",
       "      <td>4</td>\n",
       "      <td>80</td>\n",
       "      <td>0</td>\n",
       "      <td>17</td>\n",
       "      <td>3</td>\n",
       "      <td>2</td>\n",
       "      <td>9</td>\n",
       "      <td>6</td>\n",
       "      <td>0</td>\n",
       "      <td>8</td>\n",
       "    </tr>\n",
       "    <tr>\n",
       "      <th>1469</th>\n",
       "      <td>34</td>\n",
       "      <td>No</td>\n",
       "      <td>Travel_Rarely</td>\n",
       "      <td>628</td>\n",
       "      <td>Research &amp; Development</td>\n",
       "      <td>8</td>\n",
       "      <td>3</td>\n",
       "      <td>Medical</td>\n",
       "      <td>1</td>\n",
       "      <td>2068</td>\n",
       "      <td>...</td>\n",
       "      <td>1</td>\n",
       "      <td>80</td>\n",
       "      <td>0</td>\n",
       "      <td>6</td>\n",
       "      <td>3</td>\n",
       "      <td>4</td>\n",
       "      <td>4</td>\n",
       "      <td>3</td>\n",
       "      <td>1</td>\n",
       "      <td>2</td>\n",
       "    </tr>\n",
       "  </tbody>\n",
       "</table>\n",
       "<p>1470 rows × 35 columns</p>\n",
       "</div>"
      ],
      "text/plain": [
       "      Age Attrition     BusinessTravel  DailyRate              Department  \\\n",
       "0      41       Yes      Travel_Rarely       1102                   Sales   \n",
       "1      49        No  Travel_Frequently        279  Research & Development   \n",
       "2      37       Yes      Travel_Rarely       1373  Research & Development   \n",
       "3      33        No  Travel_Frequently       1392  Research & Development   \n",
       "4      27        No      Travel_Rarely        591  Research & Development   \n",
       "...   ...       ...                ...        ...                     ...   \n",
       "1465   36        No  Travel_Frequently        884  Research & Development   \n",
       "1466   39        No      Travel_Rarely        613  Research & Development   \n",
       "1467   27        No      Travel_Rarely        155  Research & Development   \n",
       "1468   49        No  Travel_Frequently       1023                   Sales   \n",
       "1469   34        No      Travel_Rarely        628  Research & Development   \n",
       "\n",
       "      DistanceFromHome  Education EducationField  EmployeeCount  \\\n",
       "0                    1          2  Life Sciences              1   \n",
       "1                    8          1  Life Sciences              1   \n",
       "2                    2          2          Other              1   \n",
       "3                    3          4  Life Sciences              1   \n",
       "4                    2          1        Medical              1   \n",
       "...                ...        ...            ...            ...   \n",
       "1465                23          2        Medical              1   \n",
       "1466                 6          1        Medical              1   \n",
       "1467                 4          3  Life Sciences              1   \n",
       "1468                 2          3        Medical              1   \n",
       "1469                 8          3        Medical              1   \n",
       "\n",
       "      EmployeeNumber  ...  RelationshipSatisfaction StandardHours  \\\n",
       "0                  1  ...                         1            80   \n",
       "1                  2  ...                         4            80   \n",
       "2                  4  ...                         2            80   \n",
       "3                  5  ...                         3            80   \n",
       "4                  7  ...                         4            80   \n",
       "...              ...  ...                       ...           ...   \n",
       "1465            2061  ...                         3            80   \n",
       "1466            2062  ...                         1            80   \n",
       "1467            2064  ...                         2            80   \n",
       "1468            2065  ...                         4            80   \n",
       "1469            2068  ...                         1            80   \n",
       "\n",
       "      StockOptionLevel  TotalWorkingYears  TrainingTimesLastYear  \\\n",
       "0                    0                  8                      0   \n",
       "1                    1                 10                      3   \n",
       "2                    0                  7                      3   \n",
       "3                    0                  8                      3   \n",
       "4                    1                  6                      3   \n",
       "...                ...                ...                    ...   \n",
       "1465                 1                 17                      3   \n",
       "1466                 1                  9                      5   \n",
       "1467                 1                  6                      0   \n",
       "1468                 0                 17                      3   \n",
       "1469                 0                  6                      3   \n",
       "\n",
       "     WorkLifeBalance  YearsAtCompany YearsInCurrentRole  \\\n",
       "0                  1               6                  4   \n",
       "1                  3              10                  7   \n",
       "2                  3               0                  0   \n",
       "3                  3               8                  7   \n",
       "4                  3               2                  2   \n",
       "...              ...             ...                ...   \n",
       "1465               3               5                  2   \n",
       "1466               3               7                  7   \n",
       "1467               3               6                  2   \n",
       "1468               2               9                  6   \n",
       "1469               4               4                  3   \n",
       "\n",
       "      YearsSinceLastPromotion  YearsWithCurrManager  \n",
       "0                           0                     5  \n",
       "1                           1                     7  \n",
       "2                           0                     0  \n",
       "3                           3                     0  \n",
       "4                           2                     2  \n",
       "...                       ...                   ...  \n",
       "1465                        0                     3  \n",
       "1466                        1                     7  \n",
       "1467                        0                     3  \n",
       "1468                        0                     8  \n",
       "1469                        1                     2  \n",
       "\n",
       "[1470 rows x 35 columns]"
      ]
     },
     "execution_count": 3,
     "metadata": {},
     "output_type": "execute_result"
    }
   ],
   "source": [
    "df"
   ]
  },
  {
   "cell_type": "markdown",
   "id": "ec24cb81",
   "metadata": {},
   "source": [
    "# Checking dataset details"
   ]
  },
  {
   "cell_type": "code",
   "execution_count": 4,
   "id": "9609aef8",
   "metadata": {},
   "outputs": [
    {
     "name": "stdout",
     "output_type": "stream",
     "text": [
      "Age                         0\n",
      "Attrition                   0\n",
      "BusinessTravel              0\n",
      "DailyRate                   0\n",
      "Department                  0\n",
      "DistanceFromHome            0\n",
      "Education                   0\n",
      "EducationField              0\n",
      "EmployeeCount               0\n",
      "EmployeeNumber              0\n",
      "EnvironmentSatisfaction     0\n",
      "Gender                      0\n",
      "HourlyRate                  0\n",
      "JobInvolvement              0\n",
      "JobLevel                    0\n",
      "JobRole                     0\n",
      "JobSatisfaction             0\n",
      "MaritalStatus               0\n",
      "MonthlyIncome               0\n",
      "MonthlyRate                 0\n",
      "NumCompaniesWorked          0\n",
      "Over18                      0\n",
      "OverTime                    0\n",
      "PercentSalaryHike           0\n",
      "PerformanceRating           0\n",
      "RelationshipSatisfaction    0\n",
      "StandardHours               0\n",
      "StockOptionLevel            0\n",
      "TotalWorkingYears           0\n",
      "TrainingTimesLastYear       0\n",
      "WorkLifeBalance             0\n",
      "YearsAtCompany              0\n",
      "YearsInCurrentRole          0\n",
      "YearsSinceLastPromotion     0\n",
      "YearsWithCurrManager        0\n",
      "dtype: int64\n"
     ]
    }
   ],
   "source": [
    "# Inspect missing values in the dataset\n",
    "print(df.isnull().sum())\n"
   ]
  },
  {
   "cell_type": "markdown",
   "id": "8f68916d",
   "metadata": {},
   "source": [
    "We see that this data do not contain any missing value"
   ]
  },
  {
   "cell_type": "code",
   "execution_count": 5,
   "id": "9c4d80e6",
   "metadata": {},
   "outputs": [
    {
     "data": {
      "text/plain": [
       "<AxesSubplot:>"
      ]
     },
     "execution_count": 5,
     "metadata": {},
     "output_type": "execute_result"
    },
    {
     "data": {
      "image/png": "[encoded data removed]",
      "text/plain": [
       "<Figure size 432x288 with 2 Axes>"
      ]
     },
     "metadata": {
      "needs_background": "light"
     },
     "output_type": "display_data"
    }
   ],
   "source": [
    "sns.heatmap(df.isnull())"
   ]
  },
  {
   "cell_type": "markdown",
   "id": "82f86f65",
   "metadata": {},
   "source": [
    "Inference: heat map for checking null values"
   ]
  },
  {
   "cell_type": "code",
   "execution_count": 6,
   "id": "0c58f22a",
   "metadata": {},
   "outputs": [
    {
     "name": "stdout",
     "output_type": "stream",
     "text": [
      "<class 'pandas.core.frame.DataFrame'>\n",
      "RangeIndex: 1470 entries, 0 to 1469\n",
      "Data columns (total 35 columns):\n",
      " #   Column                    Non-Null Count  Dtype \n",
      "---  ------                    --------------  ----- \n",
      " 0   Age                       1470 non-null   int64 \n",
      " 1   Attrition                 1470 non-null   object\n",
      " 2   BusinessTravel            1470 non-null   object\n",
      " 3   DailyRate                 1470 non-null   int64 \n",
      " 4   Department                1470 non-null   object\n",
      " 5   DistanceFromHome          1470 non-null   int64 \n",
      " 6   Education                 1470 non-null   int64 \n",
      " 7   EducationField            1470 non-null   object\n",
      " 8   EmployeeCount             1470 non-null   int64 \n",
      " 9   EmployeeNumber            1470 non-null   int64 \n",
      " 10  EnvironmentSatisfaction   1470 non-null   int64 \n",
      " 11  Gender                    1470 non-null   object\n",
      " 12  HourlyRate                1470 non-null   int64 \n",
      " 13  JobInvolvement            1470 non-null   int64 \n",
      " 14  JobLevel                  1470 non-null   int64 \n",
      " 15  JobRole                   1470 non-null   object\n",
      " 16  JobSatisfaction           1470 non-null   int64 \n",
      " 17  MaritalStatus             1470 non-null   object\n",
      " 18  MonthlyIncome             1470 non-null   int64 \n",
      " 19  MonthlyRate               1470 non-null   int64 \n",
      " 20  NumCompaniesWorked        1470 non-null   int64 \n",
      " 21  Over18                    1470 non-null   object\n",
      " 22  OverTime                  1470 non-null   object\n",
      " 23  PercentSalaryHike         1470 non-null   int64 \n",
      " 24  PerformanceRating         1470 non-null   int64 \n",
      " 25  RelationshipSatisfaction  1470 non-null   int64 \n",
      " 26  StandardHours             1470 non-null   int64 \n",
      " 27  StockOptionLevel          1470 non-null   int64 \n",
      " 28  TotalWorkingYears         1470 non-null   int64 \n",
      " 29  TrainingTimesLastYear     1470 non-null   int64 \n",
      " 30  WorkLifeBalance           1470 non-null   int64 \n",
      " 31  YearsAtCompany            1470 non-null   int64 \n",
      " 32  YearsInCurrentRole        1470 non-null   int64 \n",
      " 33  YearsSinceLastPromotion   1470 non-null   int64 \n",
      " 34  YearsWithCurrManager      1470 non-null   int64 \n",
      "dtypes: int64(26), object(9)\n",
      "memory usage: 402.1+ KB\n"
     ]
    }
   ],
   "source": [
    "#the complete information about the dataset\n",
    "df.info()"
   ]
  },
  {
   "cell_type": "code",
   "execution_count": 7,
   "id": "39f90085",
   "metadata": {},
   "outputs": [
    {
     "data": {
      "text/html": [
       "<div>\n",
       "<style scoped>\n",
       "    .dataframe tbody tr th:only-of-type {\n",
       "        vertical-align: middle;\n",
       "    }\n",
       "\n",
       "    .dataframe tbody tr th {\n",
       "        vertical-align: top;\n",
       "    }\n",
       "\n",
       "    .dataframe thead th {\n",
       "        text-align: right;\n",
       "    }\n",
       "</style>\n",
       "<table border=\"1\" class=\"dataframe\">\n",
       "  <thead>\n",
       "    <tr style=\"text-align: right;\">\n",
       "      <th></th>\n",
       "      <th>Age</th>\n",
       "      <th>DailyRate</th>\n",
       "      <th>DistanceFromHome</th>\n",
       "      <th>Education</th>\n",
       "      <th>EmployeeCount</th>\n",
       "      <th>EmployeeNumber</th>\n",
       "      <th>EnvironmentSatisfaction</th>\n",
       "      <th>HourlyRate</th>\n",
       "      <th>JobInvolvement</th>\n",
       "      <th>JobLevel</th>\n",
       "      <th>...</th>\n",
       "      <th>RelationshipSatisfaction</th>\n",
       "      <th>StandardHours</th>\n",
       "      <th>StockOptionLevel</th>\n",
       "      <th>TotalWorkingYears</th>\n",
       "      <th>TrainingTimesLastYear</th>\n",
       "      <th>WorkLifeBalance</th>\n",
       "      <th>YearsAtCompany</th>\n",
       "      <th>YearsInCurrentRole</th>\n",
       "      <th>YearsSinceLastPromotion</th>\n",
       "      <th>YearsWithCurrManager</th>\n",
       "    </tr>\n",
       "  </thead>\n",
       "  <tbody>\n",
       "    <tr>\n",
       "      <th>count</th>\n",
       "      <td>1470.000000</td>\n",
       "      <td>1470.000000</td>\n",
       "      <td>1470.000000</td>\n",
       "      <td>1470.000000</td>\n",
       "      <td>1470.0</td>\n",
       "      <td>1470.000000</td>\n",
       "      <td>1470.000000</td>\n",
       "      <td>1470.000000</td>\n",
       "      <td>1470.000000</td>\n",
       "      <td>1470.000000</td>\n",
       "      <td>...</td>\n",
       "      <td>1470.000000</td>\n",
       "      <td>1470.0</td>\n",
       "      <td>1470.000000</td>\n",
       "      <td>1470.000000</td>\n",
       "      <td>1470.000000</td>\n",
       "      <td>1470.000000</td>\n",
       "      <td>1470.000000</td>\n",
       "      <td>1470.000000</td>\n",
       "      <td>1470.000000</td>\n",
       "      <td>1470.000000</td>\n",
       "    </tr>\n",
       "    <tr>\n",
       "      <th>mean</th>\n",
       "      <td>36.923810</td>\n",
       "      <td>802.485714</td>\n",
       "      <td>9.192517</td>\n",
       "      <td>2.912925</td>\n",
       "      <td>1.0</td>\n",
       "      <td>1024.865306</td>\n",
       "      <td>2.721769</td>\n",
       "      <td>65.891156</td>\n",
       "      <td>2.729932</td>\n",
       "      <td>2.063946</td>\n",
       "      <td>...</td>\n",
       "      <td>2.712245</td>\n",
       "      <td>80.0</td>\n",
       "      <td>0.793878</td>\n",
       "      <td>11.279592</td>\n",
       "      <td>2.799320</td>\n",
       "      <td>2.761224</td>\n",
       "      <td>7.008163</td>\n",
       "      <td>4.229252</td>\n",
       "      <td>2.187755</td>\n",
       "      <td>4.123129</td>\n",
       "    </tr>\n",
       "    <tr>\n",
       "      <th>std</th>\n",
       "      <td>9.135373</td>\n",
       "      <td>403.509100</td>\n",
       "      <td>8.106864</td>\n",
       "      <td>1.024165</td>\n",
       "      <td>0.0</td>\n",
       "      <td>602.024335</td>\n",
       "      <td>1.093082</td>\n",
       "      <td>20.329428</td>\n",
       "      <td>0.711561</td>\n",
       "      <td>1.106940</td>\n",
       "      <td>...</td>\n",
       "      <td>1.081209</td>\n",
       "      <td>0.0</td>\n",
       "      <td>0.852077</td>\n",
       "      <td>7.780782</td>\n",
       "      <td>1.289271</td>\n",
       "      <td>0.706476</td>\n",
       "      <td>6.126525</td>\n",
       "      <td>3.623137</td>\n",
       "      <td>3.222430</td>\n",
       "      <td>3.568136</td>\n",
       "    </tr>\n",
       "    <tr>\n",
       "      <th>min</th>\n",
       "      <td>18.000000</td>\n",
       "      <td>102.000000</td>\n",
       "      <td>1.000000</td>\n",
       "      <td>1.000000</td>\n",
       "      <td>1.0</td>\n",
       "      <td>1.000000</td>\n",
       "      <td>1.000000</td>\n",
       "      <td>30.000000</td>\n",
       "      <td>1.000000</td>\n",
       "      <td>1.000000</td>\n",
       "      <td>...</td>\n",
       "      <td>1.000000</td>\n",
       "      <td>80.0</td>\n",
       "      <td>0.000000</td>\n",
       "      <td>0.000000</td>\n",
       "      <td>0.000000</td>\n",
       "      <td>1.000000</td>\n",
       "      <td>0.000000</td>\n",
       "      <td>0.000000</td>\n",
       "      <td>0.000000</td>\n",
       "      <td>0.000000</td>\n",
       "    </tr>\n",
       "    <tr>\n",
       "      <th>25%</th>\n",
       "      <td>30.000000</td>\n",
       "      <td>465.000000</td>\n",
       "      <td>2.000000</td>\n",
       "      <td>2.000000</td>\n",
       "      <td>1.0</td>\n",
       "      <td>491.250000</td>\n",
       "      <td>2.000000</td>\n",
       "      <td>48.000000</td>\n",
       "      <td>2.000000</td>\n",
       "      <td>1.000000</td>\n",
       "      <td>...</td>\n",
       "      <td>2.000000</td>\n",
       "      <td>80.0</td>\n",
       "      <td>0.000000</td>\n",
       "      <td>6.000000</td>\n",
       "      <td>2.000000</td>\n",
       "      <td>2.000000</td>\n",
       "      <td>3.000000</td>\n",
       "      <td>2.000000</td>\n",
       "      <td>0.000000</td>\n",
       "      <td>2.000000</td>\n",
       "    </tr>\n",
       "    <tr>\n",
       "      <th>50%</th>\n",
       "      <td>36.000000</td>\n",
       "      <td>802.000000</td>\n",
       "      <td>7.000000</td>\n",
       "      <td>3.000000</td>\n",
       "      <td>1.0</td>\n",
       "      <td>1020.500000</td>\n",
       "      <td>3.000000</td>\n",
       "      <td>66.000000</td>\n",
       "      <td>3.000000</td>\n",
       "      <td>2.000000</td>\n",
       "      <td>...</td>\n",
       "      <td>3.000000</td>\n",
       "      <td>80.0</td>\n",
       "      <td>1.000000</td>\n",
       "      <td>10.000000</td>\n",
       "      <td>3.000000</td>\n",
       "      <td>3.000000</td>\n",
       "      <td>5.000000</td>\n",
       "      <td>3.000000</td>\n",
       "      <td>1.000000</td>\n",
       "      <td>3.000000</td>\n",
       "    </tr>\n",
       "    <tr>\n",
       "      <th>75%</th>\n",
       "      <td>43.000000</td>\n",
       "      <td>1157.000000</td>\n",
       "      <td>14.000000</td>\n",
       "      <td>4.000000</td>\n",
       "      <td>1.0</td>\n",
       "      <td>1555.750000</td>\n",
       "      <td>4.000000</td>\n",
       "      <td>83.750000</td>\n",
       "      <td>3.000000</td>\n",
       "      <td>3.000000</td>\n",
       "      <td>...</td>\n",
       "      <td>4.000000</td>\n",
       "      <td>80.0</td>\n",
       "      <td>1.000000</td>\n",
       "      <td>15.000000</td>\n",
       "      <td>3.000000</td>\n",
       "      <td>3.000000</td>\n",
       "      <td>9.000000</td>\n",
       "      <td>7.000000</td>\n",
       "      <td>3.000000</td>\n",
       "      <td>7.000000</td>\n",
       "    </tr>\n",
       "    <tr>\n",
       "      <th>max</th>\n",
       "      <td>60.000000</td>\n",
       "      <td>1499.000000</td>\n",
       "      <td>29.000000</td>\n",
       "      <td>5.000000</td>\n",
       "      <td>1.0</td>\n",
       "      <td>2068.000000</td>\n",
       "      <td>4.000000</td>\n",
       "      <td>100.000000</td>\n",
       "      <td>4.000000</td>\n",
       "      <td>5.000000</td>\n",
       "      <td>...</td>\n",
       "      <td>4.000000</td>\n",
       "      <td>80.0</td>\n",
       "      <td>3.000000</td>\n",
       "      <td>40.000000</td>\n",
       "      <td>6.000000</td>\n",
       "      <td>4.000000</td>\n",
       "      <td>40.000000</td>\n",
       "      <td>18.000000</td>\n",
       "      <td>15.000000</td>\n",
       "      <td>17.000000</td>\n",
       "    </tr>\n",
       "  </tbody>\n",
       "</table>\n",
       "<p>8 rows × 26 columns</p>\n",
       "</div>"
      ],
      "text/plain": [
       "               Age    DailyRate  DistanceFromHome    Education  EmployeeCount  \\\n",
       "count  1470.000000  1470.000000       1470.000000  1470.000000         1470.0   \n",
       "mean     36.923810   802.485714          9.192517     2.912925            1.0   \n",
       "std       9.135373   403.509100          8.106864     1.024165            0.0   \n",
       "min      18.000000   102.000000          1.000000     1.000000            1.0   \n",
       "25%      30.000000   465.000000          2.000000     2.000000            1.0   \n",
       "50%      36.000000   802.000000          7.000000     3.000000            1.0   \n",
       "75%      43.000000  1157.000000         14.000000     4.000000            1.0   \n",
       "max      60.000000  1499.000000         29.000000     5.000000            1.0   \n",
       "\n",
       "       EmployeeNumber  EnvironmentSatisfaction   HourlyRate  JobInvolvement  \\\n",
       "count     1470.000000              1470.000000  1470.000000     1470.000000   \n",
       "mean      1024.865306                 2.721769    65.891156        2.729932   \n",
       "std        602.024335                 1.093082    20.329428        0.711561   \n",
       "min          1.000000                 1.000000    30.000000        1.000000   \n",
       "25%        491.250000                 2.000000    48.000000        2.000000   \n",
       "50%       1020.500000                 3.000000    66.000000        3.000000   \n",
       "75%       1555.750000                 4.000000    83.750000        3.000000   \n",
       "max       2068.000000                 4.000000   100.000000        4.000000   \n",
       "\n",
       "          JobLevel  ...  RelationshipSatisfaction  StandardHours  \\\n",
       "count  1470.000000  ...               1470.000000         1470.0   \n",
       "mean      2.063946  ...                  2.712245           80.0   \n",
       "std       1.106940  ...                  1.081209            0.0   \n",
       "min       1.000000  ...                  1.000000           80.0   \n",
       "25%       1.000000  ...                  2.000000           80.0   \n",
       "50%       2.000000  ...                  3.000000           80.0   \n",
       "75%       3.000000  ...                  4.000000           80.0   \n",
       "max       5.000000  ...                  4.000000           80.0   \n",
       "\n",
       "       StockOptionLevel  TotalWorkingYears  TrainingTimesLastYear  \\\n",
       "count       1470.000000        1470.000000            1470.000000   \n",
       "mean           0.793878          11.279592               2.799320   \n",
       "std            0.852077           7.780782               1.289271   \n",
       "min            0.000000           0.000000               0.000000   \n",
       "25%            0.000000           6.000000               2.000000   \n",
       "50%            1.000000          10.000000               3.000000   \n",
       "75%            1.000000          15.000000               3.000000   \n",
       "max            3.000000          40.000000               6.000000   \n",
       "\n",
       "       WorkLifeBalance  YearsAtCompany  YearsInCurrentRole  \\\n",
       "count      1470.000000     1470.000000         1470.000000   \n",
       "mean          2.761224        7.008163            4.229252   \n",
       "std           0.706476        6.126525            3.623137   \n",
       "min           1.000000        0.000000            0.000000   \n",
       "25%           2.000000        3.000000            2.000000   \n",
       "50%           3.000000        5.000000            3.000000   \n",
       "75%           3.000000        9.000000            7.000000   \n",
       "max           4.000000       40.000000           18.000000   \n",
       "\n",
       "       YearsSinceLastPromotion  YearsWithCurrManager  \n",
       "count              1470.000000           1470.000000  \n",
       "mean                  2.187755              4.123129  \n",
       "std                   3.222430              3.568136  \n",
       "min                   0.000000              0.000000  \n",
       "25%                   0.000000              2.000000  \n",
       "50%                   1.000000              3.000000  \n",
       "75%                   3.000000              7.000000  \n",
       "max                  15.000000             17.000000  \n",
       "\n",
       "[8 rows x 26 columns]"
      ]
     },
     "execution_count": 7,
     "metadata": {},
     "output_type": "execute_result"
    }
   ],
   "source": [
    "#Print summary statistics\n",
    "df.describe()"
   ]
  },
  {
   "cell_type": "markdown",
   "id": "5fd943a6",
   "metadata": {},
   "source": [
    "# 2.EDA"
   ]
  },
  {
   "cell_type": "code",
   "execution_count": 8,
   "id": "76dbd677",
   "metadata": {},
   "outputs": [
    {
     "name": "stdout",
     "output_type": "stream",
     "text": [
      "Travel_Rarely        1043\n",
      "Travel_Frequently     277\n",
      "Non-Travel            150\n",
      "Name: BusinessTravel, dtype: int64\n"
     ]
    },
    {
     "data": {
      "text/plain": [
       "Text(0.5, 1.0, 'BusinessTravel')"
      ]
     },
     "execution_count": 8,
     "metadata": {},
     "output_type": "execute_result"
    },
    {
     "data": {
      "image/png": "[encoded data removed]",
      "text/plain": [
       "<Figure size 432x288 with 1 Axes>"
      ]
     },
     "metadata": {
      "needs_background": "light"
     },
     "output_type": "display_data"
    }
   ],
   "source": [
    "#Value count for  columns in datasets\n",
    "print(df['BusinessTravel'].value_counts())\n",
    "sns.countplot(df['BusinessTravel'],hue=df['Attrition'])\n",
    "plt.title('BusinessTravel')"
   ]
  },
  {
   "cell_type": "code",
   "execution_count": 9,
   "id": "b8f79388",
   "metadata": {},
   "outputs": [
    {
     "name": "stdout",
     "output_type": "stream",
     "text": [
      "Research & Development    961\n",
      "Sales                     446\n",
      "Human Resources            63\n",
      "Name: Department, dtype: int64\n"
     ]
    },
    {
     "data": {
      "text/plain": [
       "Text(0.5, 1.0, 'Department')"
      ]
     },
     "execution_count": 9,
     "metadata": {},
     "output_type": "execute_result"
    },
    {
     "data": {
      "image/png": "[encoded data removed]",
      "text/plain": [
       "<Figure size 432x288 with 1 Axes>"
      ]
     },
     "metadata": {
      "needs_background": "light"
     },
     "output_type": "display_data"
    }
   ],
   "source": [
    "#Value count for  columns in datasets\n",
    "print(df['Department'].value_counts())\n",
    "sns.countplot(df['Department'],hue=df['Attrition'])\n",
    "plt.title('Department')"
   ]
  },
  {
   "cell_type": "code",
   "execution_count": 10,
   "id": "4cdee8c7",
   "metadata": {},
   "outputs": [
    {
     "name": "stdout",
     "output_type": "stream",
     "text": [
      "3    572\n",
      "4    398\n",
      "2    282\n",
      "1    170\n",
      "5     48\n",
      "Name: Education, dtype: int64\n"
     ]
    },
    {
     "data": {
      "text/plain": [
       "Text(0.5, 1.0, 'Education')"
      ]
     },
     "execution_count": 10,
     "metadata": {},
     "output_type": "execute_result"
    },
    {
     "data": {
      "image/png": "[encoded data removed]",
      "text/plain": [
       "<Figure size 432x288 with 1 Axes>"
      ]
     },
     "metadata": {
      "needs_background": "light"
     },
     "output_type": "display_data"
    }
   ],
   "source": [
    "#Value count for  columns in datasets\n",
    "print(df['Education'].value_counts())\n",
    "sns.countplot(df['Education'],hue=df['Attrition'])\n",
    "plt.title('Education')"
   ]
  },
  {
   "cell_type": "code",
   "execution_count": 11,
   "id": "b611ed12",
   "metadata": {},
   "outputs": [
    {
     "name": "stdout",
     "output_type": "stream",
     "text": [
      "No     1233\n",
      "Yes     237\n",
      "Name: Attrition, dtype: int64\n"
     ]
    },
    {
     "data": {
      "text/plain": [
       "Text(0.5, 1.0, 'Attrition')"
      ]
     },
     "execution_count": 11,
     "metadata": {},
     "output_type": "execute_result"
    },
    {
     "data": {
      "image/png": "[encoded data removed]",
      "text/plain": [
       "<Figure size 432x288 with 1 Axes>"
      ]
     },
     "metadata": {
      "needs_background": "light"
     },
     "output_type": "display_data"
    }
   ],
   "source": [
    "#Value count for  columns in datasets\n",
    "print(df['Attrition'].value_counts())\n",
    "sns.countplot(df['Attrition'])\n",
    "plt.title('Attrition')"
   ]
  },
  {
   "cell_type": "code",
   "execution_count": 12,
   "id": "a6744276",
   "metadata": {},
   "outputs": [
    {
     "data": {
      "text/plain": [
       "count    1470.000000\n",
       "mean     1024.865306\n",
       "std       602.024335\n",
       "min         1.000000\n",
       "25%       491.250000\n",
       "50%      1020.500000\n",
       "75%      1555.750000\n",
       "max      2068.000000\n",
       "Name: EmployeeNumber, dtype: float64"
      ]
     },
     "execution_count": 12,
     "metadata": {},
     "output_type": "execute_result"
    }
   ],
   "source": [
    "df['EmployeeNumber'].describe()"
   ]
  },
  {
   "cell_type": "markdown",
   "id": "fe47e16b",
   "metadata": {},
   "source": [
    "SINCE EMPLOYE NO IS JUST A ID REMOVING THAT ATTRIBUTE"
   ]
  },
  {
   "cell_type": "code",
   "execution_count": 13,
   "id": "9255d81f",
   "metadata": {},
   "outputs": [
    {
     "data": {
      "text/plain": [
       "count    1470.0\n",
       "mean        1.0\n",
       "std         0.0\n",
       "min         1.0\n",
       "25%         1.0\n",
       "50%         1.0\n",
       "75%         1.0\n",
       "max         1.0\n",
       "Name: EmployeeCount, dtype: float64"
      ]
     },
     "execution_count": 13,
     "metadata": {},
     "output_type": "execute_result"
    }
   ],
   "source": [
    "df['EmployeeCount'].describe()"
   ]
  },
  {
   "cell_type": "code",
   "execution_count": 14,
   "id": "c217dd42",
   "metadata": {},
   "outputs": [
    {
     "name": "stdout",
     "output_type": "stream",
     "text": [
      "1    1470\n",
      "Name: EmployeeCount, dtype: int64\n"
     ]
    },
    {
     "data": {
      "text/plain": [
       "Text(0.5, 1.0, 'EmployeeCount')"
      ]
     },
     "execution_count": 14,
     "metadata": {},
     "output_type": "execute_result"
    },
    {
     "data": {
      "image/png": "[encoded data removed]",
      "text/plain": [
       "<Figure size 432x288 with 1 Axes>"
      ]
     },
     "metadata": {
      "needs_background": "light"
     },
     "output_type": "display_data"
    }
   ],
   "source": [
    "#Value count for  columns in datasets\n",
    "print(df['EmployeeCount'].value_counts())\n",
    "sns.countplot(df['EmployeeCount'],hue=df['Attrition'])\n",
    "plt.title('EmployeeCount')"
   ]
  },
  {
   "cell_type": "markdown",
   "id": "08677f4e",
   "metadata": {},
   "source": [
    "the attributes EmployeeCount carry the same value for each row"
   ]
  },
  {
   "cell_type": "code",
   "execution_count": 15,
   "id": "76826f86",
   "metadata": {},
   "outputs": [
    {
     "data": {
      "text/plain": [
       "Y    1470\n",
       "Name: Over18, dtype: int64"
      ]
     },
     "execution_count": 15,
     "metadata": {},
     "output_type": "execute_result"
    }
   ],
   "source": [
    "df['Over18'].value_counts()"
   ]
  },
  {
   "cell_type": "markdown",
   "id": "8e92cec6",
   "metadata": {},
   "source": [
    "the attributes Over18  carry the same value for each row"
   ]
  },
  {
   "cell_type": "code",
   "execution_count": 16,
   "id": "82417a6f",
   "metadata": {},
   "outputs": [
    {
     "data": {
      "text/plain": [
       "count    1470.0\n",
       "mean       80.0\n",
       "std         0.0\n",
       "min        80.0\n",
       "25%        80.0\n",
       "50%        80.0\n",
       "75%        80.0\n",
       "max        80.0\n",
       "Name: StandardHours, dtype: float64"
      ]
     },
     "execution_count": 16,
     "metadata": {},
     "output_type": "execute_result"
    }
   ],
   "source": [
    "df['StandardHours'].describe()"
   ]
  },
  {
   "cell_type": "markdown",
   "id": "f6813165",
   "metadata": {},
   "source": [
    "the attributes StandardHours  carry the same value for each row"
   ]
  },
  {
   "cell_type": "code",
   "execution_count": 17,
   "id": "1cf8f628",
   "metadata": {},
   "outputs": [
    {
     "name": "stdout",
     "output_type": "stream",
     "text": [
      "Life Sciences       606\n",
      "Medical             464\n",
      "Marketing           159\n",
      "Technical Degree    132\n",
      "Other                82\n",
      "Human Resources      27\n",
      "Name: EducationField, dtype: int64\n"
     ]
    },
    {
     "data": {
      "text/plain": [
       "(array([0, 1, 2, 3, 4, 5]),\n",
       " [Text(0, 0, 'Life Sciences'),\n",
       "  Text(1, 0, 'Other'),\n",
       "  Text(2, 0, 'Medical'),\n",
       "  Text(3, 0, 'Marketing'),\n",
       "  Text(4, 0, 'Technical Degree'),\n",
       "  Text(5, 0, 'Human Resources')])"
      ]
     },
     "execution_count": 17,
     "metadata": {},
     "output_type": "execute_result"
    },
    {
     "data": {
      "image/png": "[encoded data removed]",
      "text/plain": [
       "<Figure size 432x288 with 1 Axes>"
      ]
     },
     "metadata": {
      "needs_background": "light"
     },
     "output_type": "display_data"
    }
   ],
   "source": [
    "#Value count for  columns in datasets\n",
    "print(df['EducationField'].value_counts())\n",
    "sns.countplot(df['EducationField'],hue=df['Attrition'])\n",
    "plt.title('EducationField')\n",
    "plt.xticks(rotation=45)"
   ]
  },
  {
   "cell_type": "code",
   "execution_count": 18,
   "id": "02ea2af7",
   "metadata": {},
   "outputs": [
    {
     "name": "stdout",
     "output_type": "stream",
     "text": [
      "3    453\n",
      "4    446\n",
      "2    287\n",
      "1    284\n",
      "Name: EnvironmentSatisfaction, dtype: int64\n"
     ]
    },
    {
     "data": {
      "text/plain": [
       "Text(0.5, 1.0, 'EnvironmentSatisfaction')"
      ]
     },
     "execution_count": 18,
     "metadata": {},
     "output_type": "execute_result"
    },
    {
     "data": {
      "image/png": "[encoded data removed]",
      "text/plain": [
       "<Figure size 432x288 with 1 Axes>"
      ]
     },
     "metadata": {
      "needs_background": "light"
     },
     "output_type": "display_data"
    }
   ],
   "source": [
    "#Value count for  columns in datasets\n",
    "print(df['EnvironmentSatisfaction'].value_counts())\n",
    "sns.countplot(df['EnvironmentSatisfaction'],hue=df['Attrition'])\n",
    "plt.title('EnvironmentSatisfaction')"
   ]
  },
  {
   "cell_type": "code",
   "execution_count": 19,
   "id": "03de9717",
   "metadata": {},
   "outputs": [
    {
     "name": "stdout",
     "output_type": "stream",
     "text": [
      "Male      882\n",
      "Female    588\n",
      "Name: Gender, dtype: int64\n"
     ]
    },
    {
     "data": {
      "text/plain": [
       "Text(0.5, 1.0, 'Gender')"
      ]
     },
     "execution_count": 19,
     "metadata": {},
     "output_type": "execute_result"
    },
    {
     "data": {
      "image/png": "[encoded data removed]",
      "text/plain": [
       "<Figure size 432x288 with 1 Axes>"
      ]
     },
     "metadata": {
      "needs_background": "light"
     },
     "output_type": "display_data"
    }
   ],
   "source": [
    "#Value count for  columns in datasets\n",
    "print(df['Gender'].value_counts())\n",
    "sns.countplot(df['Gender'],hue=df['Attrition'])\n",
    "plt.title('Gender')"
   ]
  },
  {
   "cell_type": "code",
   "execution_count": 20,
   "id": "be884de9",
   "metadata": {},
   "outputs": [
    {
     "name": "stdout",
     "output_type": "stream",
     "text": [
      "Sales Executive              326\n",
      "Research Scientist           292\n",
      "Laboratory Technician        259\n",
      "Manufacturing Director       145\n",
      "Healthcare Representative    131\n",
      "Manager                      102\n",
      "Sales Representative          83\n",
      "Research Director             80\n",
      "Human Resources               52\n",
      "Name: JobRole, dtype: int64\n"
     ]
    },
    {
     "data": {
      "text/plain": [
       "(array([0, 1, 2, 3, 4, 5, 6, 7, 8]),\n",
       " [Text(0, 0, 'Sales Executive'),\n",
       "  Text(1, 0, 'Research Scientist'),\n",
       "  Text(2, 0, 'Laboratory Technician'),\n",
       "  Text(3, 0, 'Manufacturing Director'),\n",
       "  Text(4, 0, 'Healthcare Representative'),\n",
       "  Text(5, 0, 'Manager'),\n",
       "  Text(6, 0, 'Sales Representative'),\n",
       "  Text(7, 0, 'Research Director'),\n",
       "  Text(8, 0, 'Human Resources')])"
      ]
     },
     "execution_count": 20,
     "metadata": {},
     "output_type": "execute_result"
    },
    {
     "data": {
      "image/png": "[encoded data removed]",
      "text/plain": [
       "<Figure size 432x288 with 1 Axes>"
      ]
     },
     "metadata": {
      "needs_background": "light"
     },
     "output_type": "display_data"
    }
   ],
   "source": [
    "#Value count for  columns in datasets\n",
    "print(df[\"JobRole\"].value_counts())\n",
    "sns.countplot(df['JobRole'],hue=df['Attrition'])\n",
    "plt.title('JobRole')\n",
    "plt.xticks(rotation=90)"
   ]
  },
  {
   "cell_type": "code",
   "execution_count": 21,
   "id": "3e8fdb8e",
   "metadata": {},
   "outputs": [
    {
     "name": "stdout",
     "output_type": "stream",
     "text": [
      "Married     673\n",
      "Single      470\n",
      "Divorced    327\n",
      "Name: MaritalStatus, dtype: int64\n"
     ]
    },
    {
     "data": {
      "text/plain": [
       "Text(0.5, 1.0, 'MaritalStatus')"
      ]
     },
     "execution_count": 21,
     "metadata": {},
     "output_type": "execute_result"
    },
    {
     "data": {
      "image/png": "[encoded data removed]",
      "text/plain": [
       "<Figure size 432x288 with 1 Axes>"
      ]
     },
     "metadata": {
      "needs_background": "light"
     },
     "output_type": "display_data"
    }
   ],
   "source": [
    "#Value count for  columns in datasets\n",
    "print(df['MaritalStatus'].value_counts())\n",
    "sns.countplot(df['MaritalStatus'],hue=df['Attrition'])\n",
    "plt.title('MaritalStatus')"
   ]
  },
  {
   "cell_type": "code",
   "execution_count": 22,
   "id": "4a340107",
   "metadata": {},
   "outputs": [
    {
     "name": "stdout",
     "output_type": "stream",
     "text": [
      "1    521\n",
      "0    197\n",
      "3    159\n",
      "2    146\n",
      "4    139\n",
      "7     74\n",
      "6     70\n",
      "5     63\n",
      "9     52\n",
      "8     49\n",
      "Name: NumCompaniesWorked, dtype: int64\n"
     ]
    },
    {
     "data": {
      "text/plain": [
       "Text(0.5, 1.0, 'NumCompaniesWorked')"
      ]
     },
     "execution_count": 22,
     "metadata": {},
     "output_type": "execute_result"
    },
    {
     "data": {
      "image/png": "[encoded data removed]",
      "text/plain": [
       "<Figure size 432x288 with 1 Axes>"
      ]
     },
     "metadata": {
      "needs_background": "light"
     },
     "output_type": "display_data"
    }
   ],
   "source": [
    "#Value count for  columns in datasets\n",
    "print(df['NumCompaniesWorked'].value_counts())\n",
    "sns.countplot(df['NumCompaniesWorked'],hue=df['Attrition'])\n",
    "plt.title('NumCompaniesWorked')"
   ]
  },
  {
   "cell_type": "code",
   "execution_count": 23,
   "id": "17e3e1a3",
   "metadata": {},
   "outputs": [
    {
     "name": "stdout",
     "output_type": "stream",
     "text": [
      "No     1054\n",
      "Yes     416\n",
      "Name: OverTime, dtype: int64\n"
     ]
    },
    {
     "data": {
      "text/plain": [
       "Text(0.5, 1.0, 'OverTime')"
      ]
     },
     "execution_count": 23,
     "metadata": {},
     "output_type": "execute_result"
    },
    {
     "data": {
      "image/png": "[encoded data removed]",
      "text/plain": [
       "<Figure size 432x288 with 1 Axes>"
      ]
     },
     "metadata": {
      "needs_background": "light"
     },
     "output_type": "display_data"
    }
   ],
   "source": [
    "#Value count for  columns in datasets\n",
    "print(df['OverTime'].value_counts())\n",
    "sns.countplot(df['OverTime'],hue=df['Attrition'])\n",
    "plt.title('OverTime')"
   ]
  },
  {
   "cell_type": "code",
   "execution_count": 24,
   "id": "b7857213",
   "metadata": {},
   "outputs": [
    {
     "name": "stdout",
     "output_type": "stream",
     "text": [
      "2    547\n",
      "3    491\n",
      "4    123\n",
      "5    119\n",
      "1     71\n",
      "6     65\n",
      "0     54\n",
      "Name: TrainingTimesLastYear, dtype: int64\n"
     ]
    },
    {
     "data": {
      "text/plain": [
       "Text(0.5, 1.0, 'TrainingTimesLastYear')"
      ]
     },
     "execution_count": 24,
     "metadata": {},
     "output_type": "execute_result"
    },
    {
     "data": {
      "image/png": "[encoded data removed]",
      "text/plain": [
       "<Figure size 432x288 with 1 Axes>"
      ]
     },
     "metadata": {
      "needs_background": "light"
     },
     "output_type": "display_data"
    }
   ],
   "source": [
    "#Value count for  columns in datasets\n",
    "print(df['TrainingTimesLastYear'].value_counts())\n",
    "sns.countplot(df['TrainingTimesLastYear'],hue=df['Attrition'])\n",
    "plt.title('TrainingTimesLastYear')"
   ]
  },
  {
   "cell_type": "code",
   "execution_count": 25,
   "id": "536bede5",
   "metadata": {},
   "outputs": [
    {
     "data": {
      "text/plain": [
       "<AxesSubplot:xlabel='Attrition', ylabel='YearsSinceLastPromotion'>"
      ]
     },
     "execution_count": 25,
     "metadata": {},
     "output_type": "execute_result"
    },
    {
     "data": {
      "image/png": "[encoded data removed]",
      "text/plain": [
       "<Figure size 432x288 with 1 Axes>"
      ]
     },
     "metadata": {
      "needs_background": "light"
     },
     "output_type": "display_data"
    }
   ],
   "source": [
    "# Barplot Display distribution of data across all level of category\n",
    "sns.barplot(x='Attrition',y='YearsSinceLastPromotion',palette = 'Blues_d',data=df)"
   ]
  },
  {
   "cell_type": "code",
   "execution_count": 26,
   "id": "464c7d35",
   "metadata": {},
   "outputs": [
    {
     "data": {
      "text/plain": [
       "<AxesSubplot:xlabel='Attrition', ylabel='PerformanceRating'>"
      ]
     },
     "execution_count": 26,
     "metadata": {},
     "output_type": "execute_result"
    },
    {
     "data": {
      "image/png": "[encoded data removed]",
      "text/plain": [
       "<Figure size 432x288 with 1 Axes>"
      ]
     },
     "metadata": {
      "needs_background": "light"
     },
     "output_type": "display_data"
    }
   ],
   "source": [
    "# Barplot Display distribution of data across all level of category\n",
    "sns.barplot(x='Attrition',y='PerformanceRating',palette = 'Blues_d',data=df)"
   ]
  },
  {
   "cell_type": "code",
   "execution_count": 27,
   "id": "ac2c87d6",
   "metadata": {},
   "outputs": [
    {
     "data": {
      "text/plain": [
       "<AxesSubplot:xlabel='MaritalStatus', ylabel='MonthlyIncome'>"
      ]
     },
     "execution_count": 27,
     "metadata": {},
     "output_type": "execute_result"
    },
    {
     "data": {
      "image/png": "[encoded data removed]",
      "text/plain": [
       "<Figure size 432x288 with 1 Axes>"
      ]
     },
     "metadata": {
      "needs_background": "light"
     },
     "output_type": "display_data"
    }
   ],
   "source": [
    "# Barplot Display distribution of data across all level of category\n",
    "sns.barplot(x='MaritalStatus',y='MonthlyIncome',hue='Attrition',data=df)"
   ]
  },
  {
   "cell_type": "code",
   "execution_count": 28,
   "id": "911194da",
   "metadata": {},
   "outputs": [
    {
     "data": {
      "text/plain": [
       "<AxesSubplot:xlabel='YearsAtCompany', ylabel='TotalWorkingYears'>"
      ]
     },
     "execution_count": 28,
     "metadata": {},
     "output_type": "execute_result"
    },
    {
     "data": {
      "image/png": "[encoded data removed]",
      "text/plain": [
       "<Figure size 864x504 with 1 Axes>"
      ]
     },
     "metadata": {
      "needs_background": "light"
     },
     "output_type": "display_data"
    }
   ],
   "source": [
    "# Barplot Display distribution of data across all level of category\n",
    "plt.figure(figsize=(12,7))\n",
    "sns.barplot(x='YearsAtCompany',y='TotalWorkingYears',palette = 'Blues_d',data=df)"
   ]
  },
  {
   "cell_type": "markdown",
   "id": "db32172f",
   "metadata": {},
   "source": [
    "# 3. Data pre-processing"
   ]
  },
  {
   "cell_type": "markdown",
   "id": "b776f0bc",
   "metadata": {},
   "source": [
    "### Drop unnecessary columns\n"
   ]
  },
  {
   "cell_type": "markdown",
   "id": "787afb5f",
   "metadata": {},
   "source": [
    "We should drop the attributes EmployeeNumber, Over18, EmployeeCount and StandardHours,\n",
    "because they all carry the same value for each row"
   ]
  },
  {
   "cell_type": "code",
   "execution_count": 29,
   "id": "ce20204f",
   "metadata": {},
   "outputs": [],
   "source": [
    "#Delect the columns\n",
    "df = df.drop(['EmployeeNumber','Over18','EmployeeCount','StandardHours'],axis=1)"
   ]
  },
  {
   "cell_type": "markdown",
   "id": "cb8c70d1",
   "metadata": {},
   "source": [
    "#### ENCODING"
   ]
  },
  {
   "cell_type": "code",
   "execution_count": 30,
   "id": "d4e033f6",
   "metadata": {},
   "outputs": [],
   "source": [
    "from sklearn.preprocessing import LabelEncoder,MinMaxScaler\n",
    "df[\"Attrition\"] = LabelEncoder().fit_transform(df['Attrition'])\n",
    "df[\"BusinessTravel\"] = LabelEncoder().fit_transform(df['BusinessTravel'])\n",
    "df[\"Department\"] = LabelEncoder().fit_transform(df['Department'])\n",
    "df[\"EducationField\"] = LabelEncoder().fit_transform(df['EducationField'])\n",
    "df[\"Gender\"] = LabelEncoder().fit_transform(df['Gender'])\n",
    "df[\"JobRole\"] = LabelEncoder().fit_transform(df['JobRole'])\n",
    "df[\"MaritalStatus\"] = LabelEncoder().fit_transform(df['MaritalStatus'])\n",
    "df[\"OverTime\"] = LabelEncoder().fit_transform(df['OverTime'])"
   ]
  },
  {
   "cell_type": "code",
   "execution_count": 31,
   "id": "a8f924dd",
   "metadata": {},
   "outputs": [
    {
     "data": {
      "text/plain": [
       "0       2\n",
       "1       1\n",
       "2       2\n",
       "3       1\n",
       "4       2\n",
       "       ..\n",
       "1465    1\n",
       "1466    2\n",
       "1467    2\n",
       "1468    1\n",
       "1469    2\n",
       "Name: BusinessTravel, Length: 1470, dtype: int32"
      ]
     },
     "execution_count": 31,
     "metadata": {},
     "output_type": "execute_result"
    }
   ],
   "source": [
    "df[\"BusinessTravel\"]"
   ]
  },
  {
   "cell_type": "code",
   "execution_count": 32,
   "id": "14c7712c",
   "metadata": {},
   "outputs": [
    {
     "data": {
      "text/plain": [
       "<AxesSubplot:xlabel='MaritalStatus', ylabel='YearsSinceLastPromotion'>"
      ]
     },
     "execution_count": 32,
     "metadata": {},
     "output_type": "execute_result"
    },
    {
     "data": {
      "image/png": "[encoded data removed]",
      "text/plain": [
       "<Figure size 432x288 with 1 Axes>"
      ]
     },
     "metadata": {
      "needs_background": "light"
     },
     "output_type": "display_data"
    }
   ],
   "source": [
    "sns.boxplot(df['MaritalStatus'], df['YearsSinceLastPromotion'])"
   ]
  },
  {
   "cell_type": "markdown",
   "id": "a427447b",
   "metadata": {},
   "source": [
    "#### correlation"
   ]
  },
  {
   "cell_type": "code",
   "execution_count": 33,
   "id": "e0b4793f",
   "metadata": {},
   "outputs": [
    {
     "data": {
      "text/plain": [
       "<AxesSubplot:>"
      ]
     },
     "execution_count": 33,
     "metadata": {},
     "output_type": "execute_result"
    },
    {
     "data": {
      "image/png": "[encoded data removed]",
      "text/plain": [
       "<Figure size 864x720 with 2 Axes>"
      ]
     },
     "metadata": {
      "needs_background": "light"
     },
     "output_type": "display_data"
    }
   ],
   "source": [
    "df_corr=df.corr()\n",
    "plt.figure(figsize=[12,10])\n",
    "sns.heatmap(df_corr)"
   ]
  },
  {
   "cell_type": "markdown",
   "id": "03943977",
   "metadata": {},
   "source": [
    "### checking nullvalue and skewness"
   ]
  },
  {
   "cell_type": "code",
   "execution_count": 34,
   "id": "de5e07da",
   "metadata": {},
   "outputs": [
    {
     "name": "stdout",
     "output_type": "stream",
     "text": [
      "Age                         0\n",
      "Attrition                   0\n",
      "BusinessTravel              0\n",
      "DailyRate                   0\n",
      "Department                  0\n",
      "DistanceFromHome            0\n",
      "Education                   0\n",
      "EducationField              0\n",
      "EnvironmentSatisfaction     0\n",
      "Gender                      0\n",
      "HourlyRate                  0\n",
      "JobInvolvement              0\n",
      "JobLevel                    0\n",
      "JobRole                     0\n",
      "JobSatisfaction             0\n",
      "MaritalStatus               0\n",
      "MonthlyIncome               0\n",
      "MonthlyRate                 0\n",
      "NumCompaniesWorked          0\n",
      "OverTime                    0\n",
      "PercentSalaryHike           0\n",
      "PerformanceRating           0\n",
      "RelationshipSatisfaction    0\n",
      "StockOptionLevel            0\n",
      "TotalWorkingYears           0\n",
      "TrainingTimesLastYear       0\n",
      "WorkLifeBalance             0\n",
      "YearsAtCompany              0\n",
      "YearsInCurrentRole          0\n",
      "YearsSinceLastPromotion     0\n",
      "YearsWithCurrManager        0\n",
      "dtype: int64\n"
     ]
    }
   ],
   "source": [
    "print(df.isnull().sum())"
   ]
  },
  {
   "cell_type": "code",
   "execution_count": 35,
   "id": "e3a8db6b",
   "metadata": {},
   "outputs": [
    {
     "data": {
      "text/plain": [
       "Age                         0.413286\n",
       "Attrition                   1.844366\n",
       "BusinessTravel             -1.439006\n",
       "DailyRate                  -0.003519\n",
       "Department                  0.172231\n",
       "DistanceFromHome            0.958118\n",
       "Education                  -0.289681\n",
       "EducationField              0.550371\n",
       "EnvironmentSatisfaction    -0.321654\n",
       "Gender                     -0.408665\n",
       "HourlyRate                 -0.032311\n",
       "JobInvolvement             -0.498419\n",
       "JobLevel                    1.025401\n",
       "JobRole                    -0.357270\n",
       "JobSatisfaction            -0.329672\n",
       "MaritalStatus              -0.152175\n",
       "MonthlyIncome               1.369817\n",
       "MonthlyRate                 0.018578\n",
       "NumCompaniesWorked          1.026471\n",
       "OverTime                    0.964489\n",
       "PercentSalaryHike           0.821128\n",
       "PerformanceRating           1.921883\n",
       "RelationshipSatisfaction   -0.302828\n",
       "StockOptionLevel            0.968980\n",
       "TotalWorkingYears           1.117172\n",
       "TrainingTimesLastYear       0.553124\n",
       "WorkLifeBalance            -0.552480\n",
       "YearsAtCompany              1.764529\n",
       "YearsInCurrentRole          0.917363\n",
       "YearsSinceLastPromotion     1.984290\n",
       "YearsWithCurrManager        0.833451\n",
       "dtype: float64"
      ]
     },
     "execution_count": 35,
     "metadata": {},
     "output_type": "execute_result"
    }
   ],
   "source": [
    "df.skew()"
   ]
  },
  {
   "cell_type": "markdown",
   "id": "0045a1a8",
   "metadata": {},
   "source": [
    "### SKEWNESS IS NOT HIGH."
   ]
  },
  {
   "cell_type": "markdown",
   "id": "edc1b00c",
   "metadata": {},
   "source": [
    "WE PERFORM OUTLIER REMOVEL THE DATA LOSS WILL BE HIGH .WE HAVE ONLY SMALL DATA. \n",
    "SO NOT PREFORMING SKEWNESS REMOVAL OR OUTLIER REMOVAL TECHNIQUE"
   ]
  },
  {
   "cell_type": "markdown",
   "id": "edf25c60",
   "metadata": {},
   "source": [
    "# 4.TEST TRAIN SPLIT"
   ]
  },
  {
   "cell_type": "code",
   "execution_count": 36,
   "id": "9cb78ae5",
   "metadata": {},
   "outputs": [],
   "source": [
    "x= df.drop(columns='Attrition')\n",
    "y= df['Attrition']"
   ]
  },
  {
   "cell_type": "code",
   "execution_count": 37,
   "id": "78b62981",
   "metadata": {},
   "outputs": [
    {
     "data": {
      "text/html": [
       "<div>\n",
       "<style scoped>\n",
       "    .dataframe tbody tr th:only-of-type {\n",
       "        vertical-align: middle;\n",
       "    }\n",
       "\n",
       "    .dataframe tbody tr th {\n",
       "        vertical-align: top;\n",
       "    }\n",
       "\n",
       "    .dataframe thead th {\n",
       "        text-align: right;\n",
       "    }\n",
       "</style>\n",
       "<table border=\"1\" class=\"dataframe\">\n",
       "  <thead>\n",
       "    <tr style=\"text-align: right;\">\n",
       "      <th></th>\n",
       "      <th>Age</th>\n",
       "      <th>BusinessTravel</th>\n",
       "      <th>DailyRate</th>\n",
       "      <th>Department</th>\n",
       "      <th>DistanceFromHome</th>\n",
       "      <th>Education</th>\n",
       "      <th>EducationField</th>\n",
       "      <th>EnvironmentSatisfaction</th>\n",
       "      <th>Gender</th>\n",
       "      <th>HourlyRate</th>\n",
       "      <th>...</th>\n",
       "      <th>PerformanceRating</th>\n",
       "      <th>RelationshipSatisfaction</th>\n",
       "      <th>StockOptionLevel</th>\n",
       "      <th>TotalWorkingYears</th>\n",
       "      <th>TrainingTimesLastYear</th>\n",
       "      <th>WorkLifeBalance</th>\n",
       "      <th>YearsAtCompany</th>\n",
       "      <th>YearsInCurrentRole</th>\n",
       "      <th>YearsSinceLastPromotion</th>\n",
       "      <th>YearsWithCurrManager</th>\n",
       "    </tr>\n",
       "  </thead>\n",
       "  <tbody>\n",
       "    <tr>\n",
       "      <th>count</th>\n",
       "      <td>1176.000000</td>\n",
       "      <td>1176.000000</td>\n",
       "      <td>1176.000000</td>\n",
       "      <td>1176.000000</td>\n",
       "      <td>1176.000000</td>\n",
       "      <td>1176.000000</td>\n",
       "      <td>1176.000000</td>\n",
       "      <td>1176.000000</td>\n",
       "      <td>1176.000000</td>\n",
       "      <td>1176.000000</td>\n",
       "      <td>...</td>\n",
       "      <td>1176.000000</td>\n",
       "      <td>1176.000000</td>\n",
       "      <td>1176.000000</td>\n",
       "      <td>1176.000000</td>\n",
       "      <td>1176.000000</td>\n",
       "      <td>1176.000000</td>\n",
       "      <td>1176.000000</td>\n",
       "      <td>1176.000000</td>\n",
       "      <td>1176.000000</td>\n",
       "      <td>1176.000000</td>\n",
       "    </tr>\n",
       "    <tr>\n",
       "      <th>mean</th>\n",
       "      <td>37.013605</td>\n",
       "      <td>1.596088</td>\n",
       "      <td>799.030612</td>\n",
       "      <td>1.262755</td>\n",
       "      <td>9.232143</td>\n",
       "      <td>2.904762</td>\n",
       "      <td>2.237245</td>\n",
       "      <td>2.721939</td>\n",
       "      <td>0.585034</td>\n",
       "      <td>66.041667</td>\n",
       "      <td>...</td>\n",
       "      <td>3.163265</td>\n",
       "      <td>2.694728</td>\n",
       "      <td>0.794218</td>\n",
       "      <td>11.513605</td>\n",
       "      <td>2.774660</td>\n",
       "      <td>2.772959</td>\n",
       "      <td>7.130102</td>\n",
       "      <td>4.309524</td>\n",
       "      <td>2.234694</td>\n",
       "      <td>4.199830</td>\n",
       "    </tr>\n",
       "    <tr>\n",
       "      <th>std</th>\n",
       "      <td>9.230375</td>\n",
       "      <td>0.667254</td>\n",
       "      <td>405.069460</td>\n",
       "      <td>0.539352</td>\n",
       "      <td>8.047287</td>\n",
       "      <td>1.036908</td>\n",
       "      <td>1.330112</td>\n",
       "      <td>1.096250</td>\n",
       "      <td>0.492926</td>\n",
       "      <td>20.233088</td>\n",
       "      <td>...</td>\n",
       "      <td>0.369765</td>\n",
       "      <td>1.086633</td>\n",
       "      <td>0.857607</td>\n",
       "      <td>7.934079</td>\n",
       "      <td>1.289989</td>\n",
       "      <td>0.701597</td>\n",
       "      <td>6.263511</td>\n",
       "      <td>3.690048</td>\n",
       "      <td>3.269358</td>\n",
       "      <td>3.626855</td>\n",
       "    </tr>\n",
       "    <tr>\n",
       "      <th>min</th>\n",
       "      <td>18.000000</td>\n",
       "      <td>0.000000</td>\n",
       "      <td>102.000000</td>\n",
       "      <td>0.000000</td>\n",
       "      <td>1.000000</td>\n",
       "      <td>1.000000</td>\n",
       "      <td>0.000000</td>\n",
       "      <td>1.000000</td>\n",
       "      <td>0.000000</td>\n",
       "      <td>30.000000</td>\n",
       "      <td>...</td>\n",
       "      <td>3.000000</td>\n",
       "      <td>1.000000</td>\n",
       "      <td>0.000000</td>\n",
       "      <td>0.000000</td>\n",
       "      <td>0.000000</td>\n",
       "      <td>1.000000</td>\n",
       "      <td>0.000000</td>\n",
       "      <td>0.000000</td>\n",
       "      <td>0.000000</td>\n",
       "      <td>0.000000</td>\n",
       "    </tr>\n",
       "    <tr>\n",
       "      <th>25%</th>\n",
       "      <td>30.000000</td>\n",
       "      <td>1.000000</td>\n",
       "      <td>463.500000</td>\n",
       "      <td>1.000000</td>\n",
       "      <td>2.000000</td>\n",
       "      <td>2.000000</td>\n",
       "      <td>1.000000</td>\n",
       "      <td>2.000000</td>\n",
       "      <td>0.000000</td>\n",
       "      <td>48.000000</td>\n",
       "      <td>...</td>\n",
       "      <td>3.000000</td>\n",
       "      <td>2.000000</td>\n",
       "      <td>0.000000</td>\n",
       "      <td>6.000000</td>\n",
       "      <td>2.000000</td>\n",
       "      <td>2.000000</td>\n",
       "      <td>3.000000</td>\n",
       "      <td>2.000000</td>\n",
       "      <td>0.000000</td>\n",
       "      <td>2.000000</td>\n",
       "    </tr>\n",
       "    <tr>\n",
       "      <th>50%</th>\n",
       "      <td>36.000000</td>\n",
       "      <td>2.000000</td>\n",
       "      <td>793.000000</td>\n",
       "      <td>1.000000</td>\n",
       "      <td>7.000000</td>\n",
       "      <td>3.000000</td>\n",
       "      <td>2.000000</td>\n",
       "      <td>3.000000</td>\n",
       "      <td>1.000000</td>\n",
       "      <td>66.000000</td>\n",
       "      <td>...</td>\n",
       "      <td>3.000000</td>\n",
       "      <td>3.000000</td>\n",
       "      <td>1.000000</td>\n",
       "      <td>10.000000</td>\n",
       "      <td>3.000000</td>\n",
       "      <td>3.000000</td>\n",
       "      <td>5.000000</td>\n",
       "      <td>3.000000</td>\n",
       "      <td>1.000000</td>\n",
       "      <td>3.000000</td>\n",
       "    </tr>\n",
       "    <tr>\n",
       "      <th>75%</th>\n",
       "      <td>43.000000</td>\n",
       "      <td>2.000000</td>\n",
       "      <td>1157.250000</td>\n",
       "      <td>2.000000</td>\n",
       "      <td>14.000000</td>\n",
       "      <td>4.000000</td>\n",
       "      <td>3.000000</td>\n",
       "      <td>4.000000</td>\n",
       "      <td>1.000000</td>\n",
       "      <td>84.000000</td>\n",
       "      <td>...</td>\n",
       "      <td>3.000000</td>\n",
       "      <td>4.000000</td>\n",
       "      <td>1.000000</td>\n",
       "      <td>16.000000</td>\n",
       "      <td>3.000000</td>\n",
       "      <td>3.000000</td>\n",
       "      <td>10.000000</td>\n",
       "      <td>7.000000</td>\n",
       "      <td>3.000000</td>\n",
       "      <td>7.000000</td>\n",
       "    </tr>\n",
       "    <tr>\n",
       "      <th>max</th>\n",
       "      <td>60.000000</td>\n",
       "      <td>2.000000</td>\n",
       "      <td>1499.000000</td>\n",
       "      <td>2.000000</td>\n",
       "      <td>29.000000</td>\n",
       "      <td>5.000000</td>\n",
       "      <td>5.000000</td>\n",
       "      <td>4.000000</td>\n",
       "      <td>1.000000</td>\n",
       "      <td>100.000000</td>\n",
       "      <td>...</td>\n",
       "      <td>4.000000</td>\n",
       "      <td>4.000000</td>\n",
       "      <td>3.000000</td>\n",
       "      <td>40.000000</td>\n",
       "      <td>6.000000</td>\n",
       "      <td>4.000000</td>\n",
       "      <td>40.000000</td>\n",
       "      <td>18.000000</td>\n",
       "      <td>15.000000</td>\n",
       "      <td>17.000000</td>\n",
       "    </tr>\n",
       "  </tbody>\n",
       "</table>\n",
       "<p>8 rows × 30 columns</p>\n",
       "</div>"
      ],
      "text/plain": [
       "               Age  BusinessTravel    DailyRate   Department  \\\n",
       "count  1176.000000     1176.000000  1176.000000  1176.000000   \n",
       "mean     37.013605        1.596088   799.030612     1.262755   \n",
       "std       9.230375        0.667254   405.069460     0.539352   \n",
       "min      18.000000        0.000000   102.000000     0.000000   \n",
       "25%      30.000000        1.000000   463.500000     1.000000   \n",
       "50%      36.000000        2.000000   793.000000     1.000000   \n",
       "75%      43.000000        2.000000  1157.250000     2.000000   \n",
       "max      60.000000        2.000000  1499.000000     2.000000   \n",
       "\n",
       "       DistanceFromHome    Education  EducationField  EnvironmentSatisfaction  \\\n",
       "count       1176.000000  1176.000000     1176.000000              1176.000000   \n",
       "mean           9.232143     2.904762        2.237245                 2.721939   \n",
       "std            8.047287     1.036908        1.330112                 1.096250   \n",
       "min            1.000000     1.000000        0.000000                 1.000000   \n",
       "25%            2.000000     2.000000        1.000000                 2.000000   \n",
       "50%            7.000000     3.000000        2.000000                 3.000000   \n",
       "75%           14.000000     4.000000        3.000000                 4.000000   \n",
       "max           29.000000     5.000000        5.000000                 4.000000   \n",
       "\n",
       "            Gender   HourlyRate  ...  PerformanceRating  \\\n",
       "count  1176.000000  1176.000000  ...        1176.000000   \n",
       "mean      0.585034    66.041667  ...           3.163265   \n",
       "std       0.492926    20.233088  ...           0.369765   \n",
       "min       0.000000    30.000000  ...           3.000000   \n",
       "25%       0.000000    48.000000  ...           3.000000   \n",
       "50%       1.000000    66.000000  ...           3.000000   \n",
       "75%       1.000000    84.000000  ...           3.000000   \n",
       "max       1.000000   100.000000  ...           4.000000   \n",
       "\n",
       "       RelationshipSatisfaction  StockOptionLevel  TotalWorkingYears  \\\n",
       "count               1176.000000       1176.000000        1176.000000   \n",
       "mean                   2.694728          0.794218          11.513605   \n",
       "std                    1.086633          0.857607           7.934079   \n",
       "min                    1.000000          0.000000           0.000000   \n",
       "25%                    2.000000          0.000000           6.000000   \n",
       "50%                    3.000000          1.000000          10.000000   \n",
       "75%                    4.000000          1.000000          16.000000   \n",
       "max                    4.000000          3.000000          40.000000   \n",
       "\n",
       "       TrainingTimesLastYear  WorkLifeBalance  YearsAtCompany  \\\n",
       "count            1176.000000      1176.000000     1176.000000   \n",
       "mean                2.774660         2.772959        7.130102   \n",
       "std                 1.289989         0.701597        6.263511   \n",
       "min                 0.000000         1.000000        0.000000   \n",
       "25%                 2.000000         2.000000        3.000000   \n",
       "50%                 3.000000         3.000000        5.000000   \n",
       "75%                 3.000000         3.000000       10.000000   \n",
       "max                 6.000000         4.000000       40.000000   \n",
       "\n",
       "       YearsInCurrentRole  YearsSinceLastPromotion  YearsWithCurrManager  \n",
       "count         1176.000000              1176.000000           1176.000000  \n",
       "mean             4.309524                 2.234694              4.199830  \n",
       "std              3.690048                 3.269358              3.626855  \n",
       "min              0.000000                 0.000000              0.000000  \n",
       "25%              2.000000                 0.000000              2.000000  \n",
       "50%              3.000000                 1.000000              3.000000  \n",
       "75%              7.000000                 3.000000              7.000000  \n",
       "max             18.000000                15.000000             17.000000  \n",
       "\n",
       "[8 rows x 30 columns]"
      ]
     },
     "execution_count": 37,
     "metadata": {},
     "output_type": "execute_result"
    }
   ],
   "source": [
    "from sklearn.model_selection import train_test_split\n",
    "\n",
    "x_train, x_test, y_train, y_test = train_test_split(x,y,test_size=0.2,random_state=47)\n",
    "x_train.describe()"
   ]
  },
  {
   "cell_type": "markdown",
   "id": "f49392f4",
   "metadata": {},
   "source": [
    "### Data Imbalence"
   ]
  },
  {
   "cell_type": "code",
   "execution_count": 38,
   "id": "fe1679e0",
   "metadata": {},
   "outputs": [],
   "source": [
    "from sklearn.utils import resample\n",
    "#create two different dataframe of majority and minority \n",
    "X=pd.concat([x_train,y_train],axis=1)\n",
    "df_major = X[(X['Attrition']==0)] \n",
    "df_minor =X[(X['Attrition']==1)] \n",
    "# upsample minority class\n",
    "df_minor_upsampled = resample(df_minor, \n",
    "                                 replace=True,    # sample with replacement\n",
    "                                 n_samples=len(df_major), # to match majority class\n",
    "                                 random_state=42)  # reproducible results\n",
    "# Combine majority class with upsampled minority class\n",
    "df_upsampled = pd.concat([df_minor_upsampled, df_major])"
   ]
  },
  {
   "cell_type": "code",
   "execution_count": 39,
   "id": "e4aa8d8d",
   "metadata": {},
   "outputs": [
    {
     "data": {
      "text/plain": [
       "0    985\n",
       "1    985\n",
       "Name: Attrition, dtype: int64"
      ]
     },
     "execution_count": 39,
     "metadata": {},
     "output_type": "execute_result"
    }
   ],
   "source": [
    "df_upsampled.Attrition.value_counts()"
   ]
  },
  {
   "cell_type": "code",
   "execution_count": 40,
   "id": "9dc4fa36",
   "metadata": {},
   "outputs": [],
   "source": [
    "x_train= df_upsampled.drop(columns='Attrition')\n",
    "y_train= df_upsampled['Attrition']"
   ]
  },
  {
   "cell_type": "code",
   "execution_count": 41,
   "id": "bbb8f8e9",
   "metadata": {},
   "outputs": [],
   "source": [
    "# data normalization with sklearn\n",
    "from sklearn.preprocessing import MinMaxScaler\n",
    "\n",
    "# fit scaler on training data\n",
    "norm = MinMaxScaler().fit(x_train)\n",
    "\n",
    "# transform training data\n",
    "x_train_norm = norm.transform(x_train)\n",
    "\n",
    "# transform testing dataabs\n",
    "x_test_norm = norm.transform(x_test)"
   ]
  },
  {
   "cell_type": "code",
   "execution_count": 42,
   "id": "3b40d962",
   "metadata": {},
   "outputs": [],
   "source": [
    "x_test=pd.DataFrame(x_test_norm)\n",
    "x_train=pd.DataFrame(x_train_norm)"
   ]
  },
  {
   "cell_type": "markdown",
   "id": "a27a101e",
   "metadata": {},
   "source": [
    "# 5.MODEL CONSTRUCTION"
   ]
  },
  {
   "cell_type": "markdown",
   "id": "7f52f640",
   "metadata": {},
   "source": [
    "### 1.LogisticRegression"
   ]
  },
  {
   "cell_type": "code",
   "execution_count": 43,
   "id": "0befa529",
   "metadata": {},
   "outputs": [],
   "source": [
    "from sklearn.model_selection import train_test_split\n",
    "from sklearn.metrics import mean_squared_error\n",
    "from sklearn.svm import LinearSVC, SVC\n",
    "from sklearn.calibration import CalibratedClassifierCV\n",
    "from sklearn.metrics import precision_recall_curve\n",
    "from sklearn.linear_model import LogisticRegression\n",
    "from sklearn.tree import DecisionTreeClassifier\n",
    "from sklearn.neighbors import KNeighborsClassifier\n",
    "\n",
    "from sklearn.metrics import accuracy_score\n",
    "from sklearn.metrics import confusion_matrix,classification_report\n",
    "import warnings\n",
    "warnings.filterwarnings('ignore')"
   ]
  },
  {
   "cell_type": "code",
   "execution_count": 44,
   "id": "833458bb",
   "metadata": {},
   "outputs": [
    {
     "name": "stdout",
     "output_type": "stream",
     "text": [
      "(1102, 30)\n",
      "(1102,)\n",
      "(368, 30)\n",
      "(368,)\n"
     ]
    }
   ],
   "source": [
    "# dividing the dataset in training and testing set\n",
    "\n",
    "#from sklearn.cross_validation import train_test_split\n",
    "\n",
    "x_train, x_test, y_train, y_test = train_test_split(x, y, test_size = 0.25, random_state = 44)\n",
    "\n",
    "# determining the shapes of training and testing sets\n",
    "print(x_train.shape)\n",
    "print(y_train.shape)\n",
    "print(x_test.shape)\n",
    "print(y_test.shape)"
   ]
  },
  {
   "cell_type": "code",
   "execution_count": 45,
   "id": "15a9d7ba",
   "metadata": {},
   "outputs": [
    {
     "name": "stdout",
     "output_type": "stream",
     "text": [
      "Training accuracy : 0.8366606170598911\n",
      "Testing accuracy : 0.8505434782608695\n",
      "              precision    recall  f1-score   support\n",
      "\n",
      "           0       0.85      1.00      0.92       312\n",
      "           1       0.67      0.04      0.07        56\n",
      "\n",
      "    accuracy                           0.85       368\n",
      "   macro avg       0.76      0.52      0.49       368\n",
      "weighted avg       0.82      0.85      0.79       368\n",
      "\n",
      "[[311   1]\n",
      " [ 54   2]]\n"
     ]
    }
   ],
   "source": [
    "# creating the model\n",
    "model_lg = LogisticRegression()\n",
    "\n",
    "# feeding the training set into the model\n",
    "model_lg.fit(x_train, y_train)\n",
    "\n",
    "# predicting the results for the test set\n",
    "y_pred = model_lg.predict(x_test)\n",
    "\n",
    "# calculating the training and testing accuracies\n",
    "print(\"Training accuracy :\", model_lg.score(x_train, y_train))\n",
    "print(\"Testing accuracy :\", model_lg.score(x_test, y_test))\n",
    "\n",
    "# classification report\n",
    "print(classification_report(y_test, y_pred))\n",
    "\n",
    "# confusion matrix\n",
    "print(confusion_matrix(y_test, y_pred))"
   ]
  },
  {
   "cell_type": "markdown",
   "id": "d626c2c5",
   "metadata": {},
   "source": [
    "c-v score"
   ]
  },
  {
   "cell_type": "code",
   "execution_count": 46,
   "id": "97fcc668",
   "metadata": {},
   "outputs": [
    {
     "data": {
      "text/plain": [
       "0.8394557823129252"
      ]
     },
     "execution_count": 46,
     "metadata": {},
     "output_type": "execute_result"
    }
   ],
   "source": [
    "from sklearn.model_selection import GridSearchCV, cross_val_score\n",
    "lg_cv=cross_val_score(model_lg,x,y,scoring='accuracy', cv = 3).mean()\n",
    "lg_cv"
   ]
  },
  {
   "cell_type": "markdown",
   "id": "3a6531d4",
   "metadata": {},
   "source": [
    "### 2.RandomForestClassifier"
   ]
  },
  {
   "cell_type": "code",
   "execution_count": 47,
   "id": "e37f54c5",
   "metadata": {},
   "outputs": [
    {
     "name": "stdout",
     "output_type": "stream",
     "text": [
      "Training accuracy : 1.0\n",
      "Testing accuracy : 0.8722826086956522\n"
     ]
    }
   ],
   "source": [
    "from sklearn.ensemble import RandomForestClassifier\n",
    "\n",
    "# creating the model\n",
    "model_rfc = RandomForestClassifier(n_estimators = 200)\n",
    "\n",
    "# feeding the training set into the model\n",
    "model_rfc.fit(x_train, y_train)\n",
    "\n",
    "# predicting the results for the test set\n",
    "y_pred = model_rfc.predict(x_test)\n",
    "\n",
    "# calculating the training and testing accuracies\n",
    "print(\"Training accuracy :\", model_rfc.score(x_train, y_train))\n",
    "print(\"Testing accuracy :\", model_rfc.score(x_test, y_test))"
   ]
  },
  {
   "cell_type": "code",
   "execution_count": 48,
   "id": "5f98ee42",
   "metadata": {},
   "outputs": [
    {
     "name": "stdout",
     "output_type": "stream",
     "text": [
      "              precision    recall  f1-score   support\n",
      "\n",
      "           0       0.87      0.99      0.93       312\n",
      "           1       0.85      0.20      0.32        56\n",
      "\n",
      "    accuracy                           0.87       368\n",
      "   macro avg       0.86      0.60      0.62       368\n",
      "weighted avg       0.87      0.87      0.84       368\n",
      "\n",
      "[[310   2]\n",
      " [ 45  11]]\n"
     ]
    }
   ],
   "source": [
    "# classification report\n",
    "print(classification_report(y_test, y_pred))\n",
    "\n",
    "# confusion matrix\n",
    "print(confusion_matrix(y_test, y_pred))"
   ]
  },
  {
   "cell_type": "markdown",
   "id": "27a2920d",
   "metadata": {},
   "source": [
    " c-v score"
   ]
  },
  {
   "cell_type": "code",
   "execution_count": 49,
   "id": "a374606b",
   "metadata": {},
   "outputs": [
    {
     "data": {
      "text/plain": [
       "0.8575429975429975"
      ]
     },
     "execution_count": 49,
     "metadata": {},
     "output_type": "execute_result"
    }
   ],
   "source": [
    "#Now lets try to do some evaluation for random forest model using cross validation.\n",
    "\n",
    "rfc_cv = cross_val_score(estimator = model_rfc, X = x_train, y = y_train, cv = 10)\n",
    "rfc_cv.mean()"
   ]
  },
  {
   "cell_type": "markdown",
   "id": "608f2a3c",
   "metadata": {},
   "source": [
    "### 3.SVC"
   ]
  },
  {
   "cell_type": "code",
   "execution_count": 50,
   "id": "ed5365d3",
   "metadata": {},
   "outputs": [
    {
     "name": "stdout",
     "output_type": "stream",
     "text": [
      "Training accuracy : 0.8357531760435571\n",
      "Testing accuracy : 0.8478260869565217\n"
     ]
    }
   ],
   "source": [
    "from sklearn.svm import SVC\n",
    "\n",
    "# creating the model\n",
    "model_svc = SVC()\n",
    "\n",
    "# feeding the training set into the model\n",
    "model_svc.fit(x_train, y_train)\n",
    "\n",
    "# predicting the results for the test set\n",
    "y_pred = model_svc.predict(x_test)\n",
    "\n",
    "# calculating the training and testing accuracies\n",
    "print(\"Training accuracy :\", model_svc.score(x_train, y_train))\n",
    "print(\"Testing accuracy :\", model_svc.score(x_test, y_test))"
   ]
  },
  {
   "cell_type": "code",
   "execution_count": 51,
   "id": "c5d2167f",
   "metadata": {},
   "outputs": [
    {
     "name": "stdout",
     "output_type": "stream",
     "text": [
      "              precision    recall  f1-score   support\n",
      "\n",
      "           0       0.85      1.00      0.92       312\n",
      "           1       0.00      0.00      0.00        56\n",
      "\n",
      "    accuracy                           0.85       368\n",
      "   macro avg       0.42      0.50      0.46       368\n",
      "weighted avg       0.72      0.85      0.78       368\n",
      "\n",
      "[[312   0]\n",
      " [ 56   0]]\n"
     ]
    }
   ],
   "source": [
    "# classification report\n",
    "print(classification_report(y_test, y_pred))\n",
    "\n",
    "# confusion matrix\n",
    "print(confusion_matrix(y_test, y_pred))"
   ]
  },
  {
   "cell_type": "markdown",
   "id": "986d0de7",
   "metadata": {},
   "source": [
    "c-v score"
   ]
  },
  {
   "cell_type": "code",
   "execution_count": 52,
   "id": "24e4c142",
   "metadata": {},
   "outputs": [
    {
     "data": {
      "text/plain": [
       "0.8357575757575756"
      ]
     },
     "execution_count": 52,
     "metadata": {},
     "output_type": "execute_result"
    }
   ],
   "source": [
    "svc_cv = cross_val_score(estimator = model_svc, X = x_train, y = y_train, cv = 10)\n",
    "svc_cv.mean()"
   ]
  },
  {
   "cell_type": "markdown",
   "id": "4f9d45a0",
   "metadata": {},
   "source": [
    "### 4.DecisionTreeClassifier"
   ]
  },
  {
   "cell_type": "code",
   "execution_count": 53,
   "id": "1b3e034c",
   "metadata": {},
   "outputs": [
    {
     "name": "stdout",
     "output_type": "stream",
     "text": [
      "Training accuracy : 1.0\n",
      "Testing accuracy : 0.7663043478260869\n"
     ]
    }
   ],
   "source": [
    "from sklearn.tree import DecisionTreeClassifier\n",
    "\n",
    "# creating model\n",
    "model_dt = DecisionTreeClassifier()\n",
    "\n",
    "# feeding the training set into the model\n",
    "model_dt.fit(x_train, y_train)\n",
    "\n",
    "# predicting the results for the test set\n",
    "y_pred = model_dt.predict(x_test)\n",
    "\n",
    "# calculating the training and testing accuracies\n",
    "print(\"Training accuracy :\", model_dt.score(x_train, y_train))\n",
    "print(\"Testing accuracy :\", model_dt.score(x_test, y_test))"
   ]
  },
  {
   "cell_type": "markdown",
   "id": "03866d48",
   "metadata": {},
   "source": [
    "c-v score"
   ]
  },
  {
   "cell_type": "code",
   "execution_count": 54,
   "id": "7ad87c15",
   "metadata": {},
   "outputs": [
    {
     "data": {
      "text/plain": [
       "0.7813185913185914"
      ]
     },
     "execution_count": 54,
     "metadata": {},
     "output_type": "execute_result"
    }
   ],
   "source": [
    "#Now lets try to do some evaluation for decision tree model using cross validation.\n",
    "\n",
    "dt_cv = cross_val_score(estimator = model_dt, X = x_train, y = y_train, cv = 10)\n",
    "dt_cv.mean()"
   ]
  },
  {
   "cell_type": "markdown",
   "id": "9657da3d",
   "metadata": {},
   "source": [
    "### 5.GaussianNB"
   ]
  },
  {
   "cell_type": "code",
   "execution_count": 55,
   "id": "eacb6598",
   "metadata": {},
   "outputs": [
    {
     "name": "stdout",
     "output_type": "stream",
     "text": [
      "Training accuracy : 0.7858439201451906\n",
      "Testing accuracy : 0.779891304347826\n",
      "              precision    recall  f1-score   support\n",
      "\n",
      "           0       0.92      0.81      0.86       312\n",
      "           1       0.37      0.61      0.46        56\n",
      "\n",
      "    accuracy                           0.78       368\n",
      "   macro avg       0.64      0.71      0.66       368\n",
      "weighted avg       0.84      0.78      0.80       368\n",
      "\n",
      "[[253  59]\n",
      " [ 22  34]]\n",
      "accuracy_score : 0.779891304347826\n"
     ]
    }
   ],
   "source": [
    "from sklearn.naive_bayes import GaussianNB\n",
    "# creating model\n",
    "model_gnb = GaussianNB()\n",
    "\n",
    "# feeding the training set into the model\n",
    "model_gnb.fit(x_train, y_train)\n",
    "\n",
    "# predicting the results for the test set\n",
    "y_pred = model_gnb.predict(x_test)\n",
    "\n",
    "# calculating the training and testing accuracies\n",
    "print(\"Training accuracy :\", model_gnb.score(x_train, y_train))\n",
    "print(\"Testing accuracy :\", model_gnb.score(x_test, y_test))\n",
    "# classification report\n",
    "print(classification_report(y_test, y_pred))\n",
    "\n",
    "# confusion matrix\n",
    "print(confusion_matrix(y_test, y_pred))\n",
    "print('accuracy_score :' ,accuracy_score(y_test,y_pred))"
   ]
  },
  {
   "cell_type": "markdown",
   "id": "18917a0b",
   "metadata": {},
   "source": [
    "c-v score"
   ]
  },
  {
   "cell_type": "code",
   "execution_count": 56,
   "id": "f3a61a16",
   "metadata": {},
   "outputs": [
    {
     "data": {
      "text/plain": [
       "0.7712039312039313"
      ]
     },
     "execution_count": 56,
     "metadata": {},
     "output_type": "execute_result"
    }
   ],
   "source": [
    "#Now lets try to do some evaluation for GaussianNB model using cross validation.\n",
    "gnb_cv = cross_val_score(estimator = model_gnb, X = x_train, y = y_train, cv = 10)\n",
    "gnb_cv.mean()"
   ]
  },
  {
   "cell_type": "markdown",
   "id": "73f40c6d",
   "metadata": {},
   "source": [
    "### 6.KNeighborsClassifier"
   ]
  },
  {
   "cell_type": "code",
   "execution_count": 57,
   "id": "a0aaca60",
   "metadata": {},
   "outputs": [
    {
     "name": "stdout",
     "output_type": "stream",
     "text": [
      "Training accuracy : 0.852994555353902\n",
      "Testing accuracy : 0.842391304347826\n",
      "              precision    recall  f1-score   support\n",
      "\n",
      "           0       0.86      0.98      0.91       312\n",
      "           1       0.42      0.09      0.15        56\n",
      "\n",
      "    accuracy                           0.84       368\n",
      "   macro avg       0.64      0.53      0.53       368\n",
      "weighted avg       0.79      0.84      0.80       368\n",
      "\n",
      "[[305   7]\n",
      " [ 51   5]]\n",
      "accuracy_score : 0.842391304347826\n"
     ]
    }
   ],
   "source": [
    "# creating model\n",
    "model_KNc = KNeighborsClassifier(n_neighbors=7)\n",
    "\n",
    "# feeding the training set into the model\n",
    "model_KNc.fit(x_train, y_train)\n",
    "\n",
    "# predicting the results for the test set\n",
    "y_pred = model_KNc.predict(x_test)\n",
    "\n",
    "# calculating the training and testing accuracies\n",
    "print(\"Training accuracy :\", model_KNc.score(x_train, y_train))\n",
    "print(\"Testing accuracy :\", model_KNc.score(x_test, y_test))\n",
    "# classification report\n",
    "print(classification_report(y_test, y_pred))\n",
    "\n",
    "# confusion matrix\n",
    "print(confusion_matrix(y_test, y_pred))\n",
    "print('accuracy_score :' ,accuracy_score(y_test,y_pred))"
   ]
  },
  {
   "cell_type": "markdown",
   "id": "d8498bbd",
   "metadata": {},
   "source": [
    "c-v score"
   ]
  },
  {
   "cell_type": "code",
   "execution_count": 58,
   "id": "85b341ec",
   "metadata": {},
   "outputs": [
    {
     "data": {
      "text/plain": [
       "0.8374149659863945"
      ]
     },
     "execution_count": 58,
     "metadata": {},
     "output_type": "execute_result"
    }
   ],
   "source": [
    "knn_cv=cross_val_score(model_KNc,x,y,scoring='accuracy', cv = 10)\n",
    "knn_cv.mean()"
   ]
  },
  {
   "cell_type": "code",
   "execution_count": 59,
   "id": "3984062d",
   "metadata": {},
   "outputs": [
    {
     "name": "stdout",
     "output_type": "stream",
     "text": [
      "MODEL             Accurancy score         C_V Score\n",
      "LOGISTIC REGG     0.8505434782608695        0.84\n",
      "RANDOM FOREST     0.8722826086956522        0.86\n",
      "SVC               0.8478260869565217        0.84\n",
      "DTREE             0.8722826086956522        0.78\n",
      "KNeighborsclass   0.842391304347826          0.84\n",
      "GaussianNB        0.779891304347826         0.77\n"
     ]
    }
   ],
   "source": [
    "print('MODEL',\"           \",'Accurancy score','       ','C_V Score')\n",
    "print(\"LOGISTIC REGG    \",model_lg.score(x_test, y_test),\"      \",round(lg_cv.mean(),2))\n",
    "print(\"RANDOM FOREST    \",model_rfc.score(x_test, y_test),\"      \",round(rfc_cv.mean(),2))\n",
    "print(\"SVC              \",model_svc.score(x_test, y_test),\"      \",round(svc_cv.mean(),2))\n",
    "print(\"DTREE            \",model_rfc.score(x_test, y_test),\"      \",round(dt_cv.mean(),2) )\n",
    "print('KNeighborsclass  ',model_KNc.score(x_test, y_test),\"        \",round(knn_cv.mean(),2) ) \n",
    "print('GaussianNB',\"      \",model_gnb.score(x_test, y_test),\"       \",round(gnb_cv.mean(),2))"
   ]
  },
  {
   "cell_type": "markdown",
   "id": "608a2293",
   "metadata": {},
   "source": [
    "#### The best model accoding to accuracy score- cross validation score is LOGISTIC REGRESSION, RandomForestClassifier, SVC since it is having least difference"
   ]
  },
  {
   "cell_type": "markdown",
   "id": "72839ff5",
   "metadata": {},
   "source": [
    "# 6.Hyper parameter tuning"
   ]
  },
  {
   "cell_type": "markdown",
   "id": "f64f3638",
   "metadata": {},
   "source": [
    "### FINDING BEST random_state"
   ]
  },
  {
   "cell_type": "code",
   "execution_count": 60,
   "id": "4ddc883c",
   "metadata": {},
   "outputs": [
    {
     "name": "stdout",
     "output_type": "stream",
     "text": [
      "0 1.077551020408163\n",
      "1 1.1383693746347163\n",
      "2 0.9959349593495935\n",
      "3 1.0486840836787814\n",
      "4 1.0078754748448069\n",
      "5 0.9551020408163263\n",
      "6 0.9959349593495935\n",
      "7 1.0623552302418235\n",
      "8 1.0623552302418235\n",
      "9 1.1453252032520325\n",
      "10 1.0735640928109547\n",
      "11 0.9710365853658536\n",
      "12 1.070630081300813\n",
      "13 1.1081697054698456\n",
      "14 1.0127952755905512\n",
      "15 1.077026896751181\n",
      "16 1.1143078645878197\n",
      "17 1.1265306122448977\n",
      "18 1.0308555399719495\n",
      "19 1.1387073347857661\n",
      "20 1.0438150568869522\n",
      "21 1.0636575071065553\n",
      "22 1.0046090273363\n",
      "23 1.070630081300813\n",
      "24 1.075769745649264\n",
      "25 1.0955284552845528\n",
      "26 0.8192267502612331\n",
      "27 1.0390191128741433\n",
      "28 1.0147058823529411\n",
      "29 1.0438150568869522\n",
      "30 1.0495314591700138\n",
      "31 0.9999999999999998\n",
      "32 0.989743991231504\n",
      "33 1.1453252032520325\n",
      "34 1.0130071496252908\n",
      "35 1.0275493421052633\n",
      "36 1.0566269284712482\n",
      "37 1.082398316970547\n",
      "38 1.045731707317073\n",
      "39 0.9461382113821137\n",
      "40 0.9551020408163264\n",
      "41 0.9259842519685038\n",
      "42 1.093815987933635\n",
      "43 1.1241657397107896\n",
      "44 1.0495314591700138\n",
      "45 1.131689984454808\n",
      "46 1.125\n",
      "47 1.0050841514726507\n",
      "48 1.0208333333333333\n",
      "49 1.070630081300813\n",
      "50 1.150865106083144\n",
      "51 0.979312762973352\n",
      "52 0.9166666666666665\n",
      "53 1.0351153525433152\n",
      "54 1.1020408163265305\n",
      "55 1.0642533936651586\n",
      "56 1.0208333333333333\n",
      "57 1.0996062992125983\n",
      "58 1.1278478039614812\n",
      "59 1.0308555399719492\n",
      "60 1.0362295081967212\n",
      "61 1.1204268292682926\n",
      "62 1.0357785954748298\n",
      "63 1.0130071496252906\n",
      "64 1.0958181818181816\n",
      "65 1.082398316970547\n",
      "66 0.9277699859747545\n",
      "67 1.0277777777777777\n",
      "68 0.9841004184100418\n",
      "69 1.0954120397428404\n",
      "70 1.0808823529411766\n",
      "71 1.1143078645878197\n",
      "72 1.1326229508196721\n",
      "73 1.0078754748448069\n",
      "74 1.1755102040816323\n",
      "75 1.0881634465911614\n",
      "76 1.1149842653110627\n",
      "77 1.1081697054698456\n",
      "78 1.0555555555555554\n",
      "79 1.1099267155229846\n",
      "80 1.139633043328452\n",
      "81 0.9876819708846584\n",
      "82 1.077551020408163\n",
      "83 0.9445783132530123\n",
      "84 0.9212398373983739\n",
      "85 1.045731707317073\n",
      "86 1.0423636363636362\n",
      "87 1.0675381263616557\n",
      "88 1.1915130324221233\n",
      "89 1.111574074074074\n",
      "90 0.9959349593495933\n",
      "91 1.176\n",
      "92 1.004081632653061\n",
      "93 1.0232931726907633\n",
      "94 1.0690909090909089\n",
      "95 1.0603278688524589\n",
      "96 1.0435185185185185\n",
      "97 1.1691176470588236\n",
      "98 0.9806355971462987\n",
      "99 0.8644310235219325\n",
      "best random state is 26 value is  0.8192267502612331\n"
     ]
    }
   ],
   "source": [
    "from sklearn.metrics import r2_score\n",
    "d=5\n",
    "for i in range(0,100):\n",
    "    x_train, x_test, y_train, y_test = train_test_split(x,y,test_size=0.2,random_state=i)\n",
    "    model_rfc.fit(x_train,y_train)\n",
    "    pred_train=model_rfc.predict(x_train)\n",
    "    pred_test = model_rfc.predict(x_test)\n",
    "    a=r2_score(y_train,pred_train)\n",
    "    b=r2_score(y_test,pred_test)\n",
    "    c=a-b\n",
    "    print(i,c)\n",
    "    if d>=c:\n",
    "        d=c\n",
    "        e=i\n",
    "print(\"best random state is\",e,\"value is \",d)"
   ]
  },
  {
   "cell_type": "code",
   "execution_count": 61,
   "id": "a1e6f496",
   "metadata": {},
   "outputs": [],
   "source": [
    "x_train, x_test, y_train, y_test = train_test_split(x,y,test_size=0.2,random_state=26)"
   ]
  },
  {
   "cell_type": "markdown",
   "id": "7149c826",
   "metadata": {},
   "source": [
    "### 1.LogisticRegression"
   ]
  },
  {
   "cell_type": "code",
   "execution_count": 62,
   "id": "9f9f90d0",
   "metadata": {},
   "outputs": [
    {
     "name": "stdout",
     "output_type": "stream",
     "text": [
      "Tuned Logistic Regression Parameters: {'C': 163789.3706954068}\n",
      "Best score is 0.8428571428571429\n"
     ]
    }
   ],
   "source": [
    "# Necessary imports\n",
    "from sklearn.linear_model import LogisticRegression\n",
    "from sklearn.model_selection import GridSearchCV\n",
    "  \n",
    "# Creating the hyperparameter grid\n",
    "c_space = np.logspace(-5, 8, 15)\n",
    "param_grid = {'C': c_space}\n",
    "  \n",
    "# Instantiating logistic regression classifier\n",
    "logreg = LogisticRegression()\n",
    "  \n",
    "# Instantiating the GridSearchCV object\n",
    "logreg_cv = GridSearchCV(logreg, param_grid, cv = 5)\n",
    "  \n",
    "logreg_cv.fit(x, y)\n",
    "  \n",
    "# Print the tuned parameters and score\n",
    "print(\"Tuned Logistic Regression Parameters: {}\".format(logreg_cv.best_params_)) \n",
    "print(\"Best score is {}\".format(logreg_cv.best_score_))"
   ]
  },
  {
   "cell_type": "code",
   "execution_count": 63,
   "id": "41f68116",
   "metadata": {},
   "outputs": [
    {
     "name": "stdout",
     "output_type": "stream",
     "text": [
      "Training accuracy : 0.8299319727891157\n",
      "Testing accuracy : 0.8843537414965986\n",
      "              precision    recall  f1-score   support\n",
      "\n",
      "           0       0.89      1.00      0.94       261\n",
      "           1       1.00      0.06      0.11        33\n",
      "\n",
      "    accuracy                           0.89       294\n",
      "   macro avg       0.95      0.53      0.53       294\n",
      "weighted avg       0.91      0.89      0.85       294\n",
      "\n",
      "[[261   0]\n",
      " [ 31   2]]\n"
     ]
    }
   ],
   "source": [
    "# creating the model\n",
    "model = LogisticRegression(C=163789.3706954068 )\n",
    "\n",
    "# feeding the training set into the model\n",
    "model.fit(x_train, y_train)\n",
    "\n",
    "# predicting the results for the test set\n",
    "y_pred = model_lg.predict(x_test)\n",
    "\n",
    "# calculating the training and testing accuracies\n",
    "print(\"Training accuracy :\", model.score(x_train, y_train))\n",
    "print(\"Testing accuracy :\", model.score(x_test, y_test))\n",
    "\n",
    "# classification report\n",
    "print(classification_report(y_test, y_pred))\n",
    "\n",
    "# confusion matrix\n",
    "print(confusion_matrix(y_test, y_pred))"
   ]
  },
  {
   "cell_type": "markdown",
   "id": "c77f7813",
   "metadata": {},
   "source": [
    "### cross validation score"
   ]
  },
  {
   "cell_type": "code",
   "execution_count": 64,
   "id": "9879c3a5",
   "metadata": {},
   "outputs": [
    {
     "data": {
      "text/plain": [
       "0.8428571428571429"
      ]
     },
     "execution_count": 64,
     "metadata": {},
     "output_type": "execute_result"
    }
   ],
   "source": [
    "\n",
    "lg_cv=cross_val_score(model,x,y,scoring='accuracy', cv = 3).mean()\n",
    "lg_cv"
   ]
  },
  {
   "cell_type": "markdown",
   "id": "f877d946",
   "metadata": {},
   "source": [
    "## 2.RandomForestClassifier"
   ]
  },
  {
   "cell_type": "code",
   "execution_count": 65,
   "id": "dab6b489",
   "metadata": {},
   "outputs": [],
   "source": [
    "rfc=RandomForestClassifier()\n",
    "param_grid={\n",
    "    'criterion' : [\"gini\", \"entropy\"],\n",
    "    'n_estimators':[200,1000,50],\n",
    "    'min_samples_split':[2,3,4],\n",
    "     'random_state':[10]              \n",
    "}"
   ]
  },
  {
   "cell_type": "code",
   "execution_count": 66,
   "id": "cb341a34",
   "metadata": {},
   "outputs": [
    {
     "name": "stdout",
     "output_type": "stream",
     "text": [
      "Fitting 4 folds for each of 18 candidates, totalling 72 fits\n"
     ]
    },
    {
     "data": {
      "text/plain": [
       "GridSearchCV(cv=4, estimator=RandomForestClassifier(), n_jobs=-1,\n",
       "             param_grid={'criterion': ['gini', 'entropy'],\n",
       "                         'min_samples_split': [2, 3, 4],\n",
       "                         'n_estimators': [200, 1000, 50],\n",
       "                         'random_state': [10]},\n",
       "             scoring='accuracy', verbose=2)"
      ]
     },
     "execution_count": 66,
     "metadata": {},
     "output_type": "execute_result"
    }
   ],
   "source": [
    "rf=GridSearchCV(RandomForestClassifier(),param_grid,cv=4,scoring='accuracy',n_jobs=-1,verbose=2)\n",
    "rf.fit(x_train,y_train)"
   ]
  },
  {
   "cell_type": "code",
   "execution_count": 67,
   "id": "58340b81",
   "metadata": {},
   "outputs": [
    {
     "data": {
      "text/plain": [
       "{'criterion': 'gini',\n",
       " 'min_samples_split': 4,\n",
       " 'n_estimators': 200,\n",
       " 'random_state': 10}"
      ]
     },
     "execution_count": 67,
     "metadata": {},
     "output_type": "execute_result"
    }
   ],
   "source": [
    "rf.best_params_"
   ]
  },
  {
   "cell_type": "code",
   "execution_count": 68,
   "id": "e43627e3",
   "metadata": {},
   "outputs": [
    {
     "name": "stdout",
     "output_type": "stream",
     "text": [
      "              precision    recall  f1-score   support\n",
      "\n",
      "           0       0.92      0.99      0.95       261\n",
      "           1       0.83      0.30      0.44        33\n",
      "\n",
      "    accuracy                           0.91       294\n",
      "   macro avg       0.88      0.65      0.70       294\n",
      "weighted avg       0.91      0.91      0.90       294\n",
      "\n",
      "0.9149659863945578\n"
     ]
    }
   ],
   "source": [
    "clf= RandomForestClassifier(criterion='gini',min_samples_split=4,n_estimators=200,random_state=10).fit(x_train, y_train)\n",
    "fianlRFC= clf.predict(x_test)\n",
    "randomforest_accu=accuracy_score(y_test,fianlRFC)\n",
    "randomforest_accu\n",
    "#print(confusion_matrix(y_test, predRFC))\n",
    "print(classification_report(y_test, fianlRFC))\n",
    "print(randomforest_accu)"
   ]
  },
  {
   "cell_type": "markdown",
   "id": "59e68647",
   "metadata": {},
   "source": [
    "#### cross validation score"
   ]
  },
  {
   "cell_type": "code",
   "execution_count": 69,
   "id": "753b4d8e",
   "metadata": {},
   "outputs": [
    {
     "data": {
      "text/plain": [
       "0.8571428571428571"
      ]
     },
     "execution_count": 69,
     "metadata": {},
     "output_type": "execute_result"
    }
   ],
   "source": [
    "randomforest_cv= cross_val_score(clf,x,y,scoring='accuracy', cv = 3).mean()\n",
    "randomforest_cv"
   ]
  },
  {
   "cell_type": "markdown",
   "id": "8ee08ba7",
   "metadata": {},
   "source": [
    "## 3.SVC"
   ]
  },
  {
   "cell_type": "code",
   "execution_count": 70,
   "id": "f2a7965c",
   "metadata": {},
   "outputs": [
    {
     "name": "stdout",
     "output_type": "stream",
     "text": [
      "Fitting 5 folds for each of 25 candidates, totalling 125 fits\n",
      "[CV 1/5] END ........C=0.1, gamma=1, kernel=rbf;, score=0.826 total time=   0.4s\n",
      "[CV 2/5] END ........C=0.1, gamma=1, kernel=rbf;, score=0.830 total time=   0.3s\n",
      "[CV 3/5] END ........C=0.1, gamma=1, kernel=rbf;, score=0.826 total time=   0.4s\n",
      "[CV 4/5] END ........C=0.1, gamma=1, kernel=rbf;, score=0.826 total time=   0.4s\n",
      "[CV 5/5] END ........C=0.1, gamma=1, kernel=rbf;, score=0.826 total time=   0.4s\n",
      "[CV 1/5] END ......C=0.1, gamma=0.1, kernel=rbf;, score=0.826 total time=   0.5s\n",
      "[CV 2/5] END ......C=0.1, gamma=0.1, kernel=rbf;, score=0.830 total time=   0.3s\n",
      "[CV 3/5] END ......C=0.1, gamma=0.1, kernel=rbf;, score=0.826 total time=   0.3s\n",
      "[CV 4/5] END ......C=0.1, gamma=0.1, kernel=rbf;, score=0.826 total time=   0.4s\n",
      "[CV 5/5] END ......C=0.1, gamma=0.1, kernel=rbf;, score=0.826 total time=   0.4s\n",
      "[CV 1/5] END .....C=0.1, gamma=0.01, kernel=rbf;, score=0.826 total time=   0.3s\n",
      "[CV 2/5] END .....C=0.1, gamma=0.01, kernel=rbf;, score=0.830 total time=   0.4s\n",
      "[CV 3/5] END .....C=0.1, gamma=0.01, kernel=rbf;, score=0.826 total time=   0.3s\n",
      "[CV 4/5] END .....C=0.1, gamma=0.01, kernel=rbf;, score=0.826 total time=   0.3s\n",
      "[CV 5/5] END .....C=0.1, gamma=0.01, kernel=rbf;, score=0.826 total time=   0.3s\n",
      "[CV 1/5] END ....C=0.1, gamma=0.001, kernel=rbf;, score=0.826 total time=   0.3s\n",
      "[CV 2/5] END ....C=0.1, gamma=0.001, kernel=rbf;, score=0.830 total time=   0.3s\n",
      "[CV 3/5] END ....C=0.1, gamma=0.001, kernel=rbf;, score=0.826 total time=   0.4s\n",
      "[CV 4/5] END ....C=0.1, gamma=0.001, kernel=rbf;, score=0.826 total time=   0.4s\n",
      "[CV 5/5] END ....C=0.1, gamma=0.001, kernel=rbf;, score=0.826 total time=   0.3s\n",
      "[CV 1/5] END ...C=0.1, gamma=0.0001, kernel=rbf;, score=0.826 total time=   0.3s\n",
      "[CV 2/5] END ...C=0.1, gamma=0.0001, kernel=rbf;, score=0.830 total time=   0.3s\n",
      "[CV 3/5] END ...C=0.1, gamma=0.0001, kernel=rbf;, score=0.826 total time=   0.3s\n",
      "[CV 4/5] END ...C=0.1, gamma=0.0001, kernel=rbf;, score=0.826 total time=   0.4s\n",
      "[CV 5/5] END ...C=0.1, gamma=0.0001, kernel=rbf;, score=0.826 total time=   0.3s\n",
      "[CV 1/5] END ..........C=1, gamma=1, kernel=rbf;, score=0.826 total time=   0.4s\n",
      "[CV 2/5] END ..........C=1, gamma=1, kernel=rbf;, score=0.830 total time=   0.4s\n",
      "[CV 3/5] END ..........C=1, gamma=1, kernel=rbf;, score=0.826 total time=   0.4s\n",
      "[CV 4/5] END ..........C=1, gamma=1, kernel=rbf;, score=0.826 total time=   0.4s\n",
      "[CV 5/5] END ..........C=1, gamma=1, kernel=rbf;, score=0.826 total time=   0.4s\n",
      "[CV 1/5] END ........C=1, gamma=0.1, kernel=rbf;, score=0.826 total time=   0.4s\n",
      "[CV 2/5] END ........C=1, gamma=0.1, kernel=rbf;, score=0.830 total time=   0.3s\n",
      "[CV 3/5] END ........C=1, gamma=0.1, kernel=rbf;, score=0.826 total time=   0.4s\n",
      "[CV 4/5] END ........C=1, gamma=0.1, kernel=rbf;, score=0.826 total time=   0.4s\n",
      "[CV 5/5] END ........C=1, gamma=0.1, kernel=rbf;, score=0.826 total time=   0.4s\n",
      "[CV 1/5] END .......C=1, gamma=0.01, kernel=rbf;, score=0.826 total time=   0.4s\n",
      "[CV 2/5] END .......C=1, gamma=0.01, kernel=rbf;, score=0.830 total time=   0.3s\n",
      "[CV 3/5] END .......C=1, gamma=0.01, kernel=rbf;, score=0.826 total time=   0.4s\n",
      "[CV 4/5] END .......C=1, gamma=0.01, kernel=rbf;, score=0.826 total time=   0.4s\n",
      "[CV 5/5] END .......C=1, gamma=0.01, kernel=rbf;, score=0.826 total time=   0.4s\n",
      "[CV 1/5] END ......C=1, gamma=0.001, kernel=rbf;, score=0.826 total time=   0.4s\n",
      "[CV 2/5] END ......C=1, gamma=0.001, kernel=rbf;, score=0.830 total time=   0.3s\n",
      "[CV 3/5] END ......C=1, gamma=0.001, kernel=rbf;, score=0.826 total time=   0.4s\n",
      "[CV 4/5] END ......C=1, gamma=0.001, kernel=rbf;, score=0.826 total time=   0.4s\n",
      "[CV 5/5] END ......C=1, gamma=0.001, kernel=rbf;, score=0.826 total time=   0.4s\n",
      "[CV 1/5] END .....C=1, gamma=0.0001, kernel=rbf;, score=0.826 total time=   0.4s\n",
      "[CV 2/5] END .....C=1, gamma=0.0001, kernel=rbf;, score=0.830 total time=   0.4s\n",
      "[CV 3/5] END .....C=1, gamma=0.0001, kernel=rbf;, score=0.826 total time=   0.4s\n",
      "[CV 4/5] END .....C=1, gamma=0.0001, kernel=rbf;, score=0.826 total time=   0.4s\n",
      "[CV 5/5] END .....C=1, gamma=0.0001, kernel=rbf;, score=0.826 total time=   0.5s\n",
      "[CV 1/5] END .........C=10, gamma=1, kernel=rbf;, score=0.826 total time=   0.5s\n",
      "[CV 2/5] END .........C=10, gamma=1, kernel=rbf;, score=0.830 total time=   0.4s\n",
      "[CV 3/5] END .........C=10, gamma=1, kernel=rbf;, score=0.826 total time=   0.4s\n",
      "[CV 4/5] END .........C=10, gamma=1, kernel=rbf;, score=0.826 total time=   0.6s\n",
      "[CV 5/5] END .........C=10, gamma=1, kernel=rbf;, score=0.826 total time=   0.5s\n",
      "[CV 1/5] END .......C=10, gamma=0.1, kernel=rbf;, score=0.826 total time=   0.4s\n",
      "[CV 2/5] END .......C=10, gamma=0.1, kernel=rbf;, score=0.830 total time=   0.4s\n",
      "[CV 3/5] END .......C=10, gamma=0.1, kernel=rbf;, score=0.826 total time=   0.4s\n",
      "[CV 4/5] END .......C=10, gamma=0.1, kernel=rbf;, score=0.826 total time=   0.4s\n",
      "[CV 5/5] END .......C=10, gamma=0.1, kernel=rbf;, score=0.826 total time=   0.4s\n",
      "[CV 1/5] END ......C=10, gamma=0.01, kernel=rbf;, score=0.826 total time=   0.4s\n",
      "[CV 2/5] END ......C=10, gamma=0.01, kernel=rbf;, score=0.830 total time=   0.4s\n",
      "[CV 3/5] END ......C=10, gamma=0.01, kernel=rbf;, score=0.826 total time=   0.4s\n",
      "[CV 4/5] END ......C=10, gamma=0.01, kernel=rbf;, score=0.826 total time=   0.4s\n",
      "[CV 5/5] END ......C=10, gamma=0.01, kernel=rbf;, score=0.826 total time=   0.4s\n",
      "[CV 1/5] END .....C=10, gamma=0.001, kernel=rbf;, score=0.826 total time=   0.4s\n",
      "[CV 2/5] END .....C=10, gamma=0.001, kernel=rbf;, score=0.830 total time=   0.4s\n",
      "[CV 3/5] END .....C=10, gamma=0.001, kernel=rbf;, score=0.826 total time=   0.4s\n",
      "[CV 4/5] END .....C=10, gamma=0.001, kernel=rbf;, score=0.826 total time=   0.4s\n",
      "[CV 5/5] END .....C=10, gamma=0.001, kernel=rbf;, score=0.826 total time=   0.4s\n",
      "[CV 1/5] END ....C=10, gamma=0.0001, kernel=rbf;, score=0.826 total time=   0.4s\n",
      "[CV 2/5] END ....C=10, gamma=0.0001, kernel=rbf;, score=0.830 total time=   0.4s\n",
      "[CV 3/5] END ....C=10, gamma=0.0001, kernel=rbf;, score=0.821 total time=   0.4s\n",
      "[CV 4/5] END ....C=10, gamma=0.0001, kernel=rbf;, score=0.826 total time=   0.4s\n",
      "[CV 5/5] END ....C=10, gamma=0.0001, kernel=rbf;, score=0.826 total time=   0.4s\n",
      "[CV 1/5] END ........C=100, gamma=1, kernel=rbf;, score=0.826 total time=   0.4s\n",
      "[CV 2/5] END ........C=100, gamma=1, kernel=rbf;, score=0.830 total time=   0.4s\n",
      "[CV 3/5] END ........C=100, gamma=1, kernel=rbf;, score=0.826 total time=   0.4s\n",
      "[CV 4/5] END ........C=100, gamma=1, kernel=rbf;, score=0.826 total time=   0.4s\n",
      "[CV 5/5] END ........C=100, gamma=1, kernel=rbf;, score=0.826 total time=   0.4s\n",
      "[CV 1/5] END ......C=100, gamma=0.1, kernel=rbf;, score=0.826 total time=   0.4s\n",
      "[CV 2/5] END ......C=100, gamma=0.1, kernel=rbf;, score=0.830 total time=   0.5s\n",
      "[CV 3/5] END ......C=100, gamma=0.1, kernel=rbf;, score=0.826 total time=   0.4s\n",
      "[CV 4/5] END ......C=100, gamma=0.1, kernel=rbf;, score=0.826 total time=   0.4s\n",
      "[CV 5/5] END ......C=100, gamma=0.1, kernel=rbf;, score=0.826 total time=   0.4s\n",
      "[CV 1/5] END .....C=100, gamma=0.01, kernel=rbf;, score=0.826 total time=   0.4s\n",
      "[CV 2/5] END .....C=100, gamma=0.01, kernel=rbf;, score=0.830 total time=   0.4s\n",
      "[CV 3/5] END .....C=100, gamma=0.01, kernel=rbf;, score=0.826 total time=   0.4s\n",
      "[CV 4/5] END .....C=100, gamma=0.01, kernel=rbf;, score=0.826 total time=   0.4s\n",
      "[CV 5/5] END .....C=100, gamma=0.01, kernel=rbf;, score=0.826 total time=   0.4s\n",
      "[CV 1/5] END ....C=100, gamma=0.001, kernel=rbf;, score=0.826 total time=   0.4s\n",
      "[CV 2/5] END ....C=100, gamma=0.001, kernel=rbf;, score=0.830 total time=   0.4s\n",
      "[CV 3/5] END ....C=100, gamma=0.001, kernel=rbf;, score=0.826 total time=   0.4s\n",
      "[CV 4/5] END ....C=100, gamma=0.001, kernel=rbf;, score=0.826 total time=   0.4s\n",
      "[CV 5/5] END ....C=100, gamma=0.001, kernel=rbf;, score=0.826 total time=   0.4s\n",
      "[CV 1/5] END ...C=100, gamma=0.0001, kernel=rbf;, score=0.826 total time=   0.4s\n",
      "[CV 2/5] END ...C=100, gamma=0.0001, kernel=rbf;, score=0.830 total time=   0.4s\n",
      "[CV 3/5] END ...C=100, gamma=0.0001, kernel=rbf;, score=0.821 total time=   0.4s\n",
      "[CV 4/5] END ...C=100, gamma=0.0001, kernel=rbf;, score=0.826 total time=   0.4s\n",
      "[CV 5/5] END ...C=100, gamma=0.0001, kernel=rbf;, score=0.826 total time=   0.4s\n",
      "[CV 1/5] END .......C=1000, gamma=1, kernel=rbf;, score=0.826 total time=   0.4s\n",
      "[CV 2/5] END .......C=1000, gamma=1, kernel=rbf;, score=0.830 total time=   0.4s\n",
      "[CV 3/5] END .......C=1000, gamma=1, kernel=rbf;, score=0.826 total time=   0.4s\n",
      "[CV 4/5] END .......C=1000, gamma=1, kernel=rbf;, score=0.826 total time=   0.4s\n",
      "[CV 5/5] END .......C=1000, gamma=1, kernel=rbf;, score=0.826 total time=   0.5s\n",
      "[CV 1/5] END .....C=1000, gamma=0.1, kernel=rbf;, score=0.826 total time=   0.4s\n",
      "[CV 2/5] END .....C=1000, gamma=0.1, kernel=rbf;, score=0.830 total time=   0.4s\n",
      "[CV 3/5] END .....C=1000, gamma=0.1, kernel=rbf;, score=0.826 total time=   0.4s\n",
      "[CV 4/5] END .....C=1000, gamma=0.1, kernel=rbf;, score=0.826 total time=   0.4s\n",
      "[CV 5/5] END .....C=1000, gamma=0.1, kernel=rbf;, score=0.826 total time=   0.4s\n",
      "[CV 1/5] END ....C=1000, gamma=0.01, kernel=rbf;, score=0.826 total time=   0.4s\n",
      "[CV 2/5] END ....C=1000, gamma=0.01, kernel=rbf;, score=0.830 total time=   0.4s\n",
      "[CV 3/5] END ....C=1000, gamma=0.01, kernel=rbf;, score=0.826 total time=   0.4s\n",
      "[CV 4/5] END ....C=1000, gamma=0.01, kernel=rbf;, score=0.826 total time=   0.4s\n",
      "[CV 5/5] END ....C=1000, gamma=0.01, kernel=rbf;, score=0.826 total time=   0.4s\n",
      "[CV 1/5] END ...C=1000, gamma=0.001, kernel=rbf;, score=0.826 total time=   0.4s\n",
      "[CV 2/5] END ...C=1000, gamma=0.001, kernel=rbf;, score=0.830 total time=   0.5s\n",
      "[CV 3/5] END ...C=1000, gamma=0.001, kernel=rbf;, score=0.826 total time=   0.6s\n",
      "[CV 4/5] END ...C=1000, gamma=0.001, kernel=rbf;, score=0.826 total time=   0.4s\n",
      "[CV 5/5] END ...C=1000, gamma=0.001, kernel=rbf;, score=0.826 total time=   0.4s\n",
      "[CV 1/5] END ..C=1000, gamma=0.0001, kernel=rbf;, score=0.826 total time=   0.4s\n",
      "[CV 2/5] END ..C=1000, gamma=0.0001, kernel=rbf;, score=0.830 total time=   0.4s\n",
      "[CV 3/5] END ..C=1000, gamma=0.0001, kernel=rbf;, score=0.821 total time=   0.4s\n",
      "[CV 4/5] END ..C=1000, gamma=0.0001, kernel=rbf;, score=0.826 total time=   0.4s\n",
      "[CV 5/5] END ..C=1000, gamma=0.0001, kernel=rbf;, score=0.826 total time=   0.4s\n"
     ]
    },
    {
     "data": {
      "text/plain": [
       "GridSearchCV(estimator=SVC(),\n",
       "             param_grid={'C': [0.1, 1, 10, 100, 1000],\n",
       "                         'gamma': [1, 0.1, 0.01, 0.001, 0.0001],\n",
       "                         'kernel': ['rbf']},\n",
       "             verbose=3)"
      ]
     },
     "execution_count": 70,
     "metadata": {},
     "output_type": "execute_result"
    }
   ],
   "source": [
    "from sklearn.model_selection import GridSearchCV\n",
    " \n",
    "# defining parameter range\n",
    "param_grid = {'C': [0.1, 1, 10, 100, 1000],\n",
    "              'gamma': [1, 0.1, 0.01, 0.001, 0.0001],\n",
    "              'kernel': ['rbf']}\n",
    " \n",
    "grid = GridSearchCV(SVC(), param_grid, refit = True, verbose = 3)\n",
    " \n",
    "# fitting the model for grid search\n",
    "grid.fit(x_train, y_train)"
   ]
  },
  {
   "cell_type": "code",
   "execution_count": 71,
   "id": "c3a1205d",
   "metadata": {},
   "outputs": [
    {
     "name": "stdout",
     "output_type": "stream",
     "text": [
      "{'C': 0.1, 'gamma': 1, 'kernel': 'rbf'}\n"
     ]
    }
   ],
   "source": [
    "\n",
    "print(grid.best_params_)\n",
    " "
   ]
  },
  {
   "cell_type": "code",
   "execution_count": 72,
   "id": "a15b2648",
   "metadata": {},
   "outputs": [
    {
     "name": "stdout",
     "output_type": "stream",
     "text": [
      "Training accuracy : 0.826530612244898\n",
      "Testing accuracy : 0.8877551020408163\n",
      "              precision    recall  f1-score   support\n",
      "\n",
      "           0       0.89      1.00      0.94       261\n",
      "           1       0.00      0.00      0.00        33\n",
      "\n",
      "    accuracy                           0.89       294\n",
      "   macro avg       0.44      0.50      0.47       294\n",
      "weighted avg       0.79      0.89      0.83       294\n",
      "\n",
      "[[261   0]\n",
      " [ 33   0]]\n",
      "accuracy_score : 0.8877551020408163\n"
     ]
    }
   ],
   "source": [
    "\n",
    "\n",
    "model_svc = SVC(C= 0.1, gamma= 1, kernel='rbf')\n",
    "\n",
    "# feeding the training set into the model\n",
    "model_svc.fit(x_train, y_train)\n",
    "\n",
    "# predicting the results for the test set\n",
    "y_pred = model_svc.predict(x_test)\n",
    "\n",
    "# calculating the training and testing accuracies\n",
    "print(\"Training accuracy :\", model_svc.score(x_train, y_train))\n",
    "print(\"Testing accuracy :\", model_svc.score(x_test, y_test))\n",
    "# classification report\n",
    "print(classification_report(y_test, y_pred))\n",
    "\n",
    "# confusion matrix\n",
    "print(confusion_matrix(y_test, y_pred))\n",
    "print('accuracy_score :' ,accuracy_score(y_test,y_pred))"
   ]
  },
  {
   "cell_type": "markdown",
   "id": "f4885ba4",
   "metadata": {},
   "source": [
    "### cross validation score"
   ]
  },
  {
   "cell_type": "code",
   "execution_count": 73,
   "id": "838aa8bf",
   "metadata": {},
   "outputs": [
    {
     "name": "stdout",
     "output_type": "stream",
     "text": [
      "cv score : 0.8387755102040817\n"
     ]
    }
   ],
   "source": [
    "\n",
    "from sklearn.model_selection import GridSearchCV, cross_val_score\n",
    "svc_cv=cross_val_score(model_svc,x,y,scoring='accuracy', cv = 10).mean()\n",
    "print('cv score :',svc_cv)"
   ]
  },
  {
   "cell_type": "markdown",
   "id": "77d760e0",
   "metadata": {},
   "source": [
    "## AUC-ROC curve"
   ]
  },
  {
   "cell_type": "code",
   "execution_count": 76,
   "id": "9eea14c2",
   "metadata": {},
   "outputs": [],
   "source": [
    "# train models\n",
    "from sklearn.linear_model import LogisticRegression\n",
    "\n",
    "\n",
    "# RandomForestClassifier\n",
    "model1 = RandomForestClassifier()\n",
    "# LogisticRegression\n",
    "model2 = LogisticRegression()\n",
    "\n",
    "# fit model\n",
    "model1.fit(x_train, y_train)\n",
    "model2.fit(x_train, y_train)\n",
    "\n",
    "# predict probabilities\n",
    "pred_prob1 = model1.predict_proba(x_test)\n",
    "pred_prob2 = model2.predict_proba(x_test)"
   ]
  },
  {
   "cell_type": "code",
   "execution_count": 77,
   "id": "a7138b27",
   "metadata": {},
   "outputs": [],
   "source": [
    "from sklearn.metrics import roc_curve\n",
    "\n",
    "# roc curve for models\n",
    "fpr1, tpr1, thresh1 = roc_curve(y_test, pred_prob1[:,1], pos_label=1)\n",
    "fpr2, tpr2, thresh2 = roc_curve(y_test, pred_prob2[:,1], pos_label=1)\n",
    "\n",
    "# roc curve for tpr = fpr \n",
    "random_probs = [0 for i in range(len(y_test))]\n",
    "p_fpr, p_tpr, _ = roc_curve(y_test, random_probs, pos_label=1)"
   ]
  },
  {
   "cell_type": "code",
   "execution_count": 78,
   "id": "8def5081",
   "metadata": {},
   "outputs": [
    {
     "name": "stdout",
     "output_type": "stream",
     "text": [
      "0.8025658887727853 0.8155114362010915\n"
     ]
    }
   ],
   "source": [
    "from sklearn.metrics import roc_auc_score\n",
    "\n",
    "# auc scores\n",
    "auc_score1 = roc_auc_score(y_test, pred_prob1[:,1])\n",
    "auc_score2 = roc_auc_score(y_test, pred_prob2[:,1])\n",
    "\n",
    "print(auc_score1, auc_score2)"
   ]
  },
  {
   "cell_type": "markdown",
   "id": "3f68a289",
   "metadata": {},
   "source": [
    "Random Forest classifier has higher AUC score"
   ]
  },
  {
   "cell_type": "markdown",
   "id": "f059528b",
   "metadata": {},
   "source": [
    "THE BEST MODEL IS Random Forest classifier"
   ]
  },
  {
   "cell_type": "code",
   "execution_count": 79,
   "id": "dd14ce33",
   "metadata": {},
   "outputs": [
    {
     "data": {
      "image/png": "[encoded data removed]",
      "text/plain": [
       "<Figure size 576x396 with 1 Axes>"
      ]
     },
     "metadata": {},
     "output_type": "display_data"
    }
   ],
   "source": [
    "import matplotlib.pyplot as plt\n",
    "plt.style.use('seaborn')\n",
    "\n",
    "# plot roc curves\n",
    "plt.plot(fpr1, tpr1, linestyle='--',color='orange', label='RandomForestClassifier')\n",
    "plt.plot(p_fpr, p_tpr, linestyle='--', color='blue')\n",
    "# title\n",
    "plt.title('ROC curve')\n",
    "# x label\n",
    "plt.xlabel('False Positive Rate')\n",
    "# y label\n",
    "plt.ylabel('True Positive rate')\n",
    "\n",
    "plt.legend(loc='best')\n",
    "plt.savefig('ROC',dpi=300)\n",
    "plt.show();"
   ]
  },
  {
   "cell_type": "markdown",
   "id": "906ed7e0",
   "metadata": {},
   "source": [
    "# 7.SAVING THE MODEL"
   ]
  },
  {
   "cell_type": "code",
   "execution_count": 80,
   "id": "bc75310d",
   "metadata": {},
   "outputs": [
    {
     "data": {
      "text/plain": [
       "['final model.pkl']"
      ]
     },
     "execution_count": 80,
     "metadata": {},
     "output_type": "execute_result"
    }
   ],
   "source": [
    "import joblib\n",
    "joblib.dump(fianlRFC,\"final model.pkl\")"
   ]
  },
  {
   "cell_type": "code",
   "execution_count": null,
   "id": "602c3bb6",
   "metadata": {},
   "outputs": [],
   "source": []
  }
 ],
 "metadata": {
  "kernelspec": {
   "display_name": "Python 3",
   "language": "python",
   "name": "python3"
  },
  "language_info": {
   "codemirror_mode": {
    "name": "ipython",
    "version": 3
   },
   "file_extension": ".py",
   "mimetype": "text/x-python",
   "name": "python",
   "nbconvert_exporter": "python",
   "pygments_lexer": "ipython3",
   "version": "3.8.8"
  }
 },
 "nbformat": 4,
 "nbformat_minor": 5
}
